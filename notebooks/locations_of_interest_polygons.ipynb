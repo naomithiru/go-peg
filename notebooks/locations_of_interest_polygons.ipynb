{
 "cells": [
  {
   "cell_type": "markdown",
   "id": "73262737-8550-465e-801f-e9cb56919737",
   "metadata": {},
   "source": [
    "# Locations of Interest"
   ]
  },
  {
   "cell_type": "markdown",
   "id": "30f355df-a87c-4100-9799-9210881194dc",
   "metadata": {},
   "source": [
    "These refer to any phonomenon occuring along the networks that have the potential to affect or be affected by pollution.\n",
    "\n",
    "The locations of interest have surface geometry, either point or polygon.\n",
    "\n",
    "Given a certain buffer distance, a location of interest can be identified based on whether it overlaps with a section of the network."
   ]
  },
  {
   "cell_type": "code",
   "execution_count": 1,
   "id": "37cfbf64",
   "metadata": {},
   "outputs": [
    {
     "name": "stdout",
     "output_type": "stream",
     "text": [
      "c:\\Workdir\\Develop\\repository\\go-peg\n"
     ]
    }
   ],
   "source": [
    "import os\n",
    "import sys\n",
    "path = os.path.dirname(os.path.abspath(''))\n",
    "os.chdir(path)\n",
    "print(path)"
   ]
  },
  {
   "cell_type": "code",
   "execution_count": 2,
   "id": "79f8b7cb-06cd-4f7c-ac2f-99782ccd5a69",
   "metadata": {},
   "outputs": [
    {
     "name": "stderr",
     "output_type": "stream",
     "text": [
      "c:\\Users\\u0119822\\.conda\\envs\\gopeg\\lib\\site-packages\\geopandas\\_compat.py:111: UserWarning: The Shapely GEOS version (3.10.2-CAPI-1.16.0) is incompatible with the GEOS version PyGEOS was compiled with (3.10.4-CAPI-1.16.2). Conversions between both will be slow.\n",
      "  warnings.warn(\n"
     ]
    }
   ],
   "source": [
    "import geopandas as gpd\n",
    "import pandas as pd\n",
    "import numpy as np \n",
    "\n",
    "from shapely.geometry import Point, LineString, MultiLineString, MultiPoint\n",
    "from shapely import wkt\n",
    "from shapely.ops import nearest_points\n",
    "import shapely.wkt\n",
    "\n",
    "import warnings\n",
    "from shapely.errors import ShapelyDeprecationWarning\n",
    "warnings.filterwarnings(\"ignore\", category=ShapelyDeprecationWarning) \n",
    "pd.options.mode.chained_assignment = None  # default='warn'\n",
    "\n",
    "from src.config import config"
   ]
  },
  {
   "cell_type": "code",
   "execution_count": 3,
   "id": "ac35f457",
   "metadata": {},
   "outputs": [],
   "source": [
    "PROJ_CRS = 'EPSG:31370'"
   ]
  },
  {
   "cell_type": "code",
   "execution_count": 4,
   "id": "ced51f38-808c-4d9d-ba7c-0fc6693d932c",
   "metadata": {},
   "outputs": [],
   "source": [
    "def load_data(path, crs=PROJ_CRS):\n",
    "    \"\"\"\n",
    "    Loads the data from the given path, \n",
    "    and prints the shape and crs of the data.\n",
    "    \"\"\"\n",
    "    data = gpd.read_file(path)\n",
    "    print(data.shape)\n",
    "    #print(\"Original crs:\", data.crs)\n",
    "    data = data.to_crs(crs)\n",
    "    print(\"Project crs:\", data.crs)\n",
    "    return data"
   ]
  },
  {
   "cell_type": "code",
   "execution_count": 5,
   "id": "6421b985-dc80-46a4-ac41-eafd071450fb",
   "metadata": {},
   "outputs": [
    {
     "name": "stdout",
     "output_type": "stream",
     "text": [
      "(1895, 16)\n",
      "Project crs: EPSG:31370\n"
     ]
    }
   ],
   "source": [
    "PATH = config.data_src / \"flanders_locations/Production and industrial facilities/ProductionInstallation_polygons.shp\"\n",
    "prod_installations = load_data(PATH)"
   ]
  },
  {
   "cell_type": "code",
   "execution_count": 6,
   "id": "fbdc066e-a851-4dc6-aad5-1d8b03177552",
   "metadata": {},
   "outputs": [
    {
     "data": {
      "text/html": [
       "<div>\n",
       "<style scoped>\n",
       "    .dataframe tbody tr th:only-of-type {\n",
       "        vertical-align: middle;\n",
       "    }\n",
       "\n",
       "    .dataframe tbody tr th {\n",
       "        vertical-align: top;\n",
       "    }\n",
       "\n",
       "    .dataframe thead th {\n",
       "        text-align: right;\n",
       "    }\n",
       "</style>\n",
       "<table border=\"1\" class=\"dataframe\">\n",
       "  <thead>\n",
       "    <tr style=\"text-align: right;\">\n",
       "      <th></th>\n",
       "      <th>RecId</th>\n",
       "      <th>CaPaKey</th>\n",
       "      <th>Type</th>\n",
       "      <th>CaSeKey</th>\n",
       "      <th>FiscSitId</th>\n",
       "      <th>UpdDate</th>\n",
       "      <th>Shape_area</th>\n",
       "      <th>gml_id</th>\n",
       "      <th>descriptio</th>\n",
       "      <th>identifier</th>\n",
       "      <th>localId</th>\n",
       "      <th>namespace</th>\n",
       "      <th>name</th>\n",
       "      <th>status</th>\n",
       "      <th>type_2</th>\n",
       "      <th>geometry</th>\n",
       "    </tr>\n",
       "  </thead>\n",
       "  <tbody>\n",
       "    <tr>\n",
       "      <th>0</th>\n",
       "      <td>3714438</td>\n",
       "      <td>12302B0261/00X000</td>\n",
       "      <td>PR</td>\n",
       "      <td>12302B</td>\n",
       "      <td>1</td>\n",
       "      <td>2016-11-30</td>\n",
       "      <td>962.5510</td>\n",
       "      <td>pf_gpbv.1491</td>\n",
       "      <td>industrie</td>\n",
       "      <td>https://data.gpbv.omgeving.vlaanderen.be/id/pr...</td>\n",
       "      <td>BE.VL.000001687.INSTALLATION</td>\n",
       "      <td>https://data.gpbv.omgeving.vlaanderen.be/id/pr...</td>\n",
       "      <td>Galvani</td>\n",
       "      <td>None</td>\n",
       "      <td>industrie</td>\n",
       "      <td>POLYGON ((162292.997 199677.392, 162286.199 19...</td>\n",
       "    </tr>\n",
       "    <tr>\n",
       "      <th>1</th>\n",
       "      <td>4711050</td>\n",
       "      <td>44008A0463/00G000</td>\n",
       "      <td>PR</td>\n",
       "      <td>44008A</td>\n",
       "      <td>2</td>\n",
       "      <td>2017-04-18</td>\n",
       "      <td>2587.4769</td>\n",
       "      <td>pf_gpbv.1594</td>\n",
       "      <td>veeteelt</td>\n",
       "      <td>https://data.gpbv.omgeving.vlaanderen.be/id/pr...</td>\n",
       "      <td>BE.VL.000001800.INSTALLATION</td>\n",
       "      <td>https://data.gpbv.omgeving.vlaanderen.be/id/pr...</td>\n",
       "      <td>Verschraegen Patrick</td>\n",
       "      <td>None</td>\n",
       "      <td>veeteelt</td>\n",
       "      <td>POLYGON ((113791.970 195703.675, 113793.834 19...</td>\n",
       "    </tr>\n",
       "  </tbody>\n",
       "</table>\n",
       "</div>"
      ],
      "text/plain": [
       "     RecId            CaPaKey Type CaSeKey  FiscSitId     UpdDate  Shape_area  \\\n",
       "0  3714438  12302B0261/00X000   PR  12302B          1  2016-11-30    962.5510   \n",
       "1  4711050  44008A0463/00G000   PR  44008A          2  2017-04-18   2587.4769   \n",
       "\n",
       "         gml_id descriptio                                         identifier  \\\n",
       "0  pf_gpbv.1491  industrie  https://data.gpbv.omgeving.vlaanderen.be/id/pr...   \n",
       "1  pf_gpbv.1594   veeteelt  https://data.gpbv.omgeving.vlaanderen.be/id/pr...   \n",
       "\n",
       "                        localId  \\\n",
       "0  BE.VL.000001687.INSTALLATION   \n",
       "1  BE.VL.000001800.INSTALLATION   \n",
       "\n",
       "                                           namespace                  name  \\\n",
       "0  https://data.gpbv.omgeving.vlaanderen.be/id/pr...               Galvani   \n",
       "1  https://data.gpbv.omgeving.vlaanderen.be/id/pr...  Verschraegen Patrick   \n",
       "\n",
       "  status     type_2                                           geometry  \n",
       "0   None  industrie  POLYGON ((162292.997 199677.392, 162286.199 19...  \n",
       "1   None   veeteelt  POLYGON ((113791.970 195703.675, 113793.834 19...  "
      ]
     },
     "execution_count": 6,
     "metadata": {},
     "output_type": "execute_result"
    }
   ],
   "source": [
    "prod_installations.head(2)"
   ]
  },
  {
   "cell_type": "code",
   "execution_count": 7,
   "id": "0df7efc4",
   "metadata": {},
   "outputs": [
    {
     "data": {
      "text/plain": [
       "Index(['RecId', 'CaPaKey', 'Type', 'CaSeKey', 'FiscSitId', 'UpdDate',\n",
       "       'Shape_area', 'gml_id', 'descriptio', 'identifier', 'localId',\n",
       "       'namespace', 'name', 'status', 'type_2', 'geometry'],\n",
       "      dtype='object')"
      ]
     },
     "execution_count": 7,
     "metadata": {},
     "output_type": "execute_result"
    }
   ],
   "source": [
    "prod_installations.columns"
   ]
  },
  {
   "cell_type": "code",
   "execution_count": 8,
   "id": "6698eda2",
   "metadata": {},
   "outputs": [
    {
     "name": "stdout",
     "output_type": "stream",
     "text": [
      "(72163, 22)\n",
      "Project crs: epsg:31370\n"
     ]
    }
   ],
   "source": [
    "PATH = config.data_dest / \"vl_water_PROCESSED.shp\"\n",
    "water = load_data(PATH)"
   ]
  },
  {
   "cell_type": "markdown",
   "id": "93dbb02b-2524-467b-96a6-cfd833aeabf3",
   "metadata": {},
   "source": [
    "## Working with polygon locations of interest\n",
    "\n",
    "For working with polygon locations of interests, we will apply a buffer to the polygon. If part of the water network falls within this buffer zone, it is identified, and the points of intersection, i.e. starts-at point and ends-at point, following the direction of the flow of water, are extracted and recorded."
   ]
  },
  {
   "cell_type": "code",
   "execution_count": 9,
   "id": "336c6d64-3b92-489e-b54e-4a4e7e8206d5",
   "metadata": {},
   "outputs": [],
   "source": [
    "def create_buffers(df, buffer_size):\n",
    "    \"\"\"\n",
    "    Creates a buffer around each point in the given dataframe.\n",
    "    \"\"\"\n",
    "    poly_cols = ['Type', 'CaSeKey', 'descriptio', 'UpdDate', 'name', 'localId', 'namespace', 'identifier', 'geometry']\n",
    "    \n",
    "    df = (df[poly_cols]\n",
    "            .assign(buffer_zone = df['geometry']\n",
    "            .apply(lambda x: x.buffer(buffer_size))))\n",
    "\n",
    "    # mergedpolys = []\n",
    "    # for index, row in df.iterrows():\n",
    "    #     mergedpoly = row['geometry'].union(row['buffer_zone']).wkt\n",
    "    #     mergedpolys.append(wkt.loads(mergedpoly))\n",
    "\n",
    "    # df['mergedpolys'] = mergedpolys\n",
    "\n",
    "    return df"
   ]
  },
  {
   "cell_type": "code",
   "execution_count": 10,
   "id": "7f125699",
   "metadata": {},
   "outputs": [],
   "source": [
    "# poly_cols = ['Type', 'CaSeKey', 'descriptio', 'UpdDate', 'name', 'localId', 'identifier', 'geometry']\n",
    "prod_install_df = gpd.GeoDataFrame((prod_installations\n",
    "                                        .pipe(create_buffers, 100)), geometry='buffer_zone', crs=PROJ_CRS)"
   ]
  },
  {
   "cell_type": "code",
   "execution_count": 11,
   "id": "be4627b3-7a4f-4b78-90d3-af879699470b",
   "metadata": {},
   "outputs": [],
   "source": [
    "# prod_install_df = create_buffers(prod_installations, 100)"
   ]
  },
  {
   "cell_type": "code",
   "execution_count": 12,
   "id": "27dded69-a273-4ef4-8969-cfcdf9088990",
   "metadata": {},
   "outputs": [
    {
     "data": {
      "text/plain": [
       "Type                                                          PR\n",
       "CaSeKey                                                   12302B\n",
       "descriptio                                             industrie\n",
       "UpdDate                                               2016-11-30\n",
       "name                                                     Galvani\n",
       "localId                             BE.VL.000001687.INSTALLATION\n",
       "namespace      https://data.gpbv.omgeving.vlaanderen.be/id/pr...\n",
       "identifier     https://data.gpbv.omgeving.vlaanderen.be/id/pr...\n",
       "geometry       POLYGON ((162292.9970761109 199677.39228480123...\n",
       "buffer_zone    POLYGON ((162360.7253147308 199603.8180954041,...\n",
       "Name: 0, dtype: object"
      ]
     },
     "execution_count": 12,
     "metadata": {},
     "output_type": "execute_result"
    }
   ],
   "source": [
    "prod_install_df.iloc[0]"
   ]
  },
  {
   "cell_type": "code",
   "execution_count": 13,
   "id": "45bd34fc",
   "metadata": {},
   "outputs": [
    {
     "name": "stdout",
     "output_type": "stream",
     "text": [
      "<class 'geopandas.geodataframe.GeoDataFrame'>\n",
      "RangeIndex: 1895 entries, 0 to 1894\n",
      "Data columns (total 10 columns):\n",
      " #   Column       Non-Null Count  Dtype   \n",
      "---  ------       --------------  -----   \n",
      " 0   Type         1895 non-null   object  \n",
      " 1   CaSeKey      1895 non-null   object  \n",
      " 2   descriptio   1895 non-null   object  \n",
      " 3   UpdDate      1895 non-null   object  \n",
      " 4   name         1895 non-null   object  \n",
      " 5   localId      1895 non-null   object  \n",
      " 6   namespace    1895 non-null   object  \n",
      " 7   identifier   1895 non-null   object  \n",
      " 8   geometry     1895 non-null   geometry\n",
      " 9   buffer_zone  1895 non-null   geometry\n",
      "dtypes: geometry(2), object(8)\n",
      "memory usage: 148.2+ KB\n"
     ]
    }
   ],
   "source": [
    "prod_install_df.info()"
   ]
  },
  {
   "cell_type": "code",
   "execution_count": 57,
   "id": "c37f136f-c8b2-4db6-b91e-157e821b2292",
   "metadata": {},
   "outputs": [],
   "source": [
    "poly_cols = ['Type', 'CaSeKey', 'descriptio', 'UpdDate', 'name', 'localId', 'namespace', 'identifier', 'buffer_zone']\n",
    "buffers_df = prod_install_df[poly_cols]\n",
    "buffers_gdf = gpd.GeoDataFrame(buffers_df, geometry='buffer_zone')"
   ]
  },
  {
   "cell_type": "code",
   "execution_count": 58,
   "id": "1d270d4f-bbf7-4914-b7d2-e229046945b9",
   "metadata": {},
   "outputs": [
    {
     "data": {
      "text/plain": [
       "geopandas.geodataframe.GeoDataFrame"
      ]
     },
     "execution_count": 58,
     "metadata": {},
     "output_type": "execute_result"
    }
   ],
   "source": [
    "type(buffers_gdf)"
   ]
  },
  {
   "cell_type": "code",
   "execution_count": 59,
   "id": "2e93a60b-3279-4e20-9792-ea3024acbf05",
   "metadata": {},
   "outputs": [],
   "source": [
    "#buffers_gdf.to_file(r\"C:\\Workdir\\Develop\\TR_USECASE\\data_transform\\buffers.shp\")"
   ]
  },
  {
   "cell_type": "markdown",
   "id": "41249a4b-c910-4354-beff-27bd273d43b7",
   "metadata": {},
   "source": [
    "**Load water data to perform the intersection and identify the points of intersection between water and locations of iterest**"
   ]
  },
  {
   "cell_type": "code",
   "execution_count": 60,
   "id": "6ff13c37",
   "metadata": {},
   "outputs": [],
   "source": [
    "#Check for multiline strings in a dataset\n",
    "def check_multiline(df):\n",
    "    \"\"\"This function checks for multiline strings\n",
    "        from the geometry column in a given dataset\"\"\"\n",
    "    lst = df['geometry'].to_list()\n",
    "    multiline_count = 0\n",
    "    for item in lst:\n",
    "        if isinstance(item, MultiLineString):\n",
    "            multiline_count += 1\n",
    "    print(\"MultiLinesStrings:\" , multiline_count)"
   ]
  },
  {
   "cell_type": "code",
   "execution_count": 61,
   "id": "cf65f22b",
   "metadata": {},
   "outputs": [
    {
     "name": "stdout",
     "output_type": "stream",
     "text": [
      "MultiLinesStrings: 0\n"
     ]
    }
   ],
   "source": [
    "check_multiline(water)"
   ]
  },
  {
   "cell_type": "code",
   "execution_count": 62,
   "id": "c2c6d833",
   "metadata": {},
   "outputs": [
    {
     "data": {
      "text/html": [
       "<div>\n",
       "<style scoped>\n",
       "    .dataframe tbody tr th:only-of-type {\n",
       "        vertical-align: middle;\n",
       "    }\n",
       "\n",
       "    .dataframe tbody tr th {\n",
       "        vertical-align: top;\n",
       "    }\n",
       "\n",
       "    .dataframe thead th {\n",
       "        text-align: right;\n",
       "    }\n",
       "</style>\n",
       "<table border=\"1\" class=\"dataframe\">\n",
       "  <thead>\n",
       "    <tr style=\"text-align: right;\">\n",
       "      <th></th>\n",
       "      <th>Type</th>\n",
       "      <th>CaSeKey</th>\n",
       "      <th>descriptio</th>\n",
       "      <th>UpdDate</th>\n",
       "      <th>name</th>\n",
       "      <th>localId</th>\n",
       "      <th>namespace</th>\n",
       "      <th>identifier</th>\n",
       "      <th>buffer_zone</th>\n",
       "    </tr>\n",
       "  </thead>\n",
       "  <tbody>\n",
       "    <tr>\n",
       "      <th>0</th>\n",
       "      <td>PR</td>\n",
       "      <td>12302B</td>\n",
       "      <td>industrie</td>\n",
       "      <td>2016-11-30</td>\n",
       "      <td>Galvani</td>\n",
       "      <td>BE.VL.000001687.INSTALLATION</td>\n",
       "      <td>https://data.gpbv.omgeving.vlaanderen.be/id/pr...</td>\n",
       "      <td>https://data.gpbv.omgeving.vlaanderen.be/id/pr...</td>\n",
       "      <td>POLYGON ((162360.725 199603.818, 162354.312 19...</td>\n",
       "    </tr>\n",
       "    <tr>\n",
       "      <th>1</th>\n",
       "      <td>PR</td>\n",
       "      <td>44008A</td>\n",
       "      <td>veeteelt</td>\n",
       "      <td>2017-04-18</td>\n",
       "      <td>Verschraegen Patrick</td>\n",
       "      <td>BE.VL.000001800.INSTALLATION</td>\n",
       "      <td>https://data.gpbv.omgeving.vlaanderen.be/id/pr...</td>\n",
       "      <td>https://data.gpbv.omgeving.vlaanderen.be/id/pr...</td>\n",
       "      <td>POLYGON ((113715.977 195787.489, 113717.315 19...</td>\n",
       "    </tr>\n",
       "  </tbody>\n",
       "</table>\n",
       "</div>"
      ],
      "text/plain": [
       "  Type CaSeKey descriptio     UpdDate                  name  \\\n",
       "0   PR  12302B  industrie  2016-11-30               Galvani   \n",
       "1   PR  44008A   veeteelt  2017-04-18  Verschraegen Patrick   \n",
       "\n",
       "                        localId  \\\n",
       "0  BE.VL.000001687.INSTALLATION   \n",
       "1  BE.VL.000001800.INSTALLATION   \n",
       "\n",
       "                                           namespace  \\\n",
       "0  https://data.gpbv.omgeving.vlaanderen.be/id/pr...   \n",
       "1  https://data.gpbv.omgeving.vlaanderen.be/id/pr...   \n",
       "\n",
       "                                          identifier  \\\n",
       "0  https://data.gpbv.omgeving.vlaanderen.be/id/pr...   \n",
       "1  https://data.gpbv.omgeving.vlaanderen.be/id/pr...   \n",
       "\n",
       "                                         buffer_zone  \n",
       "0  POLYGON ((162360.725 199603.818, 162354.312 19...  \n",
       "1  POLYGON ((113715.977 195787.489, 113717.315 19...  "
      ]
     },
     "execution_count": 62,
     "metadata": {},
     "output_type": "execute_result"
    }
   ],
   "source": [
    "buffers_gdf.head(2)"
   ]
  },
  {
   "cell_type": "markdown",
   "id": "3da4fa4f",
   "metadata": {},
   "source": [
    "To linearly reference a location of interest(polygon) onto a water network(linestring), we need to perform an overlay of the polygons onto the linesrings.\n",
    "The resulting geometry is a linestring that falls within the boundaries of a polygon, with all the properties of the original linestring and polygon.\n",
    "\n",
    "With this data, we can extract the point where the water intersects the polygon."
   ]
  },
  {
   "cell_type": "code",
   "execution_count": 63,
   "id": "057baa8e",
   "metadata": {},
   "outputs": [],
   "source": [
    "water_truncated = water[['VHAS', 'geometry']]"
   ]
  },
  {
   "cell_type": "code",
   "execution_count": 64,
   "id": "24862f44",
   "metadata": {},
   "outputs": [],
   "source": [
    "intersect_df = water_truncated.clip(buffers_gdf, keep_geom_type=True).reset_index(drop=True)\n",
    "clipped_water_df2 = water_truncated.clip(buffers_gdf, keep_geom_type=True).reset_index(drop=True)"
   ]
  },
  {
   "cell_type": "code",
   "execution_count": 65,
   "id": "c69ae0e7",
   "metadata": {},
   "outputs": [],
   "source": [
    "#intersect_df.to_file(r\"C:\\Workdir\\Develop\\TR_USECASE\\data_transform\\intersect_df.shp\")"
   ]
  },
  {
   "cell_type": "code",
   "execution_count": 66,
   "id": "bfa0b65e",
   "metadata": {},
   "outputs": [],
   "source": [
    "def clipGDF_keepgeomtyp_line(gdf,mask):\n",
    "        \"\"\"\n",
    "        Clips Line Geodataframe with Polygon GeoDataFrame\n",
    "\n",
    "        Input Variables:\n",
    "        --------------------------------------------------------------------\n",
    "        gdf\n",
    "            GeoDataFrame to clip\n",
    "        mask\n",
    "            Geodataframe defining clipping extent\n",
    "\n",
    "        Returns:\n",
    "        --------------------------------------------------------------------\n",
    "        clipped GeoDataFrame inclulding only line geometries\n",
    "        \"\"\"\n",
    "\n",
    "        from shapely.geometry import LineString, MultiLineString,GeometryCollection\n",
    "        clipped_gdf=gpd.clip(gdf,mask)\n",
    "        clipped_gdf.reset_index(inplace=True,drop=True) #index now newly assigned, old dropped\n",
    "        \n",
    "        if isinstance(clipped_gdf,gpd.GeoSeries):\n",
    "            #print(\"GeoSeries\")\n",
    "            features_rmv=[] #list to store indexes to features to remove\n",
    "            GCunpack_list=[] #list to store indexes to features with GeometryCollection\n",
    "            for idx in range(len(clipped_gdf)):\n",
    "                #if feature is neither LineString, MultiLineStrin or GeomCollection --> remove\n",
    "                if not (isinstance(clipped_gdf.iloc[idx],LineString) or isinstance(clipped_gdf.iloc[idx],MultiLineString) or isinstance(clipped_gdf.iloc[idx],GeometryCollection)): \n",
    "                    features_rmv.append(idx)\n",
    "                #if feature is GeomCollection --> unpack, remove points and replace feature with new geometry\n",
    "                elif isinstance(clipped_gdf.iloc[idx],GeometryCollection):\n",
    "                    GCunpack_list.append(idx)\n",
    "\n",
    "            for idx in GCunpack_list: #iterate over features with Geomcollection\n",
    "                unpack_list=[]\n",
    "                #print(clipped_gdf.iloc[idx])\n",
    "                for geom in clipped_gdf.iloc[idx]: #grab all lines in this GC\n",
    "                    if isinstance(geom,LineString):\n",
    "                        unpack_list.append(geom)\n",
    "\n",
    "                if len(unpack_list)>1: #if more than 1 lines --> create MuLineString\n",
    "                    new_geom = MultiLineString(unpack_list)\n",
    "                    clipped_gdf.iloc[idx]= new_geom #insert at index of feature\n",
    "                elif len(unpack_list)==1: #if 1 line, create LineString\n",
    "                    new_geom = LineString(unpack_list[0])\n",
    "                    clipped_gdf.iloc[idx]=new_geom\n",
    "\n",
    "            clipped_gdf.drop(features_rmv,inplace=True) #remove all point features\n",
    "            clipped_gdf.reset_index(inplace=True,drop=True) #reset index\n",
    "\n",
    "        if isinstance(clipped_gdf,gpd.GeoDataFrame):\n",
    "            #print(\"GeoDataFrame\")\n",
    "            features_rmv=[] #list to store indexes to features to remove\n",
    "            GCunpack_list=[] #list to store indexes to features with GeometryCollection \n",
    "            for idx,row in clipped_gdf.iterrows(): #iterate over features\n",
    "                #if feature is neither LineString, MultiLineStrin or GeomCollection --> remove\n",
    "                if not (isinstance(clipped_gdf.iloc[idx].geometry,LineString) or isinstance(clipped_gdf.iloc[idx].geometry,MultiLineString) or isinstance(clipped_gdf.iloc[idx].geometry,GeometryCollection)):  \n",
    "                    features_rmv.append(idx)\n",
    "                #if feature is GeomCollection --> unpack, remove points and replace feature with new geometry\n",
    "                elif isinstance(clipped_gdf.iloc[idx].geometry,GeometryCollection):\n",
    "                    GCunpack_list.append(idx)\n",
    "\n",
    "\n",
    "            for idx in GCunpack_list: #iterate over features with Geomcollection\n",
    "                unpack_list=[]\n",
    "                for geom in clipped_gdf.iloc[idx].geometry: #grab all lines in this GC\n",
    "                    if isinstance(geom,LineString):\n",
    "                        unpack_list.append(geom)\n",
    "                #print('unpacked_list',unpack_list)\n",
    "                if len(unpack_list)>1: #if more than 1 lines --> create MuLineString\n",
    "                    geom_df = pd.DataFrame({'id':['geometry'],0:[MultiLineString(unpack_list)]}) #create new Dataframe with geometry\n",
    "                    geom_df.set_index('id',inplace=True)\n",
    "                    newline = clipped_gdf.iloc[idx,clipped_gdf.columns != 'geometry'].append(geom_df) #concat new geometry with feature attributes\n",
    "                    clipped_gdf.iloc[idx]=newline[0] #insert at index of feature\n",
    "                elif len(unpack_list)==1: #if 1 line, create LineString\n",
    "                    geom_df = pd.DataFrame([LineString(unpack_list[0])],index=['geometry'])\n",
    "                    newline = clipped_gdf.iloc[idx,clipped_gdf.columns != 'geometry'].append(geom_df)\n",
    "                    clipped_gdf.iloc[idx]=newline[0]\n",
    "\n",
    "            clipped_gdf.drop(features_rmv,inplace=True) #remove all point features\n",
    "            clipped_gdf.reset_index(inplace=True,drop=True) #reset index\n",
    "\n",
    "        return clipped_gdf"
   ]
  },
  {
   "cell_type": "code",
   "execution_count": 67,
   "id": "ea6334fc",
   "metadata": {},
   "outputs": [],
   "source": [
    "clipped_water_df = clipGDF_keepgeomtyp_line(water_truncated, buffers_gdf)"
   ]
  },
  {
   "cell_type": "code",
   "execution_count": 68,
   "id": "2971c3c4",
   "metadata": {},
   "outputs": [
    {
     "name": "stdout",
     "output_type": "stream",
     "text": [
      "(1909, 2)\n"
     ]
    },
    {
     "data": {
      "text/html": [
       "<div>\n",
       "<style scoped>\n",
       "    .dataframe tbody tr th:only-of-type {\n",
       "        vertical-align: middle;\n",
       "    }\n",
       "\n",
       "    .dataframe tbody tr th {\n",
       "        vertical-align: top;\n",
       "    }\n",
       "\n",
       "    .dataframe thead th {\n",
       "        text-align: right;\n",
       "    }\n",
       "</style>\n",
       "<table border=\"1\" class=\"dataframe\">\n",
       "  <thead>\n",
       "    <tr style=\"text-align: right;\">\n",
       "      <th></th>\n",
       "      <th>VHAS</th>\n",
       "      <th>geometry</th>\n",
       "    </tr>\n",
       "  </thead>\n",
       "  <tbody>\n",
       "    <tr>\n",
       "      <th>0</th>\n",
       "      <td>7075802</td>\n",
       "      <td>LINESTRING (207074.872 164195.147, 207082.422 ...</td>\n",
       "    </tr>\n",
       "    <tr>\n",
       "      <th>1</th>\n",
       "      <td>3300114</td>\n",
       "      <td>LINESTRING (233213.454 163631.172, 233232.516 ...</td>\n",
       "    </tr>\n",
       "    <tr>\n",
       "      <th>2</th>\n",
       "      <td>6043798_2</td>\n",
       "      <td>LINESTRING (231734.068 164307.288, 231732.745 ...</td>\n",
       "    </tr>\n",
       "    <tr>\n",
       "      <th>3</th>\n",
       "      <td>6043798_1</td>\n",
       "      <td>LINESTRING (231772.266 164303.207, 231771.942 ...</td>\n",
       "    </tr>\n",
       "    <tr>\n",
       "      <th>4</th>\n",
       "      <td>6043809_2</td>\n",
       "      <td>LINESTRING (231815.833 164311.804, 231813.623 ...</td>\n",
       "    </tr>\n",
       "  </tbody>\n",
       "</table>\n",
       "</div>"
      ],
      "text/plain": [
       "        VHAS                                           geometry\n",
       "0    7075802  LINESTRING (207074.872 164195.147, 207082.422 ...\n",
       "1    3300114  LINESTRING (233213.454 163631.172, 233232.516 ...\n",
       "2  6043798_2  LINESTRING (231734.068 164307.288, 231732.745 ...\n",
       "3  6043798_1  LINESTRING (231772.266 164303.207, 231771.942 ...\n",
       "4  6043809_2  LINESTRING (231815.833 164311.804, 231813.623 ..."
      ]
     },
     "execution_count": 68,
     "metadata": {},
     "output_type": "execute_result"
    }
   ],
   "source": [
    "print(clipped_water_df.shape)\n",
    "assert clipped_water_df.VHAS.nunique() == clipped_water_df.geometry.nunique()\n",
    "clipped_water_df.head()"
   ]
  },
  {
   "cell_type": "code",
   "execution_count": 69,
   "id": "31ad0f7a",
   "metadata": {},
   "outputs": [
    {
     "name": "stdout",
     "output_type": "stream",
     "text": [
      "(1909, 2)\n"
     ]
    },
    {
     "data": {
      "text/plain": [
       "(1909, 2)"
      ]
     },
     "execution_count": 69,
     "metadata": {},
     "output_type": "execute_result"
    }
   ],
   "source": [
    "print(intersect_df.shape)\n",
    "clipped_water_df2.shape"
   ]
  },
  {
   "cell_type": "code",
   "execution_count": 70,
   "id": "521473ae",
   "metadata": {},
   "outputs": [],
   "source": [
    "#clipped.to_file(r\"C:\\Workdir\\Develop\\TR_USECASE\\data_transform\\clipped.shp\")"
   ]
  },
  {
   "attachments": {},
   "cell_type": "markdown",
   "id": "9eeafb60",
   "metadata": {},
   "source": [
    "To identify the \n",
    "Add begin and end points to the linestrings. These mark the start_at points and end_at point of the location of interest on a water network"
   ]
  },
  {
   "cell_type": "code",
   "execution_count": 71,
   "id": "96b4b4b4",
   "metadata": {},
   "outputs": [],
   "source": [
    "def add_beginpoints(col, df):\n",
    "    lst = df[col].to_list()\n",
    "    beginpoints = []\n",
    "    for item in lst:\n",
    "            if isinstance(item, LineString):\n",
    "                first = Point(item.coords[0])\n",
    "                first_precise = shapely.wkt.dumps(first) #, rounding_precision=5)\n",
    "                beginpoints.append(first_precise)\n",
    "            elif isinstance(item, MultiLineString):\n",
    "                first = Point(item.boundary[0])\n",
    "                first_precise = shapely.wkt.dumps(first) #, rounding_precision=5)\n",
    "                beginpoints.append(first_precise)\n",
    "    return beginpoints\n",
    "\n",
    "def add_endpoints(col, df):\n",
    "    lst = df[col].to_list()\n",
    "    endpoints = []\n",
    "    for item in lst:\n",
    "            if isinstance(item, LineString):\n",
    "                last = Point(item.coords[-1])\n",
    "                last_precise = shapely.wkt.dumps(last) #, rounding_precision=5)\n",
    "                endpoints.append(last_precise)\n",
    "            elif isinstance(item, MultiLineString):\n",
    "                last = Point(item.boundary[-1])\n",
    "                last_precise = shapely.wkt.dumps(last) #, rounding_precision=5)\n",
    "                endpoints.append(last_precise)\n",
    "    return endpoints"
   ]
  },
  {
   "cell_type": "code",
   "execution_count": 72,
   "id": "3634c577",
   "metadata": {},
   "outputs": [],
   "source": [
    "clipped_df = clipped_water_df.copy()"
   ]
  },
  {
   "cell_type": "code",
   "execution_count": 73,
   "id": "25370fb5",
   "metadata": {},
   "outputs": [],
   "source": [
    "clipped_df['start_point'] = add_beginpoints('geometry', clipped_df)\n",
    "clipped_df['end_point'] = add_endpoints('geometry', clipped_df)"
   ]
  },
  {
   "cell_type": "code",
   "execution_count": 74,
   "id": "716dee39",
   "metadata": {},
   "outputs": [
    {
     "data": {
      "text/html": [
       "<div>\n",
       "<style scoped>\n",
       "    .dataframe tbody tr th:only-of-type {\n",
       "        vertical-align: middle;\n",
       "    }\n",
       "\n",
       "    .dataframe tbody tr th {\n",
       "        vertical-align: top;\n",
       "    }\n",
       "\n",
       "    .dataframe thead th {\n",
       "        text-align: right;\n",
       "    }\n",
       "</style>\n",
       "<table border=\"1\" class=\"dataframe\">\n",
       "  <thead>\n",
       "    <tr style=\"text-align: right;\">\n",
       "      <th></th>\n",
       "      <th>VHAS</th>\n",
       "      <th>geometry</th>\n",
       "      <th>start_point</th>\n",
       "      <th>end_point</th>\n",
       "    </tr>\n",
       "  </thead>\n",
       "  <tbody>\n",
       "    <tr>\n",
       "      <th>0</th>\n",
       "      <td>7075802</td>\n",
       "      <td>LINESTRING (207074.872 164195.147, 207082.422 ...</td>\n",
       "      <td>POINT (207074.8715567812905647 164195.14719801...</td>\n",
       "      <td>POINT (207164.9312983400304802 164496.30120820...</td>\n",
       "    </tr>\n",
       "    <tr>\n",
       "      <th>1</th>\n",
       "      <td>3300114</td>\n",
       "      <td>LINESTRING (233213.454 163631.172, 233232.516 ...</td>\n",
       "      <td>POINT (233213.4537399992696010 163631.17199997...</td>\n",
       "      <td>POINT (233223.7554491608170792 163592.87030100...</td>\n",
       "    </tr>\n",
       "  </tbody>\n",
       "</table>\n",
       "</div>"
      ],
      "text/plain": [
       "      VHAS                                           geometry  \\\n",
       "0  7075802  LINESTRING (207074.872 164195.147, 207082.422 ...   \n",
       "1  3300114  LINESTRING (233213.454 163631.172, 233232.516 ...   \n",
       "\n",
       "                                         start_point  \\\n",
       "0  POINT (207074.8715567812905647 164195.14719801...   \n",
       "1  POINT (233213.4537399992696010 163631.17199997...   \n",
       "\n",
       "                                           end_point  \n",
       "0  POINT (207164.9312983400304802 164496.30120820...  \n",
       "1  POINT (233223.7554491608170792 163592.87030100...  "
      ]
     },
     "execution_count": 74,
     "metadata": {},
     "output_type": "execute_result"
    }
   ],
   "source": [
    "clipped_df.head(2)"
   ]
  },
  {
   "cell_type": "code",
   "execution_count": 75,
   "id": "1c123ab6",
   "metadata": {},
   "outputs": [
    {
     "name": "stdout",
     "output_type": "stream",
     "text": [
      "<class 'geopandas.geodataframe.GeoDataFrame'>\n",
      "RangeIndex: 1909 entries, 0 to 1908\n",
      "Data columns (total 4 columns):\n",
      " #   Column       Non-Null Count  Dtype   \n",
      "---  ------       --------------  -----   \n",
      " 0   VHAS         1909 non-null   object  \n",
      " 1   geometry     1909 non-null   geometry\n",
      " 2   start_point  1909 non-null   object  \n",
      " 3   end_point    1909 non-null   object  \n",
      "dtypes: geometry(1), object(3)\n",
      "memory usage: 59.8+ KB\n"
     ]
    }
   ],
   "source": [
    "clipped_df.info()"
   ]
  },
  {
   "cell_type": "code",
   "execution_count": 76,
   "id": "c0fdcf5e",
   "metadata": {},
   "outputs": [],
   "source": [
    "#clipped_water_merge = clipped_water_df.merge(water[[]] ,how='left',on='VHAS')"
   ]
  },
  {
   "cell_type": "code",
   "execution_count": 77,
   "id": "3817c6ce",
   "metadata": {},
   "outputs": [],
   "source": [
    "#clipped.rename(columns={'geometry':'loc_geom'}, inplace=True)\n",
    "#clipped.head()"
   ]
  },
  {
   "cell_type": "markdown",
   "id": "5b94b83f",
   "metadata": {},
   "source": [
    "### Merge with original linestring, and identify point on linestring using get_nearest_point"
   ]
  },
  {
   "cell_type": "code",
   "execution_count": 78,
   "id": "ca52ab76",
   "metadata": {},
   "outputs": [],
   "source": [
    "def get_nearest_point(df, line_col, point_col):\n",
    "    \"\"\"\n",
    "    For each point in points_df, find the nearest point in lines_df.\n",
    "    \"\"\"\n",
    "    geoms = []\n",
    "    for idx, row in df.iterrows():\n",
    "        destinations = MultiPoint(row[line_col].coords) #geometry_y\n",
    "        nearest_geoms = nearest_points(row[point_col], destinations) #geometry_x\n",
    "        try:\n",
    "            for coord in destinations:\n",
    "                if coord == nearest_geoms[1]:\n",
    "                    geoms.append(coord)\n",
    "        except ValueError:\n",
    "            print(\"No nearest point found for {}\".format(row.CODEKOPPNT))\n",
    "    return geoms"
   ]
  },
  {
   "cell_type": "code",
   "execution_count": 79,
   "id": "f1a9a637",
   "metadata": {},
   "outputs": [
    {
     "data": {
      "text/plain": [
       "Index(['VHAS', 'geometry', 'start_point', 'end_point'], dtype='object')"
      ]
     },
     "execution_count": 79,
     "metadata": {},
     "output_type": "execute_result"
    }
   ],
   "source": [
    "clipped_df.columns"
   ]
  },
  {
   "cell_type": "code",
   "execution_count": 80,
   "id": "1346545e",
   "metadata": {},
   "outputs": [],
   "source": [
    "def get_start_points_df():\n",
    "    start_pts = clipped_df[['VHAS', 'start_point']].merge(water[['VHAS', 'geometry']], how='left', on='VHAS')\n",
    "    start_pts['start_point'] = clipped_df['start_point'].apply(wkt.loads)\n",
    "    start_pts = gpd.GeoDataFrame(start_pts, geometry='start_point')\n",
    "    return start_pts"
   ]
  },
  {
   "cell_type": "code",
   "execution_count": 81,
   "id": "c57b2d18",
   "metadata": {},
   "outputs": [],
   "source": [
    "start_pts = get_start_points_df()"
   ]
  },
  {
   "cell_type": "code",
   "execution_count": 82,
   "id": "738495fe",
   "metadata": {},
   "outputs": [],
   "source": [
    "start_pts['new_start_points'] = get_nearest_point(start_pts, 'geometry', 'start_point')"
   ]
  },
  {
   "cell_type": "code",
   "execution_count": 83,
   "id": "bc22e500",
   "metadata": {},
   "outputs": [],
   "source": [
    "start_pts['from_distance'] = start_pts.apply(lambda row: row.geometry.project(row.new_start_points), axis=1)"
   ]
  },
  {
   "cell_type": "code",
   "execution_count": 84,
   "id": "69f3142b",
   "metadata": {},
   "outputs": [
    {
     "data": {
      "text/html": [
       "<div>\n",
       "<style scoped>\n",
       "    .dataframe tbody tr th:only-of-type {\n",
       "        vertical-align: middle;\n",
       "    }\n",
       "\n",
       "    .dataframe tbody tr th {\n",
       "        vertical-align: top;\n",
       "    }\n",
       "\n",
       "    .dataframe thead th {\n",
       "        text-align: right;\n",
       "    }\n",
       "</style>\n",
       "<table border=\"1\" class=\"dataframe\">\n",
       "  <thead>\n",
       "    <tr style=\"text-align: right;\">\n",
       "      <th></th>\n",
       "      <th>VHAS</th>\n",
       "      <th>start_point</th>\n",
       "      <th>geometry</th>\n",
       "      <th>new_start_points</th>\n",
       "      <th>from_distance</th>\n",
       "    </tr>\n",
       "  </thead>\n",
       "  <tbody>\n",
       "    <tr>\n",
       "      <th>0</th>\n",
       "      <td>7075802</td>\n",
       "      <td>POINT (207074.872 164195.147)</td>\n",
       "      <td>LINESTRING (206949.344 163986.328, 206950.235 ...</td>\n",
       "      <td>POINT (207069.70363999758 164182.70349997934)</td>\n",
       "      <td>239.228047</td>\n",
       "    </tr>\n",
       "    <tr>\n",
       "      <th>1</th>\n",
       "      <td>3300114</td>\n",
       "      <td>POINT (233213.454 163631.172)</td>\n",
       "      <td>LINESTRING (233213.454 163631.172, 233232.516 ...</td>\n",
       "      <td>POINT (233213.45373999927 163631.17199997883)</td>\n",
       "      <td>0.000000</td>\n",
       "    </tr>\n",
       "    <tr>\n",
       "      <th>2</th>\n",
       "      <td>6043798_2</td>\n",
       "      <td>POINT (231734.068 164307.288)</td>\n",
       "      <td>LINESTRING (231734.068 164307.288, 231732.745 ...</td>\n",
       "      <td>POINT (231734.06824000034 164307.28809997905)</td>\n",
       "      <td>0.000000</td>\n",
       "    </tr>\n",
       "    <tr>\n",
       "      <th>3</th>\n",
       "      <td>6043798_1</td>\n",
       "      <td>POINT (231772.266 164303.207)</td>\n",
       "      <td>LINESTRING (231772.266 164303.207, 231771.942 ...</td>\n",
       "      <td>POINT (231772.26554000232 164303.20679997746)</td>\n",
       "      <td>0.000000</td>\n",
       "    </tr>\n",
       "    <tr>\n",
       "      <th>4</th>\n",
       "      <td>6043809_2</td>\n",
       "      <td>POINT (231815.833 164311.804)</td>\n",
       "      <td>LINESTRING (231815.833 164311.804, 231813.623 ...</td>\n",
       "      <td>POINT (231815.8329400033 164311.8043999793)</td>\n",
       "      <td>0.000000</td>\n",
       "    </tr>\n",
       "    <tr>\n",
       "      <th>...</th>\n",
       "      <td>...</td>\n",
       "      <td>...</td>\n",
       "      <td>...</td>\n",
       "      <td>...</td>\n",
       "      <td>...</td>\n",
       "    </tr>\n",
       "    <tr>\n",
       "      <th>1904</th>\n",
       "      <td>6027683</td>\n",
       "      <td>POINT (182257.411 241036.331)</td>\n",
       "      <td>LINESTRING (182257.411 241036.331, 182259.815 ...</td>\n",
       "      <td>POINT (182257.41103999916 241036.33069997746)</td>\n",
       "      <td>0.000000</td>\n",
       "    </tr>\n",
       "    <tr>\n",
       "      <th>1905</th>\n",
       "      <td>7052456</td>\n",
       "      <td>POINT (177921.297 243818.824)</td>\n",
       "      <td>LINESTRING (177916.572 243772.020, 177918.229 ...</td>\n",
       "      <td>POINT (177921.08634000126 243813.94779998064)</td>\n",
       "      <td>42.181990</td>\n",
       "    </tr>\n",
       "    <tr>\n",
       "      <th>1906</th>\n",
       "      <td>7050824</td>\n",
       "      <td>POINT (178081.937 243891.321)</td>\n",
       "      <td>LINESTRING (178081.937 243891.321, 178016.585 ...</td>\n",
       "      <td>POINT (178081.9368399963 243891.32109998167)</td>\n",
       "      <td>0.000000</td>\n",
       "    </tr>\n",
       "    <tr>\n",
       "      <th>1907</th>\n",
       "      <td>7050825</td>\n",
       "      <td>POINT (177839.922 243936.449)</td>\n",
       "      <td>LINESTRING (177631.272 243868.403, 177636.167 ...</td>\n",
       "      <td>POINT (177846.4043399975 243938.5492999805)</td>\n",
       "      <td>226.288547</td>\n",
       "    </tr>\n",
       "    <tr>\n",
       "      <th>1908</th>\n",
       "      <td>7052455</td>\n",
       "      <td>POINT (177925.134 243899.620)</td>\n",
       "      <td>LINESTRING (177925.134 243899.620, 177925.568 ...</td>\n",
       "      <td>POINT (177925.13444000334 243899.61999998149)</td>\n",
       "      <td>0.000000</td>\n",
       "    </tr>\n",
       "  </tbody>\n",
       "</table>\n",
       "<p>1909 rows × 5 columns</p>\n",
       "</div>"
      ],
      "text/plain": [
       "           VHAS                    start_point  \\\n",
       "0       7075802  POINT (207074.872 164195.147)   \n",
       "1       3300114  POINT (233213.454 163631.172)   \n",
       "2     6043798_2  POINT (231734.068 164307.288)   \n",
       "3     6043798_1  POINT (231772.266 164303.207)   \n",
       "4     6043809_2  POINT (231815.833 164311.804)   \n",
       "...         ...                            ...   \n",
       "1904    6027683  POINT (182257.411 241036.331)   \n",
       "1905    7052456  POINT (177921.297 243818.824)   \n",
       "1906    7050824  POINT (178081.937 243891.321)   \n",
       "1907    7050825  POINT (177839.922 243936.449)   \n",
       "1908    7052455  POINT (177925.134 243899.620)   \n",
       "\n",
       "                                               geometry  \\\n",
       "0     LINESTRING (206949.344 163986.328, 206950.235 ...   \n",
       "1     LINESTRING (233213.454 163631.172, 233232.516 ...   \n",
       "2     LINESTRING (231734.068 164307.288, 231732.745 ...   \n",
       "3     LINESTRING (231772.266 164303.207, 231771.942 ...   \n",
       "4     LINESTRING (231815.833 164311.804, 231813.623 ...   \n",
       "...                                                 ...   \n",
       "1904  LINESTRING (182257.411 241036.331, 182259.815 ...   \n",
       "1905  LINESTRING (177916.572 243772.020, 177918.229 ...   \n",
       "1906  LINESTRING (178081.937 243891.321, 178016.585 ...   \n",
       "1907  LINESTRING (177631.272 243868.403, 177636.167 ...   \n",
       "1908  LINESTRING (177925.134 243899.620, 177925.568 ...   \n",
       "\n",
       "                                   new_start_points  from_distance  \n",
       "0     POINT (207069.70363999758 164182.70349997934)     239.228047  \n",
       "1     POINT (233213.45373999927 163631.17199997883)       0.000000  \n",
       "2     POINT (231734.06824000034 164307.28809997905)       0.000000  \n",
       "3     POINT (231772.26554000232 164303.20679997746)       0.000000  \n",
       "4       POINT (231815.8329400033 164311.8043999793)       0.000000  \n",
       "...                                             ...            ...  \n",
       "1904  POINT (182257.41103999916 241036.33069997746)       0.000000  \n",
       "1905  POINT (177921.08634000126 243813.94779998064)      42.181990  \n",
       "1906   POINT (178081.9368399963 243891.32109998167)       0.000000  \n",
       "1907    POINT (177846.4043399975 243938.5492999805)     226.288547  \n",
       "1908  POINT (177925.13444000334 243899.61999998149)       0.000000  \n",
       "\n",
       "[1909 rows x 5 columns]"
      ]
     },
     "execution_count": 84,
     "metadata": {},
     "output_type": "execute_result"
    }
   ],
   "source": [
    "start_pts"
   ]
  },
  {
   "cell_type": "code",
   "execution_count": 85,
   "id": "9a9f94a1",
   "metadata": {},
   "outputs": [],
   "source": [
    "def get_end_points_df():\n",
    "    end_pts = clipped_df[['VHAS', 'end_point']].merge(water[['VHAS', 'geometry']], how='left', on='VHAS')\n",
    "    end_pts['end_point'] = clipped_df['end_point'].apply(wkt.loads)\n",
    "    end_pts = gpd.GeoDataFrame(end_pts, geometry='end_point')\n",
    "    return end_pts\n",
    "\n",
    "end_pts = get_end_points_df()\n",
    "\n",
    "end_pts['new_end_points'] = get_nearest_point(end_pts, 'geometry', 'end_point')\n",
    "\n",
    "end_pts['to_distance'] = end_pts.apply(lambda row: row.geometry.project(row.new_end_points), axis=1)"
   ]
  },
  {
   "cell_type": "code",
   "execution_count": 86,
   "id": "a6ea479a",
   "metadata": {},
   "outputs": [
    {
     "data": {
      "text/html": [
       "<div>\n",
       "<style scoped>\n",
       "    .dataframe tbody tr th:only-of-type {\n",
       "        vertical-align: middle;\n",
       "    }\n",
       "\n",
       "    .dataframe tbody tr th {\n",
       "        vertical-align: top;\n",
       "    }\n",
       "\n",
       "    .dataframe thead th {\n",
       "        text-align: right;\n",
       "    }\n",
       "</style>\n",
       "<table border=\"1\" class=\"dataframe\">\n",
       "  <thead>\n",
       "    <tr style=\"text-align: right;\">\n",
       "      <th></th>\n",
       "      <th>VHAS</th>\n",
       "      <th>end_point</th>\n",
       "      <th>geometry</th>\n",
       "      <th>new_end_points</th>\n",
       "      <th>to_distance</th>\n",
       "    </tr>\n",
       "  </thead>\n",
       "  <tbody>\n",
       "    <tr>\n",
       "      <th>0</th>\n",
       "      <td>7075802</td>\n",
       "      <td>POINT (207164.931 164496.301)</td>\n",
       "      <td>LINESTRING (206949.344 163986.328, 206950.235 ...</td>\n",
       "      <td>POINT (207165.60993999842 164494.09419997968)</td>\n",
       "      <td>581.500632</td>\n",
       "    </tr>\n",
       "    <tr>\n",
       "      <th>1</th>\n",
       "      <td>3300114</td>\n",
       "      <td>POINT (233223.755 163592.870)</td>\n",
       "      <td>LINESTRING (233213.454 163631.172, 233232.516 ...</td>\n",
       "      <td>POINT (233227.75033999834 163601.7969999779)</td>\n",
       "      <td>37.917509</td>\n",
       "    </tr>\n",
       "    <tr>\n",
       "      <th>2</th>\n",
       "      <td>6043798_2</td>\n",
       "      <td>POINT (231729.194 164303.455)</td>\n",
       "      <td>LINESTRING (231734.068 164307.288, 231732.745 ...</td>\n",
       "      <td>POINT (231729.04114000354 164303.31929997914)</td>\n",
       "      <td>6.422975</td>\n",
       "    </tr>\n",
       "    <tr>\n",
       "      <th>3</th>\n",
       "      <td>6043798_1</td>\n",
       "      <td>POINT (231734.068 164307.288)</td>\n",
       "      <td>LINESTRING (231772.266 164303.207, 231771.942 ...</td>\n",
       "      <td>POINT (231734.06824000034 164307.28809997905)</td>\n",
       "      <td>45.510072</td>\n",
       "    </tr>\n",
       "    <tr>\n",
       "      <th>4</th>\n",
       "      <td>6043809_2</td>\n",
       "      <td>POINT (231772.266 164303.207)</td>\n",
       "      <td>LINESTRING (231815.833 164311.804, 231813.623 ...</td>\n",
       "      <td>POINT (231772.26554000232 164303.20679997746)</td>\n",
       "      <td>44.449952</td>\n",
       "    </tr>\n",
       "    <tr>\n",
       "      <th>...</th>\n",
       "      <td>...</td>\n",
       "      <td>...</td>\n",
       "      <td>...</td>\n",
       "      <td>...</td>\n",
       "      <td>...</td>\n",
       "    </tr>\n",
       "    <tr>\n",
       "      <th>1904</th>\n",
       "      <td>6027683</td>\n",
       "      <td>POINT (182274.384 241117.100)</td>\n",
       "      <td>LINESTRING (182257.411 241036.331, 182259.815 ...</td>\n",
       "      <td>POINT (182276.38174000237 241128.0882999804)</td>\n",
       "      <td>94.127051</td>\n",
       "    </tr>\n",
       "    <tr>\n",
       "      <th>1905</th>\n",
       "      <td>7052456</td>\n",
       "      <td>POINT (177925.134 243899.620)</td>\n",
       "      <td>LINESTRING (177916.572 243772.020, 177918.229 ...</td>\n",
       "      <td>POINT (177925.13444000334 243899.61999998149)</td>\n",
       "      <td>127.950740</td>\n",
       "    </tr>\n",
       "    <tr>\n",
       "      <th>1906</th>\n",
       "      <td>7050824</td>\n",
       "      <td>POINT (177925.134 243899.620)</td>\n",
       "      <td>LINESTRING (178081.937 243891.321, 178016.585 ...</td>\n",
       "      <td>POINT (177925.13444000334 243899.61999998149)</td>\n",
       "      <td>157.027604</td>\n",
       "    </tr>\n",
       "    <tr>\n",
       "      <th>1907</th>\n",
       "      <td>7050825</td>\n",
       "      <td>POINT (177921.493 243962.679)</td>\n",
       "      <td>LINESTRING (177631.272 243868.403, 177636.167 ...</td>\n",
       "      <td>POINT (177921.49323999733 243962.67929997947)</td>\n",
       "      <td>305.159326</td>\n",
       "    </tr>\n",
       "    <tr>\n",
       "      <th>1908</th>\n",
       "      <td>7052455</td>\n",
       "      <td>POINT (177921.493 243962.679)</td>\n",
       "      <td>LINESTRING (177925.134 243899.620, 177925.568 ...</td>\n",
       "      <td>POINT (177921.49323999733 243962.67929997947)</td>\n",
       "      <td>63.494900</td>\n",
       "    </tr>\n",
       "  </tbody>\n",
       "</table>\n",
       "<p>1909 rows × 5 columns</p>\n",
       "</div>"
      ],
      "text/plain": [
       "           VHAS                      end_point  \\\n",
       "0       7075802  POINT (207164.931 164496.301)   \n",
       "1       3300114  POINT (233223.755 163592.870)   \n",
       "2     6043798_2  POINT (231729.194 164303.455)   \n",
       "3     6043798_1  POINT (231734.068 164307.288)   \n",
       "4     6043809_2  POINT (231772.266 164303.207)   \n",
       "...         ...                            ...   \n",
       "1904    6027683  POINT (182274.384 241117.100)   \n",
       "1905    7052456  POINT (177925.134 243899.620)   \n",
       "1906    7050824  POINT (177925.134 243899.620)   \n",
       "1907    7050825  POINT (177921.493 243962.679)   \n",
       "1908    7052455  POINT (177921.493 243962.679)   \n",
       "\n",
       "                                               geometry  \\\n",
       "0     LINESTRING (206949.344 163986.328, 206950.235 ...   \n",
       "1     LINESTRING (233213.454 163631.172, 233232.516 ...   \n",
       "2     LINESTRING (231734.068 164307.288, 231732.745 ...   \n",
       "3     LINESTRING (231772.266 164303.207, 231771.942 ...   \n",
       "4     LINESTRING (231815.833 164311.804, 231813.623 ...   \n",
       "...                                                 ...   \n",
       "1904  LINESTRING (182257.411 241036.331, 182259.815 ...   \n",
       "1905  LINESTRING (177916.572 243772.020, 177918.229 ...   \n",
       "1906  LINESTRING (178081.937 243891.321, 178016.585 ...   \n",
       "1907  LINESTRING (177631.272 243868.403, 177636.167 ...   \n",
       "1908  LINESTRING (177925.134 243899.620, 177925.568 ...   \n",
       "\n",
       "                                     new_end_points  to_distance  \n",
       "0     POINT (207165.60993999842 164494.09419997968)   581.500632  \n",
       "1      POINT (233227.75033999834 163601.7969999779)    37.917509  \n",
       "2     POINT (231729.04114000354 164303.31929997914)     6.422975  \n",
       "3     POINT (231734.06824000034 164307.28809997905)    45.510072  \n",
       "4     POINT (231772.26554000232 164303.20679997746)    44.449952  \n",
       "...                                             ...          ...  \n",
       "1904   POINT (182276.38174000237 241128.0882999804)    94.127051  \n",
       "1905  POINT (177925.13444000334 243899.61999998149)   127.950740  \n",
       "1906  POINT (177925.13444000334 243899.61999998149)   157.027604  \n",
       "1907  POINT (177921.49323999733 243962.67929997947)   305.159326  \n",
       "1908  POINT (177921.49323999733 243962.67929997947)    63.494900  \n",
       "\n",
       "[1909 rows x 5 columns]"
      ]
     },
     "execution_count": 86,
     "metadata": {},
     "output_type": "execute_result"
    }
   ],
   "source": [
    "end_pts"
   ]
  },
  {
   "cell_type": "markdown",
   "id": "1e026634",
   "metadata": {},
   "source": [
    "Merge the two dfs"
   ]
  },
  {
   "cell_type": "code",
   "execution_count": 87,
   "id": "3f3c8089",
   "metadata": {},
   "outputs": [],
   "source": [
    "linear_reference_df = start_pts[['VHAS', 'new_start_points', 'from_distance']].merge(end_pts[['VHAS', 'new_end_points', 'to_distance']], how='left', on='VHAS')"
   ]
  },
  {
   "cell_type": "code",
   "execution_count": 88,
   "id": "7ebe02a2",
   "metadata": {},
   "outputs": [
    {
     "data": {
      "text/html": [
       "<div>\n",
       "<style scoped>\n",
       "    .dataframe tbody tr th:only-of-type {\n",
       "        vertical-align: middle;\n",
       "    }\n",
       "\n",
       "    .dataframe tbody tr th {\n",
       "        vertical-align: top;\n",
       "    }\n",
       "\n",
       "    .dataframe thead th {\n",
       "        text-align: right;\n",
       "    }\n",
       "</style>\n",
       "<table border=\"1\" class=\"dataframe\">\n",
       "  <thead>\n",
       "    <tr style=\"text-align: right;\">\n",
       "      <th></th>\n",
       "      <th>VHAS</th>\n",
       "      <th>new_start_points</th>\n",
       "      <th>from_distance</th>\n",
       "      <th>new_end_points</th>\n",
       "      <th>to_distance</th>\n",
       "    </tr>\n",
       "  </thead>\n",
       "  <tbody>\n",
       "    <tr>\n",
       "      <th>0</th>\n",
       "      <td>7075802</td>\n",
       "      <td>POINT (207069.70363999758 164182.70349997934)</td>\n",
       "      <td>239.228047</td>\n",
       "      <td>POINT (207165.60993999842 164494.09419997968)</td>\n",
       "      <td>581.500632</td>\n",
       "    </tr>\n",
       "    <tr>\n",
       "      <th>1</th>\n",
       "      <td>3300114</td>\n",
       "      <td>POINT (233213.45373999927 163631.17199997883)</td>\n",
       "      <td>0.000000</td>\n",
       "      <td>POINT (233227.75033999834 163601.7969999779)</td>\n",
       "      <td>37.917509</td>\n",
       "    </tr>\n",
       "  </tbody>\n",
       "</table>\n",
       "</div>"
      ],
      "text/plain": [
       "      VHAS                               new_start_points  from_distance  \\\n",
       "0  7075802  POINT (207069.70363999758 164182.70349997934)     239.228047   \n",
       "1  3300114  POINT (233213.45373999927 163631.17199997883)       0.000000   \n",
       "\n",
       "                                  new_end_points  to_distance  \n",
       "0  POINT (207165.60993999842 164494.09419997968)   581.500632  \n",
       "1   POINT (233227.75033999834 163601.7969999779)    37.917509  "
      ]
     },
     "execution_count": 88,
     "metadata": {},
     "output_type": "execute_result"
    }
   ],
   "source": [
    "linear_reference_df.head(2)"
   ]
  },
  {
   "cell_type": "code",
   "execution_count": 89,
   "id": "6fc6bcc6",
   "metadata": {},
   "outputs": [
    {
     "name": "stdout",
     "output_type": "stream",
     "text": [
      "<class 'pandas.core.frame.DataFrame'>\n",
      "Int64Index: 1909 entries, 0 to 1908\n",
      "Data columns (total 5 columns):\n",
      " #   Column            Non-Null Count  Dtype  \n",
      "---  ------            --------------  -----  \n",
      " 0   VHAS              1909 non-null   object \n",
      " 1   new_start_points  1909 non-null   object \n",
      " 2   from_distance     1909 non-null   float64\n",
      " 3   new_end_points    1909 non-null   object \n",
      " 4   to_distance       1909 non-null   float64\n",
      "dtypes: float64(2), object(3)\n",
      "memory usage: 89.5+ KB\n"
     ]
    }
   ],
   "source": [
    "linear_reference_df.info()"
   ]
  },
  {
   "cell_type": "markdown",
   "id": "1bd6a5fc",
   "metadata": {},
   "source": [
    "## Merge locations of interest"
   ]
  },
  {
   "cell_type": "code",
   "execution_count": 90,
   "id": "1afda0d3",
   "metadata": {},
   "outputs": [
    {
     "name": "stdout",
     "output_type": "stream",
     "text": [
      "(1895, 9)\n"
     ]
    },
    {
     "data": {
      "text/html": [
       "<div>\n",
       "<style scoped>\n",
       "    .dataframe tbody tr th:only-of-type {\n",
       "        vertical-align: middle;\n",
       "    }\n",
       "\n",
       "    .dataframe tbody tr th {\n",
       "        vertical-align: top;\n",
       "    }\n",
       "\n",
       "    .dataframe thead th {\n",
       "        text-align: right;\n",
       "    }\n",
       "</style>\n",
       "<table border=\"1\" class=\"dataframe\">\n",
       "  <thead>\n",
       "    <tr style=\"text-align: right;\">\n",
       "      <th></th>\n",
       "      <th>Type</th>\n",
       "      <th>CaSeKey</th>\n",
       "      <th>descriptio</th>\n",
       "      <th>UpdDate</th>\n",
       "      <th>name</th>\n",
       "      <th>localId</th>\n",
       "      <th>namespace</th>\n",
       "      <th>identifier</th>\n",
       "      <th>buffer_zone</th>\n",
       "    </tr>\n",
       "  </thead>\n",
       "  <tbody>\n",
       "    <tr>\n",
       "      <th>0</th>\n",
       "      <td>PR</td>\n",
       "      <td>12302B</td>\n",
       "      <td>industrie</td>\n",
       "      <td>2016-11-30</td>\n",
       "      <td>Galvani</td>\n",
       "      <td>BE.VL.000001687.INSTALLATION</td>\n",
       "      <td>https://data.gpbv.omgeving.vlaanderen.be/id/pr...</td>\n",
       "      <td>https://data.gpbv.omgeving.vlaanderen.be/id/pr...</td>\n",
       "      <td>POLYGON ((162360.725 199603.818, 162354.312 19...</td>\n",
       "    </tr>\n",
       "    <tr>\n",
       "      <th>1</th>\n",
       "      <td>PR</td>\n",
       "      <td>44008A</td>\n",
       "      <td>veeteelt</td>\n",
       "      <td>2017-04-18</td>\n",
       "      <td>Verschraegen Patrick</td>\n",
       "      <td>BE.VL.000001800.INSTALLATION</td>\n",
       "      <td>https://data.gpbv.omgeving.vlaanderen.be/id/pr...</td>\n",
       "      <td>https://data.gpbv.omgeving.vlaanderen.be/id/pr...</td>\n",
       "      <td>POLYGON ((113715.977 195787.489, 113717.315 19...</td>\n",
       "    </tr>\n",
       "    <tr>\n",
       "      <th>2</th>\n",
       "      <td>PR</td>\n",
       "      <td>24006D</td>\n",
       "      <td>veeteelt</td>\n",
       "      <td>2017-04-24</td>\n",
       "      <td>Both Marrigje en Vaneynde Ellen</td>\n",
       "      <td>BE.VL.000000463.INSTALLATION</td>\n",
       "      <td>https://data.gpbv.omgeving.vlaanderen.be/id/pr...</td>\n",
       "      <td>https://data.gpbv.omgeving.vlaanderen.be/id/pr...</td>\n",
       "      <td>POLYGON ((177791.394 188622.409, 177789.393 18...</td>\n",
       "    </tr>\n",
       "    <tr>\n",
       "      <th>3</th>\n",
       "      <td>PR</td>\n",
       "      <td>44034D</td>\n",
       "      <td>veeteelt</td>\n",
       "      <td>2017-04-18</td>\n",
       "      <td>M+Pigs/Walschland</td>\n",
       "      <td>BE.VL.000001191.INSTALLATION</td>\n",
       "      <td>https://data.gpbv.omgeving.vlaanderen.be/id/pr...</td>\n",
       "      <td>https://data.gpbv.omgeving.vlaanderen.be/id/pr...</td>\n",
       "      <td>POLYGON ((110166.649 198394.433, 110166.778 19...</td>\n",
       "    </tr>\n",
       "    <tr>\n",
       "      <th>4</th>\n",
       "      <td>PR</td>\n",
       "      <td>44034D</td>\n",
       "      <td>veeteelt</td>\n",
       "      <td>2017-04-18</td>\n",
       "      <td>Balthau Stany</td>\n",
       "      <td>BE.VL.000001083.INSTALLATION</td>\n",
       "      <td>https://data.gpbv.omgeving.vlaanderen.be/id/pr...</td>\n",
       "      <td>https://data.gpbv.omgeving.vlaanderen.be/id/pr...</td>\n",
       "      <td>POLYGON ((110716.460 198288.067, 110717.643 19...</td>\n",
       "    </tr>\n",
       "  </tbody>\n",
       "</table>\n",
       "</div>"
      ],
      "text/plain": [
       "  Type CaSeKey descriptio     UpdDate                             name  \\\n",
       "0   PR  12302B  industrie  2016-11-30                          Galvani   \n",
       "1   PR  44008A   veeteelt  2017-04-18             Verschraegen Patrick   \n",
       "2   PR  24006D   veeteelt  2017-04-24  Both Marrigje en Vaneynde Ellen   \n",
       "3   PR  44034D   veeteelt  2017-04-18                M+Pigs/Walschland   \n",
       "4   PR  44034D   veeteelt  2017-04-18                    Balthau Stany   \n",
       "\n",
       "                        localId  \\\n",
       "0  BE.VL.000001687.INSTALLATION   \n",
       "1  BE.VL.000001800.INSTALLATION   \n",
       "2  BE.VL.000000463.INSTALLATION   \n",
       "3  BE.VL.000001191.INSTALLATION   \n",
       "4  BE.VL.000001083.INSTALLATION   \n",
       "\n",
       "                                           namespace  \\\n",
       "0  https://data.gpbv.omgeving.vlaanderen.be/id/pr...   \n",
       "1  https://data.gpbv.omgeving.vlaanderen.be/id/pr...   \n",
       "2  https://data.gpbv.omgeving.vlaanderen.be/id/pr...   \n",
       "3  https://data.gpbv.omgeving.vlaanderen.be/id/pr...   \n",
       "4  https://data.gpbv.omgeving.vlaanderen.be/id/pr...   \n",
       "\n",
       "                                          identifier  \\\n",
       "0  https://data.gpbv.omgeving.vlaanderen.be/id/pr...   \n",
       "1  https://data.gpbv.omgeving.vlaanderen.be/id/pr...   \n",
       "2  https://data.gpbv.omgeving.vlaanderen.be/id/pr...   \n",
       "3  https://data.gpbv.omgeving.vlaanderen.be/id/pr...   \n",
       "4  https://data.gpbv.omgeving.vlaanderen.be/id/pr...   \n",
       "\n",
       "                                         buffer_zone  \n",
       "0  POLYGON ((162360.725 199603.818, 162354.312 19...  \n",
       "1  POLYGON ((113715.977 195787.489, 113717.315 19...  \n",
       "2  POLYGON ((177791.394 188622.409, 177789.393 18...  \n",
       "3  POLYGON ((110166.649 198394.433, 110166.778 19...  \n",
       "4  POLYGON ((110716.460 198288.067, 110717.643 19...  "
      ]
     },
     "execution_count": 90,
     "metadata": {},
     "output_type": "execute_result"
    }
   ],
   "source": [
    "print(buffers_gdf.shape)\n",
    "buffers_gdf.head()"
   ]
  },
  {
   "cell_type": "code",
   "execution_count": 91,
   "id": "d4e48669",
   "metadata": {},
   "outputs": [],
   "source": [
    "water_polygon = gpd.sjoin(buffers_gdf, water_truncated).reset_index(drop=True)"
   ]
  },
  {
   "cell_type": "code",
   "execution_count": 92,
   "id": "7ecfd21a",
   "metadata": {},
   "outputs": [
    {
     "data": {
      "text/html": [
       "<div>\n",
       "<style scoped>\n",
       "    .dataframe tbody tr th:only-of-type {\n",
       "        vertical-align: middle;\n",
       "    }\n",
       "\n",
       "    .dataframe tbody tr th {\n",
       "        vertical-align: top;\n",
       "    }\n",
       "\n",
       "    .dataframe thead th {\n",
       "        text-align: right;\n",
       "    }\n",
       "</style>\n",
       "<table border=\"1\" class=\"dataframe\">\n",
       "  <thead>\n",
       "    <tr style=\"text-align: right;\">\n",
       "      <th></th>\n",
       "      <th>Type</th>\n",
       "      <th>CaSeKey</th>\n",
       "      <th>descriptio</th>\n",
       "      <th>UpdDate</th>\n",
       "      <th>name</th>\n",
       "      <th>localId</th>\n",
       "      <th>namespace</th>\n",
       "      <th>identifier</th>\n",
       "      <th>buffer_zone</th>\n",
       "      <th>index_right</th>\n",
       "      <th>VHAS</th>\n",
       "    </tr>\n",
       "  </thead>\n",
       "  <tbody>\n",
       "    <tr>\n",
       "      <th>0</th>\n",
       "      <td>PR</td>\n",
       "      <td>44008A</td>\n",
       "      <td>veeteelt</td>\n",
       "      <td>2017-04-18</td>\n",
       "      <td>Verschraegen Patrick</td>\n",
       "      <td>BE.VL.000001800.INSTALLATION</td>\n",
       "      <td>https://data.gpbv.omgeving.vlaanderen.be/id/pr...</td>\n",
       "      <td>https://data.gpbv.omgeving.vlaanderen.be/id/pr...</td>\n",
       "      <td>POLYGON ((113715.977 195787.489, 113717.315 19...</td>\n",
       "      <td>19565</td>\n",
       "      <td>5040128</td>\n",
       "    </tr>\n",
       "    <tr>\n",
       "      <th>1</th>\n",
       "      <td>PR</td>\n",
       "      <td>24006D</td>\n",
       "      <td>veeteelt</td>\n",
       "      <td>2017-04-24</td>\n",
       "      <td>Both Marrigje en Vaneynde Ellen</td>\n",
       "      <td>BE.VL.000000463.INSTALLATION</td>\n",
       "      <td>https://data.gpbv.omgeving.vlaanderen.be/id/pr...</td>\n",
       "      <td>https://data.gpbv.omgeving.vlaanderen.be/id/pr...</td>\n",
       "      <td>POLYGON ((177791.394 188622.409, 177789.393 18...</td>\n",
       "      <td>57060</td>\n",
       "      <td>6028465</td>\n",
       "    </tr>\n",
       "    <tr>\n",
       "      <th>2</th>\n",
       "      <td>PR</td>\n",
       "      <td>24006D</td>\n",
       "      <td>veeteelt</td>\n",
       "      <td>2017-04-24</td>\n",
       "      <td>Both Marrigje en Vaneynde Ellen</td>\n",
       "      <td>BE.VL.000000463.INSTALLATION</td>\n",
       "      <td>https://data.gpbv.omgeving.vlaanderen.be/id/pr...</td>\n",
       "      <td>https://data.gpbv.omgeving.vlaanderen.be/id/pr...</td>\n",
       "      <td>POLYGON ((177791.394 188622.409, 177789.393 18...</td>\n",
       "      <td>35018</td>\n",
       "      <td>6028466</td>\n",
       "    </tr>\n",
       "  </tbody>\n",
       "</table>\n",
       "</div>"
      ],
      "text/plain": [
       "  Type CaSeKey descriptio     UpdDate                             name  \\\n",
       "0   PR  44008A   veeteelt  2017-04-18             Verschraegen Patrick   \n",
       "1   PR  24006D   veeteelt  2017-04-24  Both Marrigje en Vaneynde Ellen   \n",
       "2   PR  24006D   veeteelt  2017-04-24  Both Marrigje en Vaneynde Ellen   \n",
       "\n",
       "                        localId  \\\n",
       "0  BE.VL.000001800.INSTALLATION   \n",
       "1  BE.VL.000000463.INSTALLATION   \n",
       "2  BE.VL.000000463.INSTALLATION   \n",
       "\n",
       "                                           namespace  \\\n",
       "0  https://data.gpbv.omgeving.vlaanderen.be/id/pr...   \n",
       "1  https://data.gpbv.omgeving.vlaanderen.be/id/pr...   \n",
       "2  https://data.gpbv.omgeving.vlaanderen.be/id/pr...   \n",
       "\n",
       "                                          identifier  \\\n",
       "0  https://data.gpbv.omgeving.vlaanderen.be/id/pr...   \n",
       "1  https://data.gpbv.omgeving.vlaanderen.be/id/pr...   \n",
       "2  https://data.gpbv.omgeving.vlaanderen.be/id/pr...   \n",
       "\n",
       "                                         buffer_zone  index_right     VHAS  \n",
       "0  POLYGON ((113715.977 195787.489, 113717.315 19...        19565  5040128  \n",
       "1  POLYGON ((177791.394 188622.409, 177789.393 18...        57060  6028465  \n",
       "2  POLYGON ((177791.394 188622.409, 177789.393 18...        35018  6028466  "
      ]
     },
     "execution_count": 92,
     "metadata": {},
     "output_type": "execute_result"
    }
   ],
   "source": [
    "water_polygon.head(3)"
   ]
  },
  {
   "cell_type": "code",
   "execution_count": 93,
   "id": "e80a3de8",
   "metadata": {},
   "outputs": [
    {
     "data": {
      "text/plain": [
       "Index(['Type', 'CaSeKey', 'descriptio', 'UpdDate', 'name', 'localId',\n",
       "       'namespace', 'identifier', 'buffer_zone', 'index_right', 'VHAS'],\n",
       "      dtype='object')"
      ]
     },
     "execution_count": 93,
     "metadata": {},
     "output_type": "execute_result"
    }
   ],
   "source": [
    "water_polygon.columns"
   ]
  },
  {
   "cell_type": "code",
   "execution_count": 101,
   "id": "362ae86c",
   "metadata": {},
   "outputs": [
    {
     "data": {
      "text/html": [
       "<div>\n",
       "<style scoped>\n",
       "    .dataframe tbody tr th:only-of-type {\n",
       "        vertical-align: middle;\n",
       "    }\n",
       "\n",
       "    .dataframe tbody tr th {\n",
       "        vertical-align: top;\n",
       "    }\n",
       "\n",
       "    .dataframe thead th {\n",
       "        text-align: right;\n",
       "    }\n",
       "</style>\n",
       "<table border=\"1\" class=\"dataframe\">\n",
       "  <thead>\n",
       "    <tr style=\"text-align: right;\">\n",
       "      <th></th>\n",
       "      <th>Type</th>\n",
       "      <th>CaSeKey</th>\n",
       "      <th>descriptio</th>\n",
       "      <th>UpdDate</th>\n",
       "      <th>name</th>\n",
       "      <th>localId</th>\n",
       "      <th>namespace</th>\n",
       "      <th>identifier</th>\n",
       "      <th>buffer_zone</th>\n",
       "      <th>index_right</th>\n",
       "      <th>VHAS</th>\n",
       "    </tr>\n",
       "  </thead>\n",
       "  <tbody>\n",
       "    <tr>\n",
       "      <th>0</th>\n",
       "      <td>PR</td>\n",
       "      <td>44008A</td>\n",
       "      <td>veeteelt</td>\n",
       "      <td>2017-04-18</td>\n",
       "      <td>Verschraegen Patrick</td>\n",
       "      <td>BE.VL.000001800.INSTALLATION</td>\n",
       "      <td>https://data.gpbv.omgeving.vlaanderen.be/id/pr...</td>\n",
       "      <td>https://data.gpbv.omgeving.vlaanderen.be/id/pr...</td>\n",
       "      <td>POLYGON ((113715.977 195787.489, 113717.315 19...</td>\n",
       "      <td>19565</td>\n",
       "      <td>5040128</td>\n",
       "    </tr>\n",
       "    <tr>\n",
       "      <th>1</th>\n",
       "      <td>PR</td>\n",
       "      <td>24006D</td>\n",
       "      <td>veeteelt</td>\n",
       "      <td>2017-04-24</td>\n",
       "      <td>Both Marrigje en Vaneynde Ellen</td>\n",
       "      <td>BE.VL.000000463.INSTALLATION</td>\n",
       "      <td>https://data.gpbv.omgeving.vlaanderen.be/id/pr...</td>\n",
       "      <td>https://data.gpbv.omgeving.vlaanderen.be/id/pr...</td>\n",
       "      <td>POLYGON ((177791.394 188622.409, 177789.393 18...</td>\n",
       "      <td>57060</td>\n",
       "      <td>6028465</td>\n",
       "    </tr>\n",
       "  </tbody>\n",
       "</table>\n",
       "</div>"
      ],
      "text/plain": [
       "  Type CaSeKey descriptio     UpdDate                             name  \\\n",
       "0   PR  44008A   veeteelt  2017-04-18             Verschraegen Patrick   \n",
       "1   PR  24006D   veeteelt  2017-04-24  Both Marrigje en Vaneynde Ellen   \n",
       "\n",
       "                        localId  \\\n",
       "0  BE.VL.000001800.INSTALLATION   \n",
       "1  BE.VL.000000463.INSTALLATION   \n",
       "\n",
       "                                           namespace  \\\n",
       "0  https://data.gpbv.omgeving.vlaanderen.be/id/pr...   \n",
       "1  https://data.gpbv.omgeving.vlaanderen.be/id/pr...   \n",
       "\n",
       "                                          identifier  \\\n",
       "0  https://data.gpbv.omgeving.vlaanderen.be/id/pr...   \n",
       "1  https://data.gpbv.omgeving.vlaanderen.be/id/pr...   \n",
       "\n",
       "                                         buffer_zone  index_right     VHAS  \n",
       "0  POLYGON ((113715.977 195787.489, 113717.315 19...        19565  5040128  \n",
       "1  POLYGON ((177791.394 188622.409, 177789.393 18...        57060  6028465  "
      ]
     },
     "execution_count": 101,
     "metadata": {},
     "output_type": "execute_result"
    }
   ],
   "source": [
    "water_polygon.head(2)"
   ]
  },
  {
   "cell_type": "code",
   "execution_count": 102,
   "id": "a424c571",
   "metadata": {},
   "outputs": [],
   "source": [
    "linear_reference_gdf = water_polygon[['Type', 'CaSeKey', 'UpdDate', 'localId','name', 'VHAS', 'buffer_zone', 'namespace', 'identifier']]\\\n",
    "                        .merge(linear_reference_df[['VHAS', 'from_distance', 'to_distance']], how='left', on='VHAS') #\\\n",
    "                            #.rename(columns={'buffer_zone':'geometry'})"
   ]
  },
  {
   "cell_type": "code",
   "execution_count": 103,
   "id": "7ed4c365",
   "metadata": {},
   "outputs": [
    {
     "data": {
      "text/html": [
       "<div>\n",
       "<style scoped>\n",
       "    .dataframe tbody tr th:only-of-type {\n",
       "        vertical-align: middle;\n",
       "    }\n",
       "\n",
       "    .dataframe tbody tr th {\n",
       "        vertical-align: top;\n",
       "    }\n",
       "\n",
       "    .dataframe thead th {\n",
       "        text-align: right;\n",
       "    }\n",
       "</style>\n",
       "<table border=\"1\" class=\"dataframe\">\n",
       "  <thead>\n",
       "    <tr style=\"text-align: right;\">\n",
       "      <th></th>\n",
       "      <th>Type</th>\n",
       "      <th>CaSeKey</th>\n",
       "      <th>UpdDate</th>\n",
       "      <th>localId</th>\n",
       "      <th>name</th>\n",
       "      <th>VHAS</th>\n",
       "      <th>buffer_zone</th>\n",
       "      <th>namespace</th>\n",
       "      <th>identifier</th>\n",
       "      <th>from_distance</th>\n",
       "      <th>to_distance</th>\n",
       "    </tr>\n",
       "  </thead>\n",
       "  <tbody>\n",
       "    <tr>\n",
       "      <th>0</th>\n",
       "      <td>PR</td>\n",
       "      <td>44008A</td>\n",
       "      <td>2017-04-18</td>\n",
       "      <td>BE.VL.000001800.INSTALLATION</td>\n",
       "      <td>Verschraegen Patrick</td>\n",
       "      <td>5040128</td>\n",
       "      <td>POLYGON ((113715.977 195787.489, 113717.315 19...</td>\n",
       "      <td>https://data.gpbv.omgeving.vlaanderen.be/id/pr...</td>\n",
       "      <td>https://data.gpbv.omgeving.vlaanderen.be/id/pr...</td>\n",
       "      <td>530.855019</td>\n",
       "      <td>751.960694</td>\n",
       "    </tr>\n",
       "    <tr>\n",
       "      <th>1</th>\n",
       "      <td>PR</td>\n",
       "      <td>24006D</td>\n",
       "      <td>2017-04-24</td>\n",
       "      <td>BE.VL.000000463.INSTALLATION</td>\n",
       "      <td>Both Marrigje en Vaneynde Ellen</td>\n",
       "      <td>6028465</td>\n",
       "      <td>POLYGON ((177791.394 188622.409, 177789.393 18...</td>\n",
       "      <td>https://data.gpbv.omgeving.vlaanderen.be/id/pr...</td>\n",
       "      <td>https://data.gpbv.omgeving.vlaanderen.be/id/pr...</td>\n",
       "      <td>370.973634</td>\n",
       "      <td>733.580196</td>\n",
       "    </tr>\n",
       "    <tr>\n",
       "      <th>2</th>\n",
       "      <td>PR</td>\n",
       "      <td>24006D</td>\n",
       "      <td>2017-04-24</td>\n",
       "      <td>BE.VL.000000463.INSTALLATION</td>\n",
       "      <td>Both Marrigje en Vaneynde Ellen</td>\n",
       "      <td>6028466</td>\n",
       "      <td>POLYGON ((177791.394 188622.409, 177789.393 18...</td>\n",
       "      <td>https://data.gpbv.omgeving.vlaanderen.be/id/pr...</td>\n",
       "      <td>https://data.gpbv.omgeving.vlaanderen.be/id/pr...</td>\n",
       "      <td>0.000000</td>\n",
       "      <td>0.000000</td>\n",
       "    </tr>\n",
       "    <tr>\n",
       "      <th>3</th>\n",
       "      <td>PR</td>\n",
       "      <td>44034D</td>\n",
       "      <td>2017-04-18</td>\n",
       "      <td>BE.VL.000001191.INSTALLATION</td>\n",
       "      <td>M+Pigs/Walschland</td>\n",
       "      <td>7068473</td>\n",
       "      <td>POLYGON ((110166.649 198394.433, 110166.778 19...</td>\n",
       "      <td>https://data.gpbv.omgeving.vlaanderen.be/id/pr...</td>\n",
       "      <td>https://data.gpbv.omgeving.vlaanderen.be/id/pr...</td>\n",
       "      <td>438.139223</td>\n",
       "      <td>798.815637</td>\n",
       "    </tr>\n",
       "    <tr>\n",
       "      <th>4</th>\n",
       "      <td>PR</td>\n",
       "      <td>44034D</td>\n",
       "      <td>2017-04-18</td>\n",
       "      <td>BE.VL.000001191.INSTALLATION</td>\n",
       "      <td>M+Pigs/Walschland</td>\n",
       "      <td>6034092_1</td>\n",
       "      <td>POLYGON ((110166.649 198394.433, 110166.778 19...</td>\n",
       "      <td>https://data.gpbv.omgeving.vlaanderen.be/id/pr...</td>\n",
       "      <td>https://data.gpbv.omgeving.vlaanderen.be/id/pr...</td>\n",
       "      <td>691.927203</td>\n",
       "      <td>950.760934</td>\n",
       "    </tr>\n",
       "    <tr>\n",
       "      <th>...</th>\n",
       "      <td>...</td>\n",
       "      <td>...</td>\n",
       "      <td>...</td>\n",
       "      <td>...</td>\n",
       "      <td>...</td>\n",
       "      <td>...</td>\n",
       "      <td>...</td>\n",
       "      <td>...</td>\n",
       "      <td>...</td>\n",
       "      <td>...</td>\n",
       "      <td>...</td>\n",
       "    </tr>\n",
       "    <tr>\n",
       "      <th>2378</th>\n",
       "      <td>PR</td>\n",
       "      <td>24108B</td>\n",
       "      <td>2019-01-14</td>\n",
       "      <td>BE.VL.000000577.INSTALLATION</td>\n",
       "      <td>Porky Farm FV</td>\n",
       "      <td>6017233</td>\n",
       "      <td>POLYGON ((171607.173 181438.814, 171603.587 18...</td>\n",
       "      <td>https://data.gpbv.omgeving.vlaanderen.be/id/pr...</td>\n",
       "      <td>https://data.gpbv.omgeving.vlaanderen.be/id/pr...</td>\n",
       "      <td>478.122665</td>\n",
       "      <td>577.072533</td>\n",
       "    </tr>\n",
       "    <tr>\n",
       "      <th>2379</th>\n",
       "      <td>PR</td>\n",
       "      <td>24108B</td>\n",
       "      <td>2019-01-14</td>\n",
       "      <td>BE.VL.000000577.INSTALLATION</td>\n",
       "      <td>Porky Farm FV</td>\n",
       "      <td>6028079</td>\n",
       "      <td>POLYGON ((171607.173 181438.814, 171603.587 18...</td>\n",
       "      <td>https://data.gpbv.omgeving.vlaanderen.be/id/pr...</td>\n",
       "      <td>https://data.gpbv.omgeving.vlaanderen.be/id/pr...</td>\n",
       "      <td>340.387133</td>\n",
       "      <td>589.604391</td>\n",
       "    </tr>\n",
       "    <tr>\n",
       "      <th>2380</th>\n",
       "      <td>PR</td>\n",
       "      <td>24108B</td>\n",
       "      <td>2019-01-14</td>\n",
       "      <td>BE.VL.000000577.INSTALLATION</td>\n",
       "      <td>Porky Farm FV</td>\n",
       "      <td>6017624_1</td>\n",
       "      <td>POLYGON ((171607.173 181438.814, 171603.587 18...</td>\n",
       "      <td>https://data.gpbv.omgeving.vlaanderen.be/id/pr...</td>\n",
       "      <td>https://data.gpbv.omgeving.vlaanderen.be/id/pr...</td>\n",
       "      <td>0.000000</td>\n",
       "      <td>151.828639</td>\n",
       "    </tr>\n",
       "    <tr>\n",
       "      <th>2381</th>\n",
       "      <td>PR</td>\n",
       "      <td>24108B</td>\n",
       "      <td>2019-01-14</td>\n",
       "      <td>BE.VL.000000577.INSTALLATION</td>\n",
       "      <td>Porky Farm FV</td>\n",
       "      <td>6017624_2</td>\n",
       "      <td>POLYGON ((171607.173 181438.814, 171603.587 18...</td>\n",
       "      <td>https://data.gpbv.omgeving.vlaanderen.be/id/pr...</td>\n",
       "      <td>https://data.gpbv.omgeving.vlaanderen.be/id/pr...</td>\n",
       "      <td>0.000000</td>\n",
       "      <td>10.305196</td>\n",
       "    </tr>\n",
       "    <tr>\n",
       "      <th>2382</th>\n",
       "      <td>PR</td>\n",
       "      <td>37017B</td>\n",
       "      <td>2019-08-24</td>\n",
       "      <td>BE.VL.000001471.INSTALLATION</td>\n",
       "      <td>Vanhaecke Lieven</td>\n",
       "      <td>6022543</td>\n",
       "      <td>POLYGON ((78264.323 177445.058, 78251.770 1774...</td>\n",
       "      <td>https://data.gpbv.omgeving.vlaanderen.be/id/pr...</td>\n",
       "      <td>https://data.gpbv.omgeving.vlaanderen.be/id/pr...</td>\n",
       "      <td>46.744253</td>\n",
       "      <td>573.934406</td>\n",
       "    </tr>\n",
       "  </tbody>\n",
       "</table>\n",
       "<p>2383 rows × 11 columns</p>\n",
       "</div>"
      ],
      "text/plain": [
       "     Type CaSeKey     UpdDate                       localId  \\\n",
       "0      PR  44008A  2017-04-18  BE.VL.000001800.INSTALLATION   \n",
       "1      PR  24006D  2017-04-24  BE.VL.000000463.INSTALLATION   \n",
       "2      PR  24006D  2017-04-24  BE.VL.000000463.INSTALLATION   \n",
       "3      PR  44034D  2017-04-18  BE.VL.000001191.INSTALLATION   \n",
       "4      PR  44034D  2017-04-18  BE.VL.000001191.INSTALLATION   \n",
       "...   ...     ...         ...                           ...   \n",
       "2378   PR  24108B  2019-01-14  BE.VL.000000577.INSTALLATION   \n",
       "2379   PR  24108B  2019-01-14  BE.VL.000000577.INSTALLATION   \n",
       "2380   PR  24108B  2019-01-14  BE.VL.000000577.INSTALLATION   \n",
       "2381   PR  24108B  2019-01-14  BE.VL.000000577.INSTALLATION   \n",
       "2382   PR  37017B  2019-08-24  BE.VL.000001471.INSTALLATION   \n",
       "\n",
       "                                 name       VHAS  \\\n",
       "0                Verschraegen Patrick    5040128   \n",
       "1     Both Marrigje en Vaneynde Ellen    6028465   \n",
       "2     Both Marrigje en Vaneynde Ellen    6028466   \n",
       "3                   M+Pigs/Walschland    7068473   \n",
       "4                   M+Pigs/Walschland  6034092_1   \n",
       "...                               ...        ...   \n",
       "2378                    Porky Farm FV    6017233   \n",
       "2379                    Porky Farm FV    6028079   \n",
       "2380                    Porky Farm FV  6017624_1   \n",
       "2381                    Porky Farm FV  6017624_2   \n",
       "2382                 Vanhaecke Lieven    6022543   \n",
       "\n",
       "                                            buffer_zone  \\\n",
       "0     POLYGON ((113715.977 195787.489, 113717.315 19...   \n",
       "1     POLYGON ((177791.394 188622.409, 177789.393 18...   \n",
       "2     POLYGON ((177791.394 188622.409, 177789.393 18...   \n",
       "3     POLYGON ((110166.649 198394.433, 110166.778 19...   \n",
       "4     POLYGON ((110166.649 198394.433, 110166.778 19...   \n",
       "...                                                 ...   \n",
       "2378  POLYGON ((171607.173 181438.814, 171603.587 18...   \n",
       "2379  POLYGON ((171607.173 181438.814, 171603.587 18...   \n",
       "2380  POLYGON ((171607.173 181438.814, 171603.587 18...   \n",
       "2381  POLYGON ((171607.173 181438.814, 171603.587 18...   \n",
       "2382  POLYGON ((78264.323 177445.058, 78251.770 1774...   \n",
       "\n",
       "                                              namespace  \\\n",
       "0     https://data.gpbv.omgeving.vlaanderen.be/id/pr...   \n",
       "1     https://data.gpbv.omgeving.vlaanderen.be/id/pr...   \n",
       "2     https://data.gpbv.omgeving.vlaanderen.be/id/pr...   \n",
       "3     https://data.gpbv.omgeving.vlaanderen.be/id/pr...   \n",
       "4     https://data.gpbv.omgeving.vlaanderen.be/id/pr...   \n",
       "...                                                 ...   \n",
       "2378  https://data.gpbv.omgeving.vlaanderen.be/id/pr...   \n",
       "2379  https://data.gpbv.omgeving.vlaanderen.be/id/pr...   \n",
       "2380  https://data.gpbv.omgeving.vlaanderen.be/id/pr...   \n",
       "2381  https://data.gpbv.omgeving.vlaanderen.be/id/pr...   \n",
       "2382  https://data.gpbv.omgeving.vlaanderen.be/id/pr...   \n",
       "\n",
       "                                             identifier  from_distance  \\\n",
       "0     https://data.gpbv.omgeving.vlaanderen.be/id/pr...     530.855019   \n",
       "1     https://data.gpbv.omgeving.vlaanderen.be/id/pr...     370.973634   \n",
       "2     https://data.gpbv.omgeving.vlaanderen.be/id/pr...       0.000000   \n",
       "3     https://data.gpbv.omgeving.vlaanderen.be/id/pr...     438.139223   \n",
       "4     https://data.gpbv.omgeving.vlaanderen.be/id/pr...     691.927203   \n",
       "...                                                 ...            ...   \n",
       "2378  https://data.gpbv.omgeving.vlaanderen.be/id/pr...     478.122665   \n",
       "2379  https://data.gpbv.omgeving.vlaanderen.be/id/pr...     340.387133   \n",
       "2380  https://data.gpbv.omgeving.vlaanderen.be/id/pr...       0.000000   \n",
       "2381  https://data.gpbv.omgeving.vlaanderen.be/id/pr...       0.000000   \n",
       "2382  https://data.gpbv.omgeving.vlaanderen.be/id/pr...      46.744253   \n",
       "\n",
       "      to_distance  \n",
       "0      751.960694  \n",
       "1      733.580196  \n",
       "2        0.000000  \n",
       "3      798.815637  \n",
       "4      950.760934  \n",
       "...           ...  \n",
       "2378   577.072533  \n",
       "2379   589.604391  \n",
       "2380   151.828639  \n",
       "2381    10.305196  \n",
       "2382   573.934406  \n",
       "\n",
       "[2383 rows x 11 columns]"
      ]
     },
     "execution_count": 103,
     "metadata": {},
     "output_type": "execute_result"
    }
   ],
   "source": [
    "linear_reference_gdf"
   ]
  },
  {
   "cell_type": "code",
   "execution_count": 104,
   "id": "05910539",
   "metadata": {},
   "outputs": [
    {
     "name": "stdout",
     "output_type": "stream",
     "text": [
      "<class 'geopandas.geodataframe.GeoDataFrame'>\n",
      "Int64Index: 2383 entries, 0 to 2382\n",
      "Data columns (total 11 columns):\n",
      " #   Column         Non-Null Count  Dtype   \n",
      "---  ------         --------------  -----   \n",
      " 0   Type           2383 non-null   object  \n",
      " 1   CaSeKey        2383 non-null   object  \n",
      " 2   UpdDate        2383 non-null   object  \n",
      " 3   localId        2383 non-null   object  \n",
      " 4   name           2383 non-null   object  \n",
      " 5   VHAS           2383 non-null   object  \n",
      " 6   buffer_zone    2383 non-null   geometry\n",
      " 7   namespace      2383 non-null   object  \n",
      " 8   identifier     2383 non-null   object  \n",
      " 9   from_distance  2383 non-null   float64 \n",
      " 10  to_distance    2383 non-null   float64 \n",
      "dtypes: float64(2), geometry(1), object(8)\n",
      "memory usage: 223.4+ KB\n"
     ]
    }
   ],
   "source": [
    "linear_reference_gdf.info()"
   ]
  },
  {
   "cell_type": "code",
   "execution_count": 97,
   "id": "7f92a88e",
   "metadata": {},
   "outputs": [],
   "source": [
    "# linear_reference_gdf2 = linear_reference_gdf.to_crs(epsg=3035)"
   ]
  },
  {
   "cell_type": "code",
   "execution_count": 105,
   "id": "aa901a3b",
   "metadata": {},
   "outputs": [
    {
     "data": {
      "text/plain": [
       "<Derived Projected CRS: EPSG:31370>\n",
       "Name: BD72 / Belgian Lambert 72\n",
       "Axis Info [cartesian]:\n",
       "- X[east]: Easting (metre)\n",
       "- Y[north]: Northing (metre)\n",
       "Area of Use:\n",
       "- name: Belgium - onshore.\n",
       "- bounds: (2.5, 49.5, 6.4, 51.51)\n",
       "Coordinate Operation:\n",
       "- name: Belgian Lambert 72\n",
       "- method: Lambert Conic Conformal (2SP)\n",
       "Datum: Reseau National Belge 1972\n",
       "- Ellipsoid: International 1924\n",
       "- Prime Meridian: Greenwich"
      ]
     },
     "execution_count": 105,
     "metadata": {},
     "output_type": "execute_result"
    }
   ],
   "source": [
    "linear_reference_gdf.crs"
   ]
  },
  {
   "cell_type": "code",
   "execution_count": 106,
   "id": "34abcaca",
   "metadata": {},
   "outputs": [
    {
     "name": "stderr",
     "output_type": "stream",
     "text": [
      "c:\\Users\\u0119822\\.conda\\envs\\gopeg\\lib\\site-packages\\geopandas\\io\\file.py:362: FutureWarning: pandas.Int64Index is deprecated and will be removed from pandas in a future version. Use pandas.Index with the appropriate dtype instead.\n",
      "  pd.Int64Index,\n",
      "C:\\Users\\u0119822\\AppData\\Local\\Temp\\ipykernel_23032\\188192920.py:1: UserWarning: Column names longer than 10 characters will be truncated when saved to ESRI Shapefile.\n",
      "  linear_reference_gdf.to_file(r\"C:\\Workdir\\Develop\\TR_USECASE\\data_transform\\vl_polygon_loc3.shp\")\n"
     ]
    },
    {
     "ename": "",
     "evalue": "",
     "output_type": "error",
     "traceback": [
      "\u001b[1;31mThe Kernel crashed while executing code in the the current cell or a previous cell. Please review the code in the cell(s) to identify a possible cause of the failure. Click <a href='https://aka.ms/vscodeJupyterKernelCrash'>here</a> for more info. View Jupyter <a href='command:jupyter.viewOutput'>log</a> for further details."
     ]
    }
   ],
   "source": [
    "linear_reference_gdf.to_file(r\"C:\\Workdir\\Develop\\TR_USECASE\\data_transform\\vl_polygon_loc3.shp\")"
   ]
  },
  {
   "cell_type": "code",
   "execution_count": 99,
   "id": "e68fa7f4",
   "metadata": {},
   "outputs": [],
   "source": [
    "# linear_reference_gdf2.to_file(r\"C:\\Workdir\\Develop\\TR_USECASE\\data_transform\\vl_polygon_loc2.shp\")"
   ]
  }
 ],
 "metadata": {
  "kernelspec": {
   "display_name": "Python 3 (ipykernel)",
   "language": "python",
   "name": "python3"
  },
  "language_info": {
   "codemirror_mode": {
    "name": "ipython",
    "version": 3
   },
   "file_extension": ".py",
   "mimetype": "text/x-python",
   "name": "python",
   "nbconvert_exporter": "python",
   "pygments_lexer": "ipython3",
   "version": "3.8.13"
  },
  "vscode": {
   "interpreter": {
    "hash": "07cfc20f86b5324f2cf4cab54f3d8afd23691d2e48a06ce4244ed8c5c7ddfd6c"
   }
  }
 },
 "nbformat": 4,
 "nbformat_minor": 5
}
