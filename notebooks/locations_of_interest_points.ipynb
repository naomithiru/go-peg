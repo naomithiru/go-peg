{
 "cells": [
  {
   "cell_type": "markdown",
   "id": "73262737-8550-465e-801f-e9cb56919737",
   "metadata": {},
   "source": [
    "# Point Locations of Interest"
   ]
  },
  {
   "cell_type": "markdown",
   "id": "30f355df-a87c-4100-9799-9210881194dc",
   "metadata": {},
   "source": [
    "Locations of interest refer to any phonomenon occuring along the networks that have the potential to affect or be affected by pollution.\n",
    "\n",
    "The locations of interest have surface geometry, either point or polygon.\n",
    "\n",
    "This notebook develops the methodology for point locations of interest."
   ]
  },
  {
   "cell_type": "code",
   "execution_count": 73,
   "id": "4f7164a3",
   "metadata": {},
   "outputs": [
    {
     "name": "stdout",
     "output_type": "stream",
     "text": [
      "c:\\Workdir\\Develop\n"
     ]
    }
   ],
   "source": [
    "import os\n",
    "import sys\n",
    "path = os.path.dirname(os.path.abspath(''))\n",
    "os.chdir(path)\n",
    "print(path)"
   ]
  },
  {
   "cell_type": "code",
   "execution_count": 74,
   "id": "79f8b7cb-06cd-4f7c-ac2f-99782ccd5a69",
   "metadata": {},
   "outputs": [],
   "source": [
    "import geopandas as gpd\n",
    "import pandas as pd\n",
    "\n",
    "from shapely.geometry import Point, LineString, MultiLineString, MultiPoint\n",
    "from shapely import wkt\n",
    "from shapely.ops import nearest_points\n",
    "import shapely.wkt\n",
    "\n",
    "import numpy as np \n",
    "\n",
    "import warnings\n",
    "from shapely.errors import ShapelyDeprecationWarning\n",
    "warnings.filterwarnings(\"ignore\", category=ShapelyDeprecationWarning) \n",
    "\n",
    "pd.options.mode.chained_assignment = None  # default='warn'\n",
    "\n",
    "from src.config import config"
   ]
  },
  {
   "cell_type": "code",
   "execution_count": 75,
   "id": "03b61662",
   "metadata": {},
   "outputs": [],
   "source": [
    "PROJ_CRS = 'EPSG:31370'"
   ]
  },
  {
   "cell_type": "code",
   "execution_count": 76,
   "id": "ced51f38-808c-4d9d-ba7c-0fc6693d932c",
   "metadata": {},
   "outputs": [],
   "source": [
    "def load_data(path, crs=PROJ_CRS):\n",
    "    \"\"\"\n",
    "    Loads the data from the given path, \n",
    "    and prints the shape and crs of the data.\n",
    "    \"\"\"\n",
    "    data = gpd.read_file(path)\n",
    "    print(data.shape)\n",
    "    #print(\"Original crs:\", data.crs)\n",
    "    data = data.to_crs(crs)\n",
    "    print(\"Project crs:\", data.crs)\n",
    "    return data"
   ]
  },
  {
   "cell_type": "code",
   "execution_count": 77,
   "id": "5bce23fe",
   "metadata": {},
   "outputs": [
    {
     "data": {
      "text/plain": [
       "WindowsPath('c:/Workdir/Develop/repository/go-peg/data/data_preprocess')"
      ]
     },
     "execution_count": 77,
     "metadata": {},
     "output_type": "execute_result"
    }
   ],
   "source": [
    "config.data_src"
   ]
  },
  {
   "cell_type": "code",
   "execution_count": 78,
   "id": "6421b985-dc80-46a4-ac41-eafd071450fb",
   "metadata": {},
   "outputs": [
    {
     "name": "stdout",
     "output_type": "stream",
     "text": [
      "(1962, 9)\n",
      "Project crs: EPSG:31370\n"
     ]
    }
   ],
   "source": [
    "PATH = config.data_src / \"flanders_locations/Production and industrial facilities/ProductionInstallation_points.shp\"\n",
    "\n",
    "prod_installations = load_data(PATH)"
   ]
  },
  {
   "cell_type": "code",
   "execution_count": 79,
   "id": "764f255d",
   "metadata": {},
   "outputs": [
    {
     "name": "stdout",
     "output_type": "stream",
     "text": [
      "(72163, 22)\n",
      "Project crs: epsg:31370\n"
     ]
    }
   ],
   "source": [
    "PATH = config.data_dest / \"vl_water_PROCESSED.shp\"\n",
    "water = load_data(PATH)"
   ]
  },
  {
   "cell_type": "code",
   "execution_count": 80,
   "id": "3d80a5c6",
   "metadata": {},
   "outputs": [
    {
     "data": {
      "text/plain": [
       "72163"
      ]
     },
     "execution_count": 80,
     "metadata": {},
     "output_type": "execute_result"
    }
   ],
   "source": [
    "water.geometry.nunique()"
   ]
  },
  {
   "cell_type": "code",
   "execution_count": 81,
   "id": "0a78cca8",
   "metadata": {},
   "outputs": [
    {
     "data": {
      "text/html": [
       "<div>\n",
       "<style scoped>\n",
       "    .dataframe tbody tr th:only-of-type {\n",
       "        vertical-align: middle;\n",
       "    }\n",
       "\n",
       "    .dataframe tbody tr th {\n",
       "        vertical-align: top;\n",
       "    }\n",
       "\n",
       "    .dataframe thead th {\n",
       "        text-align: right;\n",
       "    }\n",
       "</style>\n",
       "<table border=\"1\" class=\"dataframe\">\n",
       "  <thead>\n",
       "    <tr style=\"text-align: right;\">\n",
       "      <th></th>\n",
       "      <th>gml_id</th>\n",
       "      <th>identifier</th>\n",
       "      <th>name</th>\n",
       "      <th>localId</th>\n",
       "      <th>namespace</th>\n",
       "      <th>status</th>\n",
       "      <th>type</th>\n",
       "      <th>dist</th>\n",
       "      <th>geometry</th>\n",
       "    </tr>\n",
       "  </thead>\n",
       "  <tbody>\n",
       "    <tr>\n",
       "      <th>0</th>\n",
       "      <td>None</td>\n",
       "      <td>https://data.gpbv.omgeving.vlaanderen.be/id/pr...</td>\n",
       "      <td>Van Looveren Leo</td>\n",
       "      <td>BE.VL.000000416.INSTALLATION</td>\n",
       "      <td>https://data.gpbv.omgeving.vlaanderen.be/id/pr...</td>\n",
       "      <td>None</td>\n",
       "      <td>None</td>\n",
       "      <td>None</td>\n",
       "      <td>POINT (174053.026 229391.163)</td>\n",
       "    </tr>\n",
       "    <tr>\n",
       "      <th>1</th>\n",
       "      <td>None</td>\n",
       "      <td>https://data.gpbv.omgeving.vlaanderen.be/id/pr...</td>\n",
       "      <td>Kela</td>\n",
       "      <td>BE.VL.000000132.INSTALLATION</td>\n",
       "      <td>https://data.gpbv.omgeving.vlaanderen.be/id/pr...</td>\n",
       "      <td>None</td>\n",
       "      <td>None</td>\n",
       "      <td>None</td>\n",
       "      <td>POINT (175372.287 230904.830)</td>\n",
       "    </tr>\n",
       "  </tbody>\n",
       "</table>\n",
       "</div>"
      ],
      "text/plain": [
       "  gml_id                                         identifier              name  \\\n",
       "0   None  https://data.gpbv.omgeving.vlaanderen.be/id/pr...  Van Looveren Leo   \n",
       "1   None  https://data.gpbv.omgeving.vlaanderen.be/id/pr...              Kela   \n",
       "\n",
       "                        localId  \\\n",
       "0  BE.VL.000000416.INSTALLATION   \n",
       "1  BE.VL.000000132.INSTALLATION   \n",
       "\n",
       "                                           namespace status  type  dist  \\\n",
       "0  https://data.gpbv.omgeving.vlaanderen.be/id/pr...   None  None  None   \n",
       "1  https://data.gpbv.omgeving.vlaanderen.be/id/pr...   None  None  None   \n",
       "\n",
       "                        geometry  \n",
       "0  POINT (174053.026 229391.163)  \n",
       "1  POINT (175372.287 230904.830)  "
      ]
     },
     "execution_count": 81,
     "metadata": {},
     "output_type": "execute_result"
    }
   ],
   "source": [
    "prod_installations.head(2)"
   ]
  },
  {
   "cell_type": "code",
   "execution_count": 82,
   "id": "5e7a647c",
   "metadata": {},
   "outputs": [
    {
     "data": {
      "text/html": [
       "<div>\n",
       "<style scoped>\n",
       "    .dataframe tbody tr th:only-of-type {\n",
       "        vertical-align: middle;\n",
       "    }\n",
       "\n",
       "    .dataframe tbody tr th {\n",
       "        vertical-align: top;\n",
       "    }\n",
       "\n",
       "    .dataframe thead th {\n",
       "        text-align: right;\n",
       "    }\n",
       "</style>\n",
       "<table border=\"1\" class=\"dataframe\">\n",
       "  <thead>\n",
       "    <tr style=\"text-align: right;\">\n",
       "      <th></th>\n",
       "      <th>gml_id</th>\n",
       "      <th>identifier</th>\n",
       "      <th>name</th>\n",
       "      <th>localId</th>\n",
       "      <th>namespace</th>\n",
       "      <th>geometry</th>\n",
       "    </tr>\n",
       "  </thead>\n",
       "  <tbody>\n",
       "    <tr>\n",
       "      <th>0</th>\n",
       "      <td>None</td>\n",
       "      <td>https://data.gpbv.omgeving.vlaanderen.be/id/pr...</td>\n",
       "      <td>Van Looveren Leo</td>\n",
       "      <td>BE.VL.000000416.INSTALLATION</td>\n",
       "      <td>https://data.gpbv.omgeving.vlaanderen.be/id/pr...</td>\n",
       "      <td>POINT (174053.026 229391.163)</td>\n",
       "    </tr>\n",
       "    <tr>\n",
       "      <th>1</th>\n",
       "      <td>None</td>\n",
       "      <td>https://data.gpbv.omgeving.vlaanderen.be/id/pr...</td>\n",
       "      <td>Kela</td>\n",
       "      <td>BE.VL.000000132.INSTALLATION</td>\n",
       "      <td>https://data.gpbv.omgeving.vlaanderen.be/id/pr...</td>\n",
       "      <td>POINT (175372.287 230904.830)</td>\n",
       "    </tr>\n",
       "  </tbody>\n",
       "</table>\n",
       "</div>"
      ],
      "text/plain": [
       "  gml_id                                         identifier              name  \\\n",
       "0   None  https://data.gpbv.omgeving.vlaanderen.be/id/pr...  Van Looveren Leo   \n",
       "1   None  https://data.gpbv.omgeving.vlaanderen.be/id/pr...              Kela   \n",
       "\n",
       "                        localId  \\\n",
       "0  BE.VL.000000416.INSTALLATION   \n",
       "1  BE.VL.000000132.INSTALLATION   \n",
       "\n",
       "                                           namespace  \\\n",
       "0  https://data.gpbv.omgeving.vlaanderen.be/id/pr...   \n",
       "1  https://data.gpbv.omgeving.vlaanderen.be/id/pr...   \n",
       "\n",
       "                        geometry  \n",
       "0  POINT (174053.026 229391.163)  \n",
       "1  POINT (175372.287 230904.830)  "
      ]
     },
     "execution_count": 82,
     "metadata": {},
     "output_type": "execute_result"
    }
   ],
   "source": [
    "prod_points = prod_installations.drop(['status', 'type', 'dist'], axis=1)\n",
    "prod_points.head(2)"
   ]
  },
  {
   "cell_type": "markdown",
   "id": "93dbb02b-2524-467b-96a6-cfd833aeabf3",
   "metadata": {},
   "source": [
    "## Working with point locations of interest\n",
    "\n",
    "For working with point locations of interests, we will project a point to the nearest water geometry, applying a threshold distance to exclude points that are too far away from the nearest water geometry."
   ]
  },
  {
   "cell_type": "markdown",
   "id": "41249a4b-c910-4354-beff-27bd273d43b7",
   "metadata": {},
   "source": [
    "**Load water data to perform the intersection and identify the points of intersection between water and locations of iterest**"
   ]
  },
  {
   "cell_type": "code",
   "execution_count": 83,
   "id": "6ff13c37",
   "metadata": {},
   "outputs": [],
   "source": [
    "#Check for multiline strings in a dataset\n",
    "def check_multiline(df):\n",
    "    \"\"\"This function checks for multiline strings\n",
    "        from the geometry column in a given dataset\"\"\"\n",
    "    lst = df['geometry'].to_list()\n",
    "    multiline_count = 0\n",
    "    for item in lst:\n",
    "        if isinstance(item, MultiLineString):\n",
    "            multiline_count += 1\n",
    "    print(\"MultiLinesStrings:\" , multiline_count)"
   ]
  },
  {
   "cell_type": "code",
   "execution_count": 84,
   "id": "cf65f22b",
   "metadata": {},
   "outputs": [
    {
     "name": "stdout",
     "output_type": "stream",
     "text": [
      "MultiLinesStrings: 0\n"
     ]
    }
   ],
   "source": [
    "check_multiline(water)"
   ]
  },
  {
   "cell_type": "code",
   "execution_count": 85,
   "id": "e8f5e214",
   "metadata": {},
   "outputs": [
    {
     "data": {
      "text/plain": [
       "<Derived Projected CRS: EPSG:31370>\n",
       "Name: BD72 / Belgian Lambert 72\n",
       "Axis Info [cartesian]:\n",
       "- X[east]: Easting (metre)\n",
       "- Y[north]: Northing (metre)\n",
       "Area of Use:\n",
       "- name: Belgium - onshore.\n",
       "- bounds: (2.5, 49.5, 6.4, 51.51)\n",
       "Coordinate Operation:\n",
       "- name: Belgian Lambert 72\n",
       "- method: Lambert Conic Conformal (2SP)\n",
       "Datum: Reseau National Belge 1972\n",
       "- Ellipsoid: International 1924\n",
       "- Prime Meridian: Greenwich"
      ]
     },
     "execution_count": 85,
     "metadata": {},
     "output_type": "execute_result"
    }
   ],
   "source": [
    "water_df = water[['VHAS', 'NAAM', 'start_ID', 'end_ID', 'geometry']]\n",
    "water_df.crs"
   ]
  },
  {
   "cell_type": "code",
   "execution_count": 86,
   "id": "6f455654",
   "metadata": {},
   "outputs": [
    {
     "data": {
      "text/plain": [
       "True"
      ]
     },
     "execution_count": 86,
     "metadata": {},
     "output_type": "execute_result"
    }
   ],
   "source": [
    "water_multiline = water_df[water_df['geometry'].apply(lambda x: isinstance(x, MultiLineString))]\n",
    "water_linestrings = water_df[water_df.geom_type == 'LineString']\n",
    "\n",
    "water_linestrings.equals(water_df)"
   ]
  },
  {
   "cell_type": "code",
   "execution_count": 87,
   "id": "ae7dc2ad",
   "metadata": {},
   "outputs": [],
   "source": [
    "assert water_df.shape[0] == water_df.geometry.nunique()"
   ]
  },
  {
   "cell_type": "code",
   "execution_count": 88,
   "id": "2fd42f40",
   "metadata": {},
   "outputs": [],
   "source": [
    "gdf_p = prod_points.copy()\n",
    "gdf_l = water_df.copy()\n",
    "\n",
    "\n",
    "df_n = (gpd.sjoin_nearest(gdf_p, gdf_l)\n",
    "            .merge(gdf_l['geometry'], left_on=\"index_right\", right_index=True)\n",
    "            .drop(columns=['index_right'])\n",
    "            .rename(columns={'index_left': 'ID'})\n",
    "            .reset_index(drop=True)\n",
    "            ) #merge operation adds the geometry column\n",
    "            \n",
    "#get distance of location of interest from water. With this distance we can filter out locations by distance from water\n",
    "df_n[\"distance\"] = df_n.apply(lambda r: r[\"geometry_x\"].distance(r[\"geometry_y\"]), axis=1)\n",
    "\n",
    "assert df_n['geometry_x'].isnull().values.any() == False\n",
    "assert df_n['geometry_y'].isnull().values.any() == False"
   ]
  },
  {
   "cell_type": "code",
   "execution_count": 89,
   "id": "9b75b48f",
   "metadata": {},
   "outputs": [
    {
     "data": {
      "text/html": [
       "<div>\n",
       "<style scoped>\n",
       "    .dataframe tbody tr th:only-of-type {\n",
       "        vertical-align: middle;\n",
       "    }\n",
       "\n",
       "    .dataframe tbody tr th {\n",
       "        vertical-align: top;\n",
       "    }\n",
       "\n",
       "    .dataframe thead th {\n",
       "        text-align: right;\n",
       "    }\n",
       "</style>\n",
       "<table border=\"1\" class=\"dataframe\">\n",
       "  <thead>\n",
       "    <tr style=\"text-align: right;\">\n",
       "      <th></th>\n",
       "      <th>gml_id</th>\n",
       "      <th>identifier</th>\n",
       "      <th>name</th>\n",
       "      <th>localId</th>\n",
       "      <th>namespace</th>\n",
       "      <th>geometry_x</th>\n",
       "      <th>VHAS</th>\n",
       "      <th>NAAM</th>\n",
       "      <th>start_ID</th>\n",
       "      <th>end_ID</th>\n",
       "      <th>geometry_y</th>\n",
       "      <th>distance</th>\n",
       "    </tr>\n",
       "  </thead>\n",
       "  <tbody>\n",
       "    <tr>\n",
       "      <th>0</th>\n",
       "      <td>None</td>\n",
       "      <td>https://data.gpbv.omgeving.vlaanderen.be/id/pr...</td>\n",
       "      <td>Van Looveren Leo</td>\n",
       "      <td>BE.VL.000000416.INSTALLATION</td>\n",
       "      <td>https://data.gpbv.omgeving.vlaanderen.be/id/pr...</td>\n",
       "      <td>POINT (174053.026 229391.163)</td>\n",
       "      <td>7007018_2</td>\n",
       "      <td>Laboureurloop</td>\n",
       "      <td>VL_HN61664</td>\n",
       "      <td>VL_HN6847</td>\n",
       "      <td>LINESTRING (174218.478 229321.030, 174211.910 ...</td>\n",
       "      <td>134.766839</td>\n",
       "    </tr>\n",
       "    <tr>\n",
       "      <th>1</th>\n",
       "      <td>None</td>\n",
       "      <td>https://data.gpbv.omgeving.vlaanderen.be/id/pr...</td>\n",
       "      <td>Kela</td>\n",
       "      <td>BE.VL.000000132.INSTALLATION</td>\n",
       "      <td>https://data.gpbv.omgeving.vlaanderen.be/id/pr...</td>\n",
       "      <td>POINT (175372.287 230904.830)</td>\n",
       "      <td>6801187</td>\n",
       "      <td>Raamloop</td>\n",
       "      <td>VL_HN368</td>\n",
       "      <td>VL_HN51695</td>\n",
       "      <td>LINESTRING (175886.862 230719.803, 175878.810 ...</td>\n",
       "      <td>438.889939</td>\n",
       "    </tr>\n",
       "    <tr>\n",
       "      <th>2</th>\n",
       "      <td>None</td>\n",
       "      <td>https://data.gpbv.omgeving.vlaanderen.be/id/pr...</td>\n",
       "      <td>Swaegers Slachthuis</td>\n",
       "      <td>BE.VL.000000186.INSTALLATION</td>\n",
       "      <td>https://data.gpbv.omgeving.vlaanderen.be/id/pr...</td>\n",
       "      <td>POINT (176099.703 231237.668)</td>\n",
       "      <td>6801187</td>\n",
       "      <td>Raamloop</td>\n",
       "      <td>VL_HN368</td>\n",
       "      <td>VL_HN51695</td>\n",
       "      <td>LINESTRING (175886.862 230719.803, 175878.810 ...</td>\n",
       "      <td>114.222335</td>\n",
       "    </tr>\n",
       "    <tr>\n",
       "      <th>3</th>\n",
       "      <td>None</td>\n",
       "      <td>https://data.gpbv.omgeving.vlaanderen.be/id/pr...</td>\n",
       "      <td>BASF Antwerpen_Tensiden</td>\n",
       "      <td>BE.VL.000000039.INSTALLATION</td>\n",
       "      <td>https://data.gpbv.omgeving.vlaanderen.be/id/pr...</td>\n",
       "      <td>POINT (143177.597 228171.405)</td>\n",
       "      <td>6033868</td>\n",
       "      <td>Insteekdok 4</td>\n",
       "      <td>VL_HN51863</td>\n",
       "      <td>VL_HN51864</td>\n",
       "      <td>LINESTRING (143795.000 227895.000, 144421.139 ...</td>\n",
       "      <td>676.451185</td>\n",
       "    </tr>\n",
       "    <tr>\n",
       "      <th>4</th>\n",
       "      <td>None</td>\n",
       "      <td>https://data.gpbv.omgeving.vlaanderen.be/id/pr...</td>\n",
       "      <td>BASF Antwerpen_Polyetherolen</td>\n",
       "      <td>BE.VL.000000038.INSTALLATION</td>\n",
       "      <td>https://data.gpbv.omgeving.vlaanderen.be/id/pr...</td>\n",
       "      <td>POINT (143368.840 228354.153)</td>\n",
       "      <td>6033868</td>\n",
       "      <td>Insteekdok 4</td>\n",
       "      <td>VL_HN51863</td>\n",
       "      <td>VL_HN51864</td>\n",
       "      <td>LINESTRING (143795.000 227895.000, 144421.139 ...</td>\n",
       "      <td>626.445034</td>\n",
       "    </tr>\n",
       "    <tr>\n",
       "      <th>...</th>\n",
       "      <td>...</td>\n",
       "      <td>...</td>\n",
       "      <td>...</td>\n",
       "      <td>...</td>\n",
       "      <td>...</td>\n",
       "      <td>...</td>\n",
       "      <td>...</td>\n",
       "      <td>...</td>\n",
       "      <td>...</td>\n",
       "      <td>...</td>\n",
       "      <td>...</td>\n",
       "      <td>...</td>\n",
       "    </tr>\n",
       "    <tr>\n",
       "      <th>1983</th>\n",
       "      <td>None</td>\n",
       "      <td>https://data.gpbv.omgeving.vlaanderen.be/id/pr...</td>\n",
       "      <td>DEBAEKE VOEDERS</td>\n",
       "      <td>BE.VL.000002200.INSTALLATION</td>\n",
       "      <td>https://data.gpbv.omgeving.vlaanderen.be/id/pr...</td>\n",
       "      <td>POINT (36938.689 179169.448)</td>\n",
       "      <td>6016051_1</td>\n",
       "      <td>Kannunikbeek</td>\n",
       "      <td>VL_HN15931</td>\n",
       "      <td>VL_HN67732</td>\n",
       "      <td>LINESTRING (36581.648 179304.726, 36585.088 17...</td>\n",
       "      <td>381.808977</td>\n",
       "    </tr>\n",
       "    <tr>\n",
       "      <th>1984</th>\n",
       "      <td>None</td>\n",
       "      <td>https://data.gpbv.omgeving.vlaanderen.be/id/pr...</td>\n",
       "      <td>Slachthuis Heyst</td>\n",
       "      <td>BE.VL.000002203.INSTALLATION</td>\n",
       "      <td>https://data.gpbv.omgeving.vlaanderen.be/id/pr...</td>\n",
       "      <td>POINT (173287.100 195545.714)</td>\n",
       "      <td>7027637</td>\n",
       "      <td>None</td>\n",
       "      <td>VL_HN30494</td>\n",
       "      <td>VL_HN46086</td>\n",
       "      <td>LINESTRING (173256.937 195463.724, 173286.200 ...</td>\n",
       "      <td>63.849691</td>\n",
       "    </tr>\n",
       "    <tr>\n",
       "      <th>1985</th>\n",
       "      <td>None</td>\n",
       "      <td>https://data.gpbv.omgeving.vlaanderen.be/id/pr...</td>\n",
       "      <td>Hoornaert Kristof Zwevegem</td>\n",
       "      <td>BE.VL.000002204.INSTALLATION</td>\n",
       "      <td>https://data.gpbv.omgeving.vlaanderen.be/id/pr...</td>\n",
       "      <td>POINT (81531.960 166875.680)</td>\n",
       "      <td>6012250</td>\n",
       "      <td>Kleine Kasselrijbeek</td>\n",
       "      <td>VL_HN24786</td>\n",
       "      <td>VL_HN56955</td>\n",
       "      <td>LINESTRING (81006.285 166563.352, 81022.221 16...</td>\n",
       "      <td>29.992997</td>\n",
       "    </tr>\n",
       "    <tr>\n",
       "      <th>1986</th>\n",
       "      <td>None</td>\n",
       "      <td>https://data.gpbv.omgeving.vlaanderen.be/id/pr...</td>\n",
       "      <td>Nutrifert</td>\n",
       "      <td>BE.VL.000002207.INSTALLATION</td>\n",
       "      <td>https://data.gpbv.omgeving.vlaanderen.be/id/pr...</td>\n",
       "      <td>POINT (174447.586 236204.920)</td>\n",
       "      <td>6027825</td>\n",
       "      <td>Muntloop</td>\n",
       "      <td>VL_HN57677</td>\n",
       "      <td>VL_HN34687</td>\n",
       "      <td>LINESTRING (174270.755 235965.519, 174275.724 ...</td>\n",
       "      <td>114.964652</td>\n",
       "    </tr>\n",
       "    <tr>\n",
       "      <th>1987</th>\n",
       "      <td>None</td>\n",
       "      <td>https://data.gpbv.omgeving.vlaanderen.be/id/pr...</td>\n",
       "      <td>Rousselot Gent</td>\n",
       "      <td>BE.VL.000002208.INSTALLATION</td>\n",
       "      <td>https://data.gpbv.omgeving.vlaanderen.be/id/pr...</td>\n",
       "      <td>POINT (105264.269 197988.288)</td>\n",
       "      <td>6033777_1</td>\n",
       "      <td>Kanaal Gent - Terneuzen</td>\n",
       "      <td>VL_HN51293</td>\n",
       "      <td>VL_HN63151</td>\n",
       "      <td>LINESTRING (105019.785 197694.569, 105046.005 ...</td>\n",
       "      <td>111.475388</td>\n",
       "    </tr>\n",
       "  </tbody>\n",
       "</table>\n",
       "<p>1988 rows × 12 columns</p>\n",
       "</div>"
      ],
      "text/plain": [
       "     gml_id                                         identifier  \\\n",
       "0      None  https://data.gpbv.omgeving.vlaanderen.be/id/pr...   \n",
       "1      None  https://data.gpbv.omgeving.vlaanderen.be/id/pr...   \n",
       "2      None  https://data.gpbv.omgeving.vlaanderen.be/id/pr...   \n",
       "3      None  https://data.gpbv.omgeving.vlaanderen.be/id/pr...   \n",
       "4      None  https://data.gpbv.omgeving.vlaanderen.be/id/pr...   \n",
       "...     ...                                                ...   \n",
       "1983   None  https://data.gpbv.omgeving.vlaanderen.be/id/pr...   \n",
       "1984   None  https://data.gpbv.omgeving.vlaanderen.be/id/pr...   \n",
       "1985   None  https://data.gpbv.omgeving.vlaanderen.be/id/pr...   \n",
       "1986   None  https://data.gpbv.omgeving.vlaanderen.be/id/pr...   \n",
       "1987   None  https://data.gpbv.omgeving.vlaanderen.be/id/pr...   \n",
       "\n",
       "                              name                       localId  \\\n",
       "0                 Van Looveren Leo  BE.VL.000000416.INSTALLATION   \n",
       "1                             Kela  BE.VL.000000132.INSTALLATION   \n",
       "2              Swaegers Slachthuis  BE.VL.000000186.INSTALLATION   \n",
       "3          BASF Antwerpen_Tensiden  BE.VL.000000039.INSTALLATION   \n",
       "4     BASF Antwerpen_Polyetherolen  BE.VL.000000038.INSTALLATION   \n",
       "...                            ...                           ...   \n",
       "1983               DEBAEKE VOEDERS  BE.VL.000002200.INSTALLATION   \n",
       "1984              Slachthuis Heyst  BE.VL.000002203.INSTALLATION   \n",
       "1985    Hoornaert Kristof Zwevegem  BE.VL.000002204.INSTALLATION   \n",
       "1986                     Nutrifert  BE.VL.000002207.INSTALLATION   \n",
       "1987                Rousselot Gent  BE.VL.000002208.INSTALLATION   \n",
       "\n",
       "                                              namespace  \\\n",
       "0     https://data.gpbv.omgeving.vlaanderen.be/id/pr...   \n",
       "1     https://data.gpbv.omgeving.vlaanderen.be/id/pr...   \n",
       "2     https://data.gpbv.omgeving.vlaanderen.be/id/pr...   \n",
       "3     https://data.gpbv.omgeving.vlaanderen.be/id/pr...   \n",
       "4     https://data.gpbv.omgeving.vlaanderen.be/id/pr...   \n",
       "...                                                 ...   \n",
       "1983  https://data.gpbv.omgeving.vlaanderen.be/id/pr...   \n",
       "1984  https://data.gpbv.omgeving.vlaanderen.be/id/pr...   \n",
       "1985  https://data.gpbv.omgeving.vlaanderen.be/id/pr...   \n",
       "1986  https://data.gpbv.omgeving.vlaanderen.be/id/pr...   \n",
       "1987  https://data.gpbv.omgeving.vlaanderen.be/id/pr...   \n",
       "\n",
       "                         geometry_x       VHAS                     NAAM  \\\n",
       "0     POINT (174053.026 229391.163)  7007018_2            Laboureurloop   \n",
       "1     POINT (175372.287 230904.830)    6801187                 Raamloop   \n",
       "2     POINT (176099.703 231237.668)    6801187                 Raamloop   \n",
       "3     POINT (143177.597 228171.405)    6033868             Insteekdok 4   \n",
       "4     POINT (143368.840 228354.153)    6033868             Insteekdok 4   \n",
       "...                             ...        ...                      ...   \n",
       "1983   POINT (36938.689 179169.448)  6016051_1             Kannunikbeek   \n",
       "1984  POINT (173287.100 195545.714)    7027637                     None   \n",
       "1985   POINT (81531.960 166875.680)    6012250     Kleine Kasselrijbeek   \n",
       "1986  POINT (174447.586 236204.920)    6027825                 Muntloop   \n",
       "1987  POINT (105264.269 197988.288)  6033777_1  Kanaal Gent - Terneuzen   \n",
       "\n",
       "        start_ID      end_ID  \\\n",
       "0     VL_HN61664   VL_HN6847   \n",
       "1       VL_HN368  VL_HN51695   \n",
       "2       VL_HN368  VL_HN51695   \n",
       "3     VL_HN51863  VL_HN51864   \n",
       "4     VL_HN51863  VL_HN51864   \n",
       "...          ...         ...   \n",
       "1983  VL_HN15931  VL_HN67732   \n",
       "1984  VL_HN30494  VL_HN46086   \n",
       "1985  VL_HN24786  VL_HN56955   \n",
       "1986  VL_HN57677  VL_HN34687   \n",
       "1987  VL_HN51293  VL_HN63151   \n",
       "\n",
       "                                             geometry_y    distance  \n",
       "0     LINESTRING (174218.478 229321.030, 174211.910 ...  134.766839  \n",
       "1     LINESTRING (175886.862 230719.803, 175878.810 ...  438.889939  \n",
       "2     LINESTRING (175886.862 230719.803, 175878.810 ...  114.222335  \n",
       "3     LINESTRING (143795.000 227895.000, 144421.139 ...  676.451185  \n",
       "4     LINESTRING (143795.000 227895.000, 144421.139 ...  626.445034  \n",
       "...                                                 ...         ...  \n",
       "1983  LINESTRING (36581.648 179304.726, 36585.088 17...  381.808977  \n",
       "1984  LINESTRING (173256.937 195463.724, 173286.200 ...   63.849691  \n",
       "1985  LINESTRING (81006.285 166563.352, 81022.221 16...   29.992997  \n",
       "1986  LINESTRING (174270.755 235965.519, 174275.724 ...  114.964652  \n",
       "1987  LINESTRING (105019.785 197694.569, 105046.005 ...  111.475388  \n",
       "\n",
       "[1988 rows x 12 columns]"
      ]
     },
     "execution_count": 89,
     "metadata": {},
     "output_type": "execute_result"
    }
   ],
   "source": [
    "df_n"
   ]
  },
  {
   "cell_type": "code",
   "execution_count": 90,
   "id": "1a800715",
   "metadata": {},
   "outputs": [],
   "source": [
    "# revisit and figure out why there are duplicates in the dataframe\n",
    "df_n = df_n.drop_duplicates(subset=['geometry_x'])"
   ]
  },
  {
   "cell_type": "code",
   "execution_count": 91,
   "id": "dd4253d4",
   "metadata": {},
   "outputs": [
    {
     "data": {
      "text/plain": [
       "(1962, 12)"
      ]
     },
     "execution_count": 91,
     "metadata": {},
     "output_type": "execute_result"
    }
   ],
   "source": [
    "df_n.shape"
   ]
  },
  {
   "cell_type": "code",
   "execution_count": 92,
   "id": "d0cc5d68",
   "metadata": {},
   "outputs": [
    {
     "data": {
      "text/html": [
       "<div>\n",
       "<style scoped>\n",
       "    .dataframe tbody tr th:only-of-type {\n",
       "        vertical-align: middle;\n",
       "    }\n",
       "\n",
       "    .dataframe tbody tr th {\n",
       "        vertical-align: top;\n",
       "    }\n",
       "\n",
       "    .dataframe thead th {\n",
       "        text-align: right;\n",
       "    }\n",
       "</style>\n",
       "<table border=\"1\" class=\"dataframe\">\n",
       "  <thead>\n",
       "    <tr style=\"text-align: right;\">\n",
       "      <th></th>\n",
       "      <th>gml_id</th>\n",
       "      <th>identifier</th>\n",
       "      <th>name</th>\n",
       "      <th>localId</th>\n",
       "      <th>namespace</th>\n",
       "      <th>geometry_x</th>\n",
       "      <th>VHAS</th>\n",
       "      <th>NAAM</th>\n",
       "      <th>start_ID</th>\n",
       "      <th>end_ID</th>\n",
       "      <th>geometry_y</th>\n",
       "      <th>distance</th>\n",
       "    </tr>\n",
       "  </thead>\n",
       "  <tbody>\n",
       "    <tr>\n",
       "      <th>0</th>\n",
       "      <td>None</td>\n",
       "      <td>https://data.gpbv.omgeving.vlaanderen.be/id/pr...</td>\n",
       "      <td>Van Looveren Leo</td>\n",
       "      <td>BE.VL.000000416.INSTALLATION</td>\n",
       "      <td>https://data.gpbv.omgeving.vlaanderen.be/id/pr...</td>\n",
       "      <td>POINT (174053.026 229391.163)</td>\n",
       "      <td>7007018_2</td>\n",
       "      <td>Laboureurloop</td>\n",
       "      <td>VL_HN61664</td>\n",
       "      <td>VL_HN6847</td>\n",
       "      <td>LINESTRING (174218.478 229321.030, 174211.910 ...</td>\n",
       "      <td>134.766839</td>\n",
       "    </tr>\n",
       "    <tr>\n",
       "      <th>1</th>\n",
       "      <td>None</td>\n",
       "      <td>https://data.gpbv.omgeving.vlaanderen.be/id/pr...</td>\n",
       "      <td>Kela</td>\n",
       "      <td>BE.VL.000000132.INSTALLATION</td>\n",
       "      <td>https://data.gpbv.omgeving.vlaanderen.be/id/pr...</td>\n",
       "      <td>POINT (175372.287 230904.830)</td>\n",
       "      <td>6801187</td>\n",
       "      <td>Raamloop</td>\n",
       "      <td>VL_HN368</td>\n",
       "      <td>VL_HN51695</td>\n",
       "      <td>LINESTRING (175886.862 230719.803, 175878.810 ...</td>\n",
       "      <td>438.889939</td>\n",
       "    </tr>\n",
       "    <tr>\n",
       "      <th>2</th>\n",
       "      <td>None</td>\n",
       "      <td>https://data.gpbv.omgeving.vlaanderen.be/id/pr...</td>\n",
       "      <td>Swaegers Slachthuis</td>\n",
       "      <td>BE.VL.000000186.INSTALLATION</td>\n",
       "      <td>https://data.gpbv.omgeving.vlaanderen.be/id/pr...</td>\n",
       "      <td>POINT (176099.703 231237.668)</td>\n",
       "      <td>6801187</td>\n",
       "      <td>Raamloop</td>\n",
       "      <td>VL_HN368</td>\n",
       "      <td>VL_HN51695</td>\n",
       "      <td>LINESTRING (175886.862 230719.803, 175878.810 ...</td>\n",
       "      <td>114.222335</td>\n",
       "    </tr>\n",
       "  </tbody>\n",
       "</table>\n",
       "</div>"
      ],
      "text/plain": [
       "  gml_id                                         identifier  \\\n",
       "0   None  https://data.gpbv.omgeving.vlaanderen.be/id/pr...   \n",
       "1   None  https://data.gpbv.omgeving.vlaanderen.be/id/pr...   \n",
       "2   None  https://data.gpbv.omgeving.vlaanderen.be/id/pr...   \n",
       "\n",
       "                  name                       localId  \\\n",
       "0     Van Looveren Leo  BE.VL.000000416.INSTALLATION   \n",
       "1                 Kela  BE.VL.000000132.INSTALLATION   \n",
       "2  Swaegers Slachthuis  BE.VL.000000186.INSTALLATION   \n",
       "\n",
       "                                           namespace  \\\n",
       "0  https://data.gpbv.omgeving.vlaanderen.be/id/pr...   \n",
       "1  https://data.gpbv.omgeving.vlaanderen.be/id/pr...   \n",
       "2  https://data.gpbv.omgeving.vlaanderen.be/id/pr...   \n",
       "\n",
       "                      geometry_x       VHAS           NAAM    start_ID  \\\n",
       "0  POINT (174053.026 229391.163)  7007018_2  Laboureurloop  VL_HN61664   \n",
       "1  POINT (175372.287 230904.830)    6801187       Raamloop    VL_HN368   \n",
       "2  POINT (176099.703 231237.668)    6801187       Raamloop    VL_HN368   \n",
       "\n",
       "       end_ID                                         geometry_y    distance  \n",
       "0   VL_HN6847  LINESTRING (174218.478 229321.030, 174211.910 ...  134.766839  \n",
       "1  VL_HN51695  LINESTRING (175886.862 230719.803, 175878.810 ...  438.889939  \n",
       "2  VL_HN51695  LINESTRING (175886.862 230719.803, 175878.810 ...  114.222335  "
      ]
     },
     "execution_count": 92,
     "metadata": {},
     "output_type": "execute_result"
    }
   ],
   "source": [
    "df_n.head(3)"
   ]
  },
  {
   "cell_type": "code",
   "execution_count": 93,
   "id": "4d78c574",
   "metadata": {},
   "outputs": [],
   "source": [
    "#df_n.to_csv(r\"C:\\Workdir\\Develop\\TR_USECASE\\data_transform\\df_n.csv\")"
   ]
  },
  {
   "cell_type": "code",
   "execution_count": 94,
   "id": "1e16561c",
   "metadata": {},
   "outputs": [],
   "source": [
    "def get_nearest_point(df, line_col, point_col):\n",
    "    \"\"\"\n",
    "    For each point in points_df, find the nearest point in lines_df.\n",
    "    This identifies the projected point on the water network, from a location of interest point.\n",
    "    \"\"\"\n",
    "    indexes = []\n",
    "    geoms = []\n",
    "    for idx, row in df.iterrows():\n",
    "        destinations = MultiPoint(row[line_col].coords) #geometry_y\n",
    "        nearest_geoms = nearest_points(row[point_col], destinations) #geometry_x\n",
    "        try:\n",
    "            for coord in destinations:\n",
    "                if coord == nearest_geoms[1]:\n",
    "                    geoms.append(coord)\n",
    "                    indexes.append(idx)\n",
    "                if idx in indexes:\n",
    "                    break\n",
    "                    #geoms.append(coord)\n",
    "                    #indexes.append(idx)\n",
    "        except ValueError:\n",
    "            print(\"No nearest point found for {}\".format(row.CODEKOPPNT))\n",
    "    return geoms\n",
    "    #return zip(indexes, geoms)"
   ]
  },
  {
   "cell_type": "code",
   "execution_count": 95,
   "id": "1a8a06c4",
   "metadata": {},
   "outputs": [],
   "source": [
    "#nearest_pts = get_nearest_point(df_n, 'geometry_y', 'geometry_x')\n",
    "\n",
    "#df = pd.DataFrame(nearest_pts, columns=['geometry'])\n",
    "\n",
    "df_n['loc_nodes'] = get_nearest_point(df_n, 'geometry_y', 'geometry_x')\n",
    "\n",
    "#consider retaining the original point geometry for the linear referenced df.\n",
    "gdf_n = gpd.GeoDataFrame(df_n, geometry='loc_nodes').drop(['geometry_x'], axis=1)"
   ]
  },
  {
   "cell_type": "code",
   "execution_count": 96,
   "id": "23bd41fb",
   "metadata": {},
   "outputs": [
    {
     "data": {
      "text/html": [
       "<div>\n",
       "<style scoped>\n",
       "    .dataframe tbody tr th:only-of-type {\n",
       "        vertical-align: middle;\n",
       "    }\n",
       "\n",
       "    .dataframe tbody tr th {\n",
       "        vertical-align: top;\n",
       "    }\n",
       "\n",
       "    .dataframe thead th {\n",
       "        text-align: right;\n",
       "    }\n",
       "</style>\n",
       "<table border=\"1\" class=\"dataframe\">\n",
       "  <thead>\n",
       "    <tr style=\"text-align: right;\">\n",
       "      <th></th>\n",
       "      <th>gml_id</th>\n",
       "      <th>identifier</th>\n",
       "      <th>name</th>\n",
       "      <th>localId</th>\n",
       "      <th>namespace</th>\n",
       "      <th>VHAS</th>\n",
       "      <th>NAAM</th>\n",
       "      <th>start_ID</th>\n",
       "      <th>end_ID</th>\n",
       "      <th>geometry_y</th>\n",
       "      <th>distance</th>\n",
       "      <th>loc_nodes</th>\n",
       "    </tr>\n",
       "  </thead>\n",
       "  <tbody>\n",
       "    <tr>\n",
       "      <th>0</th>\n",
       "      <td>None</td>\n",
       "      <td>https://data.gpbv.omgeving.vlaanderen.be/id/pr...</td>\n",
       "      <td>Van Looveren Leo</td>\n",
       "      <td>BE.VL.000000416.INSTALLATION</td>\n",
       "      <td>https://data.gpbv.omgeving.vlaanderen.be/id/pr...</td>\n",
       "      <td>7007018_2</td>\n",
       "      <td>Laboureurloop</td>\n",
       "      <td>VL_HN61664</td>\n",
       "      <td>VL_HN6847</td>\n",
       "      <td>LINESTRING (174218.478 229321.030, 174211.910 ...</td>\n",
       "      <td>134.766839</td>\n",
       "      <td>POINT (174186.723 229374.213)</td>\n",
       "    </tr>\n",
       "    <tr>\n",
       "      <th>1</th>\n",
       "      <td>None</td>\n",
       "      <td>https://data.gpbv.omgeving.vlaanderen.be/id/pr...</td>\n",
       "      <td>Kela</td>\n",
       "      <td>BE.VL.000000132.INSTALLATION</td>\n",
       "      <td>https://data.gpbv.omgeving.vlaanderen.be/id/pr...</td>\n",
       "      <td>6801187</td>\n",
       "      <td>Raamloop</td>\n",
       "      <td>VL_HN368</td>\n",
       "      <td>VL_HN51695</td>\n",
       "      <td>LINESTRING (175886.862 230719.803, 175878.810 ...</td>\n",
       "      <td>438.889939</td>\n",
       "      <td>POINT (175811.036 230893.712)</td>\n",
       "    </tr>\n",
       "  </tbody>\n",
       "</table>\n",
       "</div>"
      ],
      "text/plain": [
       "  gml_id                                         identifier              name  \\\n",
       "0   None  https://data.gpbv.omgeving.vlaanderen.be/id/pr...  Van Looveren Leo   \n",
       "1   None  https://data.gpbv.omgeving.vlaanderen.be/id/pr...              Kela   \n",
       "\n",
       "                        localId  \\\n",
       "0  BE.VL.000000416.INSTALLATION   \n",
       "1  BE.VL.000000132.INSTALLATION   \n",
       "\n",
       "                                           namespace       VHAS  \\\n",
       "0  https://data.gpbv.omgeving.vlaanderen.be/id/pr...  7007018_2   \n",
       "1  https://data.gpbv.omgeving.vlaanderen.be/id/pr...    6801187   \n",
       "\n",
       "            NAAM    start_ID      end_ID  \\\n",
       "0  Laboureurloop  VL_HN61664   VL_HN6847   \n",
       "1       Raamloop    VL_HN368  VL_HN51695   \n",
       "\n",
       "                                          geometry_y    distance  \\\n",
       "0  LINESTRING (174218.478 229321.030, 174211.910 ...  134.766839   \n",
       "1  LINESTRING (175886.862 230719.803, 175878.810 ...  438.889939   \n",
       "\n",
       "                       loc_nodes  \n",
       "0  POINT (174186.723 229374.213)  \n",
       "1  POINT (175811.036 230893.712)  "
      ]
     },
     "execution_count": 96,
     "metadata": {},
     "output_type": "execute_result"
    }
   ],
   "source": [
    "gdf_n.head(2)"
   ]
  },
  {
   "cell_type": "code",
   "execution_count": 97,
   "id": "9241e2b7",
   "metadata": {},
   "outputs": [
    {
     "name": "stdout",
     "output_type": "stream",
     "text": [
      "<class 'geopandas.geodataframe.GeoDataFrame'>\n",
      "Int64Index: 1962 entries, 0 to 1987\n",
      "Data columns (total 12 columns):\n",
      " #   Column      Non-Null Count  Dtype   \n",
      "---  ------      --------------  -----   \n",
      " 0   gml_id      0 non-null      object  \n",
      " 1   identifier  1962 non-null   object  \n",
      " 2   name        1962 non-null   object  \n",
      " 3   localId     1962 non-null   object  \n",
      " 4   namespace   1962 non-null   object  \n",
      " 5   VHAS        1962 non-null   object  \n",
      " 6   NAAM        1487 non-null   object  \n",
      " 7   start_ID    1962 non-null   object  \n",
      " 8   end_ID      1962 non-null   object  \n",
      " 9   geometry_y  1962 non-null   geometry\n",
      " 10  distance    1962 non-null   float64 \n",
      " 11  loc_nodes   1962 non-null   geometry\n",
      "dtypes: float64(1), geometry(2), object(9)\n",
      "memory usage: 199.3+ KB\n"
     ]
    }
   ],
   "source": [
    "gdf_n.info()"
   ]
  },
  {
   "cell_type": "code",
   "execution_count": 98,
   "id": "b674ecfc",
   "metadata": {},
   "outputs": [],
   "source": [
    "distances = []\n",
    "for row in gdf_n.iterrows():\n",
    "    dist = row[1]['geometry_y'].project(row[1]['loc_nodes'])\n",
    "    distances.append(dist)"
   ]
  },
  {
   "cell_type": "code",
   "execution_count": 99,
   "id": "a9f1e7ac",
   "metadata": {},
   "outputs": [
    {
     "data": {
      "text/plain": [
       "1962"
      ]
     },
     "execution_count": 99,
     "metadata": {},
     "output_type": "execute_result"
    }
   ],
   "source": [
    "len(distances)"
   ]
  },
  {
   "cell_type": "code",
   "execution_count": 100,
   "id": "1ca46e52",
   "metadata": {},
   "outputs": [],
   "source": [
    "gdf_n['ref_at'] = distances"
   ]
  },
  {
   "cell_type": "code",
   "execution_count": 101,
   "id": "82b37b6c",
   "metadata": {},
   "outputs": [
    {
     "data": {
      "text/html": [
       "<div>\n",
       "<style scoped>\n",
       "    .dataframe tbody tr th:only-of-type {\n",
       "        vertical-align: middle;\n",
       "    }\n",
       "\n",
       "    .dataframe tbody tr th {\n",
       "        vertical-align: top;\n",
       "    }\n",
       "\n",
       "    .dataframe thead th {\n",
       "        text-align: right;\n",
       "    }\n",
       "</style>\n",
       "<table border=\"1\" class=\"dataframe\">\n",
       "  <thead>\n",
       "    <tr style=\"text-align: right;\">\n",
       "      <th></th>\n",
       "      <th>gml_id</th>\n",
       "      <th>identifier</th>\n",
       "      <th>name</th>\n",
       "      <th>localId</th>\n",
       "      <th>namespace</th>\n",
       "      <th>VHAS</th>\n",
       "      <th>NAAM</th>\n",
       "      <th>start_ID</th>\n",
       "      <th>end_ID</th>\n",
       "      <th>geometry_y</th>\n",
       "      <th>distance</th>\n",
       "      <th>loc_nodes</th>\n",
       "      <th>ref_at</th>\n",
       "    </tr>\n",
       "  </thead>\n",
       "  <tbody>\n",
       "    <tr>\n",
       "      <th>0</th>\n",
       "      <td>None</td>\n",
       "      <td>https://data.gpbv.omgeving.vlaanderen.be/id/pr...</td>\n",
       "      <td>Van Looveren Leo</td>\n",
       "      <td>BE.VL.000000416.INSTALLATION</td>\n",
       "      <td>https://data.gpbv.omgeving.vlaanderen.be/id/pr...</td>\n",
       "      <td>7007018_2</td>\n",
       "      <td>Laboureurloop</td>\n",
       "      <td>VL_HN61664</td>\n",
       "      <td>VL_HN6847</td>\n",
       "      <td>LINESTRING (174218.478 229321.030, 174211.910 ...</td>\n",
       "      <td>134.766839</td>\n",
       "      <td>POINT (174186.723 229374.213)</td>\n",
       "      <td>61.991412</td>\n",
       "    </tr>\n",
       "    <tr>\n",
       "      <th>1</th>\n",
       "      <td>None</td>\n",
       "      <td>https://data.gpbv.omgeving.vlaanderen.be/id/pr...</td>\n",
       "      <td>Kela</td>\n",
       "      <td>BE.VL.000000132.INSTALLATION</td>\n",
       "      <td>https://data.gpbv.omgeving.vlaanderen.be/id/pr...</td>\n",
       "      <td>6801187</td>\n",
       "      <td>Raamloop</td>\n",
       "      <td>VL_HN368</td>\n",
       "      <td>VL_HN51695</td>\n",
       "      <td>LINESTRING (175886.862 230719.803, 175878.810 ...</td>\n",
       "      <td>438.889939</td>\n",
       "      <td>POINT (175811.036 230893.712)</td>\n",
       "      <td>189.966312</td>\n",
       "    </tr>\n",
       "  </tbody>\n",
       "</table>\n",
       "</div>"
      ],
      "text/plain": [
       "  gml_id                                         identifier              name  \\\n",
       "0   None  https://data.gpbv.omgeving.vlaanderen.be/id/pr...  Van Looveren Leo   \n",
       "1   None  https://data.gpbv.omgeving.vlaanderen.be/id/pr...              Kela   \n",
       "\n",
       "                        localId  \\\n",
       "0  BE.VL.000000416.INSTALLATION   \n",
       "1  BE.VL.000000132.INSTALLATION   \n",
       "\n",
       "                                           namespace       VHAS  \\\n",
       "0  https://data.gpbv.omgeving.vlaanderen.be/id/pr...  7007018_2   \n",
       "1  https://data.gpbv.omgeving.vlaanderen.be/id/pr...    6801187   \n",
       "\n",
       "            NAAM    start_ID      end_ID  \\\n",
       "0  Laboureurloop  VL_HN61664   VL_HN6847   \n",
       "1       Raamloop    VL_HN368  VL_HN51695   \n",
       "\n",
       "                                          geometry_y    distance  \\\n",
       "0  LINESTRING (174218.478 229321.030, 174211.910 ...  134.766839   \n",
       "1  LINESTRING (175886.862 230719.803, 175878.810 ...  438.889939   \n",
       "\n",
       "                       loc_nodes      ref_at  \n",
       "0  POINT (174186.723 229374.213)   61.991412  \n",
       "1  POINT (175811.036 230893.712)  189.966312  "
      ]
     },
     "execution_count": 101,
     "metadata": {},
     "output_type": "execute_result"
    }
   ],
   "source": [
    "gdf_n.head(2)"
   ]
  },
  {
   "cell_type": "code",
   "execution_count": 102,
   "id": "b871329e",
   "metadata": {},
   "outputs": [],
   "source": [
    "point_loc = gdf_n.drop(['geometry_y', 'start_ID', 'end_ID'], axis=1) #.rename(columns={'loc_nodes': 'geometry'})"
   ]
  },
  {
   "cell_type": "code",
   "execution_count": 103,
   "id": "f4ea9667",
   "metadata": {},
   "outputs": [
    {
     "data": {
      "text/html": [
       "<div>\n",
       "<style scoped>\n",
       "    .dataframe tbody tr th:only-of-type {\n",
       "        vertical-align: middle;\n",
       "    }\n",
       "\n",
       "    .dataframe tbody tr th {\n",
       "        vertical-align: top;\n",
       "    }\n",
       "\n",
       "    .dataframe thead th {\n",
       "        text-align: right;\n",
       "    }\n",
       "</style>\n",
       "<table border=\"1\" class=\"dataframe\">\n",
       "  <thead>\n",
       "    <tr style=\"text-align: right;\">\n",
       "      <th></th>\n",
       "      <th>gml_id</th>\n",
       "      <th>identifier</th>\n",
       "      <th>name</th>\n",
       "      <th>localId</th>\n",
       "      <th>namespace</th>\n",
       "      <th>VHAS</th>\n",
       "      <th>NAAM</th>\n",
       "      <th>distance</th>\n",
       "      <th>loc_nodes</th>\n",
       "      <th>ref_at</th>\n",
       "    </tr>\n",
       "  </thead>\n",
       "  <tbody>\n",
       "    <tr>\n",
       "      <th>0</th>\n",
       "      <td>None</td>\n",
       "      <td>https://data.gpbv.omgeving.vlaanderen.be/id/pr...</td>\n",
       "      <td>Van Looveren Leo</td>\n",
       "      <td>BE.VL.000000416.INSTALLATION</td>\n",
       "      <td>https://data.gpbv.omgeving.vlaanderen.be/id/pr...</td>\n",
       "      <td>7007018_2</td>\n",
       "      <td>Laboureurloop</td>\n",
       "      <td>134.766839</td>\n",
       "      <td>POINT (174186.723 229374.213)</td>\n",
       "      <td>61.991412</td>\n",
       "    </tr>\n",
       "    <tr>\n",
       "      <th>1</th>\n",
       "      <td>None</td>\n",
       "      <td>https://data.gpbv.omgeving.vlaanderen.be/id/pr...</td>\n",
       "      <td>Kela</td>\n",
       "      <td>BE.VL.000000132.INSTALLATION</td>\n",
       "      <td>https://data.gpbv.omgeving.vlaanderen.be/id/pr...</td>\n",
       "      <td>6801187</td>\n",
       "      <td>Raamloop</td>\n",
       "      <td>438.889939</td>\n",
       "      <td>POINT (175811.036 230893.712)</td>\n",
       "      <td>189.966312</td>\n",
       "    </tr>\n",
       "  </tbody>\n",
       "</table>\n",
       "</div>"
      ],
      "text/plain": [
       "  gml_id                                         identifier              name  \\\n",
       "0   None  https://data.gpbv.omgeving.vlaanderen.be/id/pr...  Van Looveren Leo   \n",
       "1   None  https://data.gpbv.omgeving.vlaanderen.be/id/pr...              Kela   \n",
       "\n",
       "                        localId  \\\n",
       "0  BE.VL.000000416.INSTALLATION   \n",
       "1  BE.VL.000000132.INSTALLATION   \n",
       "\n",
       "                                           namespace       VHAS  \\\n",
       "0  https://data.gpbv.omgeving.vlaanderen.be/id/pr...  7007018_2   \n",
       "1  https://data.gpbv.omgeving.vlaanderen.be/id/pr...    6801187   \n",
       "\n",
       "            NAAM    distance                      loc_nodes      ref_at  \n",
       "0  Laboureurloop  134.766839  POINT (174186.723 229374.213)   61.991412  \n",
       "1       Raamloop  438.889939  POINT (175811.036 230893.712)  189.966312  "
      ]
     },
     "execution_count": 103,
     "metadata": {},
     "output_type": "execute_result"
    }
   ],
   "source": [
    "point_loc.head(2)"
   ]
  },
  {
   "cell_type": "code",
   "execution_count": 104,
   "id": "68663e80",
   "metadata": {},
   "outputs": [
    {
     "name": "stdout",
     "output_type": "stream",
     "text": [
      "<class 'geopandas.geodataframe.GeoDataFrame'>\n",
      "Int64Index: 1962 entries, 0 to 1987\n",
      "Data columns (total 10 columns):\n",
      " #   Column      Non-Null Count  Dtype   \n",
      "---  ------      --------------  -----   \n",
      " 0   gml_id      0 non-null      object  \n",
      " 1   identifier  1962 non-null   object  \n",
      " 2   name        1962 non-null   object  \n",
      " 3   localId     1962 non-null   object  \n",
      " 4   namespace   1962 non-null   object  \n",
      " 5   VHAS        1962 non-null   object  \n",
      " 6   NAAM        1487 non-null   object  \n",
      " 7   distance    1962 non-null   float64 \n",
      " 8   loc_nodes   1962 non-null   geometry\n",
      " 9   ref_at      1962 non-null   float64 \n",
      "dtypes: float64(2), geometry(1), object(7)\n",
      "memory usage: 168.6+ KB\n"
     ]
    }
   ],
   "source": [
    "point_loc.info()"
   ]
  },
  {
   "cell_type": "code",
   "execution_count": 105,
   "id": "17d84221",
   "metadata": {},
   "outputs": [],
   "source": [
    "#point_loc['geometry'] = point_loc['geometry'].apply(lambda x: shapely.wkt.loads(x.wkt))"
   ]
  },
  {
   "cell_type": "code",
   "execution_count": 106,
   "id": "a9991543",
   "metadata": {},
   "outputs": [],
   "source": [
    "point_loc2 = point_loc.set_crs(epsg=3035)"
   ]
  },
  {
   "cell_type": "code",
   "execution_count": 107,
   "id": "e639b96b",
   "metadata": {},
   "outputs": [],
   "source": [
    "#point_loc2.to_file(r\"..\\data_transform\\vl_point_locations.shp\")"
   ]
  },
  {
   "cell_type": "code",
   "execution_count": 108,
   "id": "5a33405f",
   "metadata": {},
   "outputs": [],
   "source": [
    "# point_loc.to_file(r\"..\\data_transform\\vl_point_loc.shp\")"
   ]
  }
 ],
 "metadata": {
  "kernelspec": {
   "display_name": "gopeg",
   "language": "python",
   "name": "python3"
  },
  "language_info": {
   "codemirror_mode": {
    "name": "ipython",
    "version": 3
   },
   "file_extension": ".py",
   "mimetype": "text/x-python",
   "name": "python",
   "nbconvert_exporter": "python",
   "pygments_lexer": "ipython3",
   "version": "3.8.13"
  },
  "vscode": {
   "interpreter": {
    "hash": "07cfc20f86b5324f2cf4cab54f3d8afd23691d2e48a06ce4244ed8c5c7ddfd6c"
   }
  }
 },
 "nbformat": 4,
 "nbformat_minor": 5
}
