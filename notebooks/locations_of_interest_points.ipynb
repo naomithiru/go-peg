{
 "cells": [
  {
   "cell_type": "markdown",
   "id": "73262737-8550-465e-801f-e9cb56919737",
   "metadata": {},
   "source": [
    "# Point Locations of Interest"
   ]
  },
  {
   "cell_type": "markdown",
   "id": "30f355df-a87c-4100-9799-9210881194dc",
   "metadata": {},
   "source": [
    "Locations of interest refer to any phonomenon occuring along the networks that have the potential to affect or be affected by pollution.\n",
    "\n",
    "The locations of interest have surface geometry, either point or polygon.\n",
    "\n",
    "This notebook develops the methodology for point locations of interest."
   ]
  },
  {
   "cell_type": "code",
   "execution_count": 2,
   "id": "4f7164a3",
   "metadata": {},
   "outputs": [
    {
     "name": "stdout",
     "output_type": "stream",
     "text": [
      "c:\\Workdir\\Develop\\repository\\go-peg\n"
     ]
    }
   ],
   "source": [
    "import os\n",
    "import sys\n",
    "path = os.path.dirname(os.path.abspath(''))\n",
    "os.chdir(path)\n",
    "print(path)"
   ]
  },
  {
   "cell_type": "code",
   "execution_count": 3,
   "id": "79f8b7cb-06cd-4f7c-ac2f-99782ccd5a69",
   "metadata": {},
   "outputs": [],
   "source": [
    "import geopandas as gpd\n",
    "import pandas as pd\n",
    "\n",
    "from shapely.geometry import Point, LineString, MultiLineString, MultiPoint\n",
    "from shapely import wkt\n",
    "from shapely.ops import nearest_points\n",
    "import shapely.wkt\n",
    "\n",
    "import numpy as np \n",
    "\n",
    "import warnings\n",
    "from shapely.errors import ShapelyDeprecationWarning\n",
    "warnings.filterwarnings(\"ignore\", category=ShapelyDeprecationWarning) \n",
    "\n",
    "pd.options.mode.chained_assignment = None  # default='warn'\n",
    "\n",
    "from src.config import config"
   ]
  },
  {
   "cell_type": "code",
   "execution_count": 4,
   "id": "5bce23fe",
   "metadata": {},
   "outputs": [],
   "source": [
    "# config.data_src"
   ]
  },
  {
   "cell_type": "markdown",
   "id": "79e839bd",
   "metadata": {},
   "source": [
    "**Declare global variables**"
   ]
  },
  {
   "cell_type": "code",
   "execution_count": 5,
   "id": "03b61662",
   "metadata": {},
   "outputs": [],
   "source": [
    "PROJ_CRS = 'EPSG:31370'\n",
    "FINAL_CRS = 'EPSG:3035'\n",
    "\n",
    "buffer_distance = 200\n",
    "country='BE'\n",
    "\n",
    "object_type = 'Production and Industrial site'"
   ]
  },
  {
   "cell_type": "markdown",
   "id": "22fb8718",
   "metadata": {},
   "source": [
    "**Load the processed water dataset and the object of interest dataset**"
   ]
  },
  {
   "cell_type": "code",
   "execution_count": 6,
   "id": "ced51f38-808c-4d9d-ba7c-0fc6693d932c",
   "metadata": {},
   "outputs": [],
   "source": [
    "def load_data(path):\n",
    "    \"\"\"\n",
    "    Loads the data from the given path, \n",
    "    and prints the shape and crs of the data.\n",
    "    \"\"\"\n",
    "    data = gpd.read_file(path)\n",
    "    print(data.shape)\n",
    "\n",
    "    data_crs = data.crs\n",
    "\n",
    "    print(\"Data crs:\", data.crs)\n",
    "    return data, data_crs"
   ]
  },
  {
   "cell_type": "code",
   "execution_count": 7,
   "id": "764f255d",
   "metadata": {},
   "outputs": [
    {
     "name": "stdout",
     "output_type": "stream",
     "text": [
      "(72069, 21)\n",
      "Data crs: EPSG:31370\n"
     ]
    }
   ],
   "source": [
    "PATH = config.data_dest / \"vl_water_PROCESSED.shp\"\n",
    "water, data_crs = load_data(PATH)"
   ]
  },
  {
   "cell_type": "code",
   "execution_count": 8,
   "id": "daf19003",
   "metadata": {},
   "outputs": [],
   "source": [
    "PROJ_CRS = data_crs"
   ]
  },
  {
   "cell_type": "code",
   "execution_count": 9,
   "id": "6421b985-dc80-46a4-ac41-eafd071450fb",
   "metadata": {},
   "outputs": [
    {
     "name": "stdout",
     "output_type": "stream",
     "text": [
      "(1962, 9)\n",
      "Data crs: EPSG:3857\n",
      "Project crs: EPSG:31370\n"
     ]
    }
   ],
   "source": [
    "PATH = config.data_src / \"flanders_locations/Production and industrial facilities/ProductionInstallation_points.shp\"\n",
    "prod_installations, data_crs = load_data(PATH)\n",
    "prod_installations = prod_installations.to_crs(PROJ_CRS)\n",
    "print('Project crs:', prod_installations.crs)"
   ]
  },
  {
   "cell_type": "code",
   "execution_count": 10,
   "id": "2be79ea0",
   "metadata": {},
   "outputs": [
    {
     "data": {
      "text/html": [
       "<div>\n",
       "<style scoped>\n",
       "    .dataframe tbody tr th:only-of-type {\n",
       "        vertical-align: middle;\n",
       "    }\n",
       "\n",
       "    .dataframe tbody tr th {\n",
       "        vertical-align: top;\n",
       "    }\n",
       "\n",
       "    .dataframe thead th {\n",
       "        text-align: right;\n",
       "    }\n",
       "</style>\n",
       "<table border=\"1\" class=\"dataframe\">\n",
       "  <thead>\n",
       "    <tr style=\"text-align: right;\">\n",
       "      <th></th>\n",
       "      <th>gml_id</th>\n",
       "      <th>identifier</th>\n",
       "      <th>name</th>\n",
       "      <th>localId</th>\n",
       "      <th>namespace</th>\n",
       "      <th>status</th>\n",
       "      <th>type</th>\n",
       "      <th>dist</th>\n",
       "      <th>geometry</th>\n",
       "    </tr>\n",
       "  </thead>\n",
       "  <tbody>\n",
       "    <tr>\n",
       "      <th>0</th>\n",
       "      <td>NaN</td>\n",
       "      <td>https://data.gpbv.omgeving.vlaanderen.be/id/pr...</td>\n",
       "      <td>Van Looveren Leo</td>\n",
       "      <td>BE.VL.000000416.INSTALLATION</td>\n",
       "      <td>https://data.gpbv.omgeving.vlaanderen.be/id/pr...</td>\n",
       "      <td>NaN</td>\n",
       "      <td>NaN</td>\n",
       "      <td>NaN</td>\n",
       "      <td>POINT (174053.026 229391.163)</td>\n",
       "    </tr>\n",
       "    <tr>\n",
       "      <th>1</th>\n",
       "      <td>NaN</td>\n",
       "      <td>https://data.gpbv.omgeving.vlaanderen.be/id/pr...</td>\n",
       "      <td>Kela</td>\n",
       "      <td>BE.VL.000000132.INSTALLATION</td>\n",
       "      <td>https://data.gpbv.omgeving.vlaanderen.be/id/pr...</td>\n",
       "      <td>NaN</td>\n",
       "      <td>NaN</td>\n",
       "      <td>NaN</td>\n",
       "      <td>POINT (175372.287 230904.830)</td>\n",
       "    </tr>\n",
       "  </tbody>\n",
       "</table>\n",
       "</div>"
      ],
      "text/plain": [
       "   gml_id                                         identifier  \\\n",
       "0     NaN  https://data.gpbv.omgeving.vlaanderen.be/id/pr...   \n",
       "1     NaN  https://data.gpbv.omgeving.vlaanderen.be/id/pr...   \n",
       "\n",
       "               name                       localId  \\\n",
       "0  Van Looveren Leo  BE.VL.000000416.INSTALLATION   \n",
       "1              Kela  BE.VL.000000132.INSTALLATION   \n",
       "\n",
       "                                           namespace  status  type  dist  \\\n",
       "0  https://data.gpbv.omgeving.vlaanderen.be/id/pr...     NaN   NaN   NaN   \n",
       "1  https://data.gpbv.omgeving.vlaanderen.be/id/pr...     NaN   NaN   NaN   \n",
       "\n",
       "                        geometry  \n",
       "0  POINT (174053.026 229391.163)  \n",
       "1  POINT (175372.287 230904.830)  "
      ]
     },
     "execution_count": 10,
     "metadata": {},
     "output_type": "execute_result"
    }
   ],
   "source": [
    "prod_installations.head(2)"
   ]
  },
  {
   "cell_type": "markdown",
   "id": "93dbb02b-2524-467b-96a6-cfd833aeabf3",
   "metadata": {},
   "source": [
    "## Working with point locations of interest\n",
    "\n",
    "For working with point locations of interests, we will project a point to the nearest water geometry, applying a threshold distance to exclude points that are too far away from the nearest water geometry."
   ]
  },
  {
   "attachments": {},
   "cell_type": "markdown",
   "id": "7b19383c",
   "metadata": {},
   "source": [
    "**Select relevant columns from the object of interest dataset, which includes identifiers and geometry**"
   ]
  },
  {
   "cell_type": "code",
   "execution_count": 11,
   "id": "5e7a647c",
   "metadata": {},
   "outputs": [
    {
     "data": {
      "text/plain": [
       "(1962, 5)"
      ]
     },
     "execution_count": 11,
     "metadata": {},
     "output_type": "execute_result"
    }
   ],
   "source": [
    "prod_points = prod_installations[['identifier', 'name', 'localId', 'namespace', 'geometry']]\n",
    "prod_points.head(2)\n",
    "prod_points.shape"
   ]
  },
  {
   "attachments": {},
   "cell_type": "markdown",
   "id": "db5bfbaf",
   "metadata": {},
   "source": [
    "**Select relevant columns from the water dataset**"
   ]
  },
  {
   "cell_type": "code",
   "execution_count": 12,
   "id": "6ff13c37",
   "metadata": {},
   "outputs": [
    {
     "name": "stdout",
     "output_type": "stream",
     "text": [
      "MultiLinesStrings: 0\n"
     ]
    }
   ],
   "source": [
    "#Check for multiline strings in a dataset\n",
    "def check_multiline(df):\n",
    "    \"\"\"This function checks for multiline strings\n",
    "        from the geometry column in a given dataset\"\"\"\n",
    "    lst = df['geometry'].to_list()\n",
    "    multiline_count = 0\n",
    "    for item in lst:\n",
    "        if isinstance(item, MultiLineString):\n",
    "            multiline_count += 1\n",
    "    print(\"MultiLinesStrings:\" , multiline_count)\n",
    "\n",
    "check_multiline(water)   "
   ]
  },
  {
   "cell_type": "code",
   "execution_count": 13,
   "id": "e8f5e214",
   "metadata": {},
   "outputs": [],
   "source": [
    "# water_df = water[['VHAS', 'NAAM', 'start_ID', 'end_ID', 'geometry']]\n",
    "water_df = water[['line_id', 'line_name', 'basin', 'geometry']]"
   ]
  },
  {
   "cell_type": "code",
   "execution_count": 14,
   "id": "ae7dc2ad",
   "metadata": {},
   "outputs": [],
   "source": [
    "assert water_df.shape[0] == water_df.geometry.nunique()"
   ]
  },
  {
   "cell_type": "markdown",
   "id": "09db843e",
   "metadata": {},
   "source": [
    "**Perform an sjoin to get the two dataset properties into one dataset**"
   ]
  },
  {
   "cell_type": "code",
   "execution_count": 15,
   "id": "2fd42f40",
   "metadata": {},
   "outputs": [],
   "source": [
    "gdf_p = prod_points.copy()\n",
    "gdf_l = water_df.copy()\n",
    "\n",
    "\n",
    "df_n = (gpd.sjoin_nearest(gdf_p, gdf_l)\n",
    "            .merge(gdf_l['geometry'], left_on=\"index_right\", right_index=True)\n",
    "            .drop(columns=['index_right'])\n",
    "            .rename(columns={'index_left': 'ID', 'geometry_x':'point_geom', 'geometry_y':'line_geom'})\n",
    "            .reset_index(drop=True)\n",
    "            ) #merge operation adds the geometry column\n",
    "            \n",
    "#get distance of location of interest from water. With this distance we can filter out locations by distance from water\n",
    "# df_n[\"distance\"] = df_n.apply(lambda r: r[\"geometry_x\"].distance(r[\"geometry_y\"]), axis=1)\n",
    "df_n = df_n.drop_duplicates(subset=['point_geom'])\n",
    "assert df_n['point_geom'].isnull().values.any() == False\n",
    "assert df_n['line_geom'].isnull().values.any() == False"
   ]
  },
  {
   "cell_type": "markdown",
   "id": "e9345e89",
   "metadata": {},
   "source": [
    "Ensure the linestring geometry is not multilinestring"
   ]
  },
  {
   "cell_type": "code",
   "execution_count": 16,
   "id": "33d38874",
   "metadata": {},
   "outputs": [],
   "source": [
    "def multiline_to_linestring_col(df, geom_col):\n",
    "    linestrings = []\n",
    "    for idx, row in df.iterrows():\n",
    "        if isinstance(row[geom_col], LineString):\n",
    "            linestrings.append(row[geom_col])\n",
    "        elif isinstance(row[geom_col], MultiLineString):\n",
    "            inlines = row[geom_col]\n",
    "            outcoords = [list(item.coords) for item in inlines]\n",
    "            outline = shapely.geometry.LineString(\n",
    "                [i for sublist in outcoords for i in sublist])\n",
    "            linestrings.append(outline)\n",
    "    return linestrings\n",
    "\n",
    "df_n['line_geom'] = multiline_to_linestring_col(df_n, 'line_geom')"
   ]
  },
  {
   "cell_type": "code",
   "execution_count": 17,
   "id": "9b75b48f",
   "metadata": {},
   "outputs": [
    {
     "data": {
      "text/html": [
       "<div>\n",
       "<style scoped>\n",
       "    .dataframe tbody tr th:only-of-type {\n",
       "        vertical-align: middle;\n",
       "    }\n",
       "\n",
       "    .dataframe tbody tr th {\n",
       "        vertical-align: top;\n",
       "    }\n",
       "\n",
       "    .dataframe thead th {\n",
       "        text-align: right;\n",
       "    }\n",
       "</style>\n",
       "<table border=\"1\" class=\"dataframe\">\n",
       "  <thead>\n",
       "    <tr style=\"text-align: right;\">\n",
       "      <th></th>\n",
       "      <th>identifier</th>\n",
       "      <th>name</th>\n",
       "      <th>localId</th>\n",
       "      <th>namespace</th>\n",
       "      <th>point_geom</th>\n",
       "      <th>line_id</th>\n",
       "      <th>line_name</th>\n",
       "      <th>basin</th>\n",
       "      <th>line_geom</th>\n",
       "    </tr>\n",
       "  </thead>\n",
       "  <tbody>\n",
       "    <tr>\n",
       "      <th>0</th>\n",
       "      <td>https://data.gpbv.omgeving.vlaanderen.be/id/pr...</td>\n",
       "      <td>Van Looveren Leo</td>\n",
       "      <td>BE.VL.000000416.INSTALLATION</td>\n",
       "      <td>https://data.gpbv.omgeving.vlaanderen.be/id/pr...</td>\n",
       "      <td>POINT (174053.026 229391.163)</td>\n",
       "      <td>7007018_2</td>\n",
       "      <td>Laboureurloop</td>\n",
       "      <td>Maas</td>\n",
       "      <td>LINESTRING (174218.4779399991 229321.029899978...</td>\n",
       "    </tr>\n",
       "    <tr>\n",
       "      <th>1</th>\n",
       "      <td>https://data.gpbv.omgeving.vlaanderen.be/id/pr...</td>\n",
       "      <td>Kela</td>\n",
       "      <td>BE.VL.000000132.INSTALLATION</td>\n",
       "      <td>https://data.gpbv.omgeving.vlaanderen.be/id/pr...</td>\n",
       "      <td>POINT (175372.287 230904.830)</td>\n",
       "      <td>6801187</td>\n",
       "      <td>Raamloop</td>\n",
       "      <td>Maas</td>\n",
       "      <td>LINESTRING (175886.86194000248 230719.80349997...</td>\n",
       "    </tr>\n",
       "  </tbody>\n",
       "</table>\n",
       "</div>"
      ],
      "text/plain": [
       "                                          identifier              name  \\\n",
       "0  https://data.gpbv.omgeving.vlaanderen.be/id/pr...  Van Looveren Leo   \n",
       "1  https://data.gpbv.omgeving.vlaanderen.be/id/pr...              Kela   \n",
       "\n",
       "                        localId  \\\n",
       "0  BE.VL.000000416.INSTALLATION   \n",
       "1  BE.VL.000000132.INSTALLATION   \n",
       "\n",
       "                                           namespace  \\\n",
       "0  https://data.gpbv.omgeving.vlaanderen.be/id/pr...   \n",
       "1  https://data.gpbv.omgeving.vlaanderen.be/id/pr...   \n",
       "\n",
       "                      point_geom    line_id      line_name basin  \\\n",
       "0  POINT (174053.026 229391.163)  7007018_2  Laboureurloop  Maas   \n",
       "1  POINT (175372.287 230904.830)    6801187       Raamloop  Maas   \n",
       "\n",
       "                                           line_geom  \n",
       "0  LINESTRING (174218.4779399991 229321.029899978...  \n",
       "1  LINESTRING (175886.86194000248 230719.80349997...  "
      ]
     },
     "execution_count": 17,
     "metadata": {},
     "output_type": "execute_result"
    }
   ],
   "source": [
    "df_n.head(2)"
   ]
  },
  {
   "cell_type": "code",
   "execution_count": 18,
   "id": "ce755c1d",
   "metadata": {},
   "outputs": [
    {
     "data": {
      "text/plain": [
       "shapely.geometry.point.Point"
      ]
     },
     "execution_count": 18,
     "metadata": {},
     "output_type": "execute_result"
    }
   ],
   "source": [
    "def project_point_to_line(df):\n",
    "    nearest_geoms = []\n",
    "    for i, row in df.iterrows():\n",
    "        nearest_point = nearest_points(row['line_geom'], row['point_geom'])\n",
    "        point = nearest_point[0]\n",
    "        nearest_geoms.append(point)\n",
    "    return nearest_geoms\n",
    "\n",
    "df_n['nearest_point'] = project_point_to_line(df_n)\n",
    "type(df_n['nearest_point'][0])"
   ]
  },
  {
   "cell_type": "code",
   "execution_count": 19,
   "id": "1b50ae63",
   "metadata": {},
   "outputs": [
    {
     "data": {
      "text/html": [
       "<div>\n",
       "<style scoped>\n",
       "    .dataframe tbody tr th:only-of-type {\n",
       "        vertical-align: middle;\n",
       "    }\n",
       "\n",
       "    .dataframe tbody tr th {\n",
       "        vertical-align: top;\n",
       "    }\n",
       "\n",
       "    .dataframe thead th {\n",
       "        text-align: right;\n",
       "    }\n",
       "</style>\n",
       "<table border=\"1\" class=\"dataframe\">\n",
       "  <thead>\n",
       "    <tr style=\"text-align: right;\">\n",
       "      <th></th>\n",
       "      <th>identifier</th>\n",
       "      <th>name</th>\n",
       "      <th>localId</th>\n",
       "      <th>namespace</th>\n",
       "      <th>point_geom</th>\n",
       "      <th>line_id</th>\n",
       "      <th>line_name</th>\n",
       "      <th>basin</th>\n",
       "      <th>line_geom</th>\n",
       "      <th>nearest_point</th>\n",
       "    </tr>\n",
       "  </thead>\n",
       "  <tbody>\n",
       "    <tr>\n",
       "      <th>0</th>\n",
       "      <td>https://data.gpbv.omgeving.vlaanderen.be/id/pr...</td>\n",
       "      <td>Van Looveren Leo</td>\n",
       "      <td>BE.VL.000000416.INSTALLATION</td>\n",
       "      <td>https://data.gpbv.omgeving.vlaanderen.be/id/pr...</td>\n",
       "      <td>POINT (174053.026 229391.163)</td>\n",
       "      <td>7007018_2</td>\n",
       "      <td>Laboureurloop</td>\n",
       "      <td>Maas</td>\n",
       "      <td>LINESTRING (174218.4779399991 229321.029899978...</td>\n",
       "      <td>POINT (174186.72303999812 229374.21319997776)</td>\n",
       "    </tr>\n",
       "    <tr>\n",
       "      <th>1</th>\n",
       "      <td>https://data.gpbv.omgeving.vlaanderen.be/id/pr...</td>\n",
       "      <td>Kela</td>\n",
       "      <td>BE.VL.000000132.INSTALLATION</td>\n",
       "      <td>https://data.gpbv.omgeving.vlaanderen.be/id/pr...</td>\n",
       "      <td>POINT (175372.287 230904.830)</td>\n",
       "      <td>6801187</td>\n",
       "      <td>Raamloop</td>\n",
       "      <td>Maas</td>\n",
       "      <td>LINESTRING (175886.86194000248 230719.80349997...</td>\n",
       "      <td>POINT (175811.0361400008 230893.71169997938)</td>\n",
       "    </tr>\n",
       "  </tbody>\n",
       "</table>\n",
       "</div>"
      ],
      "text/plain": [
       "                                          identifier              name  \\\n",
       "0  https://data.gpbv.omgeving.vlaanderen.be/id/pr...  Van Looveren Leo   \n",
       "1  https://data.gpbv.omgeving.vlaanderen.be/id/pr...              Kela   \n",
       "\n",
       "                        localId  \\\n",
       "0  BE.VL.000000416.INSTALLATION   \n",
       "1  BE.VL.000000132.INSTALLATION   \n",
       "\n",
       "                                           namespace  \\\n",
       "0  https://data.gpbv.omgeving.vlaanderen.be/id/pr...   \n",
       "1  https://data.gpbv.omgeving.vlaanderen.be/id/pr...   \n",
       "\n",
       "                      point_geom    line_id      line_name basin  \\\n",
       "0  POINT (174053.026 229391.163)  7007018_2  Laboureurloop  Maas   \n",
       "1  POINT (175372.287 230904.830)    6801187       Raamloop  Maas   \n",
       "\n",
       "                                           line_geom  \\\n",
       "0  LINESTRING (174218.4779399991 229321.029899978...   \n",
       "1  LINESTRING (175886.86194000248 230719.80349997...   \n",
       "\n",
       "                                   nearest_point  \n",
       "0  POINT (174186.72303999812 229374.21319997776)  \n",
       "1   POINT (175811.0361400008 230893.71169997938)  "
      ]
     },
     "execution_count": 19,
     "metadata": {},
     "output_type": "execute_result"
    }
   ],
   "source": [
    "df_n.head(2)"
   ]
  },
  {
   "cell_type": "code",
   "execution_count": 20,
   "id": "471b5d57",
   "metadata": {},
   "outputs": [],
   "source": [
    "# test_df = gpd.GeoDataFrame((df_n[['line_id', 'nearest_geoms']].rename(columns={'nearest_geoms':'geometry'})), geometry='geometry')\n",
    "# test_df = test_df.set_crs(PROJ_CRS)\n",
    "# test_df.to_file('data/test_data/links_test.shp')"
   ]
  },
  {
   "cell_type": "markdown",
   "id": "67598246",
   "metadata": {},
   "source": [
    "**Filter out objects of interest by distance from network**"
   ]
  },
  {
   "cell_type": "code",
   "execution_count": 21,
   "id": "6fe92914",
   "metadata": {},
   "outputs": [
    {
     "name": "stdout",
     "output_type": "stream",
     "text": [
      "(1055, 11)\n"
     ]
    }
   ],
   "source": [
    "# Filret objects of interest by distance\n",
    "df_n[\"distance\"] = df_n.apply(lambda r: r[\"point_geom\"].distance(r[\"nearest_point\"]), axis=1)\n",
    "\n",
    "df_filtered = df_n[df_n['distance'] < buffer_distance].reset_index(drop=True)\n",
    "print(df_filtered.shape)"
   ]
  },
  {
   "cell_type": "markdown",
   "id": "1909fa81",
   "metadata": {},
   "source": [
    "**Insert the nearest geoms into the linestring before making connection lines**"
   ]
  },
  {
   "cell_type": "code",
   "execution_count": 22,
   "id": "f0445cda",
   "metadata": {},
   "outputs": [
    {
     "data": {
      "text/plain": [
       "Index(['identifier', 'name', 'localId', 'namespace', 'point_geom', 'line_id',\n",
       "       'line_name', 'basin', 'line_geom', 'nearest_point', 'distance'],\n",
       "      dtype='object')"
      ]
     },
     "execution_count": 22,
     "metadata": {},
     "output_type": "execute_result"
    }
   ],
   "source": [
    "df_filtered.columns"
   ]
  },
  {
   "cell_type": "markdown",
   "id": "c9591ee4",
   "metadata": {},
   "source": [
    "**get new linestrings with added new point vertex**"
   ]
  },
  {
   "cell_type": "code",
   "execution_count": 23,
   "id": "530257d3",
   "metadata": {},
   "outputs": [],
   "source": [
    "## This is the function that works\n",
    "def insert_coordinates():\n",
    "    linestrings = []\n",
    "    for row in df_filtered.iterrows():\n",
    "        line = row[1]['line_geom']\n",
    "        point = row[1]['nearest_point']\n",
    "\n",
    "        min_dist = float('inf')\n",
    "        for i, coord in enumerate(line.coords[:-1]):\n",
    "            dist = LineString([coord, line.coords[i+1]]).distance(point)\n",
    "            if dist < min_dist:\n",
    "                min_dist = dist\n",
    "                index = i + 1\n",
    "\n",
    "        # Insert the new vertex into the LineString geometry\n",
    "        new_coords = list(line.coords)\n",
    "        # print(len(new_coords))\n",
    "        new_coords.insert(index, point.coords[0])\n",
    "        new_line = LineString(new_coords)\n",
    "        linestrings.append(new_line)\n",
    "\n",
    "    return linestrings"
   ]
  },
  {
   "cell_type": "code",
   "execution_count": 24,
   "id": "7ae10568",
   "metadata": {},
   "outputs": [],
   "source": [
    "df_filtered['new_line_geom'] = insert_coordinates()"
   ]
  },
  {
   "cell_type": "markdown",
   "id": "248f4d80",
   "metadata": {},
   "source": [
    "**Make connection lines from objects of interest to the point in the new line**"
   ]
  },
  {
   "cell_type": "code",
   "execution_count": 25,
   "id": "37f633a7",
   "metadata": {},
   "outputs": [
    {
     "data": {
      "text/plain": [
       "Index(['identifier', 'name', 'localId', 'namespace', 'point_geom', 'line_id',\n",
       "       'line_name', 'basin', 'line_geom', 'nearest_point', 'distance'],\n",
       "      dtype='object')"
      ]
     },
     "execution_count": 25,
     "metadata": {},
     "output_type": "execute_result"
    }
   ],
   "source": [
    "df_n.columns"
   ]
  },
  {
   "cell_type": "code",
   "execution_count": 26,
   "id": "50ac3286",
   "metadata": {},
   "outputs": [
    {
     "data": {
      "text/html": [
       "<div>\n",
       "<style scoped>\n",
       "    .dataframe tbody tr th:only-of-type {\n",
       "        vertical-align: middle;\n",
       "    }\n",
       "\n",
       "    .dataframe tbody tr th {\n",
       "        vertical-align: top;\n",
       "    }\n",
       "\n",
       "    .dataframe thead th {\n",
       "        text-align: right;\n",
       "    }\n",
       "</style>\n",
       "<table border=\"1\" class=\"dataframe\">\n",
       "  <thead>\n",
       "    <tr style=\"text-align: right;\">\n",
       "      <th></th>\n",
       "      <th>identifier</th>\n",
       "      <th>name</th>\n",
       "      <th>localId</th>\n",
       "      <th>namespace</th>\n",
       "      <th>point_geom</th>\n",
       "      <th>line_id</th>\n",
       "      <th>line_name</th>\n",
       "      <th>basin</th>\n",
       "      <th>line_geom</th>\n",
       "      <th>nearest_point</th>\n",
       "      <th>distance</th>\n",
       "      <th>new_line_geom</th>\n",
       "      <th>connection_lines</th>\n",
       "    </tr>\n",
       "  </thead>\n",
       "  <tbody>\n",
       "    <tr>\n",
       "      <th>0</th>\n",
       "      <td>https://data.gpbv.omgeving.vlaanderen.be/id/pr...</td>\n",
       "      <td>Van Looveren Leo</td>\n",
       "      <td>BE.VL.000000416.INSTALLATION</td>\n",
       "      <td>https://data.gpbv.omgeving.vlaanderen.be/id/pr...</td>\n",
       "      <td>POINT (174053.026 229391.163)</td>\n",
       "      <td>7007018_2</td>\n",
       "      <td>Laboureurloop</td>\n",
       "      <td>Maas</td>\n",
       "      <td>LINESTRING (174218.4779399991 229321.029899978...</td>\n",
       "      <td>POINT (174186.72303999812 229374.21319997776)</td>\n",
       "      <td>134.766839</td>\n",
       "      <td>LINESTRING (174218.4779399991 229321.029899978...</td>\n",
       "      <td>LINESTRING (174053.02636049603 229391.16308776...</td>\n",
       "    </tr>\n",
       "    <tr>\n",
       "      <th>1</th>\n",
       "      <td>https://data.gpbv.omgeving.vlaanderen.be/id/pr...</td>\n",
       "      <td>Swaegers Slachthuis</td>\n",
       "      <td>BE.VL.000000186.INSTALLATION</td>\n",
       "      <td>https://data.gpbv.omgeving.vlaanderen.be/id/pr...</td>\n",
       "      <td>POINT (176099.703 231237.668)</td>\n",
       "      <td>6801187</td>\n",
       "      <td>Raamloop</td>\n",
       "      <td>Maas</td>\n",
       "      <td>LINESTRING (175886.86194000248 230719.80349997...</td>\n",
       "      <td>POINT (175991.44697913088 231201.23392304804)</td>\n",
       "      <td>114.222335</td>\n",
       "      <td>LINESTRING (175886.86194000248 230719.80349997...</td>\n",
       "      <td>LINESTRING (176099.70271834361 231237.66792792...</td>\n",
       "    </tr>\n",
       "  </tbody>\n",
       "</table>\n",
       "</div>"
      ],
      "text/plain": [
       "                                          identifier                 name  \\\n",
       "0  https://data.gpbv.omgeving.vlaanderen.be/id/pr...     Van Looveren Leo   \n",
       "1  https://data.gpbv.omgeving.vlaanderen.be/id/pr...  Swaegers Slachthuis   \n",
       "\n",
       "                        localId  \\\n",
       "0  BE.VL.000000416.INSTALLATION   \n",
       "1  BE.VL.000000186.INSTALLATION   \n",
       "\n",
       "                                           namespace  \\\n",
       "0  https://data.gpbv.omgeving.vlaanderen.be/id/pr...   \n",
       "1  https://data.gpbv.omgeving.vlaanderen.be/id/pr...   \n",
       "\n",
       "                      point_geom    line_id      line_name basin  \\\n",
       "0  POINT (174053.026 229391.163)  7007018_2  Laboureurloop  Maas   \n",
       "1  POINT (176099.703 231237.668)    6801187       Raamloop  Maas   \n",
       "\n",
       "                                           line_geom  \\\n",
       "0  LINESTRING (174218.4779399991 229321.029899978...   \n",
       "1  LINESTRING (175886.86194000248 230719.80349997...   \n",
       "\n",
       "                                   nearest_point    distance  \\\n",
       "0  POINT (174186.72303999812 229374.21319997776)  134.766839   \n",
       "1  POINT (175991.44697913088 231201.23392304804)  114.222335   \n",
       "\n",
       "                                       new_line_geom  \\\n",
       "0  LINESTRING (174218.4779399991 229321.029899978...   \n",
       "1  LINESTRING (175886.86194000248 230719.80349997...   \n",
       "\n",
       "                                    connection_lines  \n",
       "0  LINESTRING (174053.02636049603 229391.16308776...  \n",
       "1  LINESTRING (176099.70271834361 231237.66792792...  "
      ]
     },
     "execution_count": 26,
     "metadata": {},
     "output_type": "execute_result"
    }
   ],
   "source": [
    "def make_connection_lines(df, from_point, to_point):\n",
    "    lines = []\n",
    "    for index, row in df.iterrows():\n",
    "        p_1 = Point(row[from_point])\n",
    "        p_2 = Point(row[to_point])\n",
    "        intersect = LineString([p_1, p_2])\n",
    "        # linestring = loads(intersect)\n",
    "        lines.append(intersect)\n",
    "    return lines\n",
    "\n",
    "df_filtered['connection_lines'] = make_connection_lines(df_filtered, 'point_geom', 'nearest_point')\n",
    "df_filtered.head(2)"
   ]
  },
  {
   "cell_type": "code",
   "execution_count": 27,
   "id": "69edce10",
   "metadata": {},
   "outputs": [
    {
     "name": "stdout",
     "output_type": "stream",
     "text": [
      "<class 'pandas.core.frame.DataFrame'>\n",
      "Int64Index: 1962 entries, 0 to 2035\n",
      "Data columns (total 11 columns):\n",
      " #   Column         Non-Null Count  Dtype   \n",
      "---  ------         --------------  -----   \n",
      " 0   identifier     1962 non-null   object  \n",
      " 1   name           1962 non-null   object  \n",
      " 2   localId        1962 non-null   object  \n",
      " 3   namespace      1962 non-null   object  \n",
      " 4   point_geom     1962 non-null   geometry\n",
      " 5   line_id        1962 non-null   object  \n",
      " 6   line_name      1485 non-null   object  \n",
      " 7   basin          1962 non-null   object  \n",
      " 8   line_geom      1962 non-null   object  \n",
      " 9   nearest_point  1962 non-null   object  \n",
      " 10  distance       1962 non-null   float64 \n",
      "dtypes: float64(1), geometry(1), object(9)\n",
      "memory usage: 248.5+ KB\n"
     ]
    }
   ],
   "source": [
    "df_n.info()"
   ]
  },
  {
   "cell_type": "code",
   "execution_count": 28,
   "id": "dc60593d",
   "metadata": {},
   "outputs": [
    {
     "data": {
      "text/plain": [
       "shapely.geometry.linestring.LineString"
      ]
     },
     "execution_count": 28,
     "metadata": {},
     "output_type": "execute_result"
    }
   ],
   "source": [
    "type(df_filtered['new_line_geom'][0])"
   ]
  },
  {
   "cell_type": "markdown",
   "id": "dea84dd3",
   "metadata": {},
   "source": [
    "**Calculate distance on network segment where the object of interest is referenced**"
   ]
  },
  {
   "cell_type": "code",
   "execution_count": 29,
   "id": "4e819094",
   "metadata": {},
   "outputs": [
    {
     "data": {
      "text/html": [
       "<div>\n",
       "<style scoped>\n",
       "    .dataframe tbody tr th:only-of-type {\n",
       "        vertical-align: middle;\n",
       "    }\n",
       "\n",
       "    .dataframe tbody tr th {\n",
       "        vertical-align: top;\n",
       "    }\n",
       "\n",
       "    .dataframe thead th {\n",
       "        text-align: right;\n",
       "    }\n",
       "</style>\n",
       "<table border=\"1\" class=\"dataframe\">\n",
       "  <thead>\n",
       "    <tr style=\"text-align: right;\">\n",
       "      <th></th>\n",
       "      <th>identifier</th>\n",
       "      <th>name</th>\n",
       "      <th>localId</th>\n",
       "      <th>namespace</th>\n",
       "      <th>point_geom</th>\n",
       "      <th>line_id</th>\n",
       "      <th>line_name</th>\n",
       "      <th>basin</th>\n",
       "      <th>line_geom</th>\n",
       "      <th>nearest_point</th>\n",
       "      <th>distance</th>\n",
       "      <th>new_line_geom</th>\n",
       "      <th>connection_lines</th>\n",
       "    </tr>\n",
       "  </thead>\n",
       "  <tbody>\n",
       "    <tr>\n",
       "      <th>0</th>\n",
       "      <td>https://data.gpbv.omgeving.vlaanderen.be/id/pr...</td>\n",
       "      <td>Van Looveren Leo</td>\n",
       "      <td>BE.VL.000000416.INSTALLATION</td>\n",
       "      <td>https://data.gpbv.omgeving.vlaanderen.be/id/pr...</td>\n",
       "      <td>POINT (174053.026 229391.163)</td>\n",
       "      <td>7007018_2</td>\n",
       "      <td>Laboureurloop</td>\n",
       "      <td>Maas</td>\n",
       "      <td>LINESTRING (174218.4779399991 229321.029899978...</td>\n",
       "      <td>POINT (174186.72303999812 229374.21319997776)</td>\n",
       "      <td>134.766839</td>\n",
       "      <td>LINESTRING (174218.4779399991 229321.029899978...</td>\n",
       "      <td>LINESTRING (174053.02636049603 229391.16308776...</td>\n",
       "    </tr>\n",
       "    <tr>\n",
       "      <th>1</th>\n",
       "      <td>https://data.gpbv.omgeving.vlaanderen.be/id/pr...</td>\n",
       "      <td>Swaegers Slachthuis</td>\n",
       "      <td>BE.VL.000000186.INSTALLATION</td>\n",
       "      <td>https://data.gpbv.omgeving.vlaanderen.be/id/pr...</td>\n",
       "      <td>POINT (176099.703 231237.668)</td>\n",
       "      <td>6801187</td>\n",
       "      <td>Raamloop</td>\n",
       "      <td>Maas</td>\n",
       "      <td>LINESTRING (175886.86194000248 230719.80349997...</td>\n",
       "      <td>POINT (175991.44697913088 231201.23392304804)</td>\n",
       "      <td>114.222335</td>\n",
       "      <td>LINESTRING (175886.86194000248 230719.80349997...</td>\n",
       "      <td>LINESTRING (176099.70271834361 231237.66792792...</td>\n",
       "    </tr>\n",
       "  </tbody>\n",
       "</table>\n",
       "</div>"
      ],
      "text/plain": [
       "                                          identifier                 name  \\\n",
       "0  https://data.gpbv.omgeving.vlaanderen.be/id/pr...     Van Looveren Leo   \n",
       "1  https://data.gpbv.omgeving.vlaanderen.be/id/pr...  Swaegers Slachthuis   \n",
       "\n",
       "                        localId  \\\n",
       "0  BE.VL.000000416.INSTALLATION   \n",
       "1  BE.VL.000000186.INSTALLATION   \n",
       "\n",
       "                                           namespace  \\\n",
       "0  https://data.gpbv.omgeving.vlaanderen.be/id/pr...   \n",
       "1  https://data.gpbv.omgeving.vlaanderen.be/id/pr...   \n",
       "\n",
       "                      point_geom    line_id      line_name basin  \\\n",
       "0  POINT (174053.026 229391.163)  7007018_2  Laboureurloop  Maas   \n",
       "1  POINT (176099.703 231237.668)    6801187       Raamloop  Maas   \n",
       "\n",
       "                                           line_geom  \\\n",
       "0  LINESTRING (174218.4779399991 229321.029899978...   \n",
       "1  LINESTRING (175886.86194000248 230719.80349997...   \n",
       "\n",
       "                                   nearest_point    distance  \\\n",
       "0  POINT (174186.72303999812 229374.21319997776)  134.766839   \n",
       "1  POINT (175991.44697913088 231201.23392304804)  114.222335   \n",
       "\n",
       "                                       new_line_geom  \\\n",
       "0  LINESTRING (174218.4779399991 229321.029899978...   \n",
       "1  LINESTRING (175886.86194000248 230719.80349997...   \n",
       "\n",
       "                                    connection_lines  \n",
       "0  LINESTRING (174053.02636049603 229391.16308776...  \n",
       "1  LINESTRING (176099.70271834361 231237.66792792...  "
      ]
     },
     "execution_count": 29,
     "metadata": {},
     "output_type": "execute_result"
    }
   ],
   "source": [
    "df_filtered.head(2)"
   ]
  },
  {
   "cell_type": "code",
   "execution_count": 59,
   "id": "ff564815",
   "metadata": {},
   "outputs": [
    {
     "name": "stdout",
     "output_type": "stream",
     "text": [
      "<class 'pandas.core.frame.DataFrame'>\n",
      "RangeIndex: 1055 entries, 0 to 1054\n",
      "Data columns (total 16 columns):\n",
      " #   Column                 Non-Null Count  Dtype   \n",
      "---  ------                 --------------  -----   \n",
      " 0   identifier             1055 non-null   object  \n",
      " 1   name                   1055 non-null   object  \n",
      " 2   localId                1055 non-null   object  \n",
      " 3   namespace              1055 non-null   object  \n",
      " 4   point_geom             1055 non-null   geometry\n",
      " 5   line_id                1055 non-null   object  \n",
      " 6   line_name              758 non-null    object  \n",
      " 7   basin                  1055 non-null   object  \n",
      " 8   line_geom              1055 non-null   object  \n",
      " 9   nearest_point          1055 non-null   object  \n",
      " 10  distance               1055 non-null   float64 \n",
      " 11  new_line_geom          1055 non-null   object  \n",
      " 12  connection_lines       1055 non-null   object  \n",
      " 13  atPosition             1055 non-null   float64 \n",
      " 14  OOI_type               1055 non-null   object  \n",
      " 15  watercourse_namespace  1055 non-null   object  \n",
      "dtypes: float64(2), geometry(1), object(13)\n",
      "memory usage: 132.0+ KB\n"
     ]
    }
   ],
   "source": [
    "df_filtered.info()"
   ]
  },
  {
   "cell_type": "code",
   "execution_count": 60,
   "id": "a3613cea",
   "metadata": {},
   "outputs": [
    {
     "data": {
      "text/plain": [
       "134.77"
      ]
     },
     "execution_count": 60,
     "metadata": {},
     "output_type": "execute_result"
    }
   ],
   "source": [
    "val = 134.766839\n",
    "round_val = round(val, 2)\n",
    "round_val"
   ]
  },
  {
   "cell_type": "code",
   "execution_count": 63,
   "id": "d071ca5d",
   "metadata": {},
   "outputs": [],
   "source": [
    "# def get_ref_distance(df, line_geom, point_geom):\n",
    "distances = []\n",
    "for row in df_filtered.iterrows():\n",
    "    dist = row[1]['new_line_geom'].project(row[1]['nearest_point'])\n",
    "    distances.append(round(dist, 3))\n",
    "\n",
    "df_filtered['atPosition'] = distances"
   ]
  },
  {
   "cell_type": "code",
   "execution_count": 64,
   "id": "a450193c",
   "metadata": {},
   "outputs": [
    {
     "data": {
      "text/html": [
       "<div>\n",
       "<style scoped>\n",
       "    .dataframe tbody tr th:only-of-type {\n",
       "        vertical-align: middle;\n",
       "    }\n",
       "\n",
       "    .dataframe tbody tr th {\n",
       "        vertical-align: top;\n",
       "    }\n",
       "\n",
       "    .dataframe thead th {\n",
       "        text-align: right;\n",
       "    }\n",
       "</style>\n",
       "<table border=\"1\" class=\"dataframe\">\n",
       "  <thead>\n",
       "    <tr style=\"text-align: right;\">\n",
       "      <th></th>\n",
       "      <th>identifier</th>\n",
       "      <th>name</th>\n",
       "      <th>localId</th>\n",
       "      <th>namespace</th>\n",
       "      <th>point_geom</th>\n",
       "      <th>line_id</th>\n",
       "      <th>line_name</th>\n",
       "      <th>basin</th>\n",
       "      <th>line_geom</th>\n",
       "      <th>nearest_point</th>\n",
       "      <th>distance</th>\n",
       "      <th>new_line_geom</th>\n",
       "      <th>connection_lines</th>\n",
       "      <th>atPosition</th>\n",
       "      <th>OOI_type</th>\n",
       "      <th>watercourse_namespace</th>\n",
       "    </tr>\n",
       "  </thead>\n",
       "  <tbody>\n",
       "    <tr>\n",
       "      <th>0</th>\n",
       "      <td>https://data.gpbv.omgeving.vlaanderen.be/id/pr...</td>\n",
       "      <td>Van Looveren Leo</td>\n",
       "      <td>BE.VL.000000416.INSTALLATION</td>\n",
       "      <td>https://data.gpbv.omgeving.vlaanderen.be/id/pr...</td>\n",
       "      <td>POINT (174053.026 229391.163)</td>\n",
       "      <td>7007018_2</td>\n",
       "      <td>Laboureurloop</td>\n",
       "      <td>Maas</td>\n",
       "      <td>LINESTRING (174218.4779399991 229321.029899978...</td>\n",
       "      <td>POINT (174186.72303999812 229374.21319997776)</td>\n",
       "      <td>134.766839</td>\n",
       "      <td>LINESTRING (174218.4779399991 229321.029899978...</td>\n",
       "      <td>LINESTRING (174053.02636049603 229391.16308776...</td>\n",
       "      <td>61.991</td>\n",
       "      <td>Production and Industrial site</td>\n",
       "      <td>gopeg.eu/tracing</td>\n",
       "    </tr>\n",
       "    <tr>\n",
       "      <th>1</th>\n",
       "      <td>https://data.gpbv.omgeving.vlaanderen.be/id/pr...</td>\n",
       "      <td>Swaegers Slachthuis</td>\n",
       "      <td>BE.VL.000000186.INSTALLATION</td>\n",
       "      <td>https://data.gpbv.omgeving.vlaanderen.be/id/pr...</td>\n",
       "      <td>POINT (176099.703 231237.668)</td>\n",
       "      <td>6801187</td>\n",
       "      <td>Raamloop</td>\n",
       "      <td>Maas</td>\n",
       "      <td>LINESTRING (175886.86194000248 230719.80349997...</td>\n",
       "      <td>POINT (175991.44697913088 231201.23392304804)</td>\n",
       "      <td>114.222335</td>\n",
       "      <td>LINESTRING (175886.86194000248 230719.80349997...</td>\n",
       "      <td>LINESTRING (176099.70271834361 231237.66792792...</td>\n",
       "      <td>704.589</td>\n",
       "      <td>Production and Industrial site</td>\n",
       "      <td>gopeg.eu/tracing</td>\n",
       "    </tr>\n",
       "  </tbody>\n",
       "</table>\n",
       "</div>"
      ],
      "text/plain": [
       "                                          identifier                 name  \\\n",
       "0  https://data.gpbv.omgeving.vlaanderen.be/id/pr...     Van Looveren Leo   \n",
       "1  https://data.gpbv.omgeving.vlaanderen.be/id/pr...  Swaegers Slachthuis   \n",
       "\n",
       "                        localId  \\\n",
       "0  BE.VL.000000416.INSTALLATION   \n",
       "1  BE.VL.000000186.INSTALLATION   \n",
       "\n",
       "                                           namespace  \\\n",
       "0  https://data.gpbv.omgeving.vlaanderen.be/id/pr...   \n",
       "1  https://data.gpbv.omgeving.vlaanderen.be/id/pr...   \n",
       "\n",
       "                      point_geom    line_id      line_name basin  \\\n",
       "0  POINT (174053.026 229391.163)  7007018_2  Laboureurloop  Maas   \n",
       "1  POINT (176099.703 231237.668)    6801187       Raamloop  Maas   \n",
       "\n",
       "                                           line_geom  \\\n",
       "0  LINESTRING (174218.4779399991 229321.029899978...   \n",
       "1  LINESTRING (175886.86194000248 230719.80349997...   \n",
       "\n",
       "                                   nearest_point    distance  \\\n",
       "0  POINT (174186.72303999812 229374.21319997776)  134.766839   \n",
       "1  POINT (175991.44697913088 231201.23392304804)  114.222335   \n",
       "\n",
       "                                       new_line_geom  \\\n",
       "0  LINESTRING (174218.4779399991 229321.029899978...   \n",
       "1  LINESTRING (175886.86194000248 230719.80349997...   \n",
       "\n",
       "                                    connection_lines  atPosition  \\\n",
       "0  LINESTRING (174053.02636049603 229391.16308776...      61.991   \n",
       "1  LINESTRING (176099.70271834361 231237.66792792...     704.589   \n",
       "\n",
       "                         OOI_type watercourse_namespace  \n",
       "0  Production and Industrial site      gopeg.eu/tracing  \n",
       "1  Production and Industrial site      gopeg.eu/tracing  "
      ]
     },
     "execution_count": 64,
     "metadata": {},
     "output_type": "execute_result"
    }
   ],
   "source": [
    "df_filtered.head(2)"
   ]
  },
  {
   "cell_type": "markdown",
   "id": "46d22f2a",
   "metadata": {},
   "source": [
    "**Add information about the type of objct of interest**"
   ]
  },
  {
   "cell_type": "code",
   "execution_count": 65,
   "id": "5cb474e0",
   "metadata": {},
   "outputs": [
    {
     "data": {
      "text/plain": [
       "'Production and Industrial site'"
      ]
     },
     "execution_count": 65,
     "metadata": {},
     "output_type": "execute_result"
    }
   ],
   "source": [
    "object_type"
   ]
  },
  {
   "cell_type": "code",
   "execution_count": 66,
   "id": "bc8042fa",
   "metadata": {},
   "outputs": [],
   "source": [
    "def create_ooi_type(object_type):\n",
    "    ooi_type = object_type\n",
    "    return ooi_type\n",
    "\n",
    "df_filtered['OOI_type'] = create_ooi_type(object_type)"
   ]
  },
  {
   "cell_type": "markdown",
   "id": "bba01c24",
   "metadata": {},
   "source": [
    "**Add the namespace of the network**"
   ]
  },
  {
   "cell_type": "code",
   "execution_count": 44,
   "id": "a80eee7b",
   "metadata": {},
   "outputs": [],
   "source": [
    "def create_watercourse_namespace(country):\n",
    "    namespace = 'gopeg.eu/tracing'\n",
    "    return namespace\n",
    "\n",
    "df_filtered['watercourse_namespace'] = create_watercourse_namespace(country)"
   ]
  },
  {
   "cell_type": "markdown",
   "id": "e40f600c",
   "metadata": {},
   "source": [
    "**Create a df with the final columns**"
   ]
  },
  {
   "cell_type": "code",
   "execution_count": 69,
   "id": "b871329e",
   "metadata": {},
   "outputs": [],
   "source": [
    "df_links = (df_filtered.rename(columns={'connection_lines':'geometry',\n",
    "                                'identifier':'OOI_identifier', \n",
    "                                 'name': 'OOI_name', \n",
    "                                 'localId': 'OOI_localId', \n",
    "                                 'namespace': 'OOI_namespace',\n",
    "                                 'line_id': 'hydroId',\n",
    "                                 'line_name': 'watercourse_localName',\n",
    "                                 'basin': 'watercourseBasin'})\n",
    "                                .reset_index(drop=True))"
   ]
  },
  {
   "cell_type": "markdown",
   "id": "ecccb119",
   "metadata": {},
   "source": [
    "**Create unique id using UUID**"
   ]
  },
  {
   "cell_type": "code",
   "execution_count": 70,
   "id": "f968ea1c",
   "metadata": {},
   "outputs": [],
   "source": [
    "import uuid\n",
    "df_links['UUID'] = [uuid.uuid4().hex for _ in range(len(df_links.index))]"
   ]
  },
  {
   "cell_type": "code",
   "execution_count": 71,
   "id": "86853962",
   "metadata": {},
   "outputs": [
    {
     "data": {
      "text/html": [
       "<div>\n",
       "<style scoped>\n",
       "    .dataframe tbody tr th:only-of-type {\n",
       "        vertical-align: middle;\n",
       "    }\n",
       "\n",
       "    .dataframe tbody tr th {\n",
       "        vertical-align: top;\n",
       "    }\n",
       "\n",
       "    .dataframe thead th {\n",
       "        text-align: right;\n",
       "    }\n",
       "</style>\n",
       "<table border=\"1\" class=\"dataframe\">\n",
       "  <thead>\n",
       "    <tr style=\"text-align: right;\">\n",
       "      <th></th>\n",
       "      <th>OOI_identifier</th>\n",
       "      <th>OOI_name</th>\n",
       "      <th>OOI_localId</th>\n",
       "      <th>OOI_namespace</th>\n",
       "      <th>point_geom</th>\n",
       "      <th>hydroId</th>\n",
       "      <th>watercourse_localName</th>\n",
       "      <th>watercourseBasin</th>\n",
       "      <th>line_geom</th>\n",
       "      <th>nearest_point</th>\n",
       "      <th>distance</th>\n",
       "      <th>new_line_geom</th>\n",
       "      <th>geometry</th>\n",
       "      <th>atPosition</th>\n",
       "      <th>OOI_type</th>\n",
       "      <th>watercourse_namespace</th>\n",
       "      <th>UUID</th>\n",
       "    </tr>\n",
       "  </thead>\n",
       "  <tbody>\n",
       "    <tr>\n",
       "      <th>0</th>\n",
       "      <td>https://data.gpbv.omgeving.vlaanderen.be/id/pr...</td>\n",
       "      <td>Van Looveren Leo</td>\n",
       "      <td>BE.VL.000000416.INSTALLATION</td>\n",
       "      <td>https://data.gpbv.omgeving.vlaanderen.be/id/pr...</td>\n",
       "      <td>POINT (174053.026 229391.163)</td>\n",
       "      <td>7007018_2</td>\n",
       "      <td>Laboureurloop</td>\n",
       "      <td>Maas</td>\n",
       "      <td>LINESTRING (174218.4779399991 229321.029899978...</td>\n",
       "      <td>POINT (174186.72303999812 229374.21319997776)</td>\n",
       "      <td>134.766839</td>\n",
       "      <td>LINESTRING (174218.4779399991 229321.029899978...</td>\n",
       "      <td>LINESTRING (174053.02636049603 229391.16308776...</td>\n",
       "      <td>61.991</td>\n",
       "      <td>Production and Industrial site</td>\n",
       "      <td>gopeg.eu/tracing</td>\n",
       "      <td>8bdbaa46c4e842dca4e1432b7337a889</td>\n",
       "    </tr>\n",
       "    <tr>\n",
       "      <th>1</th>\n",
       "      <td>https://data.gpbv.omgeving.vlaanderen.be/id/pr...</td>\n",
       "      <td>Swaegers Slachthuis</td>\n",
       "      <td>BE.VL.000000186.INSTALLATION</td>\n",
       "      <td>https://data.gpbv.omgeving.vlaanderen.be/id/pr...</td>\n",
       "      <td>POINT (176099.703 231237.668)</td>\n",
       "      <td>6801187</td>\n",
       "      <td>Raamloop</td>\n",
       "      <td>Maas</td>\n",
       "      <td>LINESTRING (175886.86194000248 230719.80349997...</td>\n",
       "      <td>POINT (175991.44697913088 231201.23392304804)</td>\n",
       "      <td>114.222335</td>\n",
       "      <td>LINESTRING (175886.86194000248 230719.80349997...</td>\n",
       "      <td>LINESTRING (176099.70271834361 231237.66792792...</td>\n",
       "      <td>704.589</td>\n",
       "      <td>Production and Industrial site</td>\n",
       "      <td>gopeg.eu/tracing</td>\n",
       "      <td>103548aba57449df8b8022859fc333c8</td>\n",
       "    </tr>\n",
       "  </tbody>\n",
       "</table>\n",
       "</div>"
      ],
      "text/plain": [
       "                                      OOI_identifier             OOI_name  \\\n",
       "0  https://data.gpbv.omgeving.vlaanderen.be/id/pr...     Van Looveren Leo   \n",
       "1  https://data.gpbv.omgeving.vlaanderen.be/id/pr...  Swaegers Slachthuis   \n",
       "\n",
       "                    OOI_localId  \\\n",
       "0  BE.VL.000000416.INSTALLATION   \n",
       "1  BE.VL.000000186.INSTALLATION   \n",
       "\n",
       "                                       OOI_namespace  \\\n",
       "0  https://data.gpbv.omgeving.vlaanderen.be/id/pr...   \n",
       "1  https://data.gpbv.omgeving.vlaanderen.be/id/pr...   \n",
       "\n",
       "                      point_geom    hydroId watercourse_localName  \\\n",
       "0  POINT (174053.026 229391.163)  7007018_2         Laboureurloop   \n",
       "1  POINT (176099.703 231237.668)    6801187              Raamloop   \n",
       "\n",
       "  watercourseBasin                                          line_geom  \\\n",
       "0             Maas  LINESTRING (174218.4779399991 229321.029899978...   \n",
       "1             Maas  LINESTRING (175886.86194000248 230719.80349997...   \n",
       "\n",
       "                                   nearest_point    distance  \\\n",
       "0  POINT (174186.72303999812 229374.21319997776)  134.766839   \n",
       "1  POINT (175991.44697913088 231201.23392304804)  114.222335   \n",
       "\n",
       "                                       new_line_geom  \\\n",
       "0  LINESTRING (174218.4779399991 229321.029899978...   \n",
       "1  LINESTRING (175886.86194000248 230719.80349997...   \n",
       "\n",
       "                                            geometry  atPosition  \\\n",
       "0  LINESTRING (174053.02636049603 229391.16308776...      61.991   \n",
       "1  LINESTRING (176099.70271834361 231237.66792792...     704.589   \n",
       "\n",
       "                         OOI_type watercourse_namespace  \\\n",
       "0  Production and Industrial site      gopeg.eu/tracing   \n",
       "1  Production and Industrial site      gopeg.eu/tracing   \n",
       "\n",
       "                               UUID  \n",
       "0  8bdbaa46c4e842dca4e1432b7337a889  \n",
       "1  103548aba57449df8b8022859fc333c8  "
      ]
     },
     "execution_count": 71,
     "metadata": {},
     "output_type": "execute_result"
    }
   ],
   "source": [
    "df_links.head(2)"
   ]
  },
  {
   "cell_type": "code",
   "execution_count": 72,
   "id": "42951514",
   "metadata": {},
   "outputs": [
    {
     "data": {
      "text/plain": [
       "Index(['OOI_identifier', 'OOI_name', 'OOI_localId', 'OOI_namespace',\n",
       "       'point_geom', 'hydroId', 'watercourse_localName', 'watercourseBasin',\n",
       "       'line_geom', 'nearest_point', 'distance', 'new_line_geom', 'geometry',\n",
       "       'atPosition', 'OOI_type', 'watercourse_namespace', 'UUID'],\n",
       "      dtype='object')"
      ]
     },
     "execution_count": 72,
     "metadata": {},
     "output_type": "execute_result"
    }
   ],
   "source": [
    "df_links.columns"
   ]
  },
  {
   "cell_type": "code",
   "execution_count": 73,
   "id": "a46fa060",
   "metadata": {},
   "outputs": [
    {
     "data": {
      "text/plain": [
       "shapely.geometry.linestring.LineString"
      ]
     },
     "execution_count": 73,
     "metadata": {},
     "output_type": "execute_result"
    }
   ],
   "source": [
    "type(df_links['geometry'][0])"
   ]
  },
  {
   "cell_type": "code",
   "execution_count": 77,
   "id": "053f939e",
   "metadata": {},
   "outputs": [],
   "source": [
    "cols = ['UUID', 'OOI_type', 'OOI_identifier', 'OOI_name', 'OOI_localId', 'OOI_namespace', 'hydroId', 'atPosition', 'watercourse_namespace', 'geometry']\n",
    "\n",
    "gdf_links = gpd.GeoDataFrame((df_links[cols]), geometry='geometry')\n",
    "\n",
    "gdf_links= gdf_links.set_crs(PROJ_CRS)\n",
    "gdf_links_final = gdf_links.to_crs(FINAL_CRS)"
   ]
  },
  {
   "cell_type": "code",
   "execution_count": 78,
   "id": "dc12a46f",
   "metadata": {},
   "outputs": [
    {
     "data": {
      "text/html": [
       "<div>\n",
       "<style scoped>\n",
       "    .dataframe tbody tr th:only-of-type {\n",
       "        vertical-align: middle;\n",
       "    }\n",
       "\n",
       "    .dataframe tbody tr th {\n",
       "        vertical-align: top;\n",
       "    }\n",
       "\n",
       "    .dataframe thead th {\n",
       "        text-align: right;\n",
       "    }\n",
       "</style>\n",
       "<table border=\"1\" class=\"dataframe\">\n",
       "  <thead>\n",
       "    <tr style=\"text-align: right;\">\n",
       "      <th></th>\n",
       "      <th>UUID</th>\n",
       "      <th>OOI_type</th>\n",
       "      <th>OOI_identifier</th>\n",
       "      <th>OOI_name</th>\n",
       "      <th>OOI_localId</th>\n",
       "      <th>OOI_namespace</th>\n",
       "      <th>hydroId</th>\n",
       "      <th>atPosition</th>\n",
       "      <th>watercourse_namespace</th>\n",
       "      <th>geometry</th>\n",
       "    </tr>\n",
       "  </thead>\n",
       "  <tbody>\n",
       "    <tr>\n",
       "      <th>0</th>\n",
       "      <td>8bdbaa46c4e842dca4e1432b7337a889</td>\n",
       "      <td>Production and Industrial site</td>\n",
       "      <td>https://data.gpbv.omgeving.vlaanderen.be/id/pr...</td>\n",
       "      <td>Van Looveren Leo</td>\n",
       "      <td>BE.VL.000000416.INSTALLATION</td>\n",
       "      <td>https://data.gpbv.omgeving.vlaanderen.be/id/pr...</td>\n",
       "      <td>7007018_2</td>\n",
       "      <td>61.991</td>\n",
       "      <td>gopeg.eu/tracing</td>\n",
       "      <td>LINESTRING (3953305.814 3153635.427, 3953437.7...</td>\n",
       "    </tr>\n",
       "    <tr>\n",
       "      <th>1</th>\n",
       "      <td>103548aba57449df8b8022859fc333c8</td>\n",
       "      <td>Production and Industrial site</td>\n",
       "      <td>https://data.gpbv.omgeving.vlaanderen.be/id/pr...</td>\n",
       "      <td>Swaegers Slachthuis</td>\n",
       "      <td>BE.VL.000000186.INSTALLATION</td>\n",
       "      <td>https://data.gpbv.omgeving.vlaanderen.be/id/pr...</td>\n",
       "      <td>6801187</td>\n",
       "      <td>704.589</td>\n",
       "      <td>gopeg.eu/tracing</td>\n",
       "      <td>LINESTRING (3955487.242 3155319.599, 3955376.5...</td>\n",
       "    </tr>\n",
       "  </tbody>\n",
       "</table>\n",
       "</div>"
      ],
      "text/plain": [
       "                               UUID                        OOI_type  \\\n",
       "0  8bdbaa46c4e842dca4e1432b7337a889  Production and Industrial site   \n",
       "1  103548aba57449df8b8022859fc333c8  Production and Industrial site   \n",
       "\n",
       "                                      OOI_identifier             OOI_name  \\\n",
       "0  https://data.gpbv.omgeving.vlaanderen.be/id/pr...     Van Looveren Leo   \n",
       "1  https://data.gpbv.omgeving.vlaanderen.be/id/pr...  Swaegers Slachthuis   \n",
       "\n",
       "                    OOI_localId  \\\n",
       "0  BE.VL.000000416.INSTALLATION   \n",
       "1  BE.VL.000000186.INSTALLATION   \n",
       "\n",
       "                                       OOI_namespace    hydroId  atPosition  \\\n",
       "0  https://data.gpbv.omgeving.vlaanderen.be/id/pr...  7007018_2      61.991   \n",
       "1  https://data.gpbv.omgeving.vlaanderen.be/id/pr...    6801187     704.589   \n",
       "\n",
       "  watercourse_namespace                                           geometry  \n",
       "0      gopeg.eu/tracing  LINESTRING (3953305.814 3153635.427, 3953437.7...  \n",
       "1      gopeg.eu/tracing  LINESTRING (3955487.242 3155319.599, 3955376.5...  "
      ]
     },
     "execution_count": 78,
     "metadata": {},
     "output_type": "execute_result"
    }
   ],
   "source": [
    "gdf_links_final.head(2)"
   ]
  },
  {
   "cell_type": "code",
   "execution_count": 42,
   "id": "c8c3f4ac",
   "metadata": {},
   "outputs": [
    {
     "data": {
      "text/plain": [
       "'c:\\\\Workdir\\\\Develop\\\\repository\\\\go-peg'"
      ]
     },
     "execution_count": 42,
     "metadata": {},
     "output_type": "execute_result"
    }
   ],
   "source": [
    "pwd"
   ]
  },
  {
   "cell_type": "code",
   "execution_count": 76,
   "id": "04175973",
   "metadata": {},
   "outputs": [],
   "source": [
    "gdf_links_final.to_file(\"harmonized_data/VL_ObjectsOfInterest.gpkg\", layer=\"points_links\", driver='GPKG')"
   ]
  },
  {
   "cell_type": "code",
   "execution_count": null,
   "id": "268346cf",
   "metadata": {},
   "outputs": [],
   "source": []
  }
 ],
 "metadata": {
  "kernelspec": {
   "display_name": "Python 3.8.1 ('venv': venv)",
   "language": "python",
   "name": "python3"
  },
  "language_info": {
   "codemirror_mode": {
    "name": "ipython",
    "version": 3
   },
   "file_extension": ".py",
   "mimetype": "text/x-python",
   "name": "python",
   "nbconvert_exporter": "python",
   "pygments_lexer": "ipython3",
   "version": "3.8.1"
  },
  "vscode": {
   "interpreter": {
    "hash": "8a8cb0b0d99d64370412e17fbaf9ec73e1c6fb09e83d60376e91f9a9e6f8c9ed"
   }
  }
 },
 "nbformat": 4,
 "nbformat_minor": 5
}
