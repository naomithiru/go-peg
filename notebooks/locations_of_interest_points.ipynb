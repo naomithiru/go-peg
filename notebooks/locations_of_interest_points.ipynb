{
 "cells": [
  {
   "cell_type": "markdown",
   "id": "73262737-8550-465e-801f-e9cb56919737",
   "metadata": {},
   "source": [
    "# Point Locations of Interest"
   ]
  },
  {
   "cell_type": "markdown",
   "id": "30f355df-a87c-4100-9799-9210881194dc",
   "metadata": {},
   "source": [
    "Locations of interest refer to any phonomenon occuring along the networks that have the potential to affect or be affected by pollution.\n",
    "\n",
    "The locations of interest have surface geometry, either point or polygon.\n",
    "\n",
    "This notebook develops the methodology for point locations of interest."
   ]
  },
  {
   "cell_type": "code",
   "execution_count": 1,
   "id": "4f7164a3",
   "metadata": {},
   "outputs": [
    {
     "name": "stdout",
     "output_type": "stream",
     "text": [
      "c:\\Workdir\\Develop\\repository\\go-peg\n"
     ]
    }
   ],
   "source": [
    "import os\n",
    "import sys\n",
    "path = os.path.dirname(os.path.abspath(''))\n",
    "os.chdir(path)\n",
    "print(path)"
   ]
  },
  {
   "cell_type": "code",
   "execution_count": 2,
   "id": "79f8b7cb-06cd-4f7c-ac2f-99782ccd5a69",
   "metadata": {},
   "outputs": [],
   "source": [
    "import geopandas as gpd\n",
    "import pandas as pd\n",
    "\n",
    "from shapely.geometry import Point, LineString, MultiLineString, MultiPoint\n",
    "from shapely import wkt\n",
    "from shapely.ops import nearest_points\n",
    "import shapely.wkt\n",
    "\n",
    "import numpy as np \n",
    "\n",
    "import warnings\n",
    "from shapely.errors import ShapelyDeprecationWarning\n",
    "warnings.filterwarnings(\"ignore\", category=ShapelyDeprecationWarning) \n",
    "\n",
    "pd.options.mode.chained_assignment = None  # default='warn'\n",
    "\n",
    "from src.config import config"
   ]
  },
  {
   "cell_type": "markdown",
   "id": "79e839bd",
   "metadata": {},
   "source": [
    "**Declare global variables**"
   ]
  },
  {
   "cell_type": "code",
   "execution_count": 8,
   "id": "03b61662",
   "metadata": {},
   "outputs": [],
   "source": [
    "# PROJ_CRS = 'EPSG:31370'\n",
    "PROJ_CRS = 'EPSG:3035'\n",
    "\n",
    "buffer_distance = 200\n",
    "region = 'DK'\n",
    "\n",
    "object_type = 'ProductionFacility' #no spaces"
   ]
  },
  {
   "cell_type": "markdown",
   "id": "22fb8718",
   "metadata": {},
   "source": [
    "**Load the processed water dataset and the object of interest dataset**"
   ]
  },
  {
   "cell_type": "code",
   "execution_count": 4,
   "id": "ced51f38-808c-4d9d-ba7c-0fc6693d932c",
   "metadata": {},
   "outputs": [],
   "source": [
    "def load_data(path):\n",
    "    \"\"\"\n",
    "    Loads the data from the given path, \n",
    "    and prints the shape and crs of the data.\n",
    "    \"\"\"\n",
    "    data = gpd.read_file(path)\n",
    "    print(data.shape)\n",
    "\n",
    "    data_crs = data.crs\n",
    "\n",
    "    print(\"Data crs:\", data.crs)\n",
    "    return data, data_crs"
   ]
  },
  {
   "cell_type": "code",
   "execution_count": 5,
   "id": "764f255d",
   "metadata": {},
   "outputs": [
    {
     "name": "stdout",
     "output_type": "stream",
     "text": [
      "(890635, 6)\n",
      "Data crs: EPSG:3044\n"
     ]
    }
   ],
   "source": [
    "PATH = config.data_dest / \"DK_waterPROCESSED.shp\"\n",
    "water, data_crs = load_data(PATH)"
   ]
  },
  {
   "cell_type": "code",
   "execution_count": 7,
   "id": "6421b985-dc80-46a4-ac41-eafd071450fb",
   "metadata": {},
   "outputs": [
    {
     "name": "stdout",
     "output_type": "stream",
     "text": [
      "(1877, 23)\n",
      "Data crs: EPSG:3035\n"
     ]
    }
   ],
   "source": [
    "PATH = (config.data_src / \"DK/OOI/ProductionFacility2.shp\")\n",
    "ooi_data, data_crs = load_data(PATH)\n",
    "# prod_installations = ooi_data.to_crs(PROJ_CRS)\n",
    "# print('Project crs:', prod_installations.crs)"
   ]
  },
  {
   "cell_type": "code",
   "execution_count": 9,
   "id": "e289e86d",
   "metadata": {},
   "outputs": [
    {
     "name": "stdout",
     "output_type": "stream",
     "text": [
      "Project crs: EPSG:3035\n"
     ]
    }
   ],
   "source": [
    "water = water.to_crs(PROJ_CRS)\n",
    "ooi_data = ooi_data.to_crs(PROJ_CRS)\n",
    "print('Project crs:', ooi_data.crs)"
   ]
  },
  {
   "cell_type": "code",
   "execution_count": 10,
   "id": "f28d7d5e",
   "metadata": {},
   "outputs": [
    {
     "data": {
      "text/html": [
       "<div>\n",
       "<style scoped>\n",
       "    .dataframe tbody tr th:only-of-type {\n",
       "        vertical-align: middle;\n",
       "    }\n",
       "\n",
       "    .dataframe tbody tr th {\n",
       "        vertical-align: top;\n",
       "    }\n",
       "\n",
       "    .dataframe thead th {\n",
       "        text-align: right;\n",
       "    }\n",
       "</style>\n",
       "<table border=\"1\" class=\"dataframe\">\n",
       "  <thead>\n",
       "    <tr style=\"text-align: right;\">\n",
       "      <th></th>\n",
       "      <th>gml_id</th>\n",
       "      <th>localId</th>\n",
       "      <th>namespace</th>\n",
       "      <th>validFrom</th>\n",
       "      <th>beginLifes</th>\n",
       "      <th>nameOfFeat</th>\n",
       "      <th>organisati</th>\n",
       "      <th>individual</th>\n",
       "      <th>electronic</th>\n",
       "      <th>streetName</th>\n",
       "      <th>...</th>\n",
       "      <th>telephoneN</th>\n",
       "      <th>parentComp</th>\n",
       "      <th>EPRTRAnnex</th>\n",
       "      <th>remarks</th>\n",
       "      <th>dateOfStar</th>\n",
       "      <th>address|Ad</th>\n",
       "      <th>address|_1</th>\n",
       "      <th>address|_2</th>\n",
       "      <th>address|_3</th>\n",
       "      <th>geometry</th>\n",
       "    </tr>\n",
       "  </thead>\n",
       "  <tbody>\n",
       "    <tr>\n",
       "      <th>0</th>\n",
       "      <td>_000057466.FACILITY</td>\n",
       "      <td>000057466.FACILITY</td>\n",
       "      <td>DK.CAED</td>\n",
       "      <td>NaN</td>\n",
       "      <td>NaN</td>\n",
       "      <td>VICUS P ApS (Wedellsborg)</td>\n",
       "      <td>Miljøstyrelsen</td>\n",
       "      <td>MST Erhverv</td>\n",
       "      <td>mst@mst.dk</td>\n",
       "      <td>Tolderlundsvej</td>\n",
       "      <td>...</td>\n",
       "      <td>72544000</td>\n",
       "      <td>VICUS P ApS</td>\n",
       "      <td>NaN</td>\n",
       "      <td>ProductionSite and ProductionFacilities in Den...</td>\n",
       "      <td>2017-07-20+00:00</td>\n",
       "      <td>Tybrindvej</td>\n",
       "      <td>47</td>\n",
       "      <td>Ejby</td>\n",
       "      <td>5592.0</td>\n",
       "      <td>POINT (4312450.247 3588333.431)</td>\n",
       "    </tr>\n",
       "    <tr>\n",
       "      <th>1</th>\n",
       "      <td>_000057500.FACILITY</td>\n",
       "      <td>000057500.FACILITY</td>\n",
       "      <td>DK.CAED</td>\n",
       "      <td>NaN</td>\n",
       "      <td>NaN</td>\n",
       "      <td>Arla Foods Amba Kruså Mejeri</td>\n",
       "      <td>Miljøstyrelsen</td>\n",
       "      <td>MST Erhverv</td>\n",
       "      <td>mst@mst.dk</td>\n",
       "      <td>Tolderlundsvej</td>\n",
       "      <td>...</td>\n",
       "      <td>72544000</td>\n",
       "      <td>NaN</td>\n",
       "      <td>NaN</td>\n",
       "      <td>ProductionSite and ProductionFacilities in Den...</td>\n",
       "      <td>1988-01-01+00:00</td>\n",
       "      <td>Aabenraavej</td>\n",
       "      <td>2A</td>\n",
       "      <td>Kruså</td>\n",
       "      <td>6340.0</td>\n",
       "      <td>POINT (4282657.527 3527407.302)</td>\n",
       "    </tr>\n",
       "    <tr>\n",
       "      <th>2</th>\n",
       "      <td>_000057518.FACILITY</td>\n",
       "      <td>000057518.FACILITY</td>\n",
       "      <td>DK.CAED</td>\n",
       "      <td>NaN</td>\n",
       "      <td>NaN</td>\n",
       "      <td>Arla Foods Amba Branderup Mejeri</td>\n",
       "      <td>Miljøstyrelsen</td>\n",
       "      <td>MST Erhverv</td>\n",
       "      <td>mst@mst.dk</td>\n",
       "      <td>Tolderlundsvej</td>\n",
       "      <td>...</td>\n",
       "      <td>72544000</td>\n",
       "      <td>NaN</td>\n",
       "      <td>NaN</td>\n",
       "      <td>ProductionSite and ProductionFacilities in Den...</td>\n",
       "      <td>2013-12-31+00:00</td>\n",
       "      <td>Engdraget</td>\n",
       "      <td>4</td>\n",
       "      <td>Branderup J</td>\n",
       "      <td>6535.0</td>\n",
       "      <td>POINT (4261660.782 3557601.093)</td>\n",
       "    </tr>\n",
       "    <tr>\n",
       "      <th>3</th>\n",
       "      <td>_000057519.FACILITY</td>\n",
       "      <td>000057519.FACILITY</td>\n",
       "      <td>DK.CAED</td>\n",
       "      <td>NaN</td>\n",
       "      <td>NaN</td>\n",
       "      <td>Frederikshavn Kraftvarmeværk</td>\n",
       "      <td>Miljøstyrelsen</td>\n",
       "      <td>MST Erhverv</td>\n",
       "      <td>mst@mst.dk</td>\n",
       "      <td>Tolderlundsvej</td>\n",
       "      <td>...</td>\n",
       "      <td>72544000</td>\n",
       "      <td>NaN</td>\n",
       "      <td>NaN</td>\n",
       "      <td>ProductionSite and ProductionFacilities in Den...</td>\n",
       "      <td>1986-06-19+00:00</td>\n",
       "      <td>Vendsysselvej</td>\n",
       "      <td>8</td>\n",
       "      <td>Frederikshavn</td>\n",
       "      <td>9900.0</td>\n",
       "      <td>POINT (4352284.031 3817333.008)</td>\n",
       "    </tr>\n",
       "    <tr>\n",
       "      <th>4</th>\n",
       "      <td>_000057522.FACILITY</td>\n",
       "      <td>000057522.FACILITY</td>\n",
       "      <td>DK.CAED</td>\n",
       "      <td>NaN</td>\n",
       "      <td>NaN</td>\n",
       "      <td>Arla Foods Amba AKAFA</td>\n",
       "      <td>Miljøstyrelsen</td>\n",
       "      <td>MST Erhverv</td>\n",
       "      <td>mst@mst.dk</td>\n",
       "      <td>Tolderlundsvej</td>\n",
       "      <td>...</td>\n",
       "      <td>72544000</td>\n",
       "      <td>ARLA FOODS AMBA</td>\n",
       "      <td>NaN</td>\n",
       "      <td>ProductionSite and ProductionFacilities in Den...</td>\n",
       "      <td>2013-12-31+00:00</td>\n",
       "      <td>Svenstrup Skolevej</td>\n",
       "      <td>25</td>\n",
       "      <td>Svenstrup J</td>\n",
       "      <td>9230.0</td>\n",
       "      <td>POINT (4311551.696 3763529.360)</td>\n",
       "    </tr>\n",
       "  </tbody>\n",
       "</table>\n",
       "<p>5 rows × 23 columns</p>\n",
       "</div>"
      ],
      "text/plain": [
       "                gml_id             localId namespace  validFrom  beginLifes  \\\n",
       "0  _000057466.FACILITY  000057466.FACILITY   DK.CAED        NaN         NaN   \n",
       "1  _000057500.FACILITY  000057500.FACILITY   DK.CAED        NaN         NaN   \n",
       "2  _000057518.FACILITY  000057518.FACILITY   DK.CAED        NaN         NaN   \n",
       "3  _000057519.FACILITY  000057519.FACILITY   DK.CAED        NaN         NaN   \n",
       "4  _000057522.FACILITY  000057522.FACILITY   DK.CAED        NaN         NaN   \n",
       "\n",
       "                         nameOfFeat      organisati   individual  electronic  \\\n",
       "0         VICUS P ApS (Wedellsborg)  Miljøstyrelsen  MST Erhverv  mst@mst.dk   \n",
       "1      Arla Foods Amba Kruså Mejeri  Miljøstyrelsen  MST Erhverv  mst@mst.dk   \n",
       "2  Arla Foods Amba Branderup Mejeri  Miljøstyrelsen  MST Erhverv  mst@mst.dk   \n",
       "3      Frederikshavn Kraftvarmeværk  Miljøstyrelsen  MST Erhverv  mst@mst.dk   \n",
       "4             Arla Foods Amba AKAFA  Miljøstyrelsen  MST Erhverv  mst@mst.dk   \n",
       "\n",
       "       streetName  ...  telephoneN       parentComp  EPRTRAnnex  \\\n",
       "0  Tolderlundsvej  ...    72544000      VICUS P ApS         NaN   \n",
       "1  Tolderlundsvej  ...    72544000              NaN         NaN   \n",
       "2  Tolderlundsvej  ...    72544000              NaN         NaN   \n",
       "3  Tolderlundsvej  ...    72544000              NaN         NaN   \n",
       "4  Tolderlundsvej  ...    72544000  ARLA FOODS AMBA         NaN   \n",
       "\n",
       "                                             remarks        dateOfStar  \\\n",
       "0  ProductionSite and ProductionFacilities in Den...  2017-07-20+00:00   \n",
       "1  ProductionSite and ProductionFacilities in Den...  1988-01-01+00:00   \n",
       "2  ProductionSite and ProductionFacilities in Den...  2013-12-31+00:00   \n",
       "3  ProductionSite and ProductionFacilities in Den...  1986-06-19+00:00   \n",
       "4  ProductionSite and ProductionFacilities in Den...  2013-12-31+00:00   \n",
       "\n",
       "           address|Ad address|_1     address|_2 address|_3  \\\n",
       "0          Tybrindvej         47           Ejby     5592.0   \n",
       "1         Aabenraavej         2A          Kruså     6340.0   \n",
       "2           Engdraget          4    Branderup J     6535.0   \n",
       "3       Vendsysselvej          8  Frederikshavn     9900.0   \n",
       "4  Svenstrup Skolevej         25    Svenstrup J     9230.0   \n",
       "\n",
       "                          geometry  \n",
       "0  POINT (4312450.247 3588333.431)  \n",
       "1  POINT (4282657.527 3527407.302)  \n",
       "2  POINT (4261660.782 3557601.093)  \n",
       "3  POINT (4352284.031 3817333.008)  \n",
       "4  POINT (4311551.696 3763529.360)  \n",
       "\n",
       "[5 rows x 23 columns]"
      ]
     },
     "execution_count": 10,
     "metadata": {},
     "output_type": "execute_result"
    }
   ],
   "source": [
    "ooi_data.head()"
   ]
  },
  {
   "cell_type": "code",
   "execution_count": 63,
   "id": "9ca96575",
   "metadata": {},
   "outputs": [
    {
     "data": {
      "text/plain": [
       "gml_id                                      _000057466.FACILITY\n",
       "localId                                      000057466.FACILITY\n",
       "namespace                                               DK.CAED\n",
       "validFrom                                                   NaN\n",
       "beginLifes                                                  NaN\n",
       "nameOfFeat                            VICUS P ApS (Wedellsborg)\n",
       "organisati                                       Miljøstyrelsen\n",
       "individual                                          MST Erhverv\n",
       "electronic                                           mst@mst.dk\n",
       "streetName                                       Tolderlundsvej\n",
       "buildingNu                                                    5\n",
       "city                                                   Odense C\n",
       "postalCode                                                 5000\n",
       "telephoneN                                             72544000\n",
       "parentComp                                          VICUS P ApS\n",
       "EPRTRAnnex                                                  NaN\n",
       "remarks       ProductionSite and ProductionFacilities in Den...\n",
       "dateOfStar                                     2017-07-20+00:00\n",
       "address|Ad                                           Tybrindvej\n",
       "address|_1                                                   47\n",
       "address|_2                                                 Ejby\n",
       "address|_3                                               5592.0\n",
       "geometry           POINT (4312450.247016033 3588333.4308890193)\n",
       "Name: 0, dtype: object"
      ]
     },
     "execution_count": 63,
     "metadata": {},
     "output_type": "execute_result"
    }
   ],
   "source": [
    "ooi_data.loc[0]"
   ]
  },
  {
   "cell_type": "markdown",
   "id": "93dbb02b-2524-467b-96a6-cfd833aeabf3",
   "metadata": {},
   "source": [
    "## Working with point locations of interest\n",
    "\n",
    "For working with point locations of interests, we will project a point to the nearest water geometry, applying a threshold distance to exclude points that are too far away from the nearest water geometry."
   ]
  },
  {
   "attachments": {},
   "cell_type": "markdown",
   "id": "7b19383c",
   "metadata": {},
   "source": [
    "**Select relevant columns from the object of interest dataset, which includes identifiers and geometry**"
   ]
  },
  {
   "cell_type": "code",
   "execution_count": null,
   "id": "06f904c0",
   "metadata": {},
   "outputs": [],
   "source": [
    "# {'nameOfFeat': 'nameOfFacility', 'organisati': 'organisation'}"
   ]
  },
  {
   "cell_type": "code",
   "execution_count": 65,
   "id": "5e7a647c",
   "metadata": {},
   "outputs": [
    {
     "data": {
      "text/plain": [
       "(1877, 9)"
      ]
     },
     "execution_count": 65,
     "metadata": {},
     "output_type": "execute_result"
    }
   ],
   "source": [
    "prod_points = ooi_data[['localId', 'namespace', 'nameOfFeat', 'organisati', 'city', 'dateOfStar','validFrom', 'beginLifes', 'geometry']]\n",
    "prod_points.head(2)\n",
    "prod_points.shape"
   ]
  },
  {
   "attachments": {},
   "cell_type": "markdown",
   "id": "db5bfbaf",
   "metadata": {},
   "source": [
    "**Select relevant columns from the water dataset**"
   ]
  },
  {
   "cell_type": "code",
   "execution_count": 66,
   "id": "6ff13c37",
   "metadata": {},
   "outputs": [
    {
     "name": "stdout",
     "output_type": "stream",
     "text": [
      "MultiLinesStrings: 0\n"
     ]
    }
   ],
   "source": [
    "#Check for multiline strings in a dataset\n",
    "def check_multiline(df):\n",
    "    \"\"\"This function checks for multiline strings\n",
    "        from the geometry column in a given dataset\"\"\"\n",
    "    lst = df['geometry'].to_list()\n",
    "    multiline_count = 0\n",
    "    for item in lst:\n",
    "        if isinstance(item, MultiLineString):\n",
    "            multiline_count += 1\n",
    "    print(\"MultiLinesStrings:\" , multiline_count)\n",
    "\n",
    "check_multiline(water)   "
   ]
  },
  {
   "cell_type": "code",
   "execution_count": 67,
   "id": "e8f5e214",
   "metadata": {},
   "outputs": [],
   "source": [
    "# water_df = water[['VHAS', 'NAAM', 'start_ID', 'end_ID', 'geometry']]\n",
    "water_df = water[['line_id', 'geometry']]"
   ]
  },
  {
   "cell_type": "code",
   "execution_count": 68,
   "id": "ae7dc2ad",
   "metadata": {},
   "outputs": [],
   "source": [
    "assert water_df.shape[0] == water_df.geometry.nunique()"
   ]
  },
  {
   "cell_type": "markdown",
   "id": "09db843e",
   "metadata": {},
   "source": [
    "**Perform an sjoin to get the two dataset properties into one dataset**"
   ]
  },
  {
   "cell_type": "code",
   "execution_count": 69,
   "id": "2fd42f40",
   "metadata": {},
   "outputs": [],
   "source": [
    "gdf_p = prod_points.copy()\n",
    "gdf_l = water_df.copy()\n",
    "\n",
    "\n",
    "df_n = (gpd.sjoin_nearest(gdf_p, gdf_l)\n",
    "            .merge(gdf_l['geometry'], left_on=\"index_right\", right_index=True)\n",
    "            .drop(columns=['index_right'])\n",
    "            .rename(columns={'index_left': 'ID', 'geometry_x':'point_geom', 'geometry_y':'line_geom'})\n",
    "            .reset_index(drop=True)\n",
    "            ) #merge operation adds the geometry column\n",
    "            \n",
    "#get distance of location of interest from water. With this distance we can filter out locations by distance from water\n",
    "# df_n[\"distance\"] = df_n.apply(lambda r: r[\"geometry_x\"].distance(r[\"geometry_y\"]), axis=1)\n",
    "df_n = df_n.drop_duplicates(subset=['point_geom'])\n",
    "assert df_n['point_geom'].isnull().values.any() == False\n",
    "assert df_n['line_geom'].isnull().values.any() == False"
   ]
  },
  {
   "cell_type": "markdown",
   "id": "e9345e89",
   "metadata": {},
   "source": [
    "Ensure the linestring geometry is not multilinestring"
   ]
  },
  {
   "cell_type": "code",
   "execution_count": 70,
   "id": "33d38874",
   "metadata": {},
   "outputs": [],
   "source": [
    "def multiline_to_linestring_col(df, geom_col):\n",
    "    linestrings = []\n",
    "    for idx, row in df.iterrows():\n",
    "        if isinstance(row[geom_col], LineString):\n",
    "            linestrings.append(row[geom_col])\n",
    "        elif isinstance(row[geom_col], MultiLineString):\n",
    "            inlines = row[geom_col]\n",
    "            outcoords = [list(item.coords) for item in inlines]\n",
    "            outline = shapely.geometry.LineString(\n",
    "                [i for sublist in outcoords for i in sublist])\n",
    "            linestrings.append(outline)\n",
    "    return linestrings\n",
    "\n",
    "df_n['line_geom'] = multiline_to_linestring_col(df_n, 'line_geom')"
   ]
  },
  {
   "cell_type": "code",
   "execution_count": 71,
   "id": "9b75b48f",
   "metadata": {},
   "outputs": [
    {
     "data": {
      "text/html": [
       "<div>\n",
       "<style scoped>\n",
       "    .dataframe tbody tr th:only-of-type {\n",
       "        vertical-align: middle;\n",
       "    }\n",
       "\n",
       "    .dataframe tbody tr th {\n",
       "        vertical-align: top;\n",
       "    }\n",
       "\n",
       "    .dataframe thead th {\n",
       "        text-align: right;\n",
       "    }\n",
       "</style>\n",
       "<table border=\"1\" class=\"dataframe\">\n",
       "  <thead>\n",
       "    <tr style=\"text-align: right;\">\n",
       "      <th></th>\n",
       "      <th>localId</th>\n",
       "      <th>namespace</th>\n",
       "      <th>nameOfFeat</th>\n",
       "      <th>organisati</th>\n",
       "      <th>city</th>\n",
       "      <th>dateOfStar</th>\n",
       "      <th>validFrom</th>\n",
       "      <th>beginLifes</th>\n",
       "      <th>point_geom</th>\n",
       "      <th>line_id</th>\n",
       "      <th>line_geom</th>\n",
       "    </tr>\n",
       "  </thead>\n",
       "  <tbody>\n",
       "    <tr>\n",
       "      <th>0</th>\n",
       "      <td>000057466.FACILITY</td>\n",
       "      <td>DK.CAED</td>\n",
       "      <td>VICUS P ApS (Wedellsborg)</td>\n",
       "      <td>Miljøstyrelsen</td>\n",
       "      <td>Odense C</td>\n",
       "      <td>2017-07-20+00:00</td>\n",
       "      <td>NaN</td>\n",
       "      <td>NaN</td>\n",
       "      <td>POINT (4312450.247 3588333.431)</td>\n",
       "      <td>1092056957</td>\n",
       "      <td>LINESTRING (4312569.089749929 3588023.78440905...</td>\n",
       "    </tr>\n",
       "    <tr>\n",
       "      <th>1</th>\n",
       "      <td>000057500.FACILITY</td>\n",
       "      <td>DK.CAED</td>\n",
       "      <td>Arla Foods Amba Kruså Mejeri</td>\n",
       "      <td>Miljøstyrelsen</td>\n",
       "      <td>Odense C</td>\n",
       "      <td>1988-01-01+00:00</td>\n",
       "      <td>NaN</td>\n",
       "      <td>NaN</td>\n",
       "      <td>POINT (4282657.527 3527407.302)</td>\n",
       "      <td>1213686790</td>\n",
       "      <td>LINESTRING (4281874.205463002 3527554.87769692...</td>\n",
       "    </tr>\n",
       "  </tbody>\n",
       "</table>\n",
       "</div>"
      ],
      "text/plain": [
       "              localId namespace                    nameOfFeat      organisati  \\\n",
       "0  000057466.FACILITY   DK.CAED     VICUS P ApS (Wedellsborg)  Miljøstyrelsen   \n",
       "1  000057500.FACILITY   DK.CAED  Arla Foods Amba Kruså Mejeri  Miljøstyrelsen   \n",
       "\n",
       "       city        dateOfStar  validFrom  beginLifes  \\\n",
       "0  Odense C  2017-07-20+00:00        NaN         NaN   \n",
       "1  Odense C  1988-01-01+00:00        NaN         NaN   \n",
       "\n",
       "                        point_geom     line_id  \\\n",
       "0  POINT (4312450.247 3588333.431)  1092056957   \n",
       "1  POINT (4282657.527 3527407.302)  1213686790   \n",
       "\n",
       "                                           line_geom  \n",
       "0  LINESTRING (4312569.089749929 3588023.78440905...  \n",
       "1  LINESTRING (4281874.205463002 3527554.87769692...  "
      ]
     },
     "execution_count": 71,
     "metadata": {},
     "output_type": "execute_result"
    }
   ],
   "source": [
    "df_n.head(2)"
   ]
  },
  {
   "cell_type": "code",
   "execution_count": 72,
   "id": "ce755c1d",
   "metadata": {},
   "outputs": [
    {
     "data": {
      "text/plain": [
       "shapely.geometry.point.Point"
      ]
     },
     "execution_count": 72,
     "metadata": {},
     "output_type": "execute_result"
    }
   ],
   "source": [
    "def project_point_to_line(df):\n",
    "    nearest_geoms = []\n",
    "    for i, row in df.iterrows():\n",
    "        nearest_point = nearest_points(row['line_geom'], row['point_geom'])\n",
    "        point = nearest_point[0]\n",
    "        nearest_geoms.append(point)\n",
    "    return nearest_geoms\n",
    "\n",
    "df_n['nearest_point'] = project_point_to_line(df_n)\n",
    "type(df_n['nearest_point'][0])"
   ]
  },
  {
   "cell_type": "code",
   "execution_count": 73,
   "id": "1b50ae63",
   "metadata": {},
   "outputs": [
    {
     "data": {
      "text/html": [
       "<div>\n",
       "<style scoped>\n",
       "    .dataframe tbody tr th:only-of-type {\n",
       "        vertical-align: middle;\n",
       "    }\n",
       "\n",
       "    .dataframe tbody tr th {\n",
       "        vertical-align: top;\n",
       "    }\n",
       "\n",
       "    .dataframe thead th {\n",
       "        text-align: right;\n",
       "    }\n",
       "</style>\n",
       "<table border=\"1\" class=\"dataframe\">\n",
       "  <thead>\n",
       "    <tr style=\"text-align: right;\">\n",
       "      <th></th>\n",
       "      <th>localId</th>\n",
       "      <th>namespace</th>\n",
       "      <th>nameOfFeat</th>\n",
       "      <th>organisati</th>\n",
       "      <th>city</th>\n",
       "      <th>dateOfStar</th>\n",
       "      <th>validFrom</th>\n",
       "      <th>beginLifes</th>\n",
       "      <th>point_geom</th>\n",
       "      <th>line_id</th>\n",
       "      <th>line_geom</th>\n",
       "      <th>nearest_point</th>\n",
       "    </tr>\n",
       "  </thead>\n",
       "  <tbody>\n",
       "    <tr>\n",
       "      <th>0</th>\n",
       "      <td>000057466.FACILITY</td>\n",
       "      <td>DK.CAED</td>\n",
       "      <td>VICUS P ApS (Wedellsborg)</td>\n",
       "      <td>Miljøstyrelsen</td>\n",
       "      <td>Odense C</td>\n",
       "      <td>2017-07-20+00:00</td>\n",
       "      <td>NaN</td>\n",
       "      <td>NaN</td>\n",
       "      <td>POINT (4312450.247 3588333.431)</td>\n",
       "      <td>1092056957</td>\n",
       "      <td>LINESTRING (4312569.089749929 3588023.78440905...</td>\n",
       "      <td>POINT (4312569.089749929 3588023.7844090504)</td>\n",
       "    </tr>\n",
       "    <tr>\n",
       "      <th>1</th>\n",
       "      <td>000057500.FACILITY</td>\n",
       "      <td>DK.CAED</td>\n",
       "      <td>Arla Foods Amba Kruså Mejeri</td>\n",
       "      <td>Miljøstyrelsen</td>\n",
       "      <td>Odense C</td>\n",
       "      <td>1988-01-01+00:00</td>\n",
       "      <td>NaN</td>\n",
       "      <td>NaN</td>\n",
       "      <td>POINT (4282657.527 3527407.302)</td>\n",
       "      <td>1213686790</td>\n",
       "      <td>LINESTRING (4281874.205463002 3527554.87769692...</td>\n",
       "      <td>POINT (4282439.747302851 3527784.0230870843)</td>\n",
       "    </tr>\n",
       "  </tbody>\n",
       "</table>\n",
       "</div>"
      ],
      "text/plain": [
       "              localId namespace                    nameOfFeat      organisati  \\\n",
       "0  000057466.FACILITY   DK.CAED     VICUS P ApS (Wedellsborg)  Miljøstyrelsen   \n",
       "1  000057500.FACILITY   DK.CAED  Arla Foods Amba Kruså Mejeri  Miljøstyrelsen   \n",
       "\n",
       "       city        dateOfStar  validFrom  beginLifes  \\\n",
       "0  Odense C  2017-07-20+00:00        NaN         NaN   \n",
       "1  Odense C  1988-01-01+00:00        NaN         NaN   \n",
       "\n",
       "                        point_geom     line_id  \\\n",
       "0  POINT (4312450.247 3588333.431)  1092056957   \n",
       "1  POINT (4282657.527 3527407.302)  1213686790   \n",
       "\n",
       "                                           line_geom  \\\n",
       "0  LINESTRING (4312569.089749929 3588023.78440905...   \n",
       "1  LINESTRING (4281874.205463002 3527554.87769692...   \n",
       "\n",
       "                                  nearest_point  \n",
       "0  POINT (4312569.089749929 3588023.7844090504)  \n",
       "1  POINT (4282439.747302851 3527784.0230870843)  "
      ]
     },
     "execution_count": 73,
     "metadata": {},
     "output_type": "execute_result"
    }
   ],
   "source": [
    "df_n.head(2)"
   ]
  },
  {
   "cell_type": "code",
   "execution_count": 74,
   "id": "471b5d57",
   "metadata": {},
   "outputs": [],
   "source": [
    "# test_df = gpd.GeoDataFrame((df_n[['line_id', 'nearest_geoms']].rename(columns={'nearest_geoms':'geometry'})), geometry='geometry')\n",
    "# test_df = test_df.set_crs(PROJ_CRS)\n",
    "# test_df.to_file('data/test_data/links_test.shp')"
   ]
  },
  {
   "cell_type": "markdown",
   "id": "67598246",
   "metadata": {},
   "source": [
    "**Filter out objects of interest by distance from network**"
   ]
  },
  {
   "cell_type": "code",
   "execution_count": 75,
   "id": "6fe92914",
   "metadata": {},
   "outputs": [
    {
     "name": "stdout",
     "output_type": "stream",
     "text": [
      "(646, 13)\n"
     ]
    }
   ],
   "source": [
    "# Filret objects of interest by distance\n",
    "df_n[\"distance\"] = df_n.apply(lambda r: r[\"point_geom\"].distance(r[\"nearest_point\"]), axis=1)\n",
    "\n",
    "df_filtered = df_n[df_n['distance'] < buffer_distance].reset_index(drop=True)\n",
    "print(df_filtered.shape)"
   ]
  },
  {
   "cell_type": "markdown",
   "id": "1909fa81",
   "metadata": {},
   "source": [
    "**Insert the nearest geoms into the linestring before making connection lines**"
   ]
  },
  {
   "cell_type": "code",
   "execution_count": 76,
   "id": "f0445cda",
   "metadata": {},
   "outputs": [
    {
     "data": {
      "text/plain": [
       "Index(['localId', 'namespace', 'nameOfFeat', 'organisati', 'city',\n",
       "       'dateOfStar', 'validFrom', 'beginLifes', 'point_geom', 'line_id',\n",
       "       'line_geom', 'nearest_point', 'distance'],\n",
       "      dtype='object')"
      ]
     },
     "execution_count": 76,
     "metadata": {},
     "output_type": "execute_result"
    }
   ],
   "source": [
    "df_filtered.columns"
   ]
  },
  {
   "cell_type": "markdown",
   "id": "c9591ee4",
   "metadata": {},
   "source": [
    "**get new linestrings with added new point vertex**"
   ]
  },
  {
   "cell_type": "code",
   "execution_count": 77,
   "id": "530257d3",
   "metadata": {},
   "outputs": [],
   "source": [
    "## This is the function that works\n",
    "def insert_coordinates():\n",
    "    linestrings = []\n",
    "    for row in df_filtered.iterrows():\n",
    "        line = row[1]['line_geom']\n",
    "        point = row[1]['nearest_point']\n",
    "\n",
    "        min_dist = float('inf')\n",
    "        for i, coord in enumerate(line.coords[:-1]):\n",
    "            dist = LineString([coord, line.coords[i+1]]).distance(point)\n",
    "            if dist < min_dist:\n",
    "                min_dist = dist\n",
    "                index = i + 1\n",
    "\n",
    "        # Insert the new vertex into the LineString geometry\n",
    "        new_coords = list(line.coords)\n",
    "        # print(len(new_coords))\n",
    "        new_coords.insert(index, point.coords[0])\n",
    "        new_line = LineString(new_coords)\n",
    "        linestrings.append(new_line)\n",
    "\n",
    "    return linestrings"
   ]
  },
  {
   "cell_type": "code",
   "execution_count": 78,
   "id": "7ae10568",
   "metadata": {},
   "outputs": [],
   "source": [
    "df_filtered['new_line_geom'] = insert_coordinates()"
   ]
  },
  {
   "cell_type": "markdown",
   "id": "248f4d80",
   "metadata": {},
   "source": [
    "**Make connection lines from objects of interest to the point in the new line**"
   ]
  },
  {
   "cell_type": "code",
   "execution_count": 79,
   "id": "37f633a7",
   "metadata": {},
   "outputs": [
    {
     "data": {
      "text/plain": [
       "Index(['localId', 'namespace', 'nameOfFeat', 'organisati', 'city',\n",
       "       'dateOfStar', 'validFrom', 'beginLifes', 'point_geom', 'line_id',\n",
       "       'line_geom', 'nearest_point', 'distance'],\n",
       "      dtype='object')"
      ]
     },
     "execution_count": 79,
     "metadata": {},
     "output_type": "execute_result"
    }
   ],
   "source": [
    "df_n.columns"
   ]
  },
  {
   "cell_type": "code",
   "execution_count": 80,
   "id": "50ac3286",
   "metadata": {},
   "outputs": [
    {
     "data": {
      "text/html": [
       "<div>\n",
       "<style scoped>\n",
       "    .dataframe tbody tr th:only-of-type {\n",
       "        vertical-align: middle;\n",
       "    }\n",
       "\n",
       "    .dataframe tbody tr th {\n",
       "        vertical-align: top;\n",
       "    }\n",
       "\n",
       "    .dataframe thead th {\n",
       "        text-align: right;\n",
       "    }\n",
       "</style>\n",
       "<table border=\"1\" class=\"dataframe\">\n",
       "  <thead>\n",
       "    <tr style=\"text-align: right;\">\n",
       "      <th></th>\n",
       "      <th>localId</th>\n",
       "      <th>namespace</th>\n",
       "      <th>nameOfFeat</th>\n",
       "      <th>organisati</th>\n",
       "      <th>city</th>\n",
       "      <th>dateOfStar</th>\n",
       "      <th>validFrom</th>\n",
       "      <th>beginLifes</th>\n",
       "      <th>point_geom</th>\n",
       "      <th>line_id</th>\n",
       "      <th>line_geom</th>\n",
       "      <th>nearest_point</th>\n",
       "      <th>distance</th>\n",
       "      <th>new_line_geom</th>\n",
       "      <th>connection_lines</th>\n",
       "    </tr>\n",
       "  </thead>\n",
       "  <tbody>\n",
       "    <tr>\n",
       "      <th>0</th>\n",
       "      <td>000057518.FACILITY</td>\n",
       "      <td>DK.CAED</td>\n",
       "      <td>Arla Foods Amba Branderup Mejeri</td>\n",
       "      <td>Miljøstyrelsen</td>\n",
       "      <td>Odense C</td>\n",
       "      <td>2013-12-31+00:00</td>\n",
       "      <td>NaN</td>\n",
       "      <td>NaN</td>\n",
       "      <td>POINT (4261660.782 3557601.093)</td>\n",
       "      <td>1211639814</td>\n",
       "      <td>LINESTRING (4261723.299670125 3557738.63441224...</td>\n",
       "      <td>POINT (4261741.430483028 3557717.0707296734)</td>\n",
       "      <td>141.262144</td>\n",
       "      <td>LINESTRING (4261723.299670125 3557738.63441224...</td>\n",
       "      <td>LINESTRING (4261660.78186408 3557601.093172827...</td>\n",
       "    </tr>\n",
       "    <tr>\n",
       "      <th>1</th>\n",
       "      <td>000057522.FACILITY</td>\n",
       "      <td>DK.CAED</td>\n",
       "      <td>Arla Foods Amba AKAFA</td>\n",
       "      <td>Miljøstyrelsen</td>\n",
       "      <td>Odense C</td>\n",
       "      <td>2013-12-31+00:00</td>\n",
       "      <td>NaN</td>\n",
       "      <td>NaN</td>\n",
       "      <td>POINT (4311551.696 3763529.360)</td>\n",
       "      <td>1105368984</td>\n",
       "      <td>LINESTRING (4311616.3600454405 3763682.4157406...</td>\n",
       "      <td>POINT (4311616.3600454405 3763682.4157406315)</td>\n",
       "      <td>166.154595</td>\n",
       "      <td>LINESTRING (4311616.3600454405 3763682.4157406...</td>\n",
       "      <td>LINESTRING (4311551.696413628 3763529.36031273...</td>\n",
       "    </tr>\n",
       "  </tbody>\n",
       "</table>\n",
       "</div>"
      ],
      "text/plain": [
       "              localId namespace                        nameOfFeat  \\\n",
       "0  000057518.FACILITY   DK.CAED  Arla Foods Amba Branderup Mejeri   \n",
       "1  000057522.FACILITY   DK.CAED             Arla Foods Amba AKAFA   \n",
       "\n",
       "       organisati      city        dateOfStar  validFrom  beginLifes  \\\n",
       "0  Miljøstyrelsen  Odense C  2013-12-31+00:00        NaN         NaN   \n",
       "1  Miljøstyrelsen  Odense C  2013-12-31+00:00        NaN         NaN   \n",
       "\n",
       "                        point_geom     line_id  \\\n",
       "0  POINT (4261660.782 3557601.093)  1211639814   \n",
       "1  POINT (4311551.696 3763529.360)  1105368984   \n",
       "\n",
       "                                           line_geom  \\\n",
       "0  LINESTRING (4261723.299670125 3557738.63441224...   \n",
       "1  LINESTRING (4311616.3600454405 3763682.4157406...   \n",
       "\n",
       "                                   nearest_point    distance  \\\n",
       "0   POINT (4261741.430483028 3557717.0707296734)  141.262144   \n",
       "1  POINT (4311616.3600454405 3763682.4157406315)  166.154595   \n",
       "\n",
       "                                       new_line_geom  \\\n",
       "0  LINESTRING (4261723.299670125 3557738.63441224...   \n",
       "1  LINESTRING (4311616.3600454405 3763682.4157406...   \n",
       "\n",
       "                                    connection_lines  \n",
       "0  LINESTRING (4261660.78186408 3557601.093172827...  \n",
       "1  LINESTRING (4311551.696413628 3763529.36031273...  "
      ]
     },
     "execution_count": 80,
     "metadata": {},
     "output_type": "execute_result"
    }
   ],
   "source": [
    "def make_connection_lines(df, from_point, to_point):\n",
    "    lines = []\n",
    "    for index, row in df.iterrows():\n",
    "        p_1 = Point(row[from_point])\n",
    "        p_2 = Point(row[to_point])\n",
    "        intersect = LineString([p_1, p_2])\n",
    "        # linestring = loads(intersect)\n",
    "        lines.append(intersect)\n",
    "    return lines\n",
    "\n",
    "df_filtered['connection_lines'] = make_connection_lines(df_filtered, 'point_geom', 'nearest_point')\n",
    "df_filtered.head(2)"
   ]
  },
  {
   "cell_type": "code",
   "execution_count": 81,
   "id": "69edce10",
   "metadata": {},
   "outputs": [
    {
     "name": "stdout",
     "output_type": "stream",
     "text": [
      "<class 'pandas.core.frame.DataFrame'>\n",
      "Int64Index: 1736 entries, 0 to 1925\n",
      "Data columns (total 13 columns):\n",
      " #   Column         Non-Null Count  Dtype   \n",
      "---  ------         --------------  -----   \n",
      " 0   localId        1736 non-null   object  \n",
      " 1   namespace      1736 non-null   object  \n",
      " 2   nameOfFeat     1736 non-null   object  \n",
      " 3   organisati     1736 non-null   object  \n",
      " 4   city           1736 non-null   object  \n",
      " 5   dateOfStar     1736 non-null   object  \n",
      " 6   validFrom      0 non-null      float64 \n",
      " 7   beginLifes     0 non-null      float64 \n",
      " 8   point_geom     1736 non-null   geometry\n",
      " 9   line_id        1736 non-null   object  \n",
      " 10  line_geom      1736 non-null   object  \n",
      " 11  nearest_point  1736 non-null   object  \n",
      " 12  distance       1736 non-null   float64 \n",
      "dtypes: float64(3), geometry(1), object(9)\n",
      "memory usage: 254.4+ KB\n"
     ]
    }
   ],
   "source": [
    "df_n.info()"
   ]
  },
  {
   "cell_type": "code",
   "execution_count": 82,
   "id": "dc60593d",
   "metadata": {},
   "outputs": [
    {
     "data": {
      "text/plain": [
       "shapely.geometry.linestring.LineString"
      ]
     },
     "execution_count": 82,
     "metadata": {},
     "output_type": "execute_result"
    }
   ],
   "source": [
    "type(df_filtered['new_line_geom'][0])"
   ]
  },
  {
   "cell_type": "markdown",
   "id": "dea84dd3",
   "metadata": {},
   "source": [
    "**Calculate distance on network segment where the object of interest is referenced**"
   ]
  },
  {
   "cell_type": "code",
   "execution_count": 83,
   "id": "4e819094",
   "metadata": {},
   "outputs": [
    {
     "data": {
      "text/html": [
       "<div>\n",
       "<style scoped>\n",
       "    .dataframe tbody tr th:only-of-type {\n",
       "        vertical-align: middle;\n",
       "    }\n",
       "\n",
       "    .dataframe tbody tr th {\n",
       "        vertical-align: top;\n",
       "    }\n",
       "\n",
       "    .dataframe thead th {\n",
       "        text-align: right;\n",
       "    }\n",
       "</style>\n",
       "<table border=\"1\" class=\"dataframe\">\n",
       "  <thead>\n",
       "    <tr style=\"text-align: right;\">\n",
       "      <th></th>\n",
       "      <th>localId</th>\n",
       "      <th>namespace</th>\n",
       "      <th>nameOfFeat</th>\n",
       "      <th>organisati</th>\n",
       "      <th>city</th>\n",
       "      <th>dateOfStar</th>\n",
       "      <th>validFrom</th>\n",
       "      <th>beginLifes</th>\n",
       "      <th>point_geom</th>\n",
       "      <th>line_id</th>\n",
       "      <th>line_geom</th>\n",
       "      <th>nearest_point</th>\n",
       "      <th>distance</th>\n",
       "      <th>new_line_geom</th>\n",
       "      <th>connection_lines</th>\n",
       "    </tr>\n",
       "  </thead>\n",
       "  <tbody>\n",
       "    <tr>\n",
       "      <th>0</th>\n",
       "      <td>000057518.FACILITY</td>\n",
       "      <td>DK.CAED</td>\n",
       "      <td>Arla Foods Amba Branderup Mejeri</td>\n",
       "      <td>Miljøstyrelsen</td>\n",
       "      <td>Odense C</td>\n",
       "      <td>2013-12-31+00:00</td>\n",
       "      <td>NaN</td>\n",
       "      <td>NaN</td>\n",
       "      <td>POINT (4261660.782 3557601.093)</td>\n",
       "      <td>1211639814</td>\n",
       "      <td>LINESTRING (4261723.299670125 3557738.63441224...</td>\n",
       "      <td>POINT (4261741.430483028 3557717.0707296734)</td>\n",
       "      <td>141.262144</td>\n",
       "      <td>LINESTRING (4261723.299670125 3557738.63441224...</td>\n",
       "      <td>LINESTRING (4261660.78186408 3557601.093172827...</td>\n",
       "    </tr>\n",
       "    <tr>\n",
       "      <th>1</th>\n",
       "      <td>000057522.FACILITY</td>\n",
       "      <td>DK.CAED</td>\n",
       "      <td>Arla Foods Amba AKAFA</td>\n",
       "      <td>Miljøstyrelsen</td>\n",
       "      <td>Odense C</td>\n",
       "      <td>2013-12-31+00:00</td>\n",
       "      <td>NaN</td>\n",
       "      <td>NaN</td>\n",
       "      <td>POINT (4311551.696 3763529.360)</td>\n",
       "      <td>1105368984</td>\n",
       "      <td>LINESTRING (4311616.3600454405 3763682.4157406...</td>\n",
       "      <td>POINT (4311616.3600454405 3763682.4157406315)</td>\n",
       "      <td>166.154595</td>\n",
       "      <td>LINESTRING (4311616.3600454405 3763682.4157406...</td>\n",
       "      <td>LINESTRING (4311551.696413628 3763529.36031273...</td>\n",
       "    </tr>\n",
       "  </tbody>\n",
       "</table>\n",
       "</div>"
      ],
      "text/plain": [
       "              localId namespace                        nameOfFeat  \\\n",
       "0  000057518.FACILITY   DK.CAED  Arla Foods Amba Branderup Mejeri   \n",
       "1  000057522.FACILITY   DK.CAED             Arla Foods Amba AKAFA   \n",
       "\n",
       "       organisati      city        dateOfStar  validFrom  beginLifes  \\\n",
       "0  Miljøstyrelsen  Odense C  2013-12-31+00:00        NaN         NaN   \n",
       "1  Miljøstyrelsen  Odense C  2013-12-31+00:00        NaN         NaN   \n",
       "\n",
       "                        point_geom     line_id  \\\n",
       "0  POINT (4261660.782 3557601.093)  1211639814   \n",
       "1  POINT (4311551.696 3763529.360)  1105368984   \n",
       "\n",
       "                                           line_geom  \\\n",
       "0  LINESTRING (4261723.299670125 3557738.63441224...   \n",
       "1  LINESTRING (4311616.3600454405 3763682.4157406...   \n",
       "\n",
       "                                   nearest_point    distance  \\\n",
       "0   POINT (4261741.430483028 3557717.0707296734)  141.262144   \n",
       "1  POINT (4311616.3600454405 3763682.4157406315)  166.154595   \n",
       "\n",
       "                                       new_line_geom  \\\n",
       "0  LINESTRING (4261723.299670125 3557738.63441224...   \n",
       "1  LINESTRING (4311616.3600454405 3763682.4157406...   \n",
       "\n",
       "                                    connection_lines  \n",
       "0  LINESTRING (4261660.78186408 3557601.093172827...  \n",
       "1  LINESTRING (4311551.696413628 3763529.36031273...  "
      ]
     },
     "execution_count": 83,
     "metadata": {},
     "output_type": "execute_result"
    }
   ],
   "source": [
    "df_filtered.head(2)"
   ]
  },
  {
   "cell_type": "code",
   "execution_count": 84,
   "id": "ff564815",
   "metadata": {},
   "outputs": [
    {
     "name": "stdout",
     "output_type": "stream",
     "text": [
      "<class 'pandas.core.frame.DataFrame'>\n",
      "RangeIndex: 646 entries, 0 to 645\n",
      "Data columns (total 15 columns):\n",
      " #   Column            Non-Null Count  Dtype   \n",
      "---  ------            --------------  -----   \n",
      " 0   localId           646 non-null    object  \n",
      " 1   namespace         646 non-null    object  \n",
      " 2   nameOfFeat        646 non-null    object  \n",
      " 3   organisati        646 non-null    object  \n",
      " 4   city              646 non-null    object  \n",
      " 5   dateOfStar        646 non-null    object  \n",
      " 6   validFrom         0 non-null      float64 \n",
      " 7   beginLifes        0 non-null      float64 \n",
      " 8   point_geom        646 non-null    geometry\n",
      " 9   line_id           646 non-null    object  \n",
      " 10  line_geom         646 non-null    object  \n",
      " 11  nearest_point     646 non-null    object  \n",
      " 12  distance          646 non-null    float64 \n",
      " 13  new_line_geom     646 non-null    object  \n",
      " 14  connection_lines  646 non-null    object  \n",
      "dtypes: float64(3), geometry(1), object(11)\n",
      "memory usage: 75.8+ KB\n"
     ]
    }
   ],
   "source": [
    "df_filtered.info()"
   ]
  },
  {
   "cell_type": "code",
   "execution_count": 85,
   "id": "a3613cea",
   "metadata": {},
   "outputs": [
    {
     "data": {
      "text/plain": [
       "134.77"
      ]
     },
     "execution_count": 85,
     "metadata": {},
     "output_type": "execute_result"
    }
   ],
   "source": [
    "val = 134.766839\n",
    "round_val = round(val, 2)\n",
    "round_val"
   ]
  },
  {
   "cell_type": "code",
   "execution_count": 86,
   "id": "d071ca5d",
   "metadata": {},
   "outputs": [],
   "source": [
    "# def get_ref_distance(df, line_geom, point_geom):\n",
    "distances = []\n",
    "for row in df_filtered.iterrows():\n",
    "    dist = row[1]['new_line_geom'].project(row[1]['nearest_point'])\n",
    "    distances.append(round(dist, 3))\n",
    "\n",
    "df_filtered['atPosition'] = distances"
   ]
  },
  {
   "cell_type": "code",
   "execution_count": 87,
   "id": "a450193c",
   "metadata": {},
   "outputs": [
    {
     "data": {
      "text/html": [
       "<div>\n",
       "<style scoped>\n",
       "    .dataframe tbody tr th:only-of-type {\n",
       "        vertical-align: middle;\n",
       "    }\n",
       "\n",
       "    .dataframe tbody tr th {\n",
       "        vertical-align: top;\n",
       "    }\n",
       "\n",
       "    .dataframe thead th {\n",
       "        text-align: right;\n",
       "    }\n",
       "</style>\n",
       "<table border=\"1\" class=\"dataframe\">\n",
       "  <thead>\n",
       "    <tr style=\"text-align: right;\">\n",
       "      <th></th>\n",
       "      <th>localId</th>\n",
       "      <th>namespace</th>\n",
       "      <th>nameOfFeat</th>\n",
       "      <th>organisati</th>\n",
       "      <th>city</th>\n",
       "      <th>dateOfStar</th>\n",
       "      <th>validFrom</th>\n",
       "      <th>beginLifes</th>\n",
       "      <th>point_geom</th>\n",
       "      <th>line_id</th>\n",
       "      <th>line_geom</th>\n",
       "      <th>nearest_point</th>\n",
       "      <th>distance</th>\n",
       "      <th>new_line_geom</th>\n",
       "      <th>connection_lines</th>\n",
       "      <th>atPosition</th>\n",
       "    </tr>\n",
       "  </thead>\n",
       "  <tbody>\n",
       "    <tr>\n",
       "      <th>0</th>\n",
       "      <td>000057518.FACILITY</td>\n",
       "      <td>DK.CAED</td>\n",
       "      <td>Arla Foods Amba Branderup Mejeri</td>\n",
       "      <td>Miljøstyrelsen</td>\n",
       "      <td>Odense C</td>\n",
       "      <td>2013-12-31+00:00</td>\n",
       "      <td>NaN</td>\n",
       "      <td>NaN</td>\n",
       "      <td>POINT (4261660.782 3557601.093)</td>\n",
       "      <td>1211639814</td>\n",
       "      <td>LINESTRING (4261723.299670125 3557738.63441224...</td>\n",
       "      <td>POINT (4261741.430483028 3557717.0707296734)</td>\n",
       "      <td>141.262144</td>\n",
       "      <td>LINESTRING (4261723.299670125 3557738.63441224...</td>\n",
       "      <td>LINESTRING (4261660.78186408 3557601.093172827...</td>\n",
       "      <td>36.487</td>\n",
       "    </tr>\n",
       "    <tr>\n",
       "      <th>1</th>\n",
       "      <td>000057522.FACILITY</td>\n",
       "      <td>DK.CAED</td>\n",
       "      <td>Arla Foods Amba AKAFA</td>\n",
       "      <td>Miljøstyrelsen</td>\n",
       "      <td>Odense C</td>\n",
       "      <td>2013-12-31+00:00</td>\n",
       "      <td>NaN</td>\n",
       "      <td>NaN</td>\n",
       "      <td>POINT (4311551.696 3763529.360)</td>\n",
       "      <td>1105368984</td>\n",
       "      <td>LINESTRING (4311616.3600454405 3763682.4157406...</td>\n",
       "      <td>POINT (4311616.3600454405 3763682.4157406315)</td>\n",
       "      <td>166.154595</td>\n",
       "      <td>LINESTRING (4311616.3600454405 3763682.4157406...</td>\n",
       "      <td>LINESTRING (4311551.696413628 3763529.36031273...</td>\n",
       "      <td>0.000</td>\n",
       "    </tr>\n",
       "  </tbody>\n",
       "</table>\n",
       "</div>"
      ],
      "text/plain": [
       "              localId namespace                        nameOfFeat  \\\n",
       "0  000057518.FACILITY   DK.CAED  Arla Foods Amba Branderup Mejeri   \n",
       "1  000057522.FACILITY   DK.CAED             Arla Foods Amba AKAFA   \n",
       "\n",
       "       organisati      city        dateOfStar  validFrom  beginLifes  \\\n",
       "0  Miljøstyrelsen  Odense C  2013-12-31+00:00        NaN         NaN   \n",
       "1  Miljøstyrelsen  Odense C  2013-12-31+00:00        NaN         NaN   \n",
       "\n",
       "                        point_geom     line_id  \\\n",
       "0  POINT (4261660.782 3557601.093)  1211639814   \n",
       "1  POINT (4311551.696 3763529.360)  1105368984   \n",
       "\n",
       "                                           line_geom  \\\n",
       "0  LINESTRING (4261723.299670125 3557738.63441224...   \n",
       "1  LINESTRING (4311616.3600454405 3763682.4157406...   \n",
       "\n",
       "                                   nearest_point    distance  \\\n",
       "0   POINT (4261741.430483028 3557717.0707296734)  141.262144   \n",
       "1  POINT (4311616.3600454405 3763682.4157406315)  166.154595   \n",
       "\n",
       "                                       new_line_geom  \\\n",
       "0  LINESTRING (4261723.299670125 3557738.63441224...   \n",
       "1  LINESTRING (4311616.3600454405 3763682.4157406...   \n",
       "\n",
       "                                    connection_lines  atPosition  \n",
       "0  LINESTRING (4261660.78186408 3557601.093172827...      36.487  \n",
       "1  LINESTRING (4311551.696413628 3763529.36031273...       0.000  "
      ]
     },
     "execution_count": 87,
     "metadata": {},
     "output_type": "execute_result"
    }
   ],
   "source": [
    "df_filtered.head(2)"
   ]
  },
  {
   "cell_type": "markdown",
   "id": "46d22f2a",
   "metadata": {},
   "source": [
    "**Add information about the type of objct of interest**"
   ]
  },
  {
   "cell_type": "code",
   "execution_count": 88,
   "id": "5cb474e0",
   "metadata": {},
   "outputs": [
    {
     "data": {
      "text/plain": [
       "'ProductionFacility'"
      ]
     },
     "execution_count": 88,
     "metadata": {},
     "output_type": "execute_result"
    }
   ],
   "source": [
    "object_type"
   ]
  },
  {
   "cell_type": "code",
   "execution_count": 89,
   "id": "bc8042fa",
   "metadata": {},
   "outputs": [],
   "source": [
    "def create_ooi_type(object_type):\n",
    "    ooi_type = object_type\n",
    "    return ooi_type\n",
    "\n",
    "df_filtered['OOI_type'] = create_ooi_type(object_type)"
   ]
  },
  {
   "cell_type": "markdown",
   "id": "bba01c24",
   "metadata": {},
   "source": [
    "**Add the namespace of the network**"
   ]
  },
  {
   "cell_type": "code",
   "execution_count": 90,
   "id": "a80eee7b",
   "metadata": {},
   "outputs": [],
   "source": [
    "def create_watercourse_namespace(country):\n",
    "    namespace = 'gopeg.eu/tracing'\n",
    "    return namespace\n",
    "\n",
    "df_filtered['watercourse_namespace'] = 'gopeg.eu/tracing'"
   ]
  },
  {
   "cell_type": "markdown",
   "id": "e40f600c",
   "metadata": {},
   "source": [
    "**Create a df with the final columns**"
   ]
  },
  {
   "cell_type": "code",
   "execution_count": 91,
   "id": "b871329e",
   "metadata": {},
   "outputs": [],
   "source": [
    "df_links = (df_filtered.rename(columns={'connection_lines':'geometry',\n",
    "                                # 'identifier':'OOI_identifier', \n",
    "                                 'nameOfFeat': 'OOI_name', \n",
    "                                 'localId': 'OOI_localId', \n",
    "                                 'namespace': 'OOI_namespace',\n",
    "                                 'city' : 'location',\n",
    "                                 'line_id': 'hydroId',\n",
    "                                 'line_name': 'watercourse_localName',\n",
    "                                 'basin': 'watercourseBasin'})\n",
    "                                .reset_index(drop=True))"
   ]
  },
  {
   "cell_type": "markdown",
   "id": "ecccb119",
   "metadata": {},
   "source": [
    "**Create unique id using UUID**"
   ]
  },
  {
   "cell_type": "code",
   "execution_count": 92,
   "id": "f968ea1c",
   "metadata": {},
   "outputs": [],
   "source": [
    "import uuid\n",
    "df_links['UUID'] = [uuid.uuid4().hex for _ in range(len(df_links.index))]"
   ]
  },
  {
   "cell_type": "code",
   "execution_count": 93,
   "id": "86853962",
   "metadata": {},
   "outputs": [
    {
     "data": {
      "text/html": [
       "<div>\n",
       "<style scoped>\n",
       "    .dataframe tbody tr th:only-of-type {\n",
       "        vertical-align: middle;\n",
       "    }\n",
       "\n",
       "    .dataframe tbody tr th {\n",
       "        vertical-align: top;\n",
       "    }\n",
       "\n",
       "    .dataframe thead th {\n",
       "        text-align: right;\n",
       "    }\n",
       "</style>\n",
       "<table border=\"1\" class=\"dataframe\">\n",
       "  <thead>\n",
       "    <tr style=\"text-align: right;\">\n",
       "      <th></th>\n",
       "      <th>OOI_localId</th>\n",
       "      <th>OOI_namespace</th>\n",
       "      <th>OOI_name</th>\n",
       "      <th>organisati</th>\n",
       "      <th>location</th>\n",
       "      <th>dateOfStar</th>\n",
       "      <th>validFrom</th>\n",
       "      <th>beginLifes</th>\n",
       "      <th>point_geom</th>\n",
       "      <th>hydroId</th>\n",
       "      <th>line_geom</th>\n",
       "      <th>nearest_point</th>\n",
       "      <th>distance</th>\n",
       "      <th>new_line_geom</th>\n",
       "      <th>geometry</th>\n",
       "      <th>atPosition</th>\n",
       "      <th>OOI_type</th>\n",
       "      <th>watercourse_namespace</th>\n",
       "      <th>UUID</th>\n",
       "    </tr>\n",
       "  </thead>\n",
       "  <tbody>\n",
       "    <tr>\n",
       "      <th>0</th>\n",
       "      <td>000057518.FACILITY</td>\n",
       "      <td>DK.CAED</td>\n",
       "      <td>Arla Foods Amba Branderup Mejeri</td>\n",
       "      <td>Miljøstyrelsen</td>\n",
       "      <td>Odense C</td>\n",
       "      <td>2013-12-31+00:00</td>\n",
       "      <td>NaN</td>\n",
       "      <td>NaN</td>\n",
       "      <td>POINT (4261660.782 3557601.093)</td>\n",
       "      <td>1211639814</td>\n",
       "      <td>LINESTRING (4261723.299670125 3557738.63441224...</td>\n",
       "      <td>POINT (4261741.430483028 3557717.0707296734)</td>\n",
       "      <td>141.262144</td>\n",
       "      <td>LINESTRING (4261723.299670125 3557738.63441224...</td>\n",
       "      <td>LINESTRING (4261660.78186408 3557601.093172827...</td>\n",
       "      <td>36.487</td>\n",
       "      <td>ProductionFacility</td>\n",
       "      <td>gopeg.eu/tracing</td>\n",
       "      <td>6bf7b2d13c4147a1af53848993bae163</td>\n",
       "    </tr>\n",
       "    <tr>\n",
       "      <th>1</th>\n",
       "      <td>000057522.FACILITY</td>\n",
       "      <td>DK.CAED</td>\n",
       "      <td>Arla Foods Amba AKAFA</td>\n",
       "      <td>Miljøstyrelsen</td>\n",
       "      <td>Odense C</td>\n",
       "      <td>2013-12-31+00:00</td>\n",
       "      <td>NaN</td>\n",
       "      <td>NaN</td>\n",
       "      <td>POINT (4311551.696 3763529.360)</td>\n",
       "      <td>1105368984</td>\n",
       "      <td>LINESTRING (4311616.3600454405 3763682.4157406...</td>\n",
       "      <td>POINT (4311616.3600454405 3763682.4157406315)</td>\n",
       "      <td>166.154595</td>\n",
       "      <td>LINESTRING (4311616.3600454405 3763682.4157406...</td>\n",
       "      <td>LINESTRING (4311551.696413628 3763529.36031273...</td>\n",
       "      <td>0.000</td>\n",
       "      <td>ProductionFacility</td>\n",
       "      <td>gopeg.eu/tracing</td>\n",
       "      <td>89af23e221314b198bee1b545bb6070a</td>\n",
       "    </tr>\n",
       "  </tbody>\n",
       "</table>\n",
       "</div>"
      ],
      "text/plain": [
       "          OOI_localId OOI_namespace                          OOI_name  \\\n",
       "0  000057518.FACILITY       DK.CAED  Arla Foods Amba Branderup Mejeri   \n",
       "1  000057522.FACILITY       DK.CAED             Arla Foods Amba AKAFA   \n",
       "\n",
       "       organisati  location        dateOfStar  validFrom  beginLifes  \\\n",
       "0  Miljøstyrelsen  Odense C  2013-12-31+00:00        NaN         NaN   \n",
       "1  Miljøstyrelsen  Odense C  2013-12-31+00:00        NaN         NaN   \n",
       "\n",
       "                        point_geom     hydroId  \\\n",
       "0  POINT (4261660.782 3557601.093)  1211639814   \n",
       "1  POINT (4311551.696 3763529.360)  1105368984   \n",
       "\n",
       "                                           line_geom  \\\n",
       "0  LINESTRING (4261723.299670125 3557738.63441224...   \n",
       "1  LINESTRING (4311616.3600454405 3763682.4157406...   \n",
       "\n",
       "                                   nearest_point    distance  \\\n",
       "0   POINT (4261741.430483028 3557717.0707296734)  141.262144   \n",
       "1  POINT (4311616.3600454405 3763682.4157406315)  166.154595   \n",
       "\n",
       "                                       new_line_geom  \\\n",
       "0  LINESTRING (4261723.299670125 3557738.63441224...   \n",
       "1  LINESTRING (4311616.3600454405 3763682.4157406...   \n",
       "\n",
       "                                            geometry  atPosition  \\\n",
       "0  LINESTRING (4261660.78186408 3557601.093172827...      36.487   \n",
       "1  LINESTRING (4311551.696413628 3763529.36031273...       0.000   \n",
       "\n",
       "             OOI_type watercourse_namespace                              UUID  \n",
       "0  ProductionFacility      gopeg.eu/tracing  6bf7b2d13c4147a1af53848993bae163  \n",
       "1  ProductionFacility      gopeg.eu/tracing  89af23e221314b198bee1b545bb6070a  "
      ]
     },
     "execution_count": 93,
     "metadata": {},
     "output_type": "execute_result"
    }
   ],
   "source": [
    "df_links.head(2)"
   ]
  },
  {
   "cell_type": "code",
   "execution_count": 99,
   "id": "053f939e",
   "metadata": {},
   "outputs": [],
   "source": [
    "cols = ['UUID', 'OOI_type', 'OOI_localId', 'OOI_name', 'OOI_namespace', 'location', 'hydroId', 'atPosition', 'watercourse_namespace', 'geometry']\n",
    "\n",
    "gdf_links = gpd.GeoDataFrame((df_links[cols]), geometry='geometry')\n",
    "\n",
    "gdf_links= gdf_links.set_crs(PROJ_CRS)\n",
    "gdf_links_final = gdf_links.to_crs(PROJ_CRS)"
   ]
  },
  {
   "cell_type": "code",
   "execution_count": 100,
   "id": "dc12a46f",
   "metadata": {},
   "outputs": [
    {
     "data": {
      "text/html": [
       "<div>\n",
       "<style scoped>\n",
       "    .dataframe tbody tr th:only-of-type {\n",
       "        vertical-align: middle;\n",
       "    }\n",
       "\n",
       "    .dataframe tbody tr th {\n",
       "        vertical-align: top;\n",
       "    }\n",
       "\n",
       "    .dataframe thead th {\n",
       "        text-align: right;\n",
       "    }\n",
       "</style>\n",
       "<table border=\"1\" class=\"dataframe\">\n",
       "  <thead>\n",
       "    <tr style=\"text-align: right;\">\n",
       "      <th></th>\n",
       "      <th>UUID</th>\n",
       "      <th>OOI_type</th>\n",
       "      <th>OOI_localId</th>\n",
       "      <th>OOI_name</th>\n",
       "      <th>OOI_namespace</th>\n",
       "      <th>location</th>\n",
       "      <th>hydroId</th>\n",
       "      <th>atPosition</th>\n",
       "      <th>watercourse_namespace</th>\n",
       "      <th>geometry</th>\n",
       "    </tr>\n",
       "  </thead>\n",
       "  <tbody>\n",
       "    <tr>\n",
       "      <th>0</th>\n",
       "      <td>6bf7b2d13c4147a1af53848993bae163</td>\n",
       "      <td>ProductionFacility</td>\n",
       "      <td>000057518.FACILITY</td>\n",
       "      <td>Arla Foods Amba Branderup Mejeri</td>\n",
       "      <td>DK.CAED</td>\n",
       "      <td>Odense C</td>\n",
       "      <td>1211639814</td>\n",
       "      <td>36.487</td>\n",
       "      <td>gopeg.eu/tracing</td>\n",
       "      <td>LINESTRING (4261660.782 3557601.093, 4261741.4...</td>\n",
       "    </tr>\n",
       "    <tr>\n",
       "      <th>1</th>\n",
       "      <td>89af23e221314b198bee1b545bb6070a</td>\n",
       "      <td>ProductionFacility</td>\n",
       "      <td>000057522.FACILITY</td>\n",
       "      <td>Arla Foods Amba AKAFA</td>\n",
       "      <td>DK.CAED</td>\n",
       "      <td>Odense C</td>\n",
       "      <td>1105368984</td>\n",
       "      <td>0.000</td>\n",
       "      <td>gopeg.eu/tracing</td>\n",
       "      <td>LINESTRING (4311551.696 3763529.360, 4311616.3...</td>\n",
       "    </tr>\n",
       "  </tbody>\n",
       "</table>\n",
       "</div>"
      ],
      "text/plain": [
       "                               UUID            OOI_type         OOI_localId  \\\n",
       "0  6bf7b2d13c4147a1af53848993bae163  ProductionFacility  000057518.FACILITY   \n",
       "1  89af23e221314b198bee1b545bb6070a  ProductionFacility  000057522.FACILITY   \n",
       "\n",
       "                           OOI_name OOI_namespace  location     hydroId  \\\n",
       "0  Arla Foods Amba Branderup Mejeri       DK.CAED  Odense C  1211639814   \n",
       "1             Arla Foods Amba AKAFA       DK.CAED  Odense C  1105368984   \n",
       "\n",
       "   atPosition watercourse_namespace  \\\n",
       "0      36.487      gopeg.eu/tracing   \n",
       "1       0.000      gopeg.eu/tracing   \n",
       "\n",
       "                                            geometry  \n",
       "0  LINESTRING (4261660.782 3557601.093, 4261741.4...  \n",
       "1  LINESTRING (4311551.696 3763529.360, 4311616.3...  "
      ]
     },
     "execution_count": 100,
     "metadata": {},
     "output_type": "execute_result"
    }
   ],
   "source": [
    "gdf_links_final.head(2)"
   ]
  },
  {
   "cell_type": "code",
   "execution_count": 101,
   "id": "18843b46",
   "metadata": {},
   "outputs": [
    {
     "data": {
      "text/plain": [
       "<Derived Projected CRS: EPSG:3035>\n",
       "Name: ETRS89-extended / LAEA Europe\n",
       "Axis Info [cartesian]:\n",
       "- Y[north]: Northing (metre)\n",
       "- X[east]: Easting (metre)\n",
       "Area of Use:\n",
       "- name: Europe - European Union (EU) countries and candidates. Europe - onshore and offshore: Albania; Andorra; Austria; Belgium; Bosnia and Herzegovina; Bulgaria; Croatia; Cyprus; Czechia; Denmark; Estonia; Faroe Islands; Finland; France; Germany; Gibraltar; Greece; Hungary; Iceland; Ireland; Italy; Kosovo; Latvia; Liechtenstein; Lithuania; Luxembourg; Malta; Monaco; Montenegro; Netherlands; North Macedonia; Norway including Svalbard and Jan Mayen; Poland; Portugal including Madeira and Azores; Romania; San Marino; Serbia; Slovakia; Slovenia; Spain including Canary Islands; Sweden; Switzerland; Turkey; United Kingdom (UK) including Channel Islands and Isle of Man; Vatican City State.\n",
       "- bounds: (-35.58, 24.6, 44.83, 84.73)\n",
       "Coordinate Operation:\n",
       "- name: Europe Equal Area 2001\n",
       "- method: Lambert Azimuthal Equal Area\n",
       "Datum: European Terrestrial Reference System 1989 ensemble\n",
       "- Ellipsoid: GRS 1980\n",
       "- Prime Meridian: Greenwich"
      ]
     },
     "execution_count": 101,
     "metadata": {},
     "output_type": "execute_result"
    }
   ],
   "source": [
    "gdf_links_final.crs"
   ]
  },
  {
   "cell_type": "code",
   "execution_count": 102,
   "id": "c8c3f4ac",
   "metadata": {},
   "outputs": [
    {
     "data": {
      "text/plain": [
       "'c:\\\\Workdir\\\\Develop\\\\repository\\\\go-peg'"
      ]
     },
     "execution_count": 102,
     "metadata": {},
     "output_type": "execute_result"
    }
   ],
   "source": [
    "pwd"
   ]
  },
  {
   "cell_type": "code",
   "execution_count": 103,
   "id": "04175973",
   "metadata": {},
   "outputs": [],
   "source": [
    "# gdf_links_final.to_file(f\"harmonized_data/{region}_ObjectsOfInterest.gpkg\", layer=f\"{object_type}_links\", driver='GPKG')"
   ]
  },
  {
   "cell_type": "code",
   "execution_count": null,
   "id": "268346cf",
   "metadata": {},
   "outputs": [],
   "source": []
  }
 ],
 "metadata": {
  "kernelspec": {
   "display_name": "Python 3.8.1 ('venv': venv)",
   "language": "python",
   "name": "python3"
  },
  "language_info": {
   "codemirror_mode": {
    "name": "ipython",
    "version": 3
   },
   "file_extension": ".py",
   "mimetype": "text/x-python",
   "name": "python",
   "nbconvert_exporter": "python",
   "pygments_lexer": "ipython3",
   "version": "3.8.1"
  },
  "vscode": {
   "interpreter": {
    "hash": "8a8cb0b0d99d64370412e17fbaf9ec73e1c6fb09e83d60376e91f9a9e6f8c9ed"
   }
  }
 },
 "nbformat": 4,
 "nbformat_minor": 5
}
