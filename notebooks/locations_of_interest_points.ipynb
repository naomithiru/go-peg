{
 "cells": [
  {
   "cell_type": "markdown",
   "id": "73262737-8550-465e-801f-e9cb56919737",
   "metadata": {},
   "source": [
    "# Point Locations of Interest"
   ]
  },
  {
   "cell_type": "markdown",
   "id": "30f355df-a87c-4100-9799-9210881194dc",
   "metadata": {},
   "source": [
    "Locations of interest refer to any phonomenon occuring along the networks that have the potential to affect or be affected by pollution.\n",
    "\n",
    "The locations of interest have surface geometry, either point or polygon.\n",
    "\n",
    "This notebook develops the methodology for point locations of interest."
   ]
  },
  {
   "cell_type": "code",
   "execution_count": 1,
   "id": "4f7164a3",
   "metadata": {},
   "outputs": [
    {
     "name": "stdout",
     "output_type": "stream",
     "text": [
      "c:\\Workdir\\Develop\\repository\\go-peg\n"
     ]
    }
   ],
   "source": [
    "import os\n",
    "import sys\n",
    "path = os.path.dirname(os.path.abspath(''))\n",
    "os.chdir(path)\n",
    "print(path)"
   ]
  },
  {
   "cell_type": "code",
   "execution_count": 2,
   "id": "79f8b7cb-06cd-4f7c-ac2f-99782ccd5a69",
   "metadata": {},
   "outputs": [
    {
     "name": "stderr",
     "output_type": "stream",
     "text": [
      "c:\\Users\\u0119822\\.conda\\envs\\gopeg\\lib\\site-packages\\geopandas\\_compat.py:111: UserWarning: The Shapely GEOS version (3.10.2-CAPI-1.16.0) is incompatible with the GEOS version PyGEOS was compiled with (3.10.4-CAPI-1.16.2). Conversions between both will be slow.\n",
      "  warnings.warn(\n"
     ]
    }
   ],
   "source": [
    "import geopandas as gpd\n",
    "import pandas as pd\n",
    "\n",
    "from shapely.geometry import Point, LineString, MultiLineString, MultiPoint\n",
    "from shapely import wkt\n",
    "from shapely.ops import nearest_points\n",
    "import shapely.wkt\n",
    "\n",
    "import numpy as np \n",
    "\n",
    "import warnings\n",
    "from shapely.errors import ShapelyDeprecationWarning\n",
    "warnings.filterwarnings(\"ignore\", category=ShapelyDeprecationWarning) \n",
    "\n",
    "pd.options.mode.chained_assignment = None  # default='warn'\n",
    "\n",
    "from src.config import config"
   ]
  },
  {
   "cell_type": "code",
   "execution_count": 3,
   "id": "5bce23fe",
   "metadata": {},
   "outputs": [
    {
     "data": {
      "text/plain": [
       "WindowsPath('c:/Workdir/Develop/repository/go-peg/data/data_preprocess')"
      ]
     },
     "execution_count": 3,
     "metadata": {},
     "output_type": "execute_result"
    }
   ],
   "source": [
    "config.data_src"
   ]
  },
  {
   "cell_type": "code",
   "execution_count": 4,
   "id": "03b61662",
   "metadata": {},
   "outputs": [],
   "source": [
    "PROJ_CRS = 'EPSG:31370'\n",
    "FINAL_CRS = 'EPSG:3035'\n",
    "\n",
    "buffer_distance = 200\n",
    "country='BE'\n",
    "\n",
    "object_type = 'Production and Industrial site'"
   ]
  },
  {
   "cell_type": "code",
   "execution_count": 5,
   "id": "ced51f38-808c-4d9d-ba7c-0fc6693d932c",
   "metadata": {},
   "outputs": [],
   "source": [
    "def load_data(path):\n",
    "    \"\"\"\n",
    "    Loads the data from the given path, \n",
    "    and prints the shape and crs of the data.\n",
    "    \"\"\"\n",
    "    data = gpd.read_file(path)\n",
    "    print(data.shape)\n",
    "\n",
    "    data_crs = data.crs\n",
    "\n",
    "    print(\"Data crs:\", data.crs)\n",
    "    return data, data_crs"
   ]
  },
  {
   "cell_type": "code",
   "execution_count": 6,
   "id": "764f255d",
   "metadata": {},
   "outputs": [
    {
     "name": "stdout",
     "output_type": "stream",
     "text": [
      "(72163, 21)\n",
      "Data crs: epsg:31370\n"
     ]
    }
   ],
   "source": [
    "PATH = config.data_dest / \"vl_water_PROCESSED.shp\"\n",
    "water, data_crs = load_data(PATH)"
   ]
  },
  {
   "cell_type": "code",
   "execution_count": 7,
   "id": "daf19003",
   "metadata": {},
   "outputs": [],
   "source": [
    "PROJ_CRS = data_crs"
   ]
  },
  {
   "cell_type": "code",
   "execution_count": 8,
   "id": "6421b985-dc80-46a4-ac41-eafd071450fb",
   "metadata": {},
   "outputs": [
    {
     "name": "stdout",
     "output_type": "stream",
     "text": [
      "(1962, 9)\n",
      "Data crs: epsg:3857\n",
      "Project crs: epsg:31370\n"
     ]
    }
   ],
   "source": [
    "PATH = config.data_src / \"flanders_locations/Production and industrial facilities/ProductionInstallation_points.shp\"\n",
    "prod_installations, data_crs = load_data(PATH)\n",
    "prod_installations = prod_installations.to_crs(PROJ_CRS)\n",
    "print('Project crs:', prod_installations.crs)"
   ]
  },
  {
   "cell_type": "code",
   "execution_count": 9,
   "id": "2be79ea0",
   "metadata": {},
   "outputs": [
    {
     "data": {
      "text/html": [
       "<div>\n",
       "<style scoped>\n",
       "    .dataframe tbody tr th:only-of-type {\n",
       "        vertical-align: middle;\n",
       "    }\n",
       "\n",
       "    .dataframe tbody tr th {\n",
       "        vertical-align: top;\n",
       "    }\n",
       "\n",
       "    .dataframe thead th {\n",
       "        text-align: right;\n",
       "    }\n",
       "</style>\n",
       "<table border=\"1\" class=\"dataframe\">\n",
       "  <thead>\n",
       "    <tr style=\"text-align: right;\">\n",
       "      <th></th>\n",
       "      <th>gml_id</th>\n",
       "      <th>identifier</th>\n",
       "      <th>name</th>\n",
       "      <th>localId</th>\n",
       "      <th>namespace</th>\n",
       "      <th>status</th>\n",
       "      <th>type</th>\n",
       "      <th>dist</th>\n",
       "      <th>geometry</th>\n",
       "    </tr>\n",
       "  </thead>\n",
       "  <tbody>\n",
       "    <tr>\n",
       "      <th>0</th>\n",
       "      <td>None</td>\n",
       "      <td>https://data.gpbv.omgeving.vlaanderen.be/id/pr...</td>\n",
       "      <td>Van Looveren Leo</td>\n",
       "      <td>BE.VL.000000416.INSTALLATION</td>\n",
       "      <td>https://data.gpbv.omgeving.vlaanderen.be/id/pr...</td>\n",
       "      <td>None</td>\n",
       "      <td>None</td>\n",
       "      <td>None</td>\n",
       "      <td>POINT (174053.026 229391.163)</td>\n",
       "    </tr>\n",
       "    <tr>\n",
       "      <th>1</th>\n",
       "      <td>None</td>\n",
       "      <td>https://data.gpbv.omgeving.vlaanderen.be/id/pr...</td>\n",
       "      <td>Kela</td>\n",
       "      <td>BE.VL.000000132.INSTALLATION</td>\n",
       "      <td>https://data.gpbv.omgeving.vlaanderen.be/id/pr...</td>\n",
       "      <td>None</td>\n",
       "      <td>None</td>\n",
       "      <td>None</td>\n",
       "      <td>POINT (175372.287 230904.830)</td>\n",
       "    </tr>\n",
       "  </tbody>\n",
       "</table>\n",
       "</div>"
      ],
      "text/plain": [
       "  gml_id                                         identifier              name  \\\n",
       "0   None  https://data.gpbv.omgeving.vlaanderen.be/id/pr...  Van Looveren Leo   \n",
       "1   None  https://data.gpbv.omgeving.vlaanderen.be/id/pr...              Kela   \n",
       "\n",
       "                        localId  \\\n",
       "0  BE.VL.000000416.INSTALLATION   \n",
       "1  BE.VL.000000132.INSTALLATION   \n",
       "\n",
       "                                           namespace status  type  dist  \\\n",
       "0  https://data.gpbv.omgeving.vlaanderen.be/id/pr...   None  None  None   \n",
       "1  https://data.gpbv.omgeving.vlaanderen.be/id/pr...   None  None  None   \n",
       "\n",
       "                        geometry  \n",
       "0  POINT (174053.026 229391.163)  \n",
       "1  POINT (175372.287 230904.830)  "
      ]
     },
     "execution_count": 9,
     "metadata": {},
     "output_type": "execute_result"
    }
   ],
   "source": [
    "prod_installations.head(2)"
   ]
  },
  {
   "cell_type": "code",
   "execution_count": 10,
   "id": "af561b11",
   "metadata": {},
   "outputs": [
    {
     "data": {
      "text/plain": [
       "Index(['start_ID', 'end_ID', 'line_id', 'OIDN', 'UIDN', 'VHAG', 'line_name',\n",
       "       'REGCODE', 'REGCODE1', 'BEHEER', 'CATC', 'category', 'BEKNR', 'BEKNAAM',\n",
       "       'basin', 'GEO', 'LBLGEO', 'VHAZONENR', 'WTRLICHC', 'length',\n",
       "       'geometry'],\n",
       "      dtype='object')"
      ]
     },
     "execution_count": 10,
     "metadata": {},
     "output_type": "execute_result"
    }
   ],
   "source": [
    "water.columns"
   ]
  },
  {
   "cell_type": "markdown",
   "id": "93dbb02b-2524-467b-96a6-cfd833aeabf3",
   "metadata": {},
   "source": [
    "## Working with point locations of interest\n",
    "\n",
    "For working with point locations of interests, we will project a point to the nearest water geometry, applying a threshold distance to exclude points that are too far away from the nearest water geometry."
   ]
  },
  {
   "attachments": {},
   "cell_type": "markdown",
   "id": "7b19383c",
   "metadata": {},
   "source": [
    "**Select relevant columns from the object of interest dataset, which includes identifiers and geometry**"
   ]
  },
  {
   "cell_type": "code",
   "execution_count": 11,
   "id": "5e7a647c",
   "metadata": {},
   "outputs": [
    {
     "data": {
      "text/plain": [
       "(1962, 5)"
      ]
     },
     "execution_count": 11,
     "metadata": {},
     "output_type": "execute_result"
    }
   ],
   "source": [
    "prod_points = prod_installations[['identifier', 'name', 'localId', 'namespace', 'geometry']]\n",
    "prod_points.head(2)\n",
    "prod_points.shape"
   ]
  },
  {
   "cell_type": "code",
   "execution_count": 12,
   "id": "6ff13c37",
   "metadata": {},
   "outputs": [],
   "source": [
    "#Check for multiline strings in a dataset\n",
    "def check_multiline(df):\n",
    "    \"\"\"This function checks for multiline strings\n",
    "        from the geometry column in a given dataset\"\"\"\n",
    "    lst = df['geometry'].to_list()\n",
    "    multiline_count = 0\n",
    "    for item in lst:\n",
    "        if isinstance(item, MultiLineString):\n",
    "            multiline_count += 1\n",
    "    print(\"MultiLinesStrings:\" , multiline_count)"
   ]
  },
  {
   "cell_type": "code",
   "execution_count": 13,
   "id": "cf65f22b",
   "metadata": {},
   "outputs": [
    {
     "name": "stdout",
     "output_type": "stream",
     "text": [
      "MultiLinesStrings: 0\n"
     ]
    }
   ],
   "source": [
    "check_multiline(water)"
   ]
  },
  {
   "cell_type": "code",
   "execution_count": 14,
   "id": "b7cf7edb",
   "metadata": {},
   "outputs": [
    {
     "data": {
      "text/plain": [
       "Index(['start_ID', 'end_ID', 'line_id', 'OIDN', 'UIDN', 'VHAG', 'line_name',\n",
       "       'REGCODE', 'REGCODE1', 'BEHEER', 'CATC', 'category', 'BEKNR', 'BEKNAAM',\n",
       "       'basin', 'GEO', 'LBLGEO', 'VHAZONENR', 'WTRLICHC', 'length',\n",
       "       'geometry'],\n",
       "      dtype='object')"
      ]
     },
     "execution_count": 14,
     "metadata": {},
     "output_type": "execute_result"
    }
   ],
   "source": [
    "water.columns"
   ]
  },
  {
   "attachments": {},
   "cell_type": "markdown",
   "id": "db5bfbaf",
   "metadata": {},
   "source": [
    "**Select relevant columns from the water dataset**"
   ]
  },
  {
   "cell_type": "code",
   "execution_count": 15,
   "id": "e8f5e214",
   "metadata": {},
   "outputs": [],
   "source": [
    "# water_df = water[['VHAS', 'NAAM', 'start_ID', 'end_ID', 'geometry']]\n",
    "water_df = water[['line_id', 'line_name', 'basin', 'geometry']]"
   ]
  },
  {
   "cell_type": "code",
   "execution_count": 16,
   "id": "ae7dc2ad",
   "metadata": {},
   "outputs": [],
   "source": [
    "assert water_df.shape[0] == water_df.geometry.nunique()"
   ]
  },
  {
   "attachments": {},
   "cell_type": "markdown",
   "id": "0ee409e6",
   "metadata": {},
   "source": [
    "**Add a namespace of the water data before merging the datasets**"
   ]
  },
  {
   "cell_type": "code",
   "execution_count": 17,
   "id": "56ff3813",
   "metadata": {},
   "outputs": [],
   "source": [
    "def create_watercourse_namespace(country):\n",
    "    namespace = country + '.Tracing.HydroNetwork'\n",
    "    return namespace\n",
    "\n",
    "water_df['watercourse_namespace'] = create_watercourse_namespace(country)"
   ]
  },
  {
   "cell_type": "code",
   "execution_count": 18,
   "id": "2fd42f40",
   "metadata": {},
   "outputs": [],
   "source": [
    "gdf_p = prod_points.copy()\n",
    "gdf_l = water_df.copy()\n",
    "\n",
    "\n",
    "df_n = (gpd.sjoin_nearest(gdf_p, gdf_l)\n",
    "            .merge(gdf_l['geometry'], left_on=\"index_right\", right_index=True)\n",
    "            .drop(columns=['index_right'])\n",
    "            .rename(columns={'index_left': 'ID'})\n",
    "            .reset_index(drop=True)\n",
    "            ) #merge operation adds the geometry column\n",
    "            \n",
    "#get distance of location of interest from water. With this distance we can filter out locations by distance from water\n",
    "# df_n[\"distance\"] = df_n.apply(lambda r: r[\"geometry_x\"].distance(r[\"geometry_y\"]), axis=1)\n",
    "df_n = df_n.drop_duplicates(subset=['geometry_x'])\n",
    "assert df_n['geometry_x'].isnull().values.any() == False\n",
    "assert df_n['geometry_y'].isnull().values.any() == False"
   ]
  },
  {
   "cell_type": "code",
   "execution_count": 19,
   "id": "9b75b48f",
   "metadata": {},
   "outputs": [
    {
     "data": {
      "text/html": [
       "<div>\n",
       "<style scoped>\n",
       "    .dataframe tbody tr th:only-of-type {\n",
       "        vertical-align: middle;\n",
       "    }\n",
       "\n",
       "    .dataframe tbody tr th {\n",
       "        vertical-align: top;\n",
       "    }\n",
       "\n",
       "    .dataframe thead th {\n",
       "        text-align: right;\n",
       "    }\n",
       "</style>\n",
       "<table border=\"1\" class=\"dataframe\">\n",
       "  <thead>\n",
       "    <tr style=\"text-align: right;\">\n",
       "      <th></th>\n",
       "      <th>identifier</th>\n",
       "      <th>name</th>\n",
       "      <th>localId</th>\n",
       "      <th>namespace</th>\n",
       "      <th>geometry_x</th>\n",
       "      <th>line_id</th>\n",
       "      <th>line_name</th>\n",
       "      <th>basin</th>\n",
       "      <th>watercourse_namespace</th>\n",
       "      <th>geometry_y</th>\n",
       "    </tr>\n",
       "  </thead>\n",
       "  <tbody>\n",
       "    <tr>\n",
       "      <th>0</th>\n",
       "      <td>https://data.gpbv.omgeving.vlaanderen.be/id/pr...</td>\n",
       "      <td>Van Looveren Leo</td>\n",
       "      <td>BE.VL.000000416.INSTALLATION</td>\n",
       "      <td>https://data.gpbv.omgeving.vlaanderen.be/id/pr...</td>\n",
       "      <td>POINT (174053.026 229391.163)</td>\n",
       "      <td>7007018_2</td>\n",
       "      <td>Laboureurloop</td>\n",
       "      <td>Maas</td>\n",
       "      <td>BE.Tracing.HydroNetwork</td>\n",
       "      <td>LINESTRING (174218.478 229321.030, 174211.910 ...</td>\n",
       "    </tr>\n",
       "    <tr>\n",
       "      <th>1</th>\n",
       "      <td>https://data.gpbv.omgeving.vlaanderen.be/id/pr...</td>\n",
       "      <td>Kela</td>\n",
       "      <td>BE.VL.000000132.INSTALLATION</td>\n",
       "      <td>https://data.gpbv.omgeving.vlaanderen.be/id/pr...</td>\n",
       "      <td>POINT (175372.287 230904.830)</td>\n",
       "      <td>6801187</td>\n",
       "      <td>Raamloop</td>\n",
       "      <td>Maas</td>\n",
       "      <td>BE.Tracing.HydroNetwork</td>\n",
       "      <td>LINESTRING (175886.862 230719.803, 175878.810 ...</td>\n",
       "    </tr>\n",
       "  </tbody>\n",
       "</table>\n",
       "</div>"
      ],
      "text/plain": [
       "                                          identifier              name  \\\n",
       "0  https://data.gpbv.omgeving.vlaanderen.be/id/pr...  Van Looveren Leo   \n",
       "1  https://data.gpbv.omgeving.vlaanderen.be/id/pr...              Kela   \n",
       "\n",
       "                        localId  \\\n",
       "0  BE.VL.000000416.INSTALLATION   \n",
       "1  BE.VL.000000132.INSTALLATION   \n",
       "\n",
       "                                           namespace  \\\n",
       "0  https://data.gpbv.omgeving.vlaanderen.be/id/pr...   \n",
       "1  https://data.gpbv.omgeving.vlaanderen.be/id/pr...   \n",
       "\n",
       "                      geometry_x    line_id      line_name basin  \\\n",
       "0  POINT (174053.026 229391.163)  7007018_2  Laboureurloop  Maas   \n",
       "1  POINT (175372.287 230904.830)    6801187       Raamloop  Maas   \n",
       "\n",
       "     watercourse_namespace                                         geometry_y  \n",
       "0  BE.Tracing.HydroNetwork  LINESTRING (174218.478 229321.030, 174211.910 ...  \n",
       "1  BE.Tracing.HydroNetwork  LINESTRING (175886.862 230719.803, 175878.810 ...  "
      ]
     },
     "execution_count": 19,
     "metadata": {},
     "output_type": "execute_result"
    }
   ],
   "source": [
    "df_n.head(2)"
   ]
  },
  {
   "cell_type": "code",
   "execution_count": 20,
   "id": "1e16561c",
   "metadata": {},
   "outputs": [],
   "source": [
    "def get_nearest_point(df, line_col, point_col):\n",
    "    \"\"\"\n",
    "    For each point in points_df, find the nearest point in lines_df.\n",
    "    This identifies the projected point on the water network, from a location of interest point.\n",
    "    \"\"\"\n",
    "    indexes = []\n",
    "    geoms = []\n",
    "    for idx, row in df.iterrows():\n",
    "        # if row['distance'] > buffer_distance:\n",
    "        destinations = MultiPoint(row[line_col].coords) #geometry_y\n",
    "        nearest_geoms = nearest_points(row[point_col], destinations) #geometry_x\n",
    "        try:\n",
    "            for coord in destinations:\n",
    "                if coord == nearest_geoms[1]:\n",
    "                    geoms.append(coord)\n",
    "                    indexes.append(idx)\n",
    "                if idx in indexes:\n",
    "                    break\n",
    "                    #geoms.append(coord)\n",
    "                    #indexes.append(idx)\n",
    "        except ValueError:\n",
    "            print(\"No nearest point found for {}\".format(row.point_col))\n",
    "    return geoms\n",
    "    #return zip(indexes, geoms)"
   ]
  },
  {
   "cell_type": "code",
   "execution_count": 21,
   "id": "1a8a06c4",
   "metadata": {},
   "outputs": [],
   "source": [
    "df_n['loc_nodes'] = get_nearest_point(df_n, 'geometry_y', 'geometry_x')\n",
    "\n",
    "df_n[\"distance\"] = df_n.apply(lambda r: r[\"geometry_x\"].distance(r[\"loc_nodes\"]), axis=1)\n",
    "\n",
    "gdf_n = gpd.GeoDataFrame(df_n, geometry='loc_nodes').set_crs(PROJ_CRS)  #.drop(['geometry_x'], axis=1)"
   ]
  },
  {
   "cell_type": "code",
   "execution_count": 22,
   "id": "4c55d0c2",
   "metadata": {},
   "outputs": [
    {
     "name": "stdout",
     "output_type": "stream",
     "text": [
      "(1032, 12)\n"
     ]
    }
   ],
   "source": [
    "gdf_filtered = gdf_n[gdf_n['distance'] < buffer_distance].reset_index(drop=True)\n",
    "print(gdf_filtered.shape)\n",
    "# gdf_filtered.head()"
   ]
  },
  {
   "cell_type": "code",
   "execution_count": 23,
   "id": "bba6209b",
   "metadata": {},
   "outputs": [
    {
     "data": {
      "text/html": [
       "<div>\n",
       "<style scoped>\n",
       "    .dataframe tbody tr th:only-of-type {\n",
       "        vertical-align: middle;\n",
       "    }\n",
       "\n",
       "    .dataframe tbody tr th {\n",
       "        vertical-align: top;\n",
       "    }\n",
       "\n",
       "    .dataframe thead th {\n",
       "        text-align: right;\n",
       "    }\n",
       "</style>\n",
       "<table border=\"1\" class=\"dataframe\">\n",
       "  <thead>\n",
       "    <tr style=\"text-align: right;\">\n",
       "      <th></th>\n",
       "      <th>identifier</th>\n",
       "      <th>name</th>\n",
       "      <th>localId</th>\n",
       "      <th>namespace</th>\n",
       "      <th>geometry_x</th>\n",
       "      <th>line_id</th>\n",
       "      <th>line_name</th>\n",
       "      <th>basin</th>\n",
       "      <th>watercourse_namespace</th>\n",
       "      <th>geometry_y</th>\n",
       "      <th>loc_nodes</th>\n",
       "      <th>distance</th>\n",
       "      <th>connection_lines</th>\n",
       "    </tr>\n",
       "  </thead>\n",
       "  <tbody>\n",
       "    <tr>\n",
       "      <th>0</th>\n",
       "      <td>https://data.gpbv.omgeving.vlaanderen.be/id/pr...</td>\n",
       "      <td>Van Looveren Leo</td>\n",
       "      <td>BE.VL.000000416.INSTALLATION</td>\n",
       "      <td>https://data.gpbv.omgeving.vlaanderen.be/id/pr...</td>\n",
       "      <td>POINT (174053.026 229391.163)</td>\n",
       "      <td>7007018_2</td>\n",
       "      <td>Laboureurloop</td>\n",
       "      <td>Maas</td>\n",
       "      <td>BE.Tracing.HydroNetwork</td>\n",
       "      <td>LINESTRING (174218.478 229321.030, 174211.910 ...</td>\n",
       "      <td>POINT (174186.723 229374.213)</td>\n",
       "      <td>134.766839</td>\n",
       "      <td>LINESTRING (174186.72303999812 229374.21319997...</td>\n",
       "    </tr>\n",
       "    <tr>\n",
       "      <th>1</th>\n",
       "      <td>https://data.gpbv.omgeving.vlaanderen.be/id/pr...</td>\n",
       "      <td>Swaegers Slachthuis</td>\n",
       "      <td>BE.VL.000000186.INSTALLATION</td>\n",
       "      <td>https://data.gpbv.omgeving.vlaanderen.be/id/pr...</td>\n",
       "      <td>POINT (176099.703 231237.668)</td>\n",
       "      <td>6801187</td>\n",
       "      <td>Raamloop</td>\n",
       "      <td>Maas</td>\n",
       "      <td>BE.Tracing.HydroNetwork</td>\n",
       "      <td>LINESTRING (175886.862 230719.803, 175878.810 ...</td>\n",
       "      <td>POINT (175999.420 231177.544)</td>\n",
       "      <td>116.925285</td>\n",
       "      <td>LINESTRING (175999.4199400008 231177.543999978...</td>\n",
       "    </tr>\n",
       "  </tbody>\n",
       "</table>\n",
       "</div>"
      ],
      "text/plain": [
       "                                          identifier                 name  \\\n",
       "0  https://data.gpbv.omgeving.vlaanderen.be/id/pr...     Van Looveren Leo   \n",
       "1  https://data.gpbv.omgeving.vlaanderen.be/id/pr...  Swaegers Slachthuis   \n",
       "\n",
       "                        localId  \\\n",
       "0  BE.VL.000000416.INSTALLATION   \n",
       "1  BE.VL.000000186.INSTALLATION   \n",
       "\n",
       "                                           namespace  \\\n",
       "0  https://data.gpbv.omgeving.vlaanderen.be/id/pr...   \n",
       "1  https://data.gpbv.omgeving.vlaanderen.be/id/pr...   \n",
       "\n",
       "                      geometry_x    line_id      line_name basin  \\\n",
       "0  POINT (174053.026 229391.163)  7007018_2  Laboureurloop  Maas   \n",
       "1  POINT (176099.703 231237.668)    6801187       Raamloop  Maas   \n",
       "\n",
       "     watercourse_namespace                                         geometry_y  \\\n",
       "0  BE.Tracing.HydroNetwork  LINESTRING (174218.478 229321.030, 174211.910 ...   \n",
       "1  BE.Tracing.HydroNetwork  LINESTRING (175886.862 230719.803, 175878.810 ...   \n",
       "\n",
       "                       loc_nodes    distance  \\\n",
       "0  POINT (174186.723 229374.213)  134.766839   \n",
       "1  POINT (175999.420 231177.544)  116.925285   \n",
       "\n",
       "                                    connection_lines  \n",
       "0  LINESTRING (174186.72303999812 229374.21319997...  \n",
       "1  LINESTRING (175999.4199400008 231177.543999978...  "
      ]
     },
     "execution_count": 23,
     "metadata": {},
     "output_type": "execute_result"
    }
   ],
   "source": [
    "def make_connection_lines(df, from_point, to_point):\n",
    "    lines = []\n",
    "    for index, row in df.iterrows():\n",
    "        p_1 = Point(row[from_point])\n",
    "        p_2 = Point(row[to_point])\n",
    "        intersect = LineString([p_1, p_2])\n",
    "        # linestring = loads(intersect)\n",
    "        lines.append(intersect)\n",
    "    return lines\n",
    "\n",
    "gdf_filtered['connection_lines'] = make_connection_lines(gdf_filtered, 'loc_nodes', 'geometry_x')\n",
    "gdf_filtered.head(2)"
   ]
  },
  {
   "cell_type": "code",
   "execution_count": 24,
   "id": "d071ca5d",
   "metadata": {},
   "outputs": [],
   "source": [
    "# def get_ref_distance(df, line_geom, point_geom):\n",
    "distances = []\n",
    "for row in gdf_filtered.iterrows():\n",
    "    dist = row[1]['geometry_y'].project(row[1]['loc_nodes'])\n",
    "    distances.append(dist)\n",
    "\n",
    "gdf_filtered['atPosition'] = distances"
   ]
  },
  {
   "cell_type": "code",
   "execution_count": 25,
   "id": "a450193c",
   "metadata": {},
   "outputs": [
    {
     "data": {
      "text/html": [
       "<div>\n",
       "<style scoped>\n",
       "    .dataframe tbody tr th:only-of-type {\n",
       "        vertical-align: middle;\n",
       "    }\n",
       "\n",
       "    .dataframe tbody tr th {\n",
       "        vertical-align: top;\n",
       "    }\n",
       "\n",
       "    .dataframe thead th {\n",
       "        text-align: right;\n",
       "    }\n",
       "</style>\n",
       "<table border=\"1\" class=\"dataframe\">\n",
       "  <thead>\n",
       "    <tr style=\"text-align: right;\">\n",
       "      <th></th>\n",
       "      <th>identifier</th>\n",
       "      <th>name</th>\n",
       "      <th>localId</th>\n",
       "      <th>namespace</th>\n",
       "      <th>geometry_x</th>\n",
       "      <th>line_id</th>\n",
       "      <th>line_name</th>\n",
       "      <th>basin</th>\n",
       "      <th>watercourse_namespace</th>\n",
       "      <th>geometry_y</th>\n",
       "      <th>loc_nodes</th>\n",
       "      <th>distance</th>\n",
       "      <th>connection_lines</th>\n",
       "      <th>atPosition</th>\n",
       "    </tr>\n",
       "  </thead>\n",
       "  <tbody>\n",
       "    <tr>\n",
       "      <th>0</th>\n",
       "      <td>https://data.gpbv.omgeving.vlaanderen.be/id/pr...</td>\n",
       "      <td>Van Looveren Leo</td>\n",
       "      <td>BE.VL.000000416.INSTALLATION</td>\n",
       "      <td>https://data.gpbv.omgeving.vlaanderen.be/id/pr...</td>\n",
       "      <td>POINT (174053.026 229391.163)</td>\n",
       "      <td>7007018_2</td>\n",
       "      <td>Laboureurloop</td>\n",
       "      <td>Maas</td>\n",
       "      <td>BE.Tracing.HydroNetwork</td>\n",
       "      <td>LINESTRING (174218.478 229321.030, 174211.910 ...</td>\n",
       "      <td>POINT (174186.723 229374.213)</td>\n",
       "      <td>134.766839</td>\n",
       "      <td>LINESTRING (174186.72303999812 229374.21319997...</td>\n",
       "      <td>61.991412</td>\n",
       "    </tr>\n",
       "    <tr>\n",
       "      <th>1</th>\n",
       "      <td>https://data.gpbv.omgeving.vlaanderen.be/id/pr...</td>\n",
       "      <td>Swaegers Slachthuis</td>\n",
       "      <td>BE.VL.000000186.INSTALLATION</td>\n",
       "      <td>https://data.gpbv.omgeving.vlaanderen.be/id/pr...</td>\n",
       "      <td>POINT (176099.703 231237.668)</td>\n",
       "      <td>6801187</td>\n",
       "      <td>Raamloop</td>\n",
       "      <td>Maas</td>\n",
       "      <td>BE.Tracing.HydroNetwork</td>\n",
       "      <td>LINESTRING (175886.862 230719.803, 175878.810 ...</td>\n",
       "      <td>POINT (175999.420 231177.544)</td>\n",
       "      <td>116.925285</td>\n",
       "      <td>LINESTRING (175999.4199400008 231177.543999978...</td>\n",
       "      <td>679.593676</td>\n",
       "    </tr>\n",
       "  </tbody>\n",
       "</table>\n",
       "</div>"
      ],
      "text/plain": [
       "                                          identifier                 name  \\\n",
       "0  https://data.gpbv.omgeving.vlaanderen.be/id/pr...     Van Looveren Leo   \n",
       "1  https://data.gpbv.omgeving.vlaanderen.be/id/pr...  Swaegers Slachthuis   \n",
       "\n",
       "                        localId  \\\n",
       "0  BE.VL.000000416.INSTALLATION   \n",
       "1  BE.VL.000000186.INSTALLATION   \n",
       "\n",
       "                                           namespace  \\\n",
       "0  https://data.gpbv.omgeving.vlaanderen.be/id/pr...   \n",
       "1  https://data.gpbv.omgeving.vlaanderen.be/id/pr...   \n",
       "\n",
       "                      geometry_x    line_id      line_name basin  \\\n",
       "0  POINT (174053.026 229391.163)  7007018_2  Laboureurloop  Maas   \n",
       "1  POINT (176099.703 231237.668)    6801187       Raamloop  Maas   \n",
       "\n",
       "     watercourse_namespace                                         geometry_y  \\\n",
       "0  BE.Tracing.HydroNetwork  LINESTRING (174218.478 229321.030, 174211.910 ...   \n",
       "1  BE.Tracing.HydroNetwork  LINESTRING (175886.862 230719.803, 175878.810 ...   \n",
       "\n",
       "                       loc_nodes    distance  \\\n",
       "0  POINT (174186.723 229374.213)  134.766839   \n",
       "1  POINT (175999.420 231177.544)  116.925285   \n",
       "\n",
       "                                    connection_lines  atPosition  \n",
       "0  LINESTRING (174186.72303999812 229374.21319997...   61.991412  \n",
       "1  LINESTRING (175999.4199400008 231177.543999978...  679.593676  "
      ]
     },
     "execution_count": 25,
     "metadata": {},
     "output_type": "execute_result"
    }
   ],
   "source": [
    "gdf_filtered.head(2)"
   ]
  },
  {
   "cell_type": "code",
   "execution_count": 26,
   "id": "5cb474e0",
   "metadata": {},
   "outputs": [
    {
     "data": {
      "text/plain": [
       "'Production and Industrial site'"
      ]
     },
     "execution_count": 26,
     "metadata": {},
     "output_type": "execute_result"
    }
   ],
   "source": [
    "object_type"
   ]
  },
  {
   "cell_type": "code",
   "execution_count": 27,
   "id": "bc8042fa",
   "metadata": {},
   "outputs": [],
   "source": [
    "def create_ooi_type(object_type):\n",
    "    ooi_type = object_type\n",
    "    return ooi_type\n",
    "\n",
    "gdf_filtered['OOI_type'] = create_ooi_type(object_type)"
   ]
  },
  {
   "attachments": {},
   "cell_type": "markdown",
   "id": "6cd97364",
   "metadata": {},
   "source": [
    "Create unique id using UUID"
   ]
  },
  {
   "cell_type": "code",
   "execution_count": 28,
   "id": "5294abdc",
   "metadata": {},
   "outputs": [],
   "source": [
    "# gdf_filtered_copy = gdf_filtered.copy()"
   ]
  },
  {
   "cell_type": "code",
   "execution_count": 29,
   "id": "832df2b4",
   "metadata": {},
   "outputs": [],
   "source": [
    "# import uuid\n",
    "# gdf_filtered['UUID'] = [uuid.uuid4().hex for _ in range(len(gdf_filtered.index))]"
   ]
  },
  {
   "cell_type": "code",
   "execution_count": 30,
   "id": "7e4f438c",
   "metadata": {},
   "outputs": [
    {
     "data": {
      "text/html": [
       "<div>\n",
       "<style scoped>\n",
       "    .dataframe tbody tr th:only-of-type {\n",
       "        vertical-align: middle;\n",
       "    }\n",
       "\n",
       "    .dataframe tbody tr th {\n",
       "        vertical-align: top;\n",
       "    }\n",
       "\n",
       "    .dataframe thead th {\n",
       "        text-align: right;\n",
       "    }\n",
       "</style>\n",
       "<table border=\"1\" class=\"dataframe\">\n",
       "  <thead>\n",
       "    <tr style=\"text-align: right;\">\n",
       "      <th></th>\n",
       "      <th>identifier</th>\n",
       "      <th>name</th>\n",
       "      <th>localId</th>\n",
       "      <th>namespace</th>\n",
       "      <th>geometry_x</th>\n",
       "      <th>line_id</th>\n",
       "      <th>line_name</th>\n",
       "      <th>basin</th>\n",
       "      <th>watercourse_namespace</th>\n",
       "      <th>geometry_y</th>\n",
       "      <th>loc_nodes</th>\n",
       "      <th>distance</th>\n",
       "      <th>connection_lines</th>\n",
       "      <th>atPosition</th>\n",
       "      <th>OOI_type</th>\n",
       "    </tr>\n",
       "  </thead>\n",
       "  <tbody>\n",
       "    <tr>\n",
       "      <th>0</th>\n",
       "      <td>https://data.gpbv.omgeving.vlaanderen.be/id/pr...</td>\n",
       "      <td>Van Looveren Leo</td>\n",
       "      <td>BE.VL.000000416.INSTALLATION</td>\n",
       "      <td>https://data.gpbv.omgeving.vlaanderen.be/id/pr...</td>\n",
       "      <td>POINT (174053.026 229391.163)</td>\n",
       "      <td>7007018_2</td>\n",
       "      <td>Laboureurloop</td>\n",
       "      <td>Maas</td>\n",
       "      <td>BE.Tracing.HydroNetwork</td>\n",
       "      <td>LINESTRING (174218.478 229321.030, 174211.910 ...</td>\n",
       "      <td>POINT (174186.723 229374.213)</td>\n",
       "      <td>134.766839</td>\n",
       "      <td>LINESTRING (174186.72303999812 229374.21319997...</td>\n",
       "      <td>61.991412</td>\n",
       "      <td>Production and Industrial site</td>\n",
       "    </tr>\n",
       "    <tr>\n",
       "      <th>1</th>\n",
       "      <td>https://data.gpbv.omgeving.vlaanderen.be/id/pr...</td>\n",
       "      <td>Swaegers Slachthuis</td>\n",
       "      <td>BE.VL.000000186.INSTALLATION</td>\n",
       "      <td>https://data.gpbv.omgeving.vlaanderen.be/id/pr...</td>\n",
       "      <td>POINT (176099.703 231237.668)</td>\n",
       "      <td>6801187</td>\n",
       "      <td>Raamloop</td>\n",
       "      <td>Maas</td>\n",
       "      <td>BE.Tracing.HydroNetwork</td>\n",
       "      <td>LINESTRING (175886.862 230719.803, 175878.810 ...</td>\n",
       "      <td>POINT (175999.420 231177.544)</td>\n",
       "      <td>116.925285</td>\n",
       "      <td>LINESTRING (175999.4199400008 231177.543999978...</td>\n",
       "      <td>679.593676</td>\n",
       "      <td>Production and Industrial site</td>\n",
       "    </tr>\n",
       "    <tr>\n",
       "      <th>2</th>\n",
       "      <td>https://data.gpbv.omgeving.vlaanderen.be/id/pr...</td>\n",
       "      <td>Prat en Naessens Kathy</td>\n",
       "      <td>BE.VL.000001358.INSTALLATION</td>\n",
       "      <td>https://data.gpbv.omgeving.vlaanderen.be/id/pr...</td>\n",
       "      <td>POINT (75447.466 177601.520)</td>\n",
       "      <td>6020079</td>\n",
       "      <td>Hulstebeek</td>\n",
       "      <td>Schelde</td>\n",
       "      <td>BE.Tracing.HydroNetwork</td>\n",
       "      <td>LINESTRING (74540.863 177195.750, 74550.111 17...</td>\n",
       "      <td>POINT (75401.452 177659.270)</td>\n",
       "      <td>73.839870</td>\n",
       "      <td>LINESTRING (75401.45233999788 177659.269999979...</td>\n",
       "      <td>1287.816151</td>\n",
       "      <td>Production and Industrial site</td>\n",
       "    </tr>\n",
       "  </tbody>\n",
       "</table>\n",
       "</div>"
      ],
      "text/plain": [
       "                                          identifier                    name  \\\n",
       "0  https://data.gpbv.omgeving.vlaanderen.be/id/pr...        Van Looveren Leo   \n",
       "1  https://data.gpbv.omgeving.vlaanderen.be/id/pr...     Swaegers Slachthuis   \n",
       "2  https://data.gpbv.omgeving.vlaanderen.be/id/pr...  Prat en Naessens Kathy   \n",
       "\n",
       "                        localId  \\\n",
       "0  BE.VL.000000416.INSTALLATION   \n",
       "1  BE.VL.000000186.INSTALLATION   \n",
       "2  BE.VL.000001358.INSTALLATION   \n",
       "\n",
       "                                           namespace  \\\n",
       "0  https://data.gpbv.omgeving.vlaanderen.be/id/pr...   \n",
       "1  https://data.gpbv.omgeving.vlaanderen.be/id/pr...   \n",
       "2  https://data.gpbv.omgeving.vlaanderen.be/id/pr...   \n",
       "\n",
       "                      geometry_x    line_id      line_name    basin  \\\n",
       "0  POINT (174053.026 229391.163)  7007018_2  Laboureurloop     Maas   \n",
       "1  POINT (176099.703 231237.668)    6801187       Raamloop     Maas   \n",
       "2   POINT (75447.466 177601.520)    6020079     Hulstebeek  Schelde   \n",
       "\n",
       "     watercourse_namespace                                         geometry_y  \\\n",
       "0  BE.Tracing.HydroNetwork  LINESTRING (174218.478 229321.030, 174211.910 ...   \n",
       "1  BE.Tracing.HydroNetwork  LINESTRING (175886.862 230719.803, 175878.810 ...   \n",
       "2  BE.Tracing.HydroNetwork  LINESTRING (74540.863 177195.750, 74550.111 17...   \n",
       "\n",
       "                       loc_nodes    distance  \\\n",
       "0  POINT (174186.723 229374.213)  134.766839   \n",
       "1  POINT (175999.420 231177.544)  116.925285   \n",
       "2   POINT (75401.452 177659.270)   73.839870   \n",
       "\n",
       "                                    connection_lines   atPosition  \\\n",
       "0  LINESTRING (174186.72303999812 229374.21319997...    61.991412   \n",
       "1  LINESTRING (175999.4199400008 231177.543999978...   679.593676   \n",
       "2  LINESTRING (75401.45233999788 177659.269999979...  1287.816151   \n",
       "\n",
       "                         OOI_type  \n",
       "0  Production and Industrial site  \n",
       "1  Production and Industrial site  \n",
       "2  Production and Industrial site  "
      ]
     },
     "execution_count": 30,
     "metadata": {},
     "output_type": "execute_result"
    }
   ],
   "source": [
    "gdf_filtered.head(3)"
   ]
  },
  {
   "cell_type": "code",
   "execution_count": 31,
   "id": "af410335",
   "metadata": {},
   "outputs": [],
   "source": [
    "gdf_links = gpd.GeoDataFrame((gdf_filtered.drop(['geometry_y', 'geometry_x', 'loc_nodes'], axis=1)\n",
    "                        .rename(columns={'connection_lines':'geometry'})\n",
    "                        ), geometry='geometry', crs=PROJ_CRS)\n",
    "\n",
    "# gdf_links= gdf_links.set_crs(PROJ_CRS)\n",
    "gdf_links_final = gdf_links.to_crs(FINAL_CRS)"
   ]
  },
  {
   "cell_type": "code",
   "execution_count": 32,
   "id": "b871329e",
   "metadata": {},
   "outputs": [],
   "source": [
    "gdf_links_final = (gdf_links_final.rename(columns={'identifier':'OOI_identifier', \n",
    "                                 'name': 'OOI_name', \n",
    "                                 'localId': 'OOI_localId', \n",
    "                                 'namespace': 'OOI_namespace',\n",
    "                                 'line_id': 'hydroId',\n",
    "                                 'line_name': 'watercourse_localName',\n",
    "                                 'basin': 'watercourseBasin'})\n",
    "                # .query(f'distance < {buffer_distance}')\n",
    "                                .reset_index(drop=True))"
   ]
  },
  {
   "cell_type": "code",
   "execution_count": 33,
   "id": "f968ea1c",
   "metadata": {},
   "outputs": [],
   "source": [
    "import uuid\n",
    "gdf_links_final['UUID'] = [uuid.uuid4().hex for _ in range(len(gdf_links_final.index))]"
   ]
  },
  {
   "cell_type": "code",
   "execution_count": 34,
   "id": "86853962",
   "metadata": {},
   "outputs": [
    {
     "data": {
      "text/html": [
       "<div>\n",
       "<style scoped>\n",
       "    .dataframe tbody tr th:only-of-type {\n",
       "        vertical-align: middle;\n",
       "    }\n",
       "\n",
       "    .dataframe tbody tr th {\n",
       "        vertical-align: top;\n",
       "    }\n",
       "\n",
       "    .dataframe thead th {\n",
       "        text-align: right;\n",
       "    }\n",
       "</style>\n",
       "<table border=\"1\" class=\"dataframe\">\n",
       "  <thead>\n",
       "    <tr style=\"text-align: right;\">\n",
       "      <th></th>\n",
       "      <th>OOI_identifier</th>\n",
       "      <th>OOI_name</th>\n",
       "      <th>OOI_localId</th>\n",
       "      <th>OOI_namespace</th>\n",
       "      <th>hydroId</th>\n",
       "      <th>watercourse_localName</th>\n",
       "      <th>watercourseBasin</th>\n",
       "      <th>watercourse_namespace</th>\n",
       "      <th>distance</th>\n",
       "      <th>geometry</th>\n",
       "      <th>atPosition</th>\n",
       "      <th>OOI_type</th>\n",
       "      <th>UUID</th>\n",
       "    </tr>\n",
       "  </thead>\n",
       "  <tbody>\n",
       "    <tr>\n",
       "      <th>0</th>\n",
       "      <td>https://data.gpbv.omgeving.vlaanderen.be/id/pr...</td>\n",
       "      <td>Van Looveren Leo</td>\n",
       "      <td>BE.VL.000000416.INSTALLATION</td>\n",
       "      <td>https://data.gpbv.omgeving.vlaanderen.be/id/pr...</td>\n",
       "      <td>7007018_2</td>\n",
       "      <td>Laboureurloop</td>\n",
       "      <td>Maas</td>\n",
       "      <td>BE.Tracing.HydroNetwork</td>\n",
       "      <td>134.766839</td>\n",
       "      <td>LINESTRING (3953437.743 3153608.300, 3953305.8...</td>\n",
       "      <td>61.991412</td>\n",
       "      <td>Production and Industrial site</td>\n",
       "      <td>805f2c3ca0304f7eb280de4b176dfbf7</td>\n",
       "    </tr>\n",
       "    <tr>\n",
       "      <th>1</th>\n",
       "      <td>https://data.gpbv.omgeving.vlaanderen.be/id/pr...</td>\n",
       "      <td>Swaegers Slachthuis</td>\n",
       "      <td>BE.VL.000000186.INSTALLATION</td>\n",
       "      <td>https://data.gpbv.omgeving.vlaanderen.be/id/pr...</td>\n",
       "      <td>6801187</td>\n",
       "      <td>Raamloop</td>\n",
       "      <td>Maas</td>\n",
       "      <td>BE.Tracing.HydroNetwork</td>\n",
       "      <td>116.925285</td>\n",
       "      <td>LINESTRING (3955382.677 3155267.444, 3955487.2...</td>\n",
       "      <td>679.593676</td>\n",
       "      <td>Production and Industrial site</td>\n",
       "      <td>360eb13147d944e0b0d40b99c3465b57</td>\n",
       "    </tr>\n",
       "    <tr>\n",
       "      <th>2</th>\n",
       "      <td>https://data.gpbv.omgeving.vlaanderen.be/id/pr...</td>\n",
       "      <td>Prat en Naessens Kathy</td>\n",
       "      <td>BE.VL.000001358.INSTALLATION</td>\n",
       "      <td>https://data.gpbv.omgeving.vlaanderen.be/id/pr...</td>\n",
       "      <td>6020079</td>\n",
       "      <td>Hulstebeek</td>\n",
       "      <td>Schelde</td>\n",
       "      <td>BE.Tracing.HydroNetwork</td>\n",
       "      <td>73.839870</td>\n",
       "      <td>LINESTRING (3851030.001 3109631.647, 3851071.4...</td>\n",
       "      <td>1287.816151</td>\n",
       "      <td>Production and Industrial site</td>\n",
       "      <td>69f346b39dc440f9b3834e2223c133ac</td>\n",
       "    </tr>\n",
       "    <tr>\n",
       "      <th>3</th>\n",
       "      <td>https://data.gpbv.omgeving.vlaanderen.be/id/pr...</td>\n",
       "      <td>Daelken</td>\n",
       "      <td>BE.VL.000001359.INSTALLATION</td>\n",
       "      <td>https://data.gpbv.omgeving.vlaanderen.be/id/pr...</td>\n",
       "      <td>6002393</td>\n",
       "      <td>None</td>\n",
       "      <td>Brugse Polders</td>\n",
       "      <td>BE.Tracing.HydroNetwork</td>\n",
       "      <td>55.967540</td>\n",
       "      <td>LINESTRING (3838853.910 3146430.782, 3838854.5...</td>\n",
       "      <td>565.642033</td>\n",
       "      <td>Production and Industrial site</td>\n",
       "      <td>494c320f737047b18e2350d219ac8af1</td>\n",
       "    </tr>\n",
       "    <tr>\n",
       "      <th>4</th>\n",
       "      <td>https://data.gpbv.omgeving.vlaanderen.be/id/pr...</td>\n",
       "      <td>Proot Bart</td>\n",
       "      <td>BE.VL.000001360.INSTALLATION</td>\n",
       "      <td>https://data.gpbv.omgeving.vlaanderen.be/id/pr...</td>\n",
       "      <td>6005494</td>\n",
       "      <td>None</td>\n",
       "      <td>Ijzer</td>\n",
       "      <td>BE.Tracing.HydroNetwork</td>\n",
       "      <td>123.668533</td>\n",
       "      <td>LINESTRING (3809307.813 3120052.013, 3809220.6...</td>\n",
       "      <td>0.000000</td>\n",
       "      <td>Production and Industrial site</td>\n",
       "      <td>84ea2324e986450e8fdb0e0a841bd19a</td>\n",
       "    </tr>\n",
       "  </tbody>\n",
       "</table>\n",
       "</div>"
      ],
      "text/plain": [
       "                                      OOI_identifier                OOI_name  \\\n",
       "0  https://data.gpbv.omgeving.vlaanderen.be/id/pr...        Van Looveren Leo   \n",
       "1  https://data.gpbv.omgeving.vlaanderen.be/id/pr...     Swaegers Slachthuis   \n",
       "2  https://data.gpbv.omgeving.vlaanderen.be/id/pr...  Prat en Naessens Kathy   \n",
       "3  https://data.gpbv.omgeving.vlaanderen.be/id/pr...                 Daelken   \n",
       "4  https://data.gpbv.omgeving.vlaanderen.be/id/pr...              Proot Bart   \n",
       "\n",
       "                    OOI_localId  \\\n",
       "0  BE.VL.000000416.INSTALLATION   \n",
       "1  BE.VL.000000186.INSTALLATION   \n",
       "2  BE.VL.000001358.INSTALLATION   \n",
       "3  BE.VL.000001359.INSTALLATION   \n",
       "4  BE.VL.000001360.INSTALLATION   \n",
       "\n",
       "                                       OOI_namespace    hydroId  \\\n",
       "0  https://data.gpbv.omgeving.vlaanderen.be/id/pr...  7007018_2   \n",
       "1  https://data.gpbv.omgeving.vlaanderen.be/id/pr...    6801187   \n",
       "2  https://data.gpbv.omgeving.vlaanderen.be/id/pr...    6020079   \n",
       "3  https://data.gpbv.omgeving.vlaanderen.be/id/pr...    6002393   \n",
       "4  https://data.gpbv.omgeving.vlaanderen.be/id/pr...    6005494   \n",
       "\n",
       "  watercourse_localName watercourseBasin    watercourse_namespace    distance  \\\n",
       "0         Laboureurloop             Maas  BE.Tracing.HydroNetwork  134.766839   \n",
       "1              Raamloop             Maas  BE.Tracing.HydroNetwork  116.925285   \n",
       "2            Hulstebeek          Schelde  BE.Tracing.HydroNetwork   73.839870   \n",
       "3                  None   Brugse Polders  BE.Tracing.HydroNetwork   55.967540   \n",
       "4                  None            Ijzer  BE.Tracing.HydroNetwork  123.668533   \n",
       "\n",
       "                                            geometry   atPosition  \\\n",
       "0  LINESTRING (3953437.743 3153608.300, 3953305.8...    61.991412   \n",
       "1  LINESTRING (3955382.677 3155267.444, 3955487.2...   679.593676   \n",
       "2  LINESTRING (3851030.001 3109631.647, 3851071.4...  1287.816151   \n",
       "3  LINESTRING (3838853.910 3146430.782, 3838854.5...   565.642033   \n",
       "4  LINESTRING (3809307.813 3120052.013, 3809220.6...     0.000000   \n",
       "\n",
       "                         OOI_type                              UUID  \n",
       "0  Production and Industrial site  805f2c3ca0304f7eb280de4b176dfbf7  \n",
       "1  Production and Industrial site  360eb13147d944e0b0d40b99c3465b57  \n",
       "2  Production and Industrial site  69f346b39dc440f9b3834e2223c133ac  \n",
       "3  Production and Industrial site  494c320f737047b18e2350d219ac8af1  \n",
       "4  Production and Industrial site  84ea2324e986450e8fdb0e0a841bd19a  "
      ]
     },
     "execution_count": 34,
     "metadata": {},
     "output_type": "execute_result"
    }
   ],
   "source": [
    "gdf_links_final.head()"
   ]
  },
  {
   "cell_type": "code",
   "execution_count": 35,
   "id": "42951514",
   "metadata": {},
   "outputs": [
    {
     "data": {
      "text/plain": [
       "Index(['OOI_identifier', 'OOI_name', 'OOI_localId', 'OOI_namespace', 'hydroId',\n",
       "       'watercourse_localName', 'watercourseBasin', 'watercourse_namespace',\n",
       "       'distance', 'geometry', 'atPosition', 'OOI_type', 'UUID'],\n",
       "      dtype='object')"
      ]
     },
     "execution_count": 35,
     "metadata": {},
     "output_type": "execute_result"
    }
   ],
   "source": [
    "gdf_links_final.columns"
   ]
  },
  {
   "cell_type": "code",
   "execution_count": 37,
   "id": "053f939e",
   "metadata": {},
   "outputs": [],
   "source": [
    "links_final = gdf_links_final[['UUID', 'OOI_type', 'OOI_identifier', 'OOI_name', 'OOI_localId', 'OOI_namespace', 'hydroId', 'watercourse_namespace', 'geometry']]"
   ]
  },
  {
   "cell_type": "code",
   "execution_count": 38,
   "id": "dc12a46f",
   "metadata": {},
   "outputs": [
    {
     "data": {
      "text/html": [
       "<div>\n",
       "<style scoped>\n",
       "    .dataframe tbody tr th:only-of-type {\n",
       "        vertical-align: middle;\n",
       "    }\n",
       "\n",
       "    .dataframe tbody tr th {\n",
       "        vertical-align: top;\n",
       "    }\n",
       "\n",
       "    .dataframe thead th {\n",
       "        text-align: right;\n",
       "    }\n",
       "</style>\n",
       "<table border=\"1\" class=\"dataframe\">\n",
       "  <thead>\n",
       "    <tr style=\"text-align: right;\">\n",
       "      <th></th>\n",
       "      <th>UUID</th>\n",
       "      <th>OOI_type</th>\n",
       "      <th>OOI_identifier</th>\n",
       "      <th>OOI_name</th>\n",
       "      <th>OOI_localId</th>\n",
       "      <th>OOI_namespace</th>\n",
       "      <th>hydroId</th>\n",
       "      <th>watercourse_namespace</th>\n",
       "      <th>geometry</th>\n",
       "    </tr>\n",
       "  </thead>\n",
       "  <tbody>\n",
       "    <tr>\n",
       "      <th>0</th>\n",
       "      <td>805f2c3ca0304f7eb280de4b176dfbf7</td>\n",
       "      <td>Production and Industrial site</td>\n",
       "      <td>https://data.gpbv.omgeving.vlaanderen.be/id/pr...</td>\n",
       "      <td>Van Looveren Leo</td>\n",
       "      <td>BE.VL.000000416.INSTALLATION</td>\n",
       "      <td>https://data.gpbv.omgeving.vlaanderen.be/id/pr...</td>\n",
       "      <td>7007018_2</td>\n",
       "      <td>BE.Tracing.HydroNetwork</td>\n",
       "      <td>LINESTRING (3953437.743 3153608.300, 3953305.8...</td>\n",
       "    </tr>\n",
       "    <tr>\n",
       "      <th>1</th>\n",
       "      <td>360eb13147d944e0b0d40b99c3465b57</td>\n",
       "      <td>Production and Industrial site</td>\n",
       "      <td>https://data.gpbv.omgeving.vlaanderen.be/id/pr...</td>\n",
       "      <td>Swaegers Slachthuis</td>\n",
       "      <td>BE.VL.000000186.INSTALLATION</td>\n",
       "      <td>https://data.gpbv.omgeving.vlaanderen.be/id/pr...</td>\n",
       "      <td>6801187</td>\n",
       "      <td>BE.Tracing.HydroNetwork</td>\n",
       "      <td>LINESTRING (3955382.677 3155267.444, 3955487.2...</td>\n",
       "    </tr>\n",
       "    <tr>\n",
       "      <th>2</th>\n",
       "      <td>69f346b39dc440f9b3834e2223c133ac</td>\n",
       "      <td>Production and Industrial site</td>\n",
       "      <td>https://data.gpbv.omgeving.vlaanderen.be/id/pr...</td>\n",
       "      <td>Prat en Naessens Kathy</td>\n",
       "      <td>BE.VL.000001358.INSTALLATION</td>\n",
       "      <td>https://data.gpbv.omgeving.vlaanderen.be/id/pr...</td>\n",
       "      <td>6020079</td>\n",
       "      <td>BE.Tracing.HydroNetwork</td>\n",
       "      <td>LINESTRING (3851030.001 3109631.647, 3851071.4...</td>\n",
       "    </tr>\n",
       "    <tr>\n",
       "      <th>3</th>\n",
       "      <td>494c320f737047b18e2350d219ac8af1</td>\n",
       "      <td>Production and Industrial site</td>\n",
       "      <td>https://data.gpbv.omgeving.vlaanderen.be/id/pr...</td>\n",
       "      <td>Daelken</td>\n",
       "      <td>BE.VL.000001359.INSTALLATION</td>\n",
       "      <td>https://data.gpbv.omgeving.vlaanderen.be/id/pr...</td>\n",
       "      <td>6002393</td>\n",
       "      <td>BE.Tracing.HydroNetwork</td>\n",
       "      <td>LINESTRING (3838853.910 3146430.782, 3838854.5...</td>\n",
       "    </tr>\n",
       "    <tr>\n",
       "      <th>4</th>\n",
       "      <td>84ea2324e986450e8fdb0e0a841bd19a</td>\n",
       "      <td>Production and Industrial site</td>\n",
       "      <td>https://data.gpbv.omgeving.vlaanderen.be/id/pr...</td>\n",
       "      <td>Proot Bart</td>\n",
       "      <td>BE.VL.000001360.INSTALLATION</td>\n",
       "      <td>https://data.gpbv.omgeving.vlaanderen.be/id/pr...</td>\n",
       "      <td>6005494</td>\n",
       "      <td>BE.Tracing.HydroNetwork</td>\n",
       "      <td>LINESTRING (3809307.813 3120052.013, 3809220.6...</td>\n",
       "    </tr>\n",
       "  </tbody>\n",
       "</table>\n",
       "</div>"
      ],
      "text/plain": [
       "                               UUID                        OOI_type  \\\n",
       "0  805f2c3ca0304f7eb280de4b176dfbf7  Production and Industrial site   \n",
       "1  360eb13147d944e0b0d40b99c3465b57  Production and Industrial site   \n",
       "2  69f346b39dc440f9b3834e2223c133ac  Production and Industrial site   \n",
       "3  494c320f737047b18e2350d219ac8af1  Production and Industrial site   \n",
       "4  84ea2324e986450e8fdb0e0a841bd19a  Production and Industrial site   \n",
       "\n",
       "                                      OOI_identifier                OOI_name  \\\n",
       "0  https://data.gpbv.omgeving.vlaanderen.be/id/pr...        Van Looveren Leo   \n",
       "1  https://data.gpbv.omgeving.vlaanderen.be/id/pr...     Swaegers Slachthuis   \n",
       "2  https://data.gpbv.omgeving.vlaanderen.be/id/pr...  Prat en Naessens Kathy   \n",
       "3  https://data.gpbv.omgeving.vlaanderen.be/id/pr...                 Daelken   \n",
       "4  https://data.gpbv.omgeving.vlaanderen.be/id/pr...              Proot Bart   \n",
       "\n",
       "                    OOI_localId  \\\n",
       "0  BE.VL.000000416.INSTALLATION   \n",
       "1  BE.VL.000000186.INSTALLATION   \n",
       "2  BE.VL.000001358.INSTALLATION   \n",
       "3  BE.VL.000001359.INSTALLATION   \n",
       "4  BE.VL.000001360.INSTALLATION   \n",
       "\n",
       "                                       OOI_namespace    hydroId  \\\n",
       "0  https://data.gpbv.omgeving.vlaanderen.be/id/pr...  7007018_2   \n",
       "1  https://data.gpbv.omgeving.vlaanderen.be/id/pr...    6801187   \n",
       "2  https://data.gpbv.omgeving.vlaanderen.be/id/pr...    6020079   \n",
       "3  https://data.gpbv.omgeving.vlaanderen.be/id/pr...    6002393   \n",
       "4  https://data.gpbv.omgeving.vlaanderen.be/id/pr...    6005494   \n",
       "\n",
       "     watercourse_namespace                                           geometry  \n",
       "0  BE.Tracing.HydroNetwork  LINESTRING (3953437.743 3153608.300, 3953305.8...  \n",
       "1  BE.Tracing.HydroNetwork  LINESTRING (3955382.677 3155267.444, 3955487.2...  \n",
       "2  BE.Tracing.HydroNetwork  LINESTRING (3851030.001 3109631.647, 3851071.4...  \n",
       "3  BE.Tracing.HydroNetwork  LINESTRING (3838853.910 3146430.782, 3838854.5...  \n",
       "4  BE.Tracing.HydroNetwork  LINESTRING (3809307.813 3120052.013, 3809220.6...  "
      ]
     },
     "execution_count": 38,
     "metadata": {},
     "output_type": "execute_result"
    }
   ],
   "source": [
    "links_final.head()"
   ]
  },
  {
   "cell_type": "code",
   "execution_count": null,
   "id": "1ab844a3",
   "metadata": {},
   "outputs": [],
   "source": [
    "# gdf_n_filtered_test.to_file(r\"C:\\Workdir\\Develop\\test_data\\points_links.shp\")\n",
    "# links_final.to_file(r\"C:\\Workdir\\Develop\\test_data\\points_links4.shp\")"
   ]
  },
  {
   "cell_type": "code",
   "execution_count": 39,
   "id": "04175973",
   "metadata": {},
   "outputs": [
    {
     "name": "stderr",
     "output_type": "stream",
     "text": [
      "c:\\Users\\u0119822\\.conda\\envs\\gopeg\\lib\\site-packages\\geopandas\\io\\file.py:362: FutureWarning: pandas.Int64Index is deprecated and will be removed from pandas in a future version. Use pandas.Index with the appropriate dtype instead.\n",
      "  pd.Int64Index,\n"
     ]
    }
   ],
   "source": [
    "# links_final.to_file(r\"c:\\Workdir\\Develop\\repository\\go-peg\\harmonized_data\\VL_locations_of_interest.gpkg\", layer=\"points_links\", driver='GPKG')"
   ]
  }
 ],
 "metadata": {
  "kernelspec": {
   "display_name": "gopeg",
   "language": "python",
   "name": "python3"
  },
  "language_info": {
   "codemirror_mode": {
    "name": "ipython",
    "version": 3
   },
   "file_extension": ".py",
   "mimetype": "text/x-python",
   "name": "python",
   "nbconvert_exporter": "python",
   "pygments_lexer": "ipython3",
   "version": "3.8.13"
  },
  "vscode": {
   "interpreter": {
    "hash": "07cfc20f86b5324f2cf4cab54f3d8afd23691d2e48a06ce4244ed8c5c7ddfd6c"
   }
  }
 },
 "nbformat": 4,
 "nbformat_minor": 5
}
