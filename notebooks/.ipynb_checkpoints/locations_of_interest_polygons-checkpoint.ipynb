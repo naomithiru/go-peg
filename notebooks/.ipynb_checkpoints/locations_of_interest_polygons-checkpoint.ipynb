{
 "cells": [
  {
   "cell_type": "markdown",
   "id": "73262737-8550-465e-801f-e9cb56919737",
   "metadata": {},
   "source": [
    "# Locations of Interest"
   ]
  },
  {
   "cell_type": "markdown",
   "id": "30f355df-a87c-4100-9799-9210881194dc",
   "metadata": {},
   "source": [
    "These refer to any phonomenon occuring along the networks that have the potential to affect or be affected by pollution.\n",
    "\n",
    "The locations of interest have surface geometry, either point or polygon.\n",
    "\n",
    "Given a certain buffer distance, a location of interest can be identified based on whether it overlaps with a section of the network."
   ]
  },
  {
   "cell_type": "code",
   "execution_count": 1,
   "id": "37cfbf64",
   "metadata": {},
   "outputs": [
    {
     "name": "stdout",
     "output_type": "stream",
     "text": [
      "C:\\workdir\\develop\\repository\\go-peg\n"
     ]
    }
   ],
   "source": [
    "import os\n",
    "import sys\n",
    "path = os.path.dirname(os.path.abspath(''))\n",
    "os.chdir(path)\n",
    "print(path)"
   ]
  },
  {
   "cell_type": "code",
   "execution_count": 2,
   "id": "79f8b7cb-06cd-4f7c-ac2f-99782ccd5a69",
   "metadata": {},
   "outputs": [
    {
     "name": "stderr",
     "output_type": "stream",
     "text": [
      "C:\\Users\\u0119822\\.conda\\envs\\gopeg\\lib\\site-packages\\geopandas\\_compat.py:111: UserWarning: The Shapely GEOS version (3.10.2-CAPI-1.16.0) is incompatible with the GEOS version PyGEOS was compiled with (3.10.4-CAPI-1.16.2). Conversions between both will be slow.\n",
      "  warnings.warn(\n"
     ]
    }
   ],
   "source": [
    "import geopandas as gpd\n",
    "import pandas as pd\n",
    "import numpy as np \n",
    "\n",
    "from shapely.geometry import Point, LineString, MultiLineString, MultiPoint\n",
    "from shapely import wkt\n",
    "from shapely.ops import nearest_points\n",
    "import shapely.wkt\n",
    "\n",
    "import warnings\n",
    "from shapely.errors import ShapelyDeprecationWarning\n",
    "warnings.filterwarnings(\"ignore\", category=ShapelyDeprecationWarning) \n",
    "pd.options.mode.chained_assignment = None  # default='warn'\n",
    "\n",
    "from src.config import config"
   ]
  },
  {
   "cell_type": "code",
   "execution_count": 5,
   "id": "ac35f457",
   "metadata": {},
   "outputs": [],
   "source": [
    "PROJ_CRS = 'EPSG:31370'"
   ]
  },
  {
   "cell_type": "code",
   "execution_count": 6,
   "id": "ced51f38-808c-4d9d-ba7c-0fc6693d932c",
   "metadata": {},
   "outputs": [],
   "source": [
    "def load_data(path, crs=PROJ_CRS):\n",
    "    \"\"\"\n",
    "    Loads the data from the given path, \n",
    "    and prints the shape and crs of the data.\n",
    "    \"\"\"\n",
    "    data = gpd.read_file(path)\n",
    "    print(data.shape)\n",
    "    #print(\"Original crs:\", data.crs)\n",
    "    data = data.to_crs(crs)\n",
    "    print(\"Project crs:\", data.crs)\n",
    "    return data"
   ]
  },
  {
   "cell_type": "code",
   "execution_count": 7,
   "id": "6421b985-dc80-46a4-ac41-eafd071450fb",
   "metadata": {},
   "outputs": [
    {
     "name": "stdout",
     "output_type": "stream",
     "text": [
      "(1895, 16)\n",
      "Project crs: EPSG:31370\n"
     ]
    }
   ],
   "source": [
    "PATH = config.data_src / \"flanders_locations/Production and industrial facilities/ProductionInstallation_polygons.shp\"\n",
    "prod_installations = load_data(PATH)"
   ]
  },
  {
   "cell_type": "code",
   "execution_count": 8,
   "id": "fbdc066e-a851-4dc6-aad5-1d8b03177552",
   "metadata": {},
   "outputs": [
    {
     "data": {
      "text/html": [
       "<div>\n",
       "<style scoped>\n",
       "    .dataframe tbody tr th:only-of-type {\n",
       "        vertical-align: middle;\n",
       "    }\n",
       "\n",
       "    .dataframe tbody tr th {\n",
       "        vertical-align: top;\n",
       "    }\n",
       "\n",
       "    .dataframe thead th {\n",
       "        text-align: right;\n",
       "    }\n",
       "</style>\n",
       "<table border=\"1\" class=\"dataframe\">\n",
       "  <thead>\n",
       "    <tr style=\"text-align: right;\">\n",
       "      <th></th>\n",
       "      <th>RecId</th>\n",
       "      <th>CaPaKey</th>\n",
       "      <th>Type</th>\n",
       "      <th>CaSeKey</th>\n",
       "      <th>FiscSitId</th>\n",
       "      <th>UpdDate</th>\n",
       "      <th>Shape_area</th>\n",
       "      <th>gml_id</th>\n",
       "      <th>descriptio</th>\n",
       "      <th>identifier</th>\n",
       "      <th>localId</th>\n",
       "      <th>namespace</th>\n",
       "      <th>name</th>\n",
       "      <th>status</th>\n",
       "      <th>type_2</th>\n",
       "      <th>geometry</th>\n",
       "    </tr>\n",
       "  </thead>\n",
       "  <tbody>\n",
       "    <tr>\n",
       "      <th>0</th>\n",
       "      <td>3714438</td>\n",
       "      <td>12302B0261/00X000</td>\n",
       "      <td>PR</td>\n",
       "      <td>12302B</td>\n",
       "      <td>1</td>\n",
       "      <td>2016-11-30</td>\n",
       "      <td>962.5510</td>\n",
       "      <td>pf_gpbv.1491</td>\n",
       "      <td>industrie</td>\n",
       "      <td>https://data.gpbv.omgeving.vlaanderen.be/id/pr...</td>\n",
       "      <td>BE.VL.000001687.INSTALLATION</td>\n",
       "      <td>https://data.gpbv.omgeving.vlaanderen.be/id/pr...</td>\n",
       "      <td>Galvani</td>\n",
       "      <td>None</td>\n",
       "      <td>industrie</td>\n",
       "      <td>POLYGON ((162292.997 199677.392, 162286.199 19...</td>\n",
       "    </tr>\n",
       "    <tr>\n",
       "      <th>1</th>\n",
       "      <td>4711050</td>\n",
       "      <td>44008A0463/00G000</td>\n",
       "      <td>PR</td>\n",
       "      <td>44008A</td>\n",
       "      <td>2</td>\n",
       "      <td>2017-04-18</td>\n",
       "      <td>2587.4769</td>\n",
       "      <td>pf_gpbv.1594</td>\n",
       "      <td>veeteelt</td>\n",
       "      <td>https://data.gpbv.omgeving.vlaanderen.be/id/pr...</td>\n",
       "      <td>BE.VL.000001800.INSTALLATION</td>\n",
       "      <td>https://data.gpbv.omgeving.vlaanderen.be/id/pr...</td>\n",
       "      <td>Verschraegen Patrick</td>\n",
       "      <td>None</td>\n",
       "      <td>veeteelt</td>\n",
       "      <td>POLYGON ((113791.970 195703.675, 113793.834 19...</td>\n",
       "    </tr>\n",
       "  </tbody>\n",
       "</table>\n",
       "</div>"
      ],
      "text/plain": [
       "     RecId            CaPaKey Type CaSeKey  FiscSitId     UpdDate  Shape_area  \\\n",
       "0  3714438  12302B0261/00X000   PR  12302B          1  2016-11-30    962.5510   \n",
       "1  4711050  44008A0463/00G000   PR  44008A          2  2017-04-18   2587.4769   \n",
       "\n",
       "         gml_id descriptio                                         identifier  \\\n",
       "0  pf_gpbv.1491  industrie  https://data.gpbv.omgeving.vlaanderen.be/id/pr...   \n",
       "1  pf_gpbv.1594   veeteelt  https://data.gpbv.omgeving.vlaanderen.be/id/pr...   \n",
       "\n",
       "                        localId  \\\n",
       "0  BE.VL.000001687.INSTALLATION   \n",
       "1  BE.VL.000001800.INSTALLATION   \n",
       "\n",
       "                                           namespace                  name  \\\n",
       "0  https://data.gpbv.omgeving.vlaanderen.be/id/pr...               Galvani   \n",
       "1  https://data.gpbv.omgeving.vlaanderen.be/id/pr...  Verschraegen Patrick   \n",
       "\n",
       "  status     type_2                                           geometry  \n",
       "0   None  industrie  POLYGON ((162292.997 199677.392, 162286.199 19...  \n",
       "1   None   veeteelt  POLYGON ((113791.970 195703.675, 113793.834 19...  "
      ]
     },
     "execution_count": 8,
     "metadata": {},
     "output_type": "execute_result"
    }
   ],
   "source": [
    "prod_installations.head(2)"
   ]
  },
  {
   "cell_type": "code",
   "execution_count": 9,
   "id": "6698eda2",
   "metadata": {},
   "outputs": [
    {
     "name": "stdout",
     "output_type": "stream",
     "text": [
      "(71983, 21)\n",
      "Project crs: epsg:31370\n"
     ]
    }
   ],
   "source": [
    "PATH = config.data_dest / \"vl_water_PROCESSED_V2.shp\"\n",
    "water = load_data(PATH)"
   ]
  },
  {
   "cell_type": "markdown",
   "id": "93dbb02b-2524-467b-96a6-cfd833aeabf3",
   "metadata": {},
   "source": [
    "## Working with polygon locations of interest\n",
    "\n",
    "For working with polygon locations of interests, we will apply a buffer to the polygon. If part of the water network falls within this buffer zone, it is identified, and the points of intersection, i.e. starts-at point and ends-at point, following the direction of the flow of water, are extracted and recorded."
   ]
  },
  {
   "cell_type": "code",
   "execution_count": 10,
   "id": "336c6d64-3b92-489e-b54e-4a4e7e8206d5",
   "metadata": {},
   "outputs": [],
   "source": [
    "def create_buffers(df, buffer_size):\n",
    "    \"\"\"\n",
    "    Creates a buffer around each point in the given dataframe.\n",
    "    \"\"\"\n",
    "    poly_cols = ['Type', 'CaSeKey', 'descriptio', 'UpdDate', 'name', 'localId', 'identifier', 'geometry']\n",
    "    \n",
    "    df = (df[poly_cols]\n",
    "            .assign(buffer_zone = df['geometry']\n",
    "            .apply(lambda x: x.buffer(buffer_size))))\n",
    "\n",
    "    # mergedpolys = []\n",
    "    # for index, row in df.iterrows():\n",
    "    #     mergedpoly = row['geometry'].union(row['buffer_zone']).wkt\n",
    "    #     mergedpolys.append(wkt.loads(mergedpoly))\n",
    "\n",
    "    # df['mergedpolys'] = mergedpolys\n",
    "\n",
    "    return df"
   ]
  },
  {
   "cell_type": "code",
   "execution_count": 11,
   "id": "7f125699",
   "metadata": {},
   "outputs": [],
   "source": [
    "# poly_cols = ['Type', 'CaSeKey', 'descriptio', 'UpdDate', 'name', 'localId', 'identifier', 'geometry']\n",
    "prod_install_df = gpd.GeoDataFrame((prod_installations\n",
    "                                        .pipe(create_buffers, 100)), geometry='buffer_zone', crs=PROJ_CRS)"
   ]
  },
  {
   "cell_type": "code",
   "execution_count": 12,
   "id": "be4627b3-7a4f-4b78-90d3-af879699470b",
   "metadata": {},
   "outputs": [],
   "source": [
    "# prod_install_df = create_buffers(prod_installations, 100)"
   ]
  },
  {
   "cell_type": "code",
   "execution_count": 13,
   "id": "27dded69-a273-4ef4-8969-cfcdf9088990",
   "metadata": {},
   "outputs": [
    {
     "data": {
      "text/plain": [
       "Type                                                          PR\n",
       "CaSeKey                                                   12302B\n",
       "descriptio                                             industrie\n",
       "UpdDate                                               2016-11-30\n",
       "name                                                     Galvani\n",
       "localId                             BE.VL.000001687.INSTALLATION\n",
       "identifier     https://data.gpbv.omgeving.vlaanderen.be/id/pr...\n",
       "geometry       POLYGON ((162292.9970761109 199677.39228480123...\n",
       "buffer_zone    POLYGON ((162360.7253147308 199603.8180954041,...\n",
       "Name: 0, dtype: object"
      ]
     },
     "execution_count": 13,
     "metadata": {},
     "output_type": "execute_result"
    }
   ],
   "source": [
    "prod_install_df.iloc[0]"
   ]
  },
  {
   "cell_type": "code",
   "execution_count": 14,
   "id": "45bd34fc",
   "metadata": {},
   "outputs": [
    {
     "name": "stdout",
     "output_type": "stream",
     "text": [
      "<class 'geopandas.geodataframe.GeoDataFrame'>\n",
      "RangeIndex: 1895 entries, 0 to 1894\n",
      "Data columns (total 9 columns):\n",
      " #   Column       Non-Null Count  Dtype   \n",
      "---  ------       --------------  -----   \n",
      " 0   Type         1895 non-null   object  \n",
      " 1   CaSeKey      1895 non-null   object  \n",
      " 2   descriptio   1895 non-null   object  \n",
      " 3   UpdDate      1895 non-null   object  \n",
      " 4   name         1895 non-null   object  \n",
      " 5   localId      1895 non-null   object  \n",
      " 6   identifier   1895 non-null   object  \n",
      " 7   geometry     1895 non-null   geometry\n",
      " 8   buffer_zone  1895 non-null   geometry\n",
      "dtypes: geometry(2), object(7)\n",
      "memory usage: 133.4+ KB\n"
     ]
    }
   ],
   "source": [
    "prod_install_df.info()"
   ]
  },
  {
   "cell_type": "code",
   "execution_count": 15,
   "id": "c37f136f-c8b2-4db6-b91e-157e821b2292",
   "metadata": {},
   "outputs": [],
   "source": [
    "poly_cols = ['Type', 'CaSeKey', 'descriptio', 'UpdDate', 'name', 'localId', 'identifier', 'buffer_zone']\n",
    "buffers_df = prod_install_df[poly_cols]\n",
    "buffers_gdf = gpd.GeoDataFrame(buffers_df, geometry='buffer_zone')"
   ]
  },
  {
   "cell_type": "code",
   "execution_count": 16,
   "id": "1d270d4f-bbf7-4914-b7d2-e229046945b9",
   "metadata": {},
   "outputs": [
    {
     "data": {
      "text/plain": [
       "geopandas.geodataframe.GeoDataFrame"
      ]
     },
     "execution_count": 16,
     "metadata": {},
     "output_type": "execute_result"
    }
   ],
   "source": [
    "type(buffers_gdf)"
   ]
  },
  {
   "cell_type": "code",
   "execution_count": 19,
   "id": "2e93a60b-3279-4e20-9792-ea3024acbf05",
   "metadata": {},
   "outputs": [],
   "source": [
    "#buffers_gdf.to_file(r\"C:\\Workdir\\Develop\\TR_USECASE\\data_transform\\buffers.shp\")"
   ]
  },
  {
   "cell_type": "markdown",
   "id": "41249a4b-c910-4354-beff-27bd273d43b7",
   "metadata": {},
   "source": [
    "**Load water data to perform the intersection and identify the points of intersection between water and locations of iterest**"
   ]
  },
  {
   "cell_type": "code",
   "execution_count": 20,
   "id": "6ff13c37",
   "metadata": {},
   "outputs": [],
   "source": [
    "#Check for multiline strings in a dataset\n",
    "def check_multiline(df):\n",
    "    \"\"\"This function checks for multiline strings\n",
    "        from the geometry column in a given dataset\"\"\"\n",
    "    lst = df['geometry'].to_list()\n",
    "    multiline_count = 0\n",
    "    for item in lst:\n",
    "        if isinstance(item, MultiLineString):\n",
    "            multiline_count += 1\n",
    "    print(\"MultiLinesStrings:\" , multiline_count)"
   ]
  },
  {
   "cell_type": "code",
   "execution_count": 21,
   "id": "cf65f22b",
   "metadata": {},
   "outputs": [
    {
     "name": "stdout",
     "output_type": "stream",
     "text": [
      "MultiLinesStrings: 0\n"
     ]
    }
   ],
   "source": [
    "check_multiline(water)"
   ]
  },
  {
   "cell_type": "code",
   "execution_count": 22,
   "id": "c2c6d833",
   "metadata": {},
   "outputs": [
    {
     "data": {
      "text/html": [
       "<div>\n",
       "<style scoped>\n",
       "    .dataframe tbody tr th:only-of-type {\n",
       "        vertical-align: middle;\n",
       "    }\n",
       "\n",
       "    .dataframe tbody tr th {\n",
       "        vertical-align: top;\n",
       "    }\n",
       "\n",
       "    .dataframe thead th {\n",
       "        text-align: right;\n",
       "    }\n",
       "</style>\n",
       "<table border=\"1\" class=\"dataframe\">\n",
       "  <thead>\n",
       "    <tr style=\"text-align: right;\">\n",
       "      <th></th>\n",
       "      <th>Type</th>\n",
       "      <th>CaSeKey</th>\n",
       "      <th>descriptio</th>\n",
       "      <th>UpdDate</th>\n",
       "      <th>name</th>\n",
       "      <th>localId</th>\n",
       "      <th>identifier</th>\n",
       "      <th>buffer_zone</th>\n",
       "    </tr>\n",
       "  </thead>\n",
       "  <tbody>\n",
       "    <tr>\n",
       "      <th>0</th>\n",
       "      <td>PR</td>\n",
       "      <td>12302B</td>\n",
       "      <td>industrie</td>\n",
       "      <td>2016-11-30</td>\n",
       "      <td>Galvani</td>\n",
       "      <td>BE.VL.000001687.INSTALLATION</td>\n",
       "      <td>https://data.gpbv.omgeving.vlaanderen.be/id/pr...</td>\n",
       "      <td>POLYGON ((162360.725 199603.818, 162354.312 19...</td>\n",
       "    </tr>\n",
       "    <tr>\n",
       "      <th>1</th>\n",
       "      <td>PR</td>\n",
       "      <td>44008A</td>\n",
       "      <td>veeteelt</td>\n",
       "      <td>2017-04-18</td>\n",
       "      <td>Verschraegen Patrick</td>\n",
       "      <td>BE.VL.000001800.INSTALLATION</td>\n",
       "      <td>https://data.gpbv.omgeving.vlaanderen.be/id/pr...</td>\n",
       "      <td>POLYGON ((113715.977 195787.489, 113717.315 19...</td>\n",
       "    </tr>\n",
       "  </tbody>\n",
       "</table>\n",
       "</div>"
      ],
      "text/plain": [
       "  Type CaSeKey descriptio     UpdDate                  name  \\\n",
       "0   PR  12302B  industrie  2016-11-30               Galvani   \n",
       "1   PR  44008A   veeteelt  2017-04-18  Verschraegen Patrick   \n",
       "\n",
       "                        localId  \\\n",
       "0  BE.VL.000001687.INSTALLATION   \n",
       "1  BE.VL.000001800.INSTALLATION   \n",
       "\n",
       "                                          identifier  \\\n",
       "0  https://data.gpbv.omgeving.vlaanderen.be/id/pr...   \n",
       "1  https://data.gpbv.omgeving.vlaanderen.be/id/pr...   \n",
       "\n",
       "                                         buffer_zone  \n",
       "0  POLYGON ((162360.725 199603.818, 162354.312 19...  \n",
       "1  POLYGON ((113715.977 195787.489, 113717.315 19...  "
      ]
     },
     "execution_count": 22,
     "metadata": {},
     "output_type": "execute_result"
    }
   ],
   "source": [
    "buffers_gdf.head(2)"
   ]
  },
  {
   "cell_type": "markdown",
   "id": "3da4fa4f",
   "metadata": {},
   "source": [
    "To linearly reference a location of interest(polygon) onto a water network(linestring), we need to perform an overlay of the polygons onto the linesrings.\n",
    "The resulting geometry is a linestring that falls within the boundaries of a polygon, with all the properties of the original linestring and polygon.\n",
    "\n",
    "With this data, we can extract the point where the water intersects the polygon."
   ]
  },
  {
   "cell_type": "code",
   "execution_count": 23,
   "id": "057baa8e",
   "metadata": {},
   "outputs": [],
   "source": [
    "water_truncated = water[['VHAS', 'geometry']]"
   ]
  },
  {
   "cell_type": "code",
   "execution_count": 24,
   "id": "24862f44",
   "metadata": {},
   "outputs": [],
   "source": [
    "intersect_df = water_truncated.clip(buffers_gdf, keep_geom_type=True).reset_index(drop=True)\n",
    "clipped_water_df2 = water_truncated.clip(buffers_gdf, keep_geom_type=True).reset_index(drop=True)"
   ]
  },
  {
   "cell_type": "code",
   "execution_count": 27,
   "id": "c69ae0e7",
   "metadata": {},
   "outputs": [],
   "source": [
    "#intersect_df.to_file(r\"C:\\Workdir\\Develop\\TR_USECASE\\data_transform\\intersect_df.shp\")"
   ]
  },
  {
   "cell_type": "code",
   "execution_count": 25,
   "id": "bfa0b65e",
   "metadata": {},
   "outputs": [],
   "source": [
    "def clipGDF_keepgeomtyp_line(gdf,mask):\n",
    "        \"\"\"\n",
    "        Clips Line Geodataframe with Polygon GeoDataFrame\n",
    "\n",
    "        Input Variables:\n",
    "        --------------------------------------------------------------------\n",
    "        gdf\n",
    "            GeoDataFrame to clip\n",
    "        mask\n",
    "            Geodataframe defining clipping extent\n",
    "\n",
    "        Returns:\n",
    "        --------------------------------------------------------------------\n",
    "        clipped GeoDataFrame inclulding only line geometries\n",
    "        \"\"\"\n",
    "\n",
    "        from shapely.geometry import LineString, MultiLineString,GeometryCollection\n",
    "        clipped_gdf=gpd.clip(gdf,mask)\n",
    "        clipped_gdf.reset_index(inplace=True,drop=True) #index now newly assigned, old dropped\n",
    "        \n",
    "        if isinstance(clipped_gdf,gpd.GeoSeries):\n",
    "            #print(\"GeoSeries\")\n",
    "            features_rmv=[] #list to store indexes to features to remove\n",
    "            GCunpack_list=[] #list to store indexes to features with GeometryCollection\n",
    "            for idx in range(len(clipped_gdf)):\n",
    "                #if feature is neither LineString, MultiLineStrin or GeomCollection --> remove\n",
    "                if not (isinstance(clipped_gdf.iloc[idx],LineString) or isinstance(clipped_gdf.iloc[idx],MultiLineString) or isinstance(clipped_gdf.iloc[idx],GeometryCollection)): \n",
    "                    features_rmv.append(idx)\n",
    "                #if feature is GeomCollection --> unpack, remove points and replace feature with new geometry\n",
    "                elif isinstance(clipped_gdf.iloc[idx],GeometryCollection):\n",
    "                    GCunpack_list.append(idx)\n",
    "\n",
    "            for idx in GCunpack_list: #iterate over features with Geomcollection\n",
    "                unpack_list=[]\n",
    "                #print(clipped_gdf.iloc[idx])\n",
    "                for geom in clipped_gdf.iloc[idx]: #grab all lines in this GC\n",
    "                    if isinstance(geom,LineString):\n",
    "                        unpack_list.append(geom)\n",
    "\n",
    "                if len(unpack_list)>1: #if more than 1 lines --> create MuLineString\n",
    "                    new_geom = MultiLineString(unpack_list)\n",
    "                    clipped_gdf.iloc[idx]= new_geom #insert at index of feature\n",
    "                elif len(unpack_list)==1: #if 1 line, create LineString\n",
    "                    new_geom = LineString(unpack_list[0])\n",
    "                    clipped_gdf.iloc[idx]=new_geom\n",
    "\n",
    "            clipped_gdf.drop(features_rmv,inplace=True) #remove all point features\n",
    "            clipped_gdf.reset_index(inplace=True,drop=True) #reset index\n",
    "\n",
    "        if isinstance(clipped_gdf,gpd.GeoDataFrame):\n",
    "            #print(\"GeoDataFrame\")\n",
    "            features_rmv=[] #list to store indexes to features to remove\n",
    "            GCunpack_list=[] #list to store indexes to features with GeometryCollection \n",
    "            for idx,row in clipped_gdf.iterrows(): #iterate over features\n",
    "                #if feature is neither LineString, MultiLineStrin or GeomCollection --> remove\n",
    "                if not (isinstance(clipped_gdf.iloc[idx].geometry,LineString) or isinstance(clipped_gdf.iloc[idx].geometry,MultiLineString) or isinstance(clipped_gdf.iloc[idx].geometry,GeometryCollection)):  \n",
    "                    features_rmv.append(idx)\n",
    "                #if feature is GeomCollection --> unpack, remove points and replace feature with new geometry\n",
    "                elif isinstance(clipped_gdf.iloc[idx].geometry,GeometryCollection):\n",
    "                    GCunpack_list.append(idx)\n",
    "\n",
    "\n",
    "            for idx in GCunpack_list: #iterate over features with Geomcollection\n",
    "                unpack_list=[]\n",
    "                for geom in clipped_gdf.iloc[idx].geometry: #grab all lines in this GC\n",
    "                    if isinstance(geom,LineString):\n",
    "                        unpack_list.append(geom)\n",
    "                #print('unpacked_list',unpack_list)\n",
    "                if len(unpack_list)>1: #if more than 1 lines --> create MuLineString\n",
    "                    geom_df = pd.DataFrame({'id':['geometry'],0:[MultiLineString(unpack_list)]}) #create new Dataframe with geometry\n",
    "                    geom_df.set_index('id',inplace=True)\n",
    "                    newline = clipped_gdf.iloc[idx,clipped_gdf.columns != 'geometry'].append(geom_df) #concat new geometry with feature attributes\n",
    "                    clipped_gdf.iloc[idx]=newline[0] #insert at index of feature\n",
    "                elif len(unpack_list)==1: #if 1 line, create LineString\n",
    "                    geom_df = pd.DataFrame([LineString(unpack_list[0])],index=['geometry'])\n",
    "                    newline = clipped_gdf.iloc[idx,clipped_gdf.columns != 'geometry'].append(geom_df)\n",
    "                    clipped_gdf.iloc[idx]=newline[0]\n",
    "\n",
    "            clipped_gdf.drop(features_rmv,inplace=True) #remove all point features\n",
    "            clipped_gdf.reset_index(inplace=True,drop=True) #reset index\n",
    "\n",
    "        return clipped_gdf"
   ]
  },
  {
   "cell_type": "code",
   "execution_count": 26,
   "id": "ea6334fc",
   "metadata": {},
   "outputs": [],
   "source": [
    "clipped_water_df = clipGDF_keepgeomtyp_line(water_truncated, buffers_gdf)"
   ]
  },
  {
   "cell_type": "code",
   "execution_count": 27,
   "id": "2971c3c4",
   "metadata": {},
   "outputs": [
    {
     "name": "stdout",
     "output_type": "stream",
     "text": [
      "(1907, 2)\n"
     ]
    },
    {
     "data": {
      "text/html": [
       "<div>\n",
       "<style scoped>\n",
       "    .dataframe tbody tr th:only-of-type {\n",
       "        vertical-align: middle;\n",
       "    }\n",
       "\n",
       "    .dataframe tbody tr th {\n",
       "        vertical-align: top;\n",
       "    }\n",
       "\n",
       "    .dataframe thead th {\n",
       "        text-align: right;\n",
       "    }\n",
       "</style>\n",
       "<table border=\"1\" class=\"dataframe\">\n",
       "  <thead>\n",
       "    <tr style=\"text-align: right;\">\n",
       "      <th></th>\n",
       "      <th>VHAS</th>\n",
       "      <th>geometry</th>\n",
       "    </tr>\n",
       "  </thead>\n",
       "  <tbody>\n",
       "    <tr>\n",
       "      <th>0</th>\n",
       "      <td>7075802</td>\n",
       "      <td>LINESTRING (207074.872 164195.147, 207082.422 ...</td>\n",
       "    </tr>\n",
       "    <tr>\n",
       "      <th>1</th>\n",
       "      <td>7076120</td>\n",
       "      <td>LINESTRING (215939.955 166439.262, 215938.681 ...</td>\n",
       "    </tr>\n",
       "    <tr>\n",
       "      <th>2</th>\n",
       "      <td>6018841</td>\n",
       "      <td>LINESTRING (215935.879 166474.094, 215933.407 ...</td>\n",
       "    </tr>\n",
       "    <tr>\n",
       "      <th>3</th>\n",
       "      <td>6038922</td>\n",
       "      <td>LINESTRING (215932.868 166542.527, 215925.536 ...</td>\n",
       "    </tr>\n",
       "    <tr>\n",
       "      <th>4</th>\n",
       "      <td>6042412</td>\n",
       "      <td>LINESTRING (215938.681 166440.860, 215921.381 ...</td>\n",
       "    </tr>\n",
       "  </tbody>\n",
       "</table>\n",
       "</div>"
      ],
      "text/plain": [
       "      VHAS                                           geometry\n",
       "0  7075802  LINESTRING (207074.872 164195.147, 207082.422 ...\n",
       "1  7076120  LINESTRING (215939.955 166439.262, 215938.681 ...\n",
       "2  6018841  LINESTRING (215935.879 166474.094, 215933.407 ...\n",
       "3  6038922  LINESTRING (215932.868 166542.527, 215925.536 ...\n",
       "4  6042412  LINESTRING (215938.681 166440.860, 215921.381 ..."
      ]
     },
     "execution_count": 27,
     "metadata": {},
     "output_type": "execute_result"
    }
   ],
   "source": [
    "print(clipped_water_df.shape)\n",
    "assert clipped_water_df.VHAS.nunique() == clipped_water_df.geometry.nunique()\n",
    "clipped_water_df.head()"
   ]
  },
  {
   "cell_type": "code",
   "execution_count": 29,
   "id": "31ad0f7a",
   "metadata": {},
   "outputs": [
    {
     "name": "stdout",
     "output_type": "stream",
     "text": [
      "(1907, 2)\n"
     ]
    },
    {
     "data": {
      "text/plain": [
       "(1907, 2)"
      ]
     },
     "execution_count": 29,
     "metadata": {},
     "output_type": "execute_result"
    }
   ],
   "source": [
    "print(intersect_df.shape)\n",
    "clipped_water_df2.shape"
   ]
  },
  {
   "cell_type": "code",
   "execution_count": 32,
   "id": "521473ae",
   "metadata": {},
   "outputs": [],
   "source": [
    "#clipped.to_file(r\"C:\\Workdir\\Develop\\TR_USECASE\\data_transform\\clipped.shp\")"
   ]
  },
  {
   "cell_type": "markdown",
   "id": "9eeafb60",
   "metadata": {},
   "source": [
    "Add begin and end points to the linestrings. These mark the start_at points and end_at point of the location of interest on a water network"
   ]
  },
  {
   "cell_type": "code",
   "execution_count": 30,
   "id": "96b4b4b4",
   "metadata": {},
   "outputs": [],
   "source": [
    "def add_beginpoints(col, df):\n",
    "    lst = df[col].to_list()\n",
    "    beginpoints = []\n",
    "    for item in lst:\n",
    "            if isinstance(item, LineString):\n",
    "                first = Point(item.coords[0])\n",
    "                first_precise = shapely.wkt.dumps(first) #, rounding_precision=5)\n",
    "                beginpoints.append(first_precise)\n",
    "            elif isinstance(item, MultiLineString):\n",
    "                first = Point(item.boundary[0])\n",
    "                first_precise = shapely.wkt.dumps(first) #, rounding_precision=5)\n",
    "                beginpoints.append(first_precise)\n",
    "    return beginpoints\n",
    "\n",
    "def add_endpoints(col, df):\n",
    "    lst = df[col].to_list()\n",
    "    endpoints = []\n",
    "    for item in lst:\n",
    "            if isinstance(item, LineString):\n",
    "                last = Point(item.coords[-1])\n",
    "                last_precise = shapely.wkt.dumps(last) #, rounding_precision=5)\n",
    "                endpoints.append(last_precise)\n",
    "            elif isinstance(item, MultiLineString):\n",
    "                last = Point(item.boundary[-1])\n",
    "                last_precise = shapely.wkt.dumps(last) #, rounding_precision=5)\n",
    "                endpoints.append(last_precise)\n",
    "    return endpoints"
   ]
  },
  {
   "cell_type": "code",
   "execution_count": 31,
   "id": "3634c577",
   "metadata": {},
   "outputs": [],
   "source": [
    "clipped_df = clipped_water_df.copy()"
   ]
  },
  {
   "cell_type": "code",
   "execution_count": 32,
   "id": "25370fb5",
   "metadata": {},
   "outputs": [],
   "source": [
    "clipped_df['start_point'] = add_beginpoints('geometry', clipped_df)\n",
    "clipped_df['end_point'] = add_endpoints('geometry', clipped_df)"
   ]
  },
  {
   "cell_type": "code",
   "execution_count": 33,
   "id": "716dee39",
   "metadata": {},
   "outputs": [
    {
     "data": {
      "text/html": [
       "<div>\n",
       "<style scoped>\n",
       "    .dataframe tbody tr th:only-of-type {\n",
       "        vertical-align: middle;\n",
       "    }\n",
       "\n",
       "    .dataframe tbody tr th {\n",
       "        vertical-align: top;\n",
       "    }\n",
       "\n",
       "    .dataframe thead th {\n",
       "        text-align: right;\n",
       "    }\n",
       "</style>\n",
       "<table border=\"1\" class=\"dataframe\">\n",
       "  <thead>\n",
       "    <tr style=\"text-align: right;\">\n",
       "      <th></th>\n",
       "      <th>VHAS</th>\n",
       "      <th>geometry</th>\n",
       "      <th>start_point</th>\n",
       "      <th>end_point</th>\n",
       "    </tr>\n",
       "  </thead>\n",
       "  <tbody>\n",
       "    <tr>\n",
       "      <th>0</th>\n",
       "      <td>7075802</td>\n",
       "      <td>LINESTRING (207074.872 164195.147, 207082.422 ...</td>\n",
       "      <td>POINT (207074.8715567812905647 164195.14719801...</td>\n",
       "      <td>POINT (207164.9312983400304802 164496.30120820...</td>\n",
       "    </tr>\n",
       "    <tr>\n",
       "      <th>1</th>\n",
       "      <td>7076120</td>\n",
       "      <td>LINESTRING (215939.955 166439.262, 215938.681 ...</td>\n",
       "      <td>POINT (215939.9552513255912345 166439.26173004...</td>\n",
       "      <td>POINT (215938.6807399973331485 166440.85979997...</td>\n",
       "    </tr>\n",
       "  </tbody>\n",
       "</table>\n",
       "</div>"
      ],
      "text/plain": [
       "      VHAS                                           geometry  \\\n",
       "0  7075802  LINESTRING (207074.872 164195.147, 207082.422 ...   \n",
       "1  7076120  LINESTRING (215939.955 166439.262, 215938.681 ...   \n",
       "\n",
       "                                         start_point  \\\n",
       "0  POINT (207074.8715567812905647 164195.14719801...   \n",
       "1  POINT (215939.9552513255912345 166439.26173004...   \n",
       "\n",
       "                                           end_point  \n",
       "0  POINT (207164.9312983400304802 164496.30120820...  \n",
       "1  POINT (215938.6807399973331485 166440.85979997...  "
      ]
     },
     "execution_count": 33,
     "metadata": {},
     "output_type": "execute_result"
    }
   ],
   "source": [
    "clipped_df.head(2)"
   ]
  },
  {
   "cell_type": "code",
   "execution_count": 34,
   "id": "1c123ab6",
   "metadata": {},
   "outputs": [
    {
     "name": "stdout",
     "output_type": "stream",
     "text": [
      "<class 'geopandas.geodataframe.GeoDataFrame'>\n",
      "RangeIndex: 1907 entries, 0 to 1906\n",
      "Data columns (total 4 columns):\n",
      " #   Column       Non-Null Count  Dtype   \n",
      "---  ------       --------------  -----   \n",
      " 0   VHAS         1907 non-null   object  \n",
      " 1   geometry     1907 non-null   geometry\n",
      " 2   start_point  1907 non-null   object  \n",
      " 3   end_point    1907 non-null   object  \n",
      "dtypes: geometry(1), object(3)\n",
      "memory usage: 59.7+ KB\n"
     ]
    }
   ],
   "source": [
    "clipped_df.info()"
   ]
  },
  {
   "cell_type": "code",
   "execution_count": 35,
   "id": "c0fdcf5e",
   "metadata": {},
   "outputs": [],
   "source": [
    "#clipped_water_merge = clipped_water_df.merge(water[[]] ,how='left',on='VHAS')"
   ]
  },
  {
   "cell_type": "code",
   "execution_count": 36,
   "id": "3817c6ce",
   "metadata": {},
   "outputs": [],
   "source": [
    "#clipped.rename(columns={'geometry':'loc_geom'}, inplace=True)\n",
    "#clipped.head()"
   ]
  },
  {
   "cell_type": "markdown",
   "id": "5b94b83f",
   "metadata": {},
   "source": [
    "### Merge with original linestring, and identify point on linestring using get_nearest_point"
   ]
  },
  {
   "cell_type": "code",
   "execution_count": 37,
   "id": "ca52ab76",
   "metadata": {},
   "outputs": [],
   "source": [
    "def get_nearest_point(df, line_col, point_col):\n",
    "    \"\"\"\n",
    "    For each point in points_df, find the nearest point in lines_df.\n",
    "    \"\"\"\n",
    "    geoms = []\n",
    "    for idx, row in df.iterrows():\n",
    "        destinations = MultiPoint(row[line_col].coords) #geometry_y\n",
    "        nearest_geoms = nearest_points(row[point_col], destinations) #geometry_x\n",
    "        try:\n",
    "            for coord in destinations:\n",
    "                if coord == nearest_geoms[1]:\n",
    "                    geoms.append(coord)\n",
    "        except ValueError:\n",
    "            print(\"No nearest point found for {}\".format(row.CODEKOPPNT))\n",
    "    return geoms"
   ]
  },
  {
   "cell_type": "code",
   "execution_count": 38,
   "id": "f1a9a637",
   "metadata": {},
   "outputs": [
    {
     "data": {
      "text/plain": [
       "Index(['VHAS', 'geometry', 'start_point', 'end_point'], dtype='object')"
      ]
     },
     "execution_count": 38,
     "metadata": {},
     "output_type": "execute_result"
    }
   ],
   "source": [
    "clipped_df.columns"
   ]
  },
  {
   "cell_type": "code",
   "execution_count": 39,
   "id": "1346545e",
   "metadata": {},
   "outputs": [],
   "source": [
    "def get_start_points_df():\n",
    "    start_pts = clipped_df[['VHAS', 'start_point']].merge(water[['VHAS', 'geometry']], how='left', on='VHAS')\n",
    "    start_pts['start_point'] = clipped_df['start_point'].apply(wkt.loads)\n",
    "    start_pts = gpd.GeoDataFrame(start_pts, geometry='start_point')\n",
    "    return start_pts"
   ]
  },
  {
   "cell_type": "code",
   "execution_count": 40,
   "id": "c57b2d18",
   "metadata": {},
   "outputs": [],
   "source": [
    "start_pts = get_start_points_df()"
   ]
  },
  {
   "cell_type": "code",
   "execution_count": 41,
   "id": "738495fe",
   "metadata": {},
   "outputs": [],
   "source": [
    "start_pts['new_start_points'] = get_nearest_point(start_pts, 'geometry', 'start_point')"
   ]
  },
  {
   "cell_type": "code",
   "execution_count": 42,
   "id": "bc22e500",
   "metadata": {},
   "outputs": [],
   "source": [
    "start_pts['from_distance'] = start_pts.apply(lambda row: row.geometry.project(row.new_start_points), axis=1)"
   ]
  },
  {
   "cell_type": "code",
   "execution_count": 43,
   "id": "69f3142b",
   "metadata": {},
   "outputs": [
    {
     "data": {
      "text/html": [
       "<div>\n",
       "<style scoped>\n",
       "    .dataframe tbody tr th:only-of-type {\n",
       "        vertical-align: middle;\n",
       "    }\n",
       "\n",
       "    .dataframe tbody tr th {\n",
       "        vertical-align: top;\n",
       "    }\n",
       "\n",
       "    .dataframe thead th {\n",
       "        text-align: right;\n",
       "    }\n",
       "</style>\n",
       "<table border=\"1\" class=\"dataframe\">\n",
       "  <thead>\n",
       "    <tr style=\"text-align: right;\">\n",
       "      <th></th>\n",
       "      <th>VHAS</th>\n",
       "      <th>start_point</th>\n",
       "      <th>geometry</th>\n",
       "      <th>new_start_points</th>\n",
       "      <th>from_distance</th>\n",
       "    </tr>\n",
       "  </thead>\n",
       "  <tbody>\n",
       "    <tr>\n",
       "      <th>0</th>\n",
       "      <td>7075802</td>\n",
       "      <td>POINT (207074.872 164195.147)</td>\n",
       "      <td>LINESTRING (206949.344 163986.328, 206950.235 ...</td>\n",
       "      <td>POINT (207069.70363999758 164182.70349997934)</td>\n",
       "      <td>239.228047</td>\n",
       "    </tr>\n",
       "    <tr>\n",
       "      <th>1</th>\n",
       "      <td>7076120</td>\n",
       "      <td>POINT (215939.955 166439.262)</td>\n",
       "      <td>LINESTRING (216281.334 166014.426, 216172.590 ...</td>\n",
       "      <td>POINT (215938.68073999733 166440.85979997925)</td>\n",
       "      <td>547.092606</td>\n",
       "    </tr>\n",
       "    <tr>\n",
       "      <th>2</th>\n",
       "      <td>6018841</td>\n",
       "      <td>POINT (215935.879 166474.094)</td>\n",
       "      <td>LINESTRING (216116.438 166246.047, 216111.704 ...</td>\n",
       "      <td>POINT (215933.40674000088 166476.84389997926)</td>\n",
       "      <td>294.966486</td>\n",
       "    </tr>\n",
       "    <tr>\n",
       "      <th>3</th>\n",
       "      <td>6038922</td>\n",
       "      <td>POINT (215932.868 166542.527)</td>\n",
       "      <td>LINESTRING (216043.469 166375.111, 215995.853 ...</td>\n",
       "      <td>POINT (215938.38164000065 166542.09959997982)</td>\n",
       "      <td>205.015833</td>\n",
       "    </tr>\n",
       "    <tr>\n",
       "      <th>4</th>\n",
       "      <td>6042412</td>\n",
       "      <td>POINT (215938.681 166440.860)</td>\n",
       "      <td>LINESTRING (215938.681 166440.860, 215921.381 ...</td>\n",
       "      <td>POINT (215938.68073999733 166440.85979997925)</td>\n",
       "      <td>0.000000</td>\n",
       "    </tr>\n",
       "    <tr>\n",
       "      <th>...</th>\n",
       "      <td>...</td>\n",
       "      <td>...</td>\n",
       "      <td>...</td>\n",
       "      <td>...</td>\n",
       "      <td>...</td>\n",
       "    </tr>\n",
       "    <tr>\n",
       "      <th>1902</th>\n",
       "      <td>6027683</td>\n",
       "      <td>POINT (182257.411 241036.331)</td>\n",
       "      <td>LINESTRING (182257.411 241036.331, 182259.815 ...</td>\n",
       "      <td>POINT (182257.41103999916 241036.33069997746)</td>\n",
       "      <td>0.000000</td>\n",
       "    </tr>\n",
       "    <tr>\n",
       "      <th>1903</th>\n",
       "      <td>7052456</td>\n",
       "      <td>POINT (177921.297 243818.824)</td>\n",
       "      <td>LINESTRING (177916.572 243772.020, 177918.229 ...</td>\n",
       "      <td>POINT (177921.08634000126 243813.94779998064)</td>\n",
       "      <td>42.181990</td>\n",
       "    </tr>\n",
       "    <tr>\n",
       "      <th>1904</th>\n",
       "      <td>7050824</td>\n",
       "      <td>POINT (178081.937 243891.321)</td>\n",
       "      <td>LINESTRING (178081.937 243891.321, 178016.585 ...</td>\n",
       "      <td>POINT (178081.9368399963 243891.32109998167)</td>\n",
       "      <td>0.000000</td>\n",
       "    </tr>\n",
       "    <tr>\n",
       "      <th>1905</th>\n",
       "      <td>7050825</td>\n",
       "      <td>POINT (177839.922 243936.449)</td>\n",
       "      <td>LINESTRING (177631.272 243868.403, 177636.167 ...</td>\n",
       "      <td>POINT (177846.4043399975 243938.5492999805)</td>\n",
       "      <td>226.288547</td>\n",
       "    </tr>\n",
       "    <tr>\n",
       "      <th>1906</th>\n",
       "      <td>7052455</td>\n",
       "      <td>POINT (177925.134 243899.620)</td>\n",
       "      <td>LINESTRING (177925.134 243899.620, 177925.568 ...</td>\n",
       "      <td>POINT (177925.13444000334 243899.61999998149)</td>\n",
       "      <td>0.000000</td>\n",
       "    </tr>\n",
       "  </tbody>\n",
       "</table>\n",
       "<p>1907 rows × 5 columns</p>\n",
       "</div>"
      ],
      "text/plain": [
       "         VHAS                    start_point  \\\n",
       "0     7075802  POINT (207074.872 164195.147)   \n",
       "1     7076120  POINT (215939.955 166439.262)   \n",
       "2     6018841  POINT (215935.879 166474.094)   \n",
       "3     6038922  POINT (215932.868 166542.527)   \n",
       "4     6042412  POINT (215938.681 166440.860)   \n",
       "...       ...                            ...   \n",
       "1902  6027683  POINT (182257.411 241036.331)   \n",
       "1903  7052456  POINT (177921.297 243818.824)   \n",
       "1904  7050824  POINT (178081.937 243891.321)   \n",
       "1905  7050825  POINT (177839.922 243936.449)   \n",
       "1906  7052455  POINT (177925.134 243899.620)   \n",
       "\n",
       "                                               geometry  \\\n",
       "0     LINESTRING (206949.344 163986.328, 206950.235 ...   \n",
       "1     LINESTRING (216281.334 166014.426, 216172.590 ...   \n",
       "2     LINESTRING (216116.438 166246.047, 216111.704 ...   \n",
       "3     LINESTRING (216043.469 166375.111, 215995.853 ...   \n",
       "4     LINESTRING (215938.681 166440.860, 215921.381 ...   \n",
       "...                                                 ...   \n",
       "1902  LINESTRING (182257.411 241036.331, 182259.815 ...   \n",
       "1903  LINESTRING (177916.572 243772.020, 177918.229 ...   \n",
       "1904  LINESTRING (178081.937 243891.321, 178016.585 ...   \n",
       "1905  LINESTRING (177631.272 243868.403, 177636.167 ...   \n",
       "1906  LINESTRING (177925.134 243899.620, 177925.568 ...   \n",
       "\n",
       "                                   new_start_points  from_distance  \n",
       "0     POINT (207069.70363999758 164182.70349997934)     239.228047  \n",
       "1     POINT (215938.68073999733 166440.85979997925)     547.092606  \n",
       "2     POINT (215933.40674000088 166476.84389997926)     294.966486  \n",
       "3     POINT (215938.38164000065 166542.09959997982)     205.015833  \n",
       "4     POINT (215938.68073999733 166440.85979997925)       0.000000  \n",
       "...                                             ...            ...  \n",
       "1902  POINT (182257.41103999916 241036.33069997746)       0.000000  \n",
       "1903  POINT (177921.08634000126 243813.94779998064)      42.181990  \n",
       "1904   POINT (178081.9368399963 243891.32109998167)       0.000000  \n",
       "1905    POINT (177846.4043399975 243938.5492999805)     226.288547  \n",
       "1906  POINT (177925.13444000334 243899.61999998149)       0.000000  \n",
       "\n",
       "[1907 rows x 5 columns]"
      ]
     },
     "execution_count": 43,
     "metadata": {},
     "output_type": "execute_result"
    }
   ],
   "source": [
    "start_pts"
   ]
  },
  {
   "cell_type": "code",
   "execution_count": 44,
   "id": "9a9f94a1",
   "metadata": {},
   "outputs": [],
   "source": [
    "def get_end_points_df():\n",
    "    end_pts = clipped_df[['VHAS', 'end_point']].merge(water[['VHAS', 'geometry']], how='left', on='VHAS')\n",
    "    end_pts['end_point'] = clipped_df['end_point'].apply(wkt.loads)\n",
    "    end_pts = gpd.GeoDataFrame(end_pts, geometry='end_point')\n",
    "    return end_pts\n",
    "\n",
    "end_pts = get_end_points_df()\n",
    "\n",
    "end_pts['new_end_points'] = get_nearest_point(end_pts, 'geometry', 'end_point')\n",
    "\n",
    "end_pts['to_distance'] = end_pts.apply(lambda row: row.geometry.project(row.new_end_points), axis=1)"
   ]
  },
  {
   "cell_type": "code",
   "execution_count": 45,
   "id": "a6ea479a",
   "metadata": {},
   "outputs": [
    {
     "data": {
      "text/html": [
       "<div>\n",
       "<style scoped>\n",
       "    .dataframe tbody tr th:only-of-type {\n",
       "        vertical-align: middle;\n",
       "    }\n",
       "\n",
       "    .dataframe tbody tr th {\n",
       "        vertical-align: top;\n",
       "    }\n",
       "\n",
       "    .dataframe thead th {\n",
       "        text-align: right;\n",
       "    }\n",
       "</style>\n",
       "<table border=\"1\" class=\"dataframe\">\n",
       "  <thead>\n",
       "    <tr style=\"text-align: right;\">\n",
       "      <th></th>\n",
       "      <th>VHAS</th>\n",
       "      <th>end_point</th>\n",
       "      <th>geometry</th>\n",
       "      <th>new_end_points</th>\n",
       "      <th>to_distance</th>\n",
       "    </tr>\n",
       "  </thead>\n",
       "  <tbody>\n",
       "    <tr>\n",
       "      <th>0</th>\n",
       "      <td>7075802</td>\n",
       "      <td>POINT (207164.931 164496.301)</td>\n",
       "      <td>LINESTRING (206949.344 163986.328, 206950.235 ...</td>\n",
       "      <td>POINT (207165.60993999842 164494.09419997968)</td>\n",
       "      <td>581.500632</td>\n",
       "    </tr>\n",
       "    <tr>\n",
       "      <th>1</th>\n",
       "      <td>7076120</td>\n",
       "      <td>POINT (215938.681 166440.860)</td>\n",
       "      <td>LINESTRING (216281.334 166014.426, 216172.590 ...</td>\n",
       "      <td>POINT (215938.68073999733 166440.85979997925)</td>\n",
       "      <td>547.092606</td>\n",
       "    </tr>\n",
       "    <tr>\n",
       "      <th>2</th>\n",
       "      <td>6018841</td>\n",
       "      <td>POINT (215925.134 166488.660)</td>\n",
       "      <td>LINESTRING (216116.438 166246.047, 216111.704 ...</td>\n",
       "      <td>POINT (215925.13423999998 166488.66029998194)</td>\n",
       "      <td>309.664388</td>\n",
       "    </tr>\n",
       "    <tr>\n",
       "      <th>3</th>\n",
       "      <td>6038922</td>\n",
       "      <td>POINT (215903.609 166544.411)</td>\n",
       "      <td>LINESTRING (216043.469 166375.111, 215995.853 ...</td>\n",
       "      <td>POINT (215903.6090399981 166544.41139997914)</td>\n",
       "      <td>239.866456</td>\n",
       "    </tr>\n",
       "    <tr>\n",
       "      <th>4</th>\n",
       "      <td>6042412</td>\n",
       "      <td>POINT (215925.134 166488.660)</td>\n",
       "      <td>LINESTRING (215938.681 166440.860, 215921.381 ...</td>\n",
       "      <td>POINT (215925.13423999998 166488.66029998194)</td>\n",
       "      <td>65.272639</td>\n",
       "    </tr>\n",
       "    <tr>\n",
       "      <th>...</th>\n",
       "      <td>...</td>\n",
       "      <td>...</td>\n",
       "      <td>...</td>\n",
       "      <td>...</td>\n",
       "      <td>...</td>\n",
       "    </tr>\n",
       "    <tr>\n",
       "      <th>1902</th>\n",
       "      <td>6027683</td>\n",
       "      <td>POINT (182274.384 241117.100)</td>\n",
       "      <td>LINESTRING (182257.411 241036.331, 182259.815 ...</td>\n",
       "      <td>POINT (182276.38174000237 241128.0882999804)</td>\n",
       "      <td>94.127051</td>\n",
       "    </tr>\n",
       "    <tr>\n",
       "      <th>1903</th>\n",
       "      <td>7052456</td>\n",
       "      <td>POINT (177925.134 243899.620)</td>\n",
       "      <td>LINESTRING (177916.572 243772.020, 177918.229 ...</td>\n",
       "      <td>POINT (177925.13444000334 243899.61999998149)</td>\n",
       "      <td>127.950740</td>\n",
       "    </tr>\n",
       "    <tr>\n",
       "      <th>1904</th>\n",
       "      <td>7050824</td>\n",
       "      <td>POINT (177925.134 243899.620)</td>\n",
       "      <td>LINESTRING (178081.937 243891.321, 178016.585 ...</td>\n",
       "      <td>POINT (177925.13444000334 243899.61999998149)</td>\n",
       "      <td>157.027604</td>\n",
       "    </tr>\n",
       "    <tr>\n",
       "      <th>1905</th>\n",
       "      <td>7050825</td>\n",
       "      <td>POINT (177921.493 243962.679)</td>\n",
       "      <td>LINESTRING (177631.272 243868.403, 177636.167 ...</td>\n",
       "      <td>POINT (177921.49323999733 243962.67929997947)</td>\n",
       "      <td>305.159326</td>\n",
       "    </tr>\n",
       "    <tr>\n",
       "      <th>1906</th>\n",
       "      <td>7052455</td>\n",
       "      <td>POINT (177921.493 243962.679)</td>\n",
       "      <td>LINESTRING (177925.134 243899.620, 177925.568 ...</td>\n",
       "      <td>POINT (177921.49323999733 243962.67929997947)</td>\n",
       "      <td>63.494900</td>\n",
       "    </tr>\n",
       "  </tbody>\n",
       "</table>\n",
       "<p>1907 rows × 5 columns</p>\n",
       "</div>"
      ],
      "text/plain": [
       "         VHAS                      end_point  \\\n",
       "0     7075802  POINT (207164.931 164496.301)   \n",
       "1     7076120  POINT (215938.681 166440.860)   \n",
       "2     6018841  POINT (215925.134 166488.660)   \n",
       "3     6038922  POINT (215903.609 166544.411)   \n",
       "4     6042412  POINT (215925.134 166488.660)   \n",
       "...       ...                            ...   \n",
       "1902  6027683  POINT (182274.384 241117.100)   \n",
       "1903  7052456  POINT (177925.134 243899.620)   \n",
       "1904  7050824  POINT (177925.134 243899.620)   \n",
       "1905  7050825  POINT (177921.493 243962.679)   \n",
       "1906  7052455  POINT (177921.493 243962.679)   \n",
       "\n",
       "                                               geometry  \\\n",
       "0     LINESTRING (206949.344 163986.328, 206950.235 ...   \n",
       "1     LINESTRING (216281.334 166014.426, 216172.590 ...   \n",
       "2     LINESTRING (216116.438 166246.047, 216111.704 ...   \n",
       "3     LINESTRING (216043.469 166375.111, 215995.853 ...   \n",
       "4     LINESTRING (215938.681 166440.860, 215921.381 ...   \n",
       "...                                                 ...   \n",
       "1902  LINESTRING (182257.411 241036.331, 182259.815 ...   \n",
       "1903  LINESTRING (177916.572 243772.020, 177918.229 ...   \n",
       "1904  LINESTRING (178081.937 243891.321, 178016.585 ...   \n",
       "1905  LINESTRING (177631.272 243868.403, 177636.167 ...   \n",
       "1906  LINESTRING (177925.134 243899.620, 177925.568 ...   \n",
       "\n",
       "                                     new_end_points  to_distance  \n",
       "0     POINT (207165.60993999842 164494.09419997968)   581.500632  \n",
       "1     POINT (215938.68073999733 166440.85979997925)   547.092606  \n",
       "2     POINT (215925.13423999998 166488.66029998194)   309.664388  \n",
       "3      POINT (215903.6090399981 166544.41139997914)   239.866456  \n",
       "4     POINT (215925.13423999998 166488.66029998194)    65.272639  \n",
       "...                                             ...          ...  \n",
       "1902   POINT (182276.38174000237 241128.0882999804)    94.127051  \n",
       "1903  POINT (177925.13444000334 243899.61999998149)   127.950740  \n",
       "1904  POINT (177925.13444000334 243899.61999998149)   157.027604  \n",
       "1905  POINT (177921.49323999733 243962.67929997947)   305.159326  \n",
       "1906  POINT (177921.49323999733 243962.67929997947)    63.494900  \n",
       "\n",
       "[1907 rows x 5 columns]"
      ]
     },
     "execution_count": 45,
     "metadata": {},
     "output_type": "execute_result"
    }
   ],
   "source": [
    "end_pts"
   ]
  },
  {
   "cell_type": "markdown",
   "id": "1e026634",
   "metadata": {},
   "source": [
    "Merge the two dfs"
   ]
  },
  {
   "cell_type": "code",
   "execution_count": 46,
   "id": "3f3c8089",
   "metadata": {},
   "outputs": [],
   "source": [
    "linear_reference_df = start_pts[['VHAS', 'new_start_points', 'from_distance']].merge(end_pts[['VHAS', 'new_end_points', 'to_distance']], how='left', on='VHAS')"
   ]
  },
  {
   "cell_type": "code",
   "execution_count": 47,
   "id": "7ebe02a2",
   "metadata": {},
   "outputs": [
    {
     "data": {
      "text/html": [
       "<div>\n",
       "<style scoped>\n",
       "    .dataframe tbody tr th:only-of-type {\n",
       "        vertical-align: middle;\n",
       "    }\n",
       "\n",
       "    .dataframe tbody tr th {\n",
       "        vertical-align: top;\n",
       "    }\n",
       "\n",
       "    .dataframe thead th {\n",
       "        text-align: right;\n",
       "    }\n",
       "</style>\n",
       "<table border=\"1\" class=\"dataframe\">\n",
       "  <thead>\n",
       "    <tr style=\"text-align: right;\">\n",
       "      <th></th>\n",
       "      <th>VHAS</th>\n",
       "      <th>new_start_points</th>\n",
       "      <th>from_distance</th>\n",
       "      <th>new_end_points</th>\n",
       "      <th>to_distance</th>\n",
       "    </tr>\n",
       "  </thead>\n",
       "  <tbody>\n",
       "    <tr>\n",
       "      <th>0</th>\n",
       "      <td>7075802</td>\n",
       "      <td>POINT (207069.70363999758 164182.70349997934)</td>\n",
       "      <td>239.228047</td>\n",
       "      <td>POINT (207165.60993999842 164494.09419997968)</td>\n",
       "      <td>581.500632</td>\n",
       "    </tr>\n",
       "    <tr>\n",
       "      <th>1</th>\n",
       "      <td>7076120</td>\n",
       "      <td>POINT (215938.68073999733 166440.85979997925)</td>\n",
       "      <td>547.092606</td>\n",
       "      <td>POINT (215938.68073999733 166440.85979997925)</td>\n",
       "      <td>547.092606</td>\n",
       "    </tr>\n",
       "  </tbody>\n",
       "</table>\n",
       "</div>"
      ],
      "text/plain": [
       "      VHAS                               new_start_points  from_distance  \\\n",
       "0  7075802  POINT (207069.70363999758 164182.70349997934)     239.228047   \n",
       "1  7076120  POINT (215938.68073999733 166440.85979997925)     547.092606   \n",
       "\n",
       "                                  new_end_points  to_distance  \n",
       "0  POINT (207165.60993999842 164494.09419997968)   581.500632  \n",
       "1  POINT (215938.68073999733 166440.85979997925)   547.092606  "
      ]
     },
     "execution_count": 47,
     "metadata": {},
     "output_type": "execute_result"
    }
   ],
   "source": [
    "linear_reference_df.head(2)"
   ]
  },
  {
   "cell_type": "code",
   "execution_count": 48,
   "id": "6fc6bcc6",
   "metadata": {},
   "outputs": [
    {
     "name": "stdout",
     "output_type": "stream",
     "text": [
      "<class 'pandas.core.frame.DataFrame'>\n",
      "Int64Index: 1907 entries, 0 to 1906\n",
      "Data columns (total 5 columns):\n",
      " #   Column            Non-Null Count  Dtype  \n",
      "---  ------            --------------  -----  \n",
      " 0   VHAS              1907 non-null   object \n",
      " 1   new_start_points  1907 non-null   object \n",
      " 2   from_distance     1907 non-null   float64\n",
      " 3   new_end_points    1907 non-null   object \n",
      " 4   to_distance       1907 non-null   float64\n",
      "dtypes: float64(2), object(3)\n",
      "memory usage: 89.4+ KB\n"
     ]
    }
   ],
   "source": [
    "linear_reference_df.info()"
   ]
  },
  {
   "cell_type": "markdown",
   "id": "1bd6a5fc",
   "metadata": {},
   "source": [
    "## Merge locations of interest"
   ]
  },
  {
   "cell_type": "code",
   "execution_count": 49,
   "id": "1afda0d3",
   "metadata": {},
   "outputs": [
    {
     "name": "stdout",
     "output_type": "stream",
     "text": [
      "(1895, 8)\n"
     ]
    },
    {
     "data": {
      "text/html": [
       "<div>\n",
       "<style scoped>\n",
       "    .dataframe tbody tr th:only-of-type {\n",
       "        vertical-align: middle;\n",
       "    }\n",
       "\n",
       "    .dataframe tbody tr th {\n",
       "        vertical-align: top;\n",
       "    }\n",
       "\n",
       "    .dataframe thead th {\n",
       "        text-align: right;\n",
       "    }\n",
       "</style>\n",
       "<table border=\"1\" class=\"dataframe\">\n",
       "  <thead>\n",
       "    <tr style=\"text-align: right;\">\n",
       "      <th></th>\n",
       "      <th>Type</th>\n",
       "      <th>CaSeKey</th>\n",
       "      <th>descriptio</th>\n",
       "      <th>UpdDate</th>\n",
       "      <th>name</th>\n",
       "      <th>localId</th>\n",
       "      <th>identifier</th>\n",
       "      <th>buffer_zone</th>\n",
       "    </tr>\n",
       "  </thead>\n",
       "  <tbody>\n",
       "    <tr>\n",
       "      <th>0</th>\n",
       "      <td>PR</td>\n",
       "      <td>12302B</td>\n",
       "      <td>industrie</td>\n",
       "      <td>2016-11-30</td>\n",
       "      <td>Galvani</td>\n",
       "      <td>BE.VL.000001687.INSTALLATION</td>\n",
       "      <td>https://data.gpbv.omgeving.vlaanderen.be/id/pr...</td>\n",
       "      <td>POLYGON ((162360.725 199603.818, 162354.312 19...</td>\n",
       "    </tr>\n",
       "    <tr>\n",
       "      <th>1</th>\n",
       "      <td>PR</td>\n",
       "      <td>44008A</td>\n",
       "      <td>veeteelt</td>\n",
       "      <td>2017-04-18</td>\n",
       "      <td>Verschraegen Patrick</td>\n",
       "      <td>BE.VL.000001800.INSTALLATION</td>\n",
       "      <td>https://data.gpbv.omgeving.vlaanderen.be/id/pr...</td>\n",
       "      <td>POLYGON ((113715.977 195787.489, 113717.315 19...</td>\n",
       "    </tr>\n",
       "    <tr>\n",
       "      <th>2</th>\n",
       "      <td>PR</td>\n",
       "      <td>24006D</td>\n",
       "      <td>veeteelt</td>\n",
       "      <td>2017-04-24</td>\n",
       "      <td>Both Marrigje en Vaneynde Ellen</td>\n",
       "      <td>BE.VL.000000463.INSTALLATION</td>\n",
       "      <td>https://data.gpbv.omgeving.vlaanderen.be/id/pr...</td>\n",
       "      <td>POLYGON ((177791.394 188622.409, 177789.393 18...</td>\n",
       "    </tr>\n",
       "    <tr>\n",
       "      <th>3</th>\n",
       "      <td>PR</td>\n",
       "      <td>44034D</td>\n",
       "      <td>veeteelt</td>\n",
       "      <td>2017-04-18</td>\n",
       "      <td>M+Pigs/Walschland</td>\n",
       "      <td>BE.VL.000001191.INSTALLATION</td>\n",
       "      <td>https://data.gpbv.omgeving.vlaanderen.be/id/pr...</td>\n",
       "      <td>POLYGON ((110166.649 198394.433, 110166.778 19...</td>\n",
       "    </tr>\n",
       "    <tr>\n",
       "      <th>4</th>\n",
       "      <td>PR</td>\n",
       "      <td>44034D</td>\n",
       "      <td>veeteelt</td>\n",
       "      <td>2017-04-18</td>\n",
       "      <td>Balthau Stany</td>\n",
       "      <td>BE.VL.000001083.INSTALLATION</td>\n",
       "      <td>https://data.gpbv.omgeving.vlaanderen.be/id/pr...</td>\n",
       "      <td>POLYGON ((110716.460 198288.067, 110717.643 19...</td>\n",
       "    </tr>\n",
       "  </tbody>\n",
       "</table>\n",
       "</div>"
      ],
      "text/plain": [
       "  Type CaSeKey descriptio     UpdDate                             name  \\\n",
       "0   PR  12302B  industrie  2016-11-30                          Galvani   \n",
       "1   PR  44008A   veeteelt  2017-04-18             Verschraegen Patrick   \n",
       "2   PR  24006D   veeteelt  2017-04-24  Both Marrigje en Vaneynde Ellen   \n",
       "3   PR  44034D   veeteelt  2017-04-18                M+Pigs/Walschland   \n",
       "4   PR  44034D   veeteelt  2017-04-18                    Balthau Stany   \n",
       "\n",
       "                        localId  \\\n",
       "0  BE.VL.000001687.INSTALLATION   \n",
       "1  BE.VL.000001800.INSTALLATION   \n",
       "2  BE.VL.000000463.INSTALLATION   \n",
       "3  BE.VL.000001191.INSTALLATION   \n",
       "4  BE.VL.000001083.INSTALLATION   \n",
       "\n",
       "                                          identifier  \\\n",
       "0  https://data.gpbv.omgeving.vlaanderen.be/id/pr...   \n",
       "1  https://data.gpbv.omgeving.vlaanderen.be/id/pr...   \n",
       "2  https://data.gpbv.omgeving.vlaanderen.be/id/pr...   \n",
       "3  https://data.gpbv.omgeving.vlaanderen.be/id/pr...   \n",
       "4  https://data.gpbv.omgeving.vlaanderen.be/id/pr...   \n",
       "\n",
       "                                         buffer_zone  \n",
       "0  POLYGON ((162360.725 199603.818, 162354.312 19...  \n",
       "1  POLYGON ((113715.977 195787.489, 113717.315 19...  \n",
       "2  POLYGON ((177791.394 188622.409, 177789.393 18...  \n",
       "3  POLYGON ((110166.649 198394.433, 110166.778 19...  \n",
       "4  POLYGON ((110716.460 198288.067, 110717.643 19...  "
      ]
     },
     "execution_count": 49,
     "metadata": {},
     "output_type": "execute_result"
    }
   ],
   "source": [
    "print(buffers_gdf.shape)\n",
    "buffers_gdf.head()"
   ]
  },
  {
   "cell_type": "code",
   "execution_count": 50,
   "id": "d4e48669",
   "metadata": {},
   "outputs": [],
   "source": [
    "water_polygon = gpd.sjoin(buffers_gdf, water_truncated).reset_index()"
   ]
  },
  {
   "cell_type": "code",
   "execution_count": 51,
   "id": "7ecfd21a",
   "metadata": {},
   "outputs": [
    {
     "data": {
      "text/html": [
       "<div>\n",
       "<style scoped>\n",
       "    .dataframe tbody tr th:only-of-type {\n",
       "        vertical-align: middle;\n",
       "    }\n",
       "\n",
       "    .dataframe tbody tr th {\n",
       "        vertical-align: top;\n",
       "    }\n",
       "\n",
       "    .dataframe thead th {\n",
       "        text-align: right;\n",
       "    }\n",
       "</style>\n",
       "<table border=\"1\" class=\"dataframe\">\n",
       "  <thead>\n",
       "    <tr style=\"text-align: right;\">\n",
       "      <th></th>\n",
       "      <th>index</th>\n",
       "      <th>Type</th>\n",
       "      <th>CaSeKey</th>\n",
       "      <th>descriptio</th>\n",
       "      <th>UpdDate</th>\n",
       "      <th>name</th>\n",
       "      <th>localId</th>\n",
       "      <th>identifier</th>\n",
       "      <th>buffer_zone</th>\n",
       "      <th>index_right</th>\n",
       "      <th>VHAS</th>\n",
       "    </tr>\n",
       "  </thead>\n",
       "  <tbody>\n",
       "    <tr>\n",
       "      <th>0</th>\n",
       "      <td>1</td>\n",
       "      <td>PR</td>\n",
       "      <td>44008A</td>\n",
       "      <td>veeteelt</td>\n",
       "      <td>2017-04-18</td>\n",
       "      <td>Verschraegen Patrick</td>\n",
       "      <td>BE.VL.000001800.INSTALLATION</td>\n",
       "      <td>https://data.gpbv.omgeving.vlaanderen.be/id/pr...</td>\n",
       "      <td>POLYGON ((113715.977 195787.489, 113717.315 19...</td>\n",
       "      <td>19387</td>\n",
       "      <td>5040128</td>\n",
       "    </tr>\n",
       "    <tr>\n",
       "      <th>1</th>\n",
       "      <td>2</td>\n",
       "      <td>PR</td>\n",
       "      <td>24006D</td>\n",
       "      <td>veeteelt</td>\n",
       "      <td>2017-04-24</td>\n",
       "      <td>Both Marrigje en Vaneynde Ellen</td>\n",
       "      <td>BE.VL.000000463.INSTALLATION</td>\n",
       "      <td>https://data.gpbv.omgeving.vlaanderen.be/id/pr...</td>\n",
       "      <td>POLYGON ((177791.394 188622.409, 177789.393 18...</td>\n",
       "      <td>56881</td>\n",
       "      <td>6028465</td>\n",
       "    </tr>\n",
       "    <tr>\n",
       "      <th>2</th>\n",
       "      <td>2</td>\n",
       "      <td>PR</td>\n",
       "      <td>24006D</td>\n",
       "      <td>veeteelt</td>\n",
       "      <td>2017-04-24</td>\n",
       "      <td>Both Marrigje en Vaneynde Ellen</td>\n",
       "      <td>BE.VL.000000463.INSTALLATION</td>\n",
       "      <td>https://data.gpbv.omgeving.vlaanderen.be/id/pr...</td>\n",
       "      <td>POLYGON ((177791.394 188622.409, 177789.393 18...</td>\n",
       "      <td>34839</td>\n",
       "      <td>6028466</td>\n",
       "    </tr>\n",
       "    <tr>\n",
       "      <th>3</th>\n",
       "      <td>3</td>\n",
       "      <td>PR</td>\n",
       "      <td>44034D</td>\n",
       "      <td>veeteelt</td>\n",
       "      <td>2017-04-18</td>\n",
       "      <td>M+Pigs/Walschland</td>\n",
       "      <td>BE.VL.000001191.INSTALLATION</td>\n",
       "      <td>https://data.gpbv.omgeving.vlaanderen.be/id/pr...</td>\n",
       "      <td>POLYGON ((110166.649 198394.433, 110166.778 19...</td>\n",
       "      <td>61621</td>\n",
       "      <td>7068473</td>\n",
       "    </tr>\n",
       "    <tr>\n",
       "      <th>4</th>\n",
       "      <td>3</td>\n",
       "      <td>PR</td>\n",
       "      <td>44034D</td>\n",
       "      <td>veeteelt</td>\n",
       "      <td>2017-04-18</td>\n",
       "      <td>M+Pigs/Walschland</td>\n",
       "      <td>BE.VL.000001191.INSTALLATION</td>\n",
       "      <td>https://data.gpbv.omgeving.vlaanderen.be/id/pr...</td>\n",
       "      <td>POLYGON ((110166.649 198394.433, 110166.778 19...</td>\n",
       "      <td>2128</td>\n",
       "      <td>6034092_1</td>\n",
       "    </tr>\n",
       "    <tr>\n",
       "      <th>...</th>\n",
       "      <td>...</td>\n",
       "      <td>...</td>\n",
       "      <td>...</td>\n",
       "      <td>...</td>\n",
       "      <td>...</td>\n",
       "      <td>...</td>\n",
       "      <td>...</td>\n",
       "      <td>...</td>\n",
       "      <td>...</td>\n",
       "      <td>...</td>\n",
       "      <td>...</td>\n",
       "    </tr>\n",
       "    <tr>\n",
       "      <th>2375</th>\n",
       "      <td>1891</td>\n",
       "      <td>PR</td>\n",
       "      <td>24108B</td>\n",
       "      <td>veeteelt</td>\n",
       "      <td>2019-01-14</td>\n",
       "      <td>Porky Farm FV</td>\n",
       "      <td>BE.VL.000000577.INSTALLATION</td>\n",
       "      <td>https://data.gpbv.omgeving.vlaanderen.be/id/pr...</td>\n",
       "      <td>POLYGON ((171607.173 181438.814, 171603.587 18...</td>\n",
       "      <td>38038</td>\n",
       "      <td>6028079</td>\n",
       "    </tr>\n",
       "    <tr>\n",
       "      <th>2376</th>\n",
       "      <td>1891</td>\n",
       "      <td>PR</td>\n",
       "      <td>24108B</td>\n",
       "      <td>veeteelt</td>\n",
       "      <td>2019-01-14</td>\n",
       "      <td>Porky Farm FV</td>\n",
       "      <td>BE.VL.000000577.INSTALLATION</td>\n",
       "      <td>https://data.gpbv.omgeving.vlaanderen.be/id/pr...</td>\n",
       "      <td>POLYGON ((171607.173 181438.814, 171603.587 18...</td>\n",
       "      <td>10095</td>\n",
       "      <td>6017624_1</td>\n",
       "    </tr>\n",
       "    <tr>\n",
       "      <th>2377</th>\n",
       "      <td>1891</td>\n",
       "      <td>PR</td>\n",
       "      <td>24108B</td>\n",
       "      <td>veeteelt</td>\n",
       "      <td>2019-01-14</td>\n",
       "      <td>Porky Farm FV</td>\n",
       "      <td>BE.VL.000000577.INSTALLATION</td>\n",
       "      <td>https://data.gpbv.omgeving.vlaanderen.be/id/pr...</td>\n",
       "      <td>POLYGON ((171607.173 181438.814, 171603.587 18...</td>\n",
       "      <td>10096</td>\n",
       "      <td>6017624_2</td>\n",
       "    </tr>\n",
       "    <tr>\n",
       "      <th>2378</th>\n",
       "      <td>1891</td>\n",
       "      <td>PR</td>\n",
       "      <td>24108B</td>\n",
       "      <td>veeteelt</td>\n",
       "      <td>2019-01-14</td>\n",
       "      <td>Porky Farm FV</td>\n",
       "      <td>BE.VL.000000577.INSTALLATION</td>\n",
       "      <td>https://data.gpbv.omgeving.vlaanderen.be/id/pr...</td>\n",
       "      <td>POLYGON ((171607.173 181438.814, 171603.587 18...</td>\n",
       "      <td>10097</td>\n",
       "      <td>6017624_3</td>\n",
       "    </tr>\n",
       "    <tr>\n",
       "      <th>2379</th>\n",
       "      <td>1892</td>\n",
       "      <td>PR</td>\n",
       "      <td>37017B</td>\n",
       "      <td>veeteelt</td>\n",
       "      <td>2019-08-24</td>\n",
       "      <td>Vanhaecke Lieven</td>\n",
       "      <td>BE.VL.000001471.INSTALLATION</td>\n",
       "      <td>https://data.gpbv.omgeving.vlaanderen.be/id/pr...</td>\n",
       "      <td>POLYGON ((78264.323 177445.058, 78251.770 1774...</td>\n",
       "      <td>57523</td>\n",
       "      <td>6022543</td>\n",
       "    </tr>\n",
       "  </tbody>\n",
       "</table>\n",
       "<p>2380 rows × 11 columns</p>\n",
       "</div>"
      ],
      "text/plain": [
       "      index Type CaSeKey descriptio     UpdDate  \\\n",
       "0         1   PR  44008A   veeteelt  2017-04-18   \n",
       "1         2   PR  24006D   veeteelt  2017-04-24   \n",
       "2         2   PR  24006D   veeteelt  2017-04-24   \n",
       "3         3   PR  44034D   veeteelt  2017-04-18   \n",
       "4         3   PR  44034D   veeteelt  2017-04-18   \n",
       "...     ...  ...     ...        ...         ...   \n",
       "2375   1891   PR  24108B   veeteelt  2019-01-14   \n",
       "2376   1891   PR  24108B   veeteelt  2019-01-14   \n",
       "2377   1891   PR  24108B   veeteelt  2019-01-14   \n",
       "2378   1891   PR  24108B   veeteelt  2019-01-14   \n",
       "2379   1892   PR  37017B   veeteelt  2019-08-24   \n",
       "\n",
       "                                 name                       localId  \\\n",
       "0                Verschraegen Patrick  BE.VL.000001800.INSTALLATION   \n",
       "1     Both Marrigje en Vaneynde Ellen  BE.VL.000000463.INSTALLATION   \n",
       "2     Both Marrigje en Vaneynde Ellen  BE.VL.000000463.INSTALLATION   \n",
       "3                   M+Pigs/Walschland  BE.VL.000001191.INSTALLATION   \n",
       "4                   M+Pigs/Walschland  BE.VL.000001191.INSTALLATION   \n",
       "...                               ...                           ...   \n",
       "2375                    Porky Farm FV  BE.VL.000000577.INSTALLATION   \n",
       "2376                    Porky Farm FV  BE.VL.000000577.INSTALLATION   \n",
       "2377                    Porky Farm FV  BE.VL.000000577.INSTALLATION   \n",
       "2378                    Porky Farm FV  BE.VL.000000577.INSTALLATION   \n",
       "2379                 Vanhaecke Lieven  BE.VL.000001471.INSTALLATION   \n",
       "\n",
       "                                             identifier  \\\n",
       "0     https://data.gpbv.omgeving.vlaanderen.be/id/pr...   \n",
       "1     https://data.gpbv.omgeving.vlaanderen.be/id/pr...   \n",
       "2     https://data.gpbv.omgeving.vlaanderen.be/id/pr...   \n",
       "3     https://data.gpbv.omgeving.vlaanderen.be/id/pr...   \n",
       "4     https://data.gpbv.omgeving.vlaanderen.be/id/pr...   \n",
       "...                                                 ...   \n",
       "2375  https://data.gpbv.omgeving.vlaanderen.be/id/pr...   \n",
       "2376  https://data.gpbv.omgeving.vlaanderen.be/id/pr...   \n",
       "2377  https://data.gpbv.omgeving.vlaanderen.be/id/pr...   \n",
       "2378  https://data.gpbv.omgeving.vlaanderen.be/id/pr...   \n",
       "2379  https://data.gpbv.omgeving.vlaanderen.be/id/pr...   \n",
       "\n",
       "                                            buffer_zone  index_right  \\\n",
       "0     POLYGON ((113715.977 195787.489, 113717.315 19...        19387   \n",
       "1     POLYGON ((177791.394 188622.409, 177789.393 18...        56881   \n",
       "2     POLYGON ((177791.394 188622.409, 177789.393 18...        34839   \n",
       "3     POLYGON ((110166.649 198394.433, 110166.778 19...        61621   \n",
       "4     POLYGON ((110166.649 198394.433, 110166.778 19...         2128   \n",
       "...                                                 ...          ...   \n",
       "2375  POLYGON ((171607.173 181438.814, 171603.587 18...        38038   \n",
       "2376  POLYGON ((171607.173 181438.814, 171603.587 18...        10095   \n",
       "2377  POLYGON ((171607.173 181438.814, 171603.587 18...        10096   \n",
       "2378  POLYGON ((171607.173 181438.814, 171603.587 18...        10097   \n",
       "2379  POLYGON ((78264.323 177445.058, 78251.770 1774...        57523   \n",
       "\n",
       "           VHAS  \n",
       "0       5040128  \n",
       "1       6028465  \n",
       "2       6028466  \n",
       "3       7068473  \n",
       "4     6034092_1  \n",
       "...         ...  \n",
       "2375    6028079  \n",
       "2376  6017624_1  \n",
       "2377  6017624_2  \n",
       "2378  6017624_3  \n",
       "2379    6022543  \n",
       "\n",
       "[2380 rows x 11 columns]"
      ]
     },
     "execution_count": 51,
     "metadata": {},
     "output_type": "execute_result"
    }
   ],
   "source": [
    "water_polygon"
   ]
  },
  {
   "cell_type": "code",
   "execution_count": 52,
   "id": "e80a3de8",
   "metadata": {},
   "outputs": [
    {
     "data": {
      "text/plain": [
       "Index(['index', 'Type', 'CaSeKey', 'descriptio', 'UpdDate', 'name', 'localId',\n",
       "       'identifier', 'buffer_zone', 'index_right', 'VHAS'],\n",
       "      dtype='object')"
      ]
     },
     "execution_count": 52,
     "metadata": {},
     "output_type": "execute_result"
    }
   ],
   "source": [
    "water_polygon.columns"
   ]
  },
  {
   "cell_type": "code",
   "execution_count": 53,
   "id": "a424c571",
   "metadata": {},
   "outputs": [],
   "source": [
    "linear_reference_gdf = water_polygon[['Type', 'CaSeKey', 'localId', 'VHAS', 'buffer_zone']]\\\n",
    "                        .merge(linear_reference_df[['VHAS', 'from_distance', 'to_distance']], how='left', on='VHAS') #\\\n",
    "                            #.rename(columns={'buffer_zone':'geometry'})"
   ]
  },
  {
   "cell_type": "code",
   "execution_count": 54,
   "id": "7ed4c365",
   "metadata": {},
   "outputs": [
    {
     "data": {
      "text/html": [
       "<div>\n",
       "<style scoped>\n",
       "    .dataframe tbody tr th:only-of-type {\n",
       "        vertical-align: middle;\n",
       "    }\n",
       "\n",
       "    .dataframe tbody tr th {\n",
       "        vertical-align: top;\n",
       "    }\n",
       "\n",
       "    .dataframe thead th {\n",
       "        text-align: right;\n",
       "    }\n",
       "</style>\n",
       "<table border=\"1\" class=\"dataframe\">\n",
       "  <thead>\n",
       "    <tr style=\"text-align: right;\">\n",
       "      <th></th>\n",
       "      <th>Type</th>\n",
       "      <th>CaSeKey</th>\n",
       "      <th>localId</th>\n",
       "      <th>VHAS</th>\n",
       "      <th>buffer_zone</th>\n",
       "      <th>from_distance</th>\n",
       "      <th>to_distance</th>\n",
       "    </tr>\n",
       "  </thead>\n",
       "  <tbody>\n",
       "    <tr>\n",
       "      <th>0</th>\n",
       "      <td>PR</td>\n",
       "      <td>44008A</td>\n",
       "      <td>BE.VL.000001800.INSTALLATION</td>\n",
       "      <td>5040128</td>\n",
       "      <td>POLYGON ((113715.977 195787.489, 113717.315 19...</td>\n",
       "      <td>530.855019</td>\n",
       "      <td>751.960694</td>\n",
       "    </tr>\n",
       "    <tr>\n",
       "      <th>1</th>\n",
       "      <td>PR</td>\n",
       "      <td>24006D</td>\n",
       "      <td>BE.VL.000000463.INSTALLATION</td>\n",
       "      <td>6028465</td>\n",
       "      <td>POLYGON ((177791.394 188622.409, 177789.393 18...</td>\n",
       "      <td>370.973634</td>\n",
       "      <td>733.580196</td>\n",
       "    </tr>\n",
       "    <tr>\n",
       "      <th>2</th>\n",
       "      <td>PR</td>\n",
       "      <td>24006D</td>\n",
       "      <td>BE.VL.000000463.INSTALLATION</td>\n",
       "      <td>6028466</td>\n",
       "      <td>POLYGON ((177791.394 188622.409, 177789.393 18...</td>\n",
       "      <td>0.000000</td>\n",
       "      <td>0.000000</td>\n",
       "    </tr>\n",
       "    <tr>\n",
       "      <th>3</th>\n",
       "      <td>PR</td>\n",
       "      <td>44034D</td>\n",
       "      <td>BE.VL.000001191.INSTALLATION</td>\n",
       "      <td>7068473</td>\n",
       "      <td>POLYGON ((110166.649 198394.433, 110166.778 19...</td>\n",
       "      <td>438.139223</td>\n",
       "      <td>798.815637</td>\n",
       "    </tr>\n",
       "    <tr>\n",
       "      <th>4</th>\n",
       "      <td>PR</td>\n",
       "      <td>44034D</td>\n",
       "      <td>BE.VL.000001191.INSTALLATION</td>\n",
       "      <td>6034092_1</td>\n",
       "      <td>POLYGON ((110166.649 198394.433, 110166.778 19...</td>\n",
       "      <td>691.927203</td>\n",
       "      <td>950.760934</td>\n",
       "    </tr>\n",
       "    <tr>\n",
       "      <th>...</th>\n",
       "      <td>...</td>\n",
       "      <td>...</td>\n",
       "      <td>...</td>\n",
       "      <td>...</td>\n",
       "      <td>...</td>\n",
       "      <td>...</td>\n",
       "      <td>...</td>\n",
       "    </tr>\n",
       "    <tr>\n",
       "      <th>2375</th>\n",
       "      <td>PR</td>\n",
       "      <td>24108B</td>\n",
       "      <td>BE.VL.000000577.INSTALLATION</td>\n",
       "      <td>6028079</td>\n",
       "      <td>POLYGON ((171607.173 181438.814, 171603.587 18...</td>\n",
       "      <td>340.387133</td>\n",
       "      <td>589.604391</td>\n",
       "    </tr>\n",
       "    <tr>\n",
       "      <th>2376</th>\n",
       "      <td>PR</td>\n",
       "      <td>24108B</td>\n",
       "      <td>BE.VL.000000577.INSTALLATION</td>\n",
       "      <td>6017624_1</td>\n",
       "      <td>POLYGON ((171607.173 181438.814, 171603.587 18...</td>\n",
       "      <td>0.000000</td>\n",
       "      <td>142.623498</td>\n",
       "    </tr>\n",
       "    <tr>\n",
       "      <th>2377</th>\n",
       "      <td>PR</td>\n",
       "      <td>24108B</td>\n",
       "      <td>BE.VL.000000577.INSTALLATION</td>\n",
       "      <td>6017624_2</td>\n",
       "      <td>POLYGON ((171607.173 181438.814, 171603.587 18...</td>\n",
       "      <td>0.000000</td>\n",
       "      <td>9.205141</td>\n",
       "    </tr>\n",
       "    <tr>\n",
       "      <th>2378</th>\n",
       "      <td>PR</td>\n",
       "      <td>24108B</td>\n",
       "      <td>BE.VL.000000577.INSTALLATION</td>\n",
       "      <td>6017624_3</td>\n",
       "      <td>POLYGON ((171607.173 181438.814, 171603.587 18...</td>\n",
       "      <td>0.000000</td>\n",
       "      <td>10.305196</td>\n",
       "    </tr>\n",
       "    <tr>\n",
       "      <th>2379</th>\n",
       "      <td>PR</td>\n",
       "      <td>37017B</td>\n",
       "      <td>BE.VL.000001471.INSTALLATION</td>\n",
       "      <td>6022543</td>\n",
       "      <td>POLYGON ((78264.323 177445.058, 78251.770 1774...</td>\n",
       "      <td>46.744253</td>\n",
       "      <td>573.934406</td>\n",
       "    </tr>\n",
       "  </tbody>\n",
       "</table>\n",
       "<p>2380 rows × 7 columns</p>\n",
       "</div>"
      ],
      "text/plain": [
       "     Type CaSeKey                       localId       VHAS  \\\n",
       "0      PR  44008A  BE.VL.000001800.INSTALLATION    5040128   \n",
       "1      PR  24006D  BE.VL.000000463.INSTALLATION    6028465   \n",
       "2      PR  24006D  BE.VL.000000463.INSTALLATION    6028466   \n",
       "3      PR  44034D  BE.VL.000001191.INSTALLATION    7068473   \n",
       "4      PR  44034D  BE.VL.000001191.INSTALLATION  6034092_1   \n",
       "...   ...     ...                           ...        ...   \n",
       "2375   PR  24108B  BE.VL.000000577.INSTALLATION    6028079   \n",
       "2376   PR  24108B  BE.VL.000000577.INSTALLATION  6017624_1   \n",
       "2377   PR  24108B  BE.VL.000000577.INSTALLATION  6017624_2   \n",
       "2378   PR  24108B  BE.VL.000000577.INSTALLATION  6017624_3   \n",
       "2379   PR  37017B  BE.VL.000001471.INSTALLATION    6022543   \n",
       "\n",
       "                                            buffer_zone  from_distance  \\\n",
       "0     POLYGON ((113715.977 195787.489, 113717.315 19...     530.855019   \n",
       "1     POLYGON ((177791.394 188622.409, 177789.393 18...     370.973634   \n",
       "2     POLYGON ((177791.394 188622.409, 177789.393 18...       0.000000   \n",
       "3     POLYGON ((110166.649 198394.433, 110166.778 19...     438.139223   \n",
       "4     POLYGON ((110166.649 198394.433, 110166.778 19...     691.927203   \n",
       "...                                                 ...            ...   \n",
       "2375  POLYGON ((171607.173 181438.814, 171603.587 18...     340.387133   \n",
       "2376  POLYGON ((171607.173 181438.814, 171603.587 18...       0.000000   \n",
       "2377  POLYGON ((171607.173 181438.814, 171603.587 18...       0.000000   \n",
       "2378  POLYGON ((171607.173 181438.814, 171603.587 18...       0.000000   \n",
       "2379  POLYGON ((78264.323 177445.058, 78251.770 1774...      46.744253   \n",
       "\n",
       "      to_distance  \n",
       "0      751.960694  \n",
       "1      733.580196  \n",
       "2        0.000000  \n",
       "3      798.815637  \n",
       "4      950.760934  \n",
       "...           ...  \n",
       "2375   589.604391  \n",
       "2376   142.623498  \n",
       "2377     9.205141  \n",
       "2378    10.305196  \n",
       "2379   573.934406  \n",
       "\n",
       "[2380 rows x 7 columns]"
      ]
     },
     "execution_count": 54,
     "metadata": {},
     "output_type": "execute_result"
    }
   ],
   "source": [
    "linear_reference_gdf"
   ]
  },
  {
   "cell_type": "code",
   "execution_count": 55,
   "id": "05910539",
   "metadata": {},
   "outputs": [
    {
     "name": "stdout",
     "output_type": "stream",
     "text": [
      "<class 'geopandas.geodataframe.GeoDataFrame'>\n",
      "Int64Index: 2380 entries, 0 to 2379\n",
      "Data columns (total 7 columns):\n",
      " #   Column         Non-Null Count  Dtype   \n",
      "---  ------         --------------  -----   \n",
      " 0   Type           2380 non-null   object  \n",
      " 1   CaSeKey        2380 non-null   object  \n",
      " 2   localId        2380 non-null   object  \n",
      " 3   VHAS           2380 non-null   object  \n",
      " 4   buffer_zone    2380 non-null   geometry\n",
      " 5   from_distance  2380 non-null   float64 \n",
      " 6   to_distance    2380 non-null   float64 \n",
      "dtypes: float64(2), geometry(1), object(4)\n",
      "memory usage: 148.8+ KB\n"
     ]
    }
   ],
   "source": [
    "linear_reference_gdf.info()"
   ]
  },
  {
   "cell_type": "code",
   "execution_count": null,
   "id": "7f92a88e",
   "metadata": {},
   "outputs": [],
   "source": [
    "# linear_reference_gdf2 = linear_reference_gdf.to_crs(epsg=3035)"
   ]
  },
  {
   "cell_type": "code",
   "execution_count": 57,
   "id": "aa901a3b",
   "metadata": {},
   "outputs": [
    {
     "data": {
      "text/plain": [
       "<Derived Projected CRS: EPSG:31370>\n",
       "Name: BD72 / Belgian Lambert 72\n",
       "Axis Info [cartesian]:\n",
       "- X[east]: Easting (metre)\n",
       "- Y[north]: Northing (metre)\n",
       "Area of Use:\n",
       "- name: Belgium - onshore.\n",
       "- bounds: (2.5, 49.5, 6.4, 51.51)\n",
       "Coordinate Operation:\n",
       "- name: Belgian Lambert 72\n",
       "- method: Lambert Conic Conformal (2SP)\n",
       "Datum: Reseau National Belge 1972\n",
       "- Ellipsoid: International 1924\n",
       "- Prime Meridian: Greenwich"
      ]
     },
     "execution_count": 57,
     "metadata": {},
     "output_type": "execute_result"
    }
   ],
   "source": [
    "linear_reference_gdf.crs"
   ]
  },
  {
   "cell_type": "code",
   "execution_count": null,
   "id": "e68fa7f4",
   "metadata": {},
   "outputs": [],
   "source": [
    "# linear_reference_gdf2.to_file(r\"C:\\Workdir\\Develop\\TR_USECASE\\data_transform\\vl_polygon_loc2.shp\")"
   ]
  }
 ],
 "metadata": {
  "kernelspec": {
   "display_name": "Python 3 (ipykernel)",
   "language": "python",
   "name": "python3"
  },
  "language_info": {
   "codemirror_mode": {
    "name": "ipython",
    "version": 3
   },
   "file_extension": ".py",
   "mimetype": "text/x-python",
   "name": "python",
   "nbconvert_exporter": "python",
   "pygments_lexer": "ipython3",
   "version": "3.8.13"
  },
  "vscode": {
   "interpreter": {
    "hash": "07cfc20f86b5324f2cf4cab54f3d8afd23691d2e48a06ce4244ed8c5c7ddfd6c"
   }
  }
 },
 "nbformat": 4,
 "nbformat_minor": 5
}
