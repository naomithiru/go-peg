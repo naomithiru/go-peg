{
 "cells": [
  {
   "cell_type": "markdown",
   "metadata": {},
   "source": [
    "# NETWORKS TRANSFORMATION\n",
    "\n",
    "This notebook contains all the functions needed to perform various trasformations to the networks of the tracing usecase, and prepare the data for harmonization.\n",
    "\n",
    "Datasets Needed:\n",
    "\n",
    "- Hydro-network dataset\n",
    "- Sewer network dataset / Discharge Points dataset"
   ]
  },
  {
   "cell_type": "markdown",
   "metadata": {},
   "source": [
    "## Expected Outputs\n",
    "\n",
    "- Connection nodes\n",
    "- Discharge points\n",
    "- Start and end nodes for water\n",
    "- Water dataset with start and end ID\n",
    "- Split water dataset with new start and end ids\n",
    "- Fully connected water dataset"
   ]
  },
  {
   "cell_type": "code",
   "execution_count": 1,
   "metadata": {},
   "outputs": [
    {
     "name": "stdout",
     "output_type": "stream",
     "text": [
      "C:\\workdir\\develop\\repository\\go-peg\n"
     ]
    }
   ],
   "source": [
    "import os\n",
    "import sys\n",
    "path = os.path.dirname(os.path.abspath(''))\n",
    "os.chdir(path)\n",
    "print(path)\n",
    "sys.path.insert(0, path)"
   ]
  },
  {
   "cell_type": "code",
   "execution_count": 2,
   "metadata": {},
   "outputs": [
    {
     "name": "stderr",
     "output_type": "stream",
     "text": [
      "C:\\Users\\u0119822\\.conda\\envs\\gopeg\\lib\\site-packages\\geopandas\\_compat.py:111: UserWarning: The Shapely GEOS version (3.10.2-CAPI-1.16.0) is incompatible with the GEOS version PyGEOS was compiled with (3.10.4-CAPI-1.16.2). Conversions between both will be slow.\n",
      "  warnings.warn(\n"
     ]
    },
    {
     "name": "stdout",
     "output_type": "stream",
     "text": [
      "C:\\workdir\\develop\\repository\\go-peg\n"
     ]
    }
   ],
   "source": [
    "import geopandas as gpd\n",
    "import pandas as pd\n",
    "from shapely.geometry import Point, LineString, MultiPoint, MultiLineString\n",
    "from shapely import wkt\n",
    "from shapely.ops import nearest_points\n",
    "import shapely.wkt\n",
    "import numpy as np\n",
    "\n",
    "import random\n",
    "\n",
    "\n",
    "import warnings\n",
    "from shapely.errors import ShapelyDeprecationWarning\n",
    "warnings.filterwarnings(\"ignore\", category=ShapelyDeprecationWarning)\n",
    "pd.options.mode.chained_assignment = None  # default='warn'\n",
    "\n",
    "\n",
    "from src.config import config\n"
   ]
  },
  {
   "cell_type": "markdown",
   "metadata": {},
   "source": [
    "# 1. Prepare Water Network\n",
    "A water network is received as an edge only network wih no nodes. Here, we generate hydro-nodes from the begining and end points of a linestring geometry, and assign them unique ids that can then be added to the water segments as begin and end points.\n",
    "\n",
    "The following steps are performed:"
   ]
  },
  {
   "cell_type": "markdown",
   "metadata": {},
   "source": [
    "## 1.1. CRS\n",
    "Assign the coordinate reference system as a global variable to use through out the application."
   ]
  },
  {
   "cell_type": "code",
   "execution_count": 3,
   "metadata": {},
   "outputs": [],
   "source": [
    "PROJ_CRS = \"EPSG:31370\""
   ]
  },
  {
   "cell_type": "markdown",
   "metadata": {},
   "source": [
    "## 1.2. Load Water Data\n",
    "Load the data into a dataframe. Various formats can be loaded onto a dataframe in Geopandas. Here, both shapefiles and GML data are used.\n",
    "\n",
    "Set the crs to the project crs. "
   ]
  },
  {
   "cell_type": "code",
   "execution_count": 4,
   "metadata": {},
   "outputs": [
    {
     "name": "stdout",
     "output_type": "stream",
     "text": [
      "(63767, 19)\n",
      "Project crs: EPSG:31370\n"
     ]
    }
   ],
   "source": [
    "def load_data(path, PROJ_CRS):\n",
    "    \"\"\"\n",
    "    Loads the data from the given path,\n",
    "    and prints the shape and crs of the data.\n",
    "    \"\"\"\n",
    "    data = gpd.read_file(path)\n",
    "    print(data.shape)\n",
    "    #print(\"Original crs:\", data.crs)\n",
    "    data = data.to_crs(PROJ_CRS)\n",
    "    print(\"Project crs:\", data.crs)\n",
    "    data = data.drop_duplicates(subset=[\"geometry\"]).reset_index(drop=True)\n",
    "    return data\n",
    "\n",
    "\n",
    "path = config.data_src / \"flanders_hydro_network/Wlas.shp\"\n",
    "\n",
    "water_data = load_data(path, PROJ_CRS)"
   ]
  },
  {
   "cell_type": "markdown",
   "metadata": {},
   "source": [
    "## 1.3. Turn multiline water network into single line water network\n",
    "\n",
    "The water segments geometries can sometimes be stored as a multilinestring. This means that the geometries are represented by nested lists and this can make programmatically manipulating them difficult. Therefore multiline water networks are converted into single line water networks by splitting the linestrings into individual linestrings. This is done by 'flattening' the nested list that makes up a multilinestring structure.\n",
    "\n",
    "This ensures we can extract begin and end points of a water segment."
   ]
  },
  {
   "cell_type": "code",
   "execution_count": 5,
   "metadata": {},
   "outputs": [],
   "source": [
    "# Check for multiline strings in a dataset\n",
    "def check_multiline(df):\n",
    "    \"\"\"This function checks for multiline strings\n",
    "    from the geometry column in a given dataset\"\"\"\n",
    "    lst = df[\"geometry\"].to_list()\n",
    "    multiline_count = 0\n",
    "    for item in lst:\n",
    "        if isinstance(item, MultiLineString):\n",
    "            multiline_count += 1\n",
    "    print(\"MultiLinesStrings:\", multiline_count)\n",
    "\n",
    "\n",
    "# filter out multilinestring dataset\n",
    "def multiline_to_linestring(df):\n",
    "    # filter out multilinestring dataset\n",
    "    multiline_df = df[df[\"geometry\"].apply(lambda x: isinstance(x, MultiLineString))]\n",
    "    linestrings_df = df[df.geom_type == \"LineString\"]\n",
    "    if len(linestrings_df) == len(df):\n",
    "        print(\"No multiline strings found\")\n",
    "        return df\n",
    "\n",
    "    else:\n",
    "        print(\"Checking for multiline strings...\")\n",
    "        check_multiline(df)\n",
    "        # turn multilinestrings into linestrings\n",
    "        linestrings = []\n",
    "        for idx, row in multiline_df.iterrows():\n",
    "            inlines = row.geometry\n",
    "            outcoords = [list(item.coords) for item in inlines]\n",
    "            outline = shapely.geometry.LineString(\n",
    "                [i for sublist in outcoords for i in sublist]\n",
    "            )\n",
    "            # outline_geom = shapely.wkt.dumps(outline)\n",
    "            linestrings.append(outline)\n",
    "\n",
    "        # add  linestrings to dataframe and drop original geom column\n",
    "        multiline_df[\"exploded\"] = linestrings\n",
    "        multiline_df = (\n",
    "            multiline_df.drop([\"geometry\"], axis=1)\n",
    "            .rename(columns={\"exploded\": \"geometry\"})\n",
    "            .reset_index(drop=True)\n",
    "        )\n",
    "        multiline_gdf = gpd.GeoDataFrame(\n",
    "            multiline_df, geometry=\"geometry\", crs=PROJ_CRS\n",
    "        )\n",
    "\n",
    "        gdf = linestrings_df.append(multiline_gdf).reset_index(drop=True)\n",
    "        print(\"Checking for multiline strings after...\")\n",
    "        check_multiline(gdf)\n",
    "\n",
    "    return gdf"
   ]
  },
  {
   "cell_type": "code",
   "execution_count": 6,
   "metadata": {},
   "outputs": [
    {
     "name": "stdout",
     "output_type": "stream",
     "text": [
      "Checking for multiline strings...\n",
      "MultiLinesStrings: 3\n"
     ]
    },
    {
     "name": "stderr",
     "output_type": "stream",
     "text": [
      "C:\\Users\\u0119822\\AppData\\Local\\Temp\\ipykernel_31080\\1551901200.py:47: FutureWarning: The frame.append method is deprecated and will be removed from pandas in a future version. Use pandas.concat instead.\n",
      "  gdf = linestrings_df.append(multiline_gdf).reset_index(drop=True)\n"
     ]
    },
    {
     "name": "stdout",
     "output_type": "stream",
     "text": [
      "Checking for multiline strings after...\n",
      "MultiLinesStrings: 0\n"
     ]
    }
   ],
   "source": [
    "water_data = multiline_to_linestring(water_data)"
   ]
  },
  {
   "cell_type": "markdown",
   "metadata": {},
   "source": [
    "## 1.4. Generate begin and end nodes\n",
    "\n",
    "Get begin and end point geometries by extracting the first and the last point geometries of a linestring."
   ]
  },
  {
   "cell_type": "code",
   "execution_count": 7,
   "metadata": {},
   "outputs": [],
   "source": [
    "def add_beginpoints(df):\n",
    "    startnodes_gdf = df.copy()\n",
    "    lst = startnodes_gdf[\"geometry\"].to_list()\n",
    "    beginpoints = []\n",
    "    for item in lst:\n",
    "        first = Point(item.coords[0])\n",
    "        first_precise = shapely.wkt.dumps(first)\n",
    "        beginpoints.append(first_precise)\n",
    "\n",
    "    startnodes_gdf[\"start_point\"] = [wkt.loads(g) for g in beginpoints]\n",
    "    startnodes_gdf = startnodes_gdf.drop([\"geometry\"], axis=1).rename(\n",
    "        columns={\"start_point\": \"geometry\"}\n",
    "    )\n",
    "\n",
    "    startnodes_gdf = gpd.GeoDataFrame(\n",
    "        startnodes_gdf, geometry=startnodes_gdf[\"geometry\"], crs=PROJ_CRS\n",
    "    )  # .drop(columns=[col])\n",
    "    return startnodes_gdf\n",
    "\n",
    "\n",
    "def add_endpoints(df):\n",
    "    endnodes_gdf = df.copy()\n",
    "    lst = endnodes_gdf[\"geometry\"].to_list()\n",
    "    endpoints = []\n",
    "    for item in lst:\n",
    "        last = Point(item.coords[-1])\n",
    "        last_precise = shapely.wkt.dumps(last)\n",
    "        endpoints.append(last_precise)\n",
    "\n",
    "    endnodes_gdf[\"end_point\"] = [wkt.loads(g) for g in endpoints]\n",
    "    endnodes_gdf = endnodes_gdf.drop([\"geometry\"], axis=1).rename(\n",
    "        columns={\"end_point\": \"geometry\"}\n",
    "    )\n",
    "\n",
    "    endnodes_gdf = gpd.GeoDataFrame(\n",
    "        endnodes_gdf, geometry=endnodes_gdf[\"geometry\"], crs=PROJ_CRS\n",
    "    )  # .drop(columns=[col])\n",
    "    return endnodes_gdf"
   ]
  },
  {
   "cell_type": "code",
   "execution_count": 8,
   "metadata": {},
   "outputs": [],
   "source": [
    "startnodes_gdf = add_beginpoints(water_data)\n",
    "endnodes_gdf = add_endpoints(water_data)"
   ]
  },
  {
   "cell_type": "markdown",
   "metadata": {},
   "source": [
    "#### Note 1:\n",
    "Assert statements are used to test if the results generated are the expected results"
   ]
  },
  {
   "cell_type": "code",
   "execution_count": 9,
   "metadata": {},
   "outputs": [],
   "source": [
    "assert startnodes_gdf.shape == endnodes_gdf.shape"
   ]
  },
  {
   "cell_type": "markdown",
   "metadata": {},
   "source": [
    "## 1.5. Document the nodes\n",
    "\n",
    "After the nodes have been created, perform spatial join the startnodes and endnodes dataframes to create one nodes geometry.\n",
    "\n",
    "These nodes have a sequentially generated id, with a chosen prefix to make it a unique node identifier.\n"
   ]
  },
  {
   "cell_type": "code",
   "execution_count": 10,
   "metadata": {},
   "outputs": [],
   "source": [
    "def get_nodes(id_col, region):\n",
    "    nodes_geom = pd.merge(\n",
    "        startnodes_gdf[[id_col, \"geometry\"]],\n",
    "        endnodes_gdf[[id_col, \"geometry\"]],\n",
    "        on=\"geometry\",\n",
    "        how=\"outer\",\n",
    "    ).reset_index(drop=True)\n",
    "    unique_id_df = (\n",
    "        nodes_geom[[\"geometry\"]].drop_duplicates().reset_index().drop(columns=[\"index\"])\n",
    "    )\n",
    "    assert len(unique_id_df) == nodes_geom.geometry.nunique()\n",
    "\n",
    "    unique_id_df[\"New_ID\"] = range(1, len(unique_id_df) + 1)\n",
    "    unique_id_df[\"node_id\"] = region + unique_id_df[\"New_ID\"].astype(str)\n",
    "    gdf = gpd.GeoDataFrame(\n",
    "        unique_id_df, geometry=unique_id_df[\"geometry\"], crs=PROJ_CRS\n",
    "    ).drop(columns=[\"New_ID\"])\n",
    "    return gdf"
   ]
  },
  {
   "cell_type": "code",
   "execution_count": 11,
   "metadata": {},
   "outputs": [],
   "source": [
    "water_nodes_df = get_nodes(\"VHAS\", \"VL\")\n",
    "assert len(water_nodes_df) == water_nodes_df.geometry.nunique()"
   ]
  },
  {
   "cell_type": "code",
   "execution_count": 12,
   "metadata": {},
   "outputs": [
    {
     "data": {
      "text/html": [
       "<div>\n",
       "<style scoped>\n",
       "    .dataframe tbody tr th:only-of-type {\n",
       "        vertical-align: middle;\n",
       "    }\n",
       "\n",
       "    .dataframe tbody tr th {\n",
       "        vertical-align: top;\n",
       "    }\n",
       "\n",
       "    .dataframe thead th {\n",
       "        text-align: right;\n",
       "    }\n",
       "</style>\n",
       "<table border=\"1\" class=\"dataframe\">\n",
       "  <thead>\n",
       "    <tr style=\"text-align: right;\">\n",
       "      <th></th>\n",
       "      <th>geometry</th>\n",
       "      <th>node_id</th>\n",
       "    </tr>\n",
       "  </thead>\n",
       "  <tbody>\n",
       "    <tr>\n",
       "      <th>48632</th>\n",
       "      <td>POINT (108527.365 203553.217)</td>\n",
       "      <td>VL48633</td>\n",
       "    </tr>\n",
       "    <tr>\n",
       "      <th>59525</th>\n",
       "      <td>POINT (33078.766 194499.750)</td>\n",
       "      <td>VL59526</td>\n",
       "    </tr>\n",
       "    <tr>\n",
       "      <th>36408</th>\n",
       "      <td>POINT (244447.252 181532.100)</td>\n",
       "      <td>VL36409</td>\n",
       "    </tr>\n",
       "    <tr>\n",
       "      <th>35680</th>\n",
       "      <td>POINT (184744.374 233515.233)</td>\n",
       "      <td>VL35681</td>\n",
       "    </tr>\n",
       "    <tr>\n",
       "      <th>32811</th>\n",
       "      <td>POINT (186473.114 187338.428)</td>\n",
       "      <td>VL32812</td>\n",
       "    </tr>\n",
       "  </tbody>\n",
       "</table>\n",
       "</div>"
      ],
      "text/plain": [
       "                            geometry  node_id\n",
       "48632  POINT (108527.365 203553.217)  VL48633\n",
       "59525   POINT (33078.766 194499.750)  VL59526\n",
       "36408  POINT (244447.252 181532.100)  VL36409\n",
       "35680  POINT (184744.374 233515.233)  VL35681\n",
       "32811  POINT (186473.114 187338.428)  VL32812"
      ]
     },
     "execution_count": 12,
     "metadata": {},
     "output_type": "execute_result"
    }
   ],
   "source": [
    "water_nodes_df.sample(5)"
   ]
  },
  {
   "cell_type": "code",
   "execution_count": 13,
   "metadata": {},
   "outputs": [],
   "source": [
    "# water_nodes_df.to_file(r\"data_transform\\\\vl_water_nodes.shp\")"
   ]
  },
  {
   "cell_type": "markdown",
   "metadata": {},
   "source": [
    "## 1.6. Add the nodes to water segments, and create start and end id columns\n",
    "\n",
    "Using the sjoin method, map the nodes onto the linestrings to identify water segment start nodes and end nodes. Label nodes as either start_id or end_id in the water dataframe."
   ]
  },
  {
   "cell_type": "code",
   "execution_count": 14,
   "metadata": {},
   "outputs": [],
   "source": [
    "def add_ids_to_edges():\n",
    "    # Label nodes as either start_id or end_id\n",
    "    startnodes_merged = (\n",
    "        gpd.sjoin(startnodes_gdf, water_nodes_df, how=\"left\")\n",
    "        .rename(columns={\"node_id\": \"start_ID\"})\n",
    "        .drop(\"index_right\", axis=1)\n",
    "    )\n",
    "    endnodes_merged = (\n",
    "        gpd.sjoin(endnodes_gdf, water_nodes_df, how=\"left\")\n",
    "        .rename(columns={\"node_id\": \"end_ID\"})\n",
    "        .drop(\"index_right\", axis=1)\n",
    "    )\n",
    "\n",
    "    nodes_geom = pd.merge(startnodes_merged, endnodes_merged, on=\"VHAS\")\n",
    "\n",
    "    nodes = nodes_geom[[\"VHAS\", \"start_ID\", \"end_ID\"]]\n",
    "\n",
    "    water_edges_nodes = pd.merge(\n",
    "        water_data, nodes, left_on=\"VHAS\", right_on=\"VHAS\"\n",
    "    )  # .drop('id', axis=1)\n",
    "    return water_edges_nodes\n",
    "\n",
    "\n",
    "water_final = add_ids_to_edges()\n",
    "assert water_final.VHAS.nunique() == water_final.geometry.nunique()"
   ]
  },
  {
   "cell_type": "code",
   "execution_count": 15,
   "metadata": {},
   "outputs": [],
   "source": [
    "# water_final.to_file(r\"data_transform\\\\vl_water_edges.shp\")\n",
    "#![2.water_nodes.PNG](attachment:2.water_nodes.PNG)"
   ]
  },
  {
   "cell_type": "markdown",
   "metadata": {},
   "source": [
    "# 2. Prepare Sewer Network\n",
    "\n",
    "Load the sewer network edges and nodes files.\n",
    "If there is no sewer network, then load discharge points."
   ]
  },
  {
   "cell_type": "markdown",
   "metadata": {},
   "source": [
    "In this example dataset, the sewer network dataset consists of both nodes and edges.\n",
    "\n",
    "Some networks will contain only nodes(discharge points). When only the discharge points are available, these will be used to get the connection points on the waer network as demonstrated  below.\n"
   ]
  },
  {
   "cell_type": "markdown",
   "metadata": {},
   "source": [
    "## 2.1. Load sewer data"
   ]
  },
  {
   "cell_type": "code",
   "execution_count": 16,
   "metadata": {},
   "outputs": [
    {
     "name": "stdout",
     "output_type": "stream",
     "text": [
      "(327212, 28)\n",
      "Project crs: EPSG:31370\n",
      "(36190, 22)\n",
      "Project crs: EPSG:31370\n",
      "(336225, 5)\n",
      "Project crs: EPSG:31370\n"
     ]
    }
   ],
   "source": [
    "# path = data_src / \"flanders_sewernetwork/Streng.shp\"\n",
    "sewer_edges = load_data(config.data_src / \"flanders_sewernetwork/Streng.shp\", PROJ_CRS)\n",
    "\n",
    "# path = data_src / \"flanders_sewernetwork/Hydpnt.shp\"\n",
    "hpoint_data = load_data(config.data_src / \"flanders_sewernetwork/Hydpnt.shp\", PROJ_CRS)\n",
    "\n",
    "# path = data_src / \"flanders_sewernetwork/Koppnt.shp\"\n",
    "koppnt_data = load_data(config.data_src / \"flanders_sewernetwork/Koppnt.shp\", PROJ_CRS)"
   ]
  },
  {
   "cell_type": "markdown",
   "metadata": {},
   "source": [
    "### 2.1.1.  Merge the nodes datasets\n",
    "\n",
    "This dataset comes with two node data. To work with properties from both datasets, merge koppnt_data and hpoint_data dataframes."
   ]
  },
  {
   "cell_type": "code",
   "execution_count": 17,
   "metadata": {},
   "outputs": [],
   "source": [
    "merged_sewer_nodes = pd.merge(\n",
    "    koppnt_data, hpoint_data, left_on=\"NRKPNT\", right_on=\"CODEKOPPNT\", how=\"left\"\n",
    ")\n",
    "# koppnt_data.to_file(r\"data_transform\\\\VL_koppnt.shp\")"
   ]
  },
  {
   "cell_type": "markdown",
   "metadata": {},
   "source": [
    "### 2.1.2. Save sewer network nodes and edges to file."
   ]
  },
  {
   "cell_type": "code",
   "execution_count": 18,
   "metadata": {},
   "outputs": [],
   "source": [
    "# sewer_edges.to_file(r\"data_transform\\\\VL_sewer_edges.shp\")\n",
    "# data_hpoint_gml.to_file(r\"data_transform\\\\VL_hydpnt.shp\")\n",
    "# koppnt_data.to_file(r\"data_transform\\\\VL_koppnt.shp\")"
   ]
  },
  {
   "cell_type": "markdown",
   "metadata": {},
   "source": [
    "## 2.2. Expose external nodes"
   ]
  },
  {
   "cell_type": "markdown",
   "metadata": {},
   "source": [
    "Extract the external nodes from the sewer network. External nodes refers to the nodes that have no start point, indicating that they empty into the river network. Here, using the attributes 'BEGINKPNT' and 'EINDKPNT' which are the node codes, we can find the external nodes."
   ]
  },
  {
   "cell_type": "code",
   "execution_count": 19,
   "metadata": {},
   "outputs": [],
   "source": [
    "def find_external_nodes(df, begin_col, end_col):\n",
    "\n",
    "    \"\"\"This function extracts the endpoints of a sewer segment\n",
    "    that are not beginpoints of another sewer segment\"\"\"\n",
    "\n",
    "    beginpoints = df[begin_col].to_list()\n",
    "    endpoints = df[end_col].to_list()\n",
    "    beginpoints_set = set(beginpoints)\n",
    "    endpoints_set = set(endpoints)\n",
    "    external_nodes = list(endpoints_set - beginpoints_set)\n",
    "    return external_nodes"
   ]
  },
  {
   "cell_type": "code",
   "execution_count": 20,
   "metadata": {},
   "outputs": [],
   "source": [
    "external_nodes = find_external_nodes(sewer_edges, \"BEGINKPNT\", \"EINDKPNT\")\n",
    "\n",
    "ext_nodes_df = (\n",
    "    hpoint_data.query(\"CODEKOPPNT in @external_nodes\")\n",
    "    .query(\"VHAS != 0\")\n",
    "    .drop_duplicates(subset=\"CODEKOPPNT\")\n",
    "    .drop(columns=[\"geometry\"])\n",
    "    .merge(koppnt_data[[\"NRKPNT\", \"geometry\"]], left_on=\"CODEKOPPNT\", right_on=\"NRKPNT\")\n",
    "    .drop(columns=[\"NRKPNT\"])\n",
    "    .drop_duplicates(subset=\"geometry\")\n",
    ")"
   ]
  },
  {
   "cell_type": "code",
   "execution_count": 21,
   "metadata": {},
   "outputs": [
    {
     "data": {
      "text/plain": [
       "(14440, 22)"
      ]
     },
     "execution_count": 21,
     "metadata": {},
     "output_type": "execute_result"
    }
   ],
   "source": [
    "assert ext_nodes_df.geometry.nunique() == ext_nodes_df.CODEKOPPNT.nunique()\n",
    "\n",
    "ext_nodes_df.shape"
   ]
  },
  {
   "cell_type": "code",
   "execution_count": 22,
   "metadata": {},
   "outputs": [],
   "source": [
    "#![3.water_sewer.PNG](attachment:3.water_sewer.PNG)"
   ]
  },
  {
   "cell_type": "markdown",
   "metadata": {},
   "source": [
    "## 2.3 Find Connection Nodes"
   ]
  },
  {
   "cell_type": "markdown",
   "metadata": {},
   "source": [
    "Connection nodes are the points on a water network where a sewer network 'connects' to, or in the real world, where the sewer empties into a water network.\n",
    "\n",
    "Use a custom function to identify a connection point by projecting to the nearest point on a river from an external node.\n",
    "\n",
    "For sewer networks made up of just discharge points, these are used in place of external nodes.\n",
    "\n",
    "The expected output is a dataframe with sewer nodes projected onto water segments."
   ]
  },
  {
   "cell_type": "code",
   "execution_count": 23,
   "metadata": {},
   "outputs": [],
   "source": [
    "def get_nearest_point(df, line_col, point_col):\n",
    "    \"\"\"\n",
    "    For each point in points_df, find the nearest point in lines_df.\n",
    "    \"\"\"\n",
    "    geoms = []\n",
    "    for idx, row in df.iterrows():\n",
    "        destinations = MultiPoint(np.array(row[line_col].coords))\n",
    "        # destinations = MultiPoint(row[line_col].coords)  # geometry_y\n",
    "        nearest_geoms = nearest_points(row[point_col], destinations)  # geometry_x\n",
    "        try:\n",
    "            for coord in destinations.geoms:\n",
    "                if coord == nearest_geoms[1]:\n",
    "                    geoms.append(coord)\n",
    "        except ValueError:\n",
    "            print(\"No nearest point found for {}\".format(row.CODEKOPPNT))\n",
    "    return geoms"
   ]
  },
  {
   "cell_type": "code",
   "execution_count": 24,
   "metadata": {},
   "outputs": [],
   "source": [
    "assert len(water_final) == water_final.VHAS.nunique()"
   ]
  },
  {
   "cell_type": "code",
   "execution_count": 25,
   "metadata": {},
   "outputs": [
    {
     "name": "stdout",
     "output_type": "stream",
     "text": [
      "(13904, 6)\n",
      "Connection_nodes_df:  (11699, 4)\n",
      "Water_df:  (11699, 3)\n"
     ]
    }
   ],
   "source": [
    "water_final_cols = [\"VHAS\", \"geometry\"]\n",
    "ext_nodes_cols = [\"NRHPNT\", \"CODEKOPPNT\", \"VHAS\", \"geometry\"]\n",
    "sewer_water_df = (\n",
    "    ext_nodes_df[ext_nodes_cols]\n",
    "    .merge(water_final[water_final_cols], on=\"VHAS\", how=\"left\")\n",
    "    .drop_duplicates(subset=\"geometry_x\", keep=\"first\")\n",
    "    .query(\"geometry_y.notnull()\")\n",
    "    .assign(new_points=lambda x: get_nearest_point(x, \"geometry_y\", \"geometry_x\"))\n",
    ")\n",
    "print(sewer_water_df.shape)\n",
    "\n",
    "sewer_water_df = gpd.GeoDataFrame(\n",
    "    sewer_water_df, geometry=\"new_points\", crs=PROJ_CRS\n",
    ").drop_duplicates(subset=\"new_points\")\n",
    "\n",
    "conn_node_cols = [\"NRHPNT\", \"CODEKOPPNT\", \"VHAS\", \"new_points\"]\n",
    "water_cols = [\"VHAS\", \"CODEKOPPNT\", \"geometry_y\"]\n",
    "connection_nodes_df = (\n",
    "    sewer_water_df[conn_node_cols]\n",
    "    .rename(columns={\"new_points\": \"geometry\"})\n",
    "    .reset_index(drop=True)\n",
    ")\n",
    "\n",
    "connection_nodes_gdf = gpd.GeoDataFrame(\n",
    "    connection_nodes_df, geometry=\"geometry\", crs=PROJ_CRS\n",
    ")\n",
    "print(\"Connection_nodes_df: \", connection_nodes_gdf.shape)\n",
    "\n",
    "water_df = (\n",
    "    sewer_water_df[water_cols]\n",
    "    .rename(columns={\"geometry_y\": \"geometry\"})\n",
    "    .reset_index(drop=True)\n",
    ")\n",
    "water_gdf = gpd.GeoDataFrame(water_df, geometry=\"geometry\", crs=PROJ_CRS)\n",
    "print(\"Water_df: \", water_gdf.shape)"
   ]
  },
  {
   "cell_type": "code",
   "execution_count": 26,
   "metadata": {},
   "outputs": [
    {
     "name": "stdout",
     "output_type": "stream",
     "text": [
      "(11699, 6)\n"
     ]
    },
    {
     "data": {
      "text/html": [
       "<div>\n",
       "<style scoped>\n",
       "    .dataframe tbody tr th:only-of-type {\n",
       "        vertical-align: middle;\n",
       "    }\n",
       "\n",
       "    .dataframe tbody tr th {\n",
       "        vertical-align: top;\n",
       "    }\n",
       "\n",
       "    .dataframe thead th {\n",
       "        text-align: right;\n",
       "    }\n",
       "</style>\n",
       "<table border=\"1\" class=\"dataframe\">\n",
       "  <thead>\n",
       "    <tr style=\"text-align: right;\">\n",
       "      <th></th>\n",
       "      <th>NRHPNT</th>\n",
       "      <th>CODEKOPPNT</th>\n",
       "      <th>VHAS</th>\n",
       "      <th>geometry_x</th>\n",
       "      <th>geometry_y</th>\n",
       "      <th>new_points</th>\n",
       "    </tr>\n",
       "  </thead>\n",
       "  <tbody>\n",
       "    <tr>\n",
       "      <th>0</th>\n",
       "      <td>6025960.0</td>\n",
       "      <td>24195613725_1</td>\n",
       "      <td>6033745</td>\n",
       "      <td>POINT (49632.228 215175.512)</td>\n",
       "      <td>LINESTRING (49842.161 215096.866, 49720.629 21...</td>\n",
       "      <td>POINT (49720.629 215107.628)</td>\n",
       "    </tr>\n",
       "    <tr>\n",
       "      <th>1</th>\n",
       "      <td>6028829.0</td>\n",
       "      <td>7165620_1</td>\n",
       "      <td>6002399</td>\n",
       "      <td>POINT (63142.598 172228.907)</td>\n",
       "      <td>LINESTRING (64485.050 172900.574, 64483.883 17...</td>\n",
       "      <td>POINT (63142.133 172229.301)</td>\n",
       "    </tr>\n",
       "  </tbody>\n",
       "</table>\n",
       "</div>"
      ],
      "text/plain": [
       "      NRHPNT     CODEKOPPNT     VHAS                    geometry_x  \\\n",
       "0  6025960.0  24195613725_1  6033745  POINT (49632.228 215175.512)   \n",
       "1  6028829.0      7165620_1  6002399  POINT (63142.598 172228.907)   \n",
       "\n",
       "                                          geometry_y  \\\n",
       "0  LINESTRING (49842.161 215096.866, 49720.629 21...   \n",
       "1  LINESTRING (64485.050 172900.574, 64483.883 17...   \n",
       "\n",
       "                     new_points  \n",
       "0  POINT (49720.629 215107.628)  \n",
       "1  POINT (63142.133 172229.301)  "
      ]
     },
     "execution_count": 26,
     "metadata": {},
     "output_type": "execute_result"
    }
   ],
   "source": [
    "print(sewer_water_df.shape)\n",
    "sewer_water_df.head(2)"
   ]
  },
  {
   "cell_type": "code",
   "execution_count": 27,
   "metadata": {},
   "outputs": [
    {
     "data": {
      "text/html": [
       "<div>\n",
       "<style scoped>\n",
       "    .dataframe tbody tr th:only-of-type {\n",
       "        vertical-align: middle;\n",
       "    }\n",
       "\n",
       "    .dataframe tbody tr th {\n",
       "        vertical-align: top;\n",
       "    }\n",
       "\n",
       "    .dataframe thead th {\n",
       "        text-align: right;\n",
       "    }\n",
       "</style>\n",
       "<table border=\"1\" class=\"dataframe\">\n",
       "  <thead>\n",
       "    <tr style=\"text-align: right;\">\n",
       "      <th></th>\n",
       "      <th>NRHPNT</th>\n",
       "      <th>CODEKOPPNT</th>\n",
       "      <th>VHAS</th>\n",
       "      <th>geometry</th>\n",
       "    </tr>\n",
       "  </thead>\n",
       "  <tbody>\n",
       "    <tr>\n",
       "      <th>0</th>\n",
       "      <td>6025960.0</td>\n",
       "      <td>24195613725_1</td>\n",
       "      <td>6033745</td>\n",
       "      <td>POINT (49720.629 215107.628)</td>\n",
       "    </tr>\n",
       "    <tr>\n",
       "      <th>1</th>\n",
       "      <td>6028829.0</td>\n",
       "      <td>7165620_1</td>\n",
       "      <td>6002399</td>\n",
       "      <td>POINT (63142.133 172229.301)</td>\n",
       "    </tr>\n",
       "  </tbody>\n",
       "</table>\n",
       "</div>"
      ],
      "text/plain": [
       "      NRHPNT     CODEKOPPNT     VHAS                      geometry\n",
       "0  6025960.0  24195613725_1  6033745  POINT (49720.629 215107.628)\n",
       "1  6028829.0      7165620_1  6002399  POINT (63142.133 172229.301)"
      ]
     },
     "execution_count": 27,
     "metadata": {},
     "output_type": "execute_result"
    }
   ],
   "source": [
    "connection_nodes_gdf.head(2)"
   ]
  },
  {
   "cell_type": "code",
   "execution_count": 28,
   "metadata": {},
   "outputs": [],
   "source": [
    "# nodes_gdf_upload = nodes_gdf.drop(columns=['coords'])\n",
    "# connection_nodes_gdf.to_file(r\"data_transform\\\\vl_connection_nodes_PROCESSED.shp\")"
   ]
  },
  {
   "cell_type": "code",
   "execution_count": 29,
   "metadata": {},
   "outputs": [],
   "source": [
    "#![4.connection_nodes.PNG](attachment:4.connection_nodes.PNG)"
   ]
  },
  {
   "cell_type": "markdown",
   "metadata": {},
   "source": [
    "## 2.4 Join the sewer network to the water network\n",
    "\n",
    "This is done by transforming the linestring and point geometries into coordinates, and using these coordinates to identify split points on a water segment, by extracting the coordinates on a linestring that correspond to the connection nodes coordinates."
   ]
  },
  {
   "cell_type": "code",
   "execution_count": 30,
   "metadata": {},
   "outputs": [],
   "source": [
    "def get_point_coords(gdf):\n",
    "\n",
    "    \"\"\"Returns coordinates as tuples of coordinates\"\"\"\n",
    "\n",
    "    return gdf.geometry.apply(lambda geom: (geom.x, geom.y))\n",
    "\n",
    "\n",
    "def get_line_coords(line):\n",
    "\n",
    "    \"\"\"Returns a list of tuples of coordinates\"\"\"\n",
    "\n",
    "    coords_list = []\n",
    "    multi_points = MultiPoint(np.array(line.coords))\n",
    "\n",
    "    multi_points_list = [shapely.wkt.dumps(g) for g in multi_points]\n",
    "    multi_points_geoms = [shapely.wkt.loads(i) for i in multi_points_list]\n",
    "    for i in multi_points_geoms:\n",
    "        long, lat = i.x, i.y\n",
    "        coords_list.append((long, lat))\n",
    "\n",
    "    return coords_list"
   ]
  },
  {
   "cell_type": "code",
   "execution_count": 31,
   "metadata": {},
   "outputs": [
    {
     "name": "stdout",
     "output_type": "stream",
     "text": [
      "(11699, 4)\n"
     ]
    }
   ],
   "source": [
    "# print(connection_nodes_gdf.shape)\n",
    "# print(connection_nodes_gdf.geometry.nunique())\n",
    "nodes_gdf = connection_nodes_gdf.copy()\n",
    "nodes_gdf[\"coords\"] = get_point_coords(nodes_gdf)\n",
    "\n",
    "water_gdf[\"coords\"] = water_gdf.apply(lambda row: get_line_coords(row.geometry), axis=1)\n",
    "print(water_gdf.shape)"
   ]
  },
  {
   "cell_type": "markdown",
   "metadata": {},
   "source": [
    "## 2.5. Split function\n",
    "\n",
    "The split function splits the water segements where the sewer empties into the river. One segment can have several splits. All the split segments, using the unique identifier of the original segment are added onto a split segment dataframe."
   ]
  },
  {
   "cell_type": "code",
   "execution_count": 32,
   "metadata": {},
   "outputs": [],
   "source": [
    "def get_line_segments(l, points_list):\n",
    "\n",
    "    idx_list = [\n",
    "        i for i, item in enumerate(l) if item in points_list\n",
    "    ]  # compares the two lists and returns the indexes of occurence\n",
    "\n",
    "    p = [l[i] for i in idx_list]  # get correct order of points list on the line\n",
    "\n",
    "    super_list = []\n",
    "\n",
    "    start_idx = 0\n",
    "\n",
    "    # print(\"Index list: \", idx_list)\n",
    "    if len(idx_list) == 1 and (\n",
    "        p[0] == l[0] or p[0] == l[-1]\n",
    "    ):  #      (i == 0 or i == len(l)-1) and len(idx_list) == 1:\n",
    "        # print(\"One split point, at first or last index\")\n",
    "        line_segment = LineString(l)\n",
    "        super_list.append(line_segment)\n",
    "\n",
    "    elif len(idx_list) == 2 and (p[0] == l[0] or p[1] == l[-1]):\n",
    "        # print(\"Two split points, at first and last index\")\n",
    "        line_segment = LineString(l)\n",
    "        super_list.append(line_segment)\n",
    "\n",
    "    else:\n",
    "        # import pdb; pdb.set_trace()\n",
    "        for i in idx_list:\n",
    "            # In the case of the first coordinates of a line being a split point but there are other split points\n",
    "            if i == 0 and len(idx_list) > 1:\n",
    "                index_list = len(idx_list)\n",
    "                # print(f\"First index is a split point, with {index_list} split points\")\n",
    "                continue\n",
    "\n",
    "            else:\n",
    "                # print(\"Many split points\")\n",
    "                stop_idx = i + 1  # grab list elements until index i\n",
    "                # print(f\"stop index is {stop_idx}\")\n",
    "                line_list = l[start_idx:stop_idx]\n",
    "                line_segment = LineString(line_list)\n",
    "                super_list.append(line_segment)\n",
    "                start_idx = (\n",
    "                    i  # reset the start index to the number of the prevous stop index\n",
    "                )\n",
    "\n",
    "                # super list still has one more segment to add\n",
    "                if len(super_list) == len(idx_list):\n",
    "                    last_segment = l[stop_idx - 1 : len(l)]\n",
    "                    if stop_idx == len(l):\n",
    "                        # print(\"Split point at end of list\") # stop index goes beyond the line list\n",
    "                        break\n",
    "                    # n = len(l) - len(super_list)\n",
    "                    # last_segment = l[stop_idx-1:len(l)] # Grab the last segments of the list from the prevous stop_idx-1, to the end of the lin len(l)\n",
    "                    else:\n",
    "                        # print(\"Split point at end of list\")\n",
    "                        last_segment_geom = LineString(last_segment)\n",
    "                        super_list.append(last_segment_geom)\n",
    "    return super_list\n",
    "\n",
    "\n",
    "# pass a dataframe to the function\n",
    "def split_lines(water_gdf, nodes_gdf, unique_id):\n",
    "\n",
    "    water_no_duplicates = water_gdf.drop_duplicates(subset=unique_id)\n",
    "\n",
    "    groups = nodes_gdf.groupby(unique_id)\n",
    "\n",
    "    codes_list = nodes_gdf[unique_id].to_list()\n",
    "    \n",
    "    unique_code_list = list(set(codes_list))\n",
    "\n",
    "    all_segments = []\n",
    "    ids = []\n",
    "    # counter = 0\n",
    "\n",
    "    for num, i in enumerate(unique_code_list):\n",
    "        points_list = groups.get_group(i).coords.to_list()\n",
    "        # print(\"Points list: \", points_list)\n",
    "        line = water_no_duplicates[water_no_duplicates[unique_id] == i][\"coords\"][:1]\n",
    "        # indx = water_no_duplicates[water_no_duplicates[unique_id] == i].index [0]\n",
    "        points_list = groups.get_group(i).coords.to_list()\n",
    "\n",
    "        line_segments = get_line_segments(*line, points_list)\n",
    "        \n",
    "        num_segments = len(line_segments)\n",
    "\n",
    "        all_segments.extend(line_segments)\n",
    "        # ids.append(indx)\n",
    "        num_unique_ids = [i] * num_segments\n",
    "        # assert len(flat_list) == len(water_no_duplicates)\n",
    "        ids.extend(num_unique_ids)\n",
    "\n",
    "    gdf_segments = gpd.GeoDataFrame(\n",
    "        list(range(len(all_segments))), geometry=all_segments, crs=PROJ_CRS\n",
    "    )\n",
    "    gdf_segments.columns = [\"index\", \"geometry\"]\n",
    "    gdf_segments[unique_id] = ids\n",
    "    gdf_segments = gdf_segments.set_index(\"index\")\n",
    "    return gdf_segments"
   ]
  },
  {
   "cell_type": "code",
   "execution_count": 33,
   "metadata": {},
   "outputs": [
    {
     "name": "stdout",
     "output_type": "stream",
     "text": [
      "(15067, 2)\n",
      "EPSG:31370\n",
      "Time taken: 21.446630001068115\n",
      "********************************************************\n"
     ]
    }
   ],
   "source": [
    "import time\n",
    "\n",
    "initialTime = time.time()\n",
    "splitlines_df = split_lines(water_gdf, nodes_gdf, \"VHAS\")\n",
    "finishTime = time.time()\n",
    "# print(ids)\n",
    "print(splitlines_df.shape)\n",
    "print(splitlines_df.crs)\n",
    "print(f\"Time taken: {finishTime - initialTime}\")\n",
    "print(\"********************************************************\")"
   ]
  },
  {
   "cell_type": "code",
   "execution_count": 34,
   "metadata": {},
   "outputs": [
    {
     "data": {
      "text/html": [
       "<div>\n",
       "<style scoped>\n",
       "    .dataframe tbody tr th:only-of-type {\n",
       "        vertical-align: middle;\n",
       "    }\n",
       "\n",
       "    .dataframe tbody tr th {\n",
       "        vertical-align: top;\n",
       "    }\n",
       "\n",
       "    .dataframe thead th {\n",
       "        text-align: right;\n",
       "    }\n",
       "</style>\n",
       "<table border=\"1\" class=\"dataframe\">\n",
       "  <thead>\n",
       "    <tr style=\"text-align: right;\">\n",
       "      <th></th>\n",
       "      <th>geometry</th>\n",
       "      <th>VHAS</th>\n",
       "    </tr>\n",
       "    <tr>\n",
       "      <th>index</th>\n",
       "      <th></th>\n",
       "      <th></th>\n",
       "    </tr>\n",
       "  </thead>\n",
       "  <tbody>\n",
       "    <tr>\n",
       "      <th>0</th>\n",
       "      <td>LINESTRING (138979.165 172375.119, 138977.345 ...</td>\n",
       "      <td>32768</td>\n",
       "    </tr>\n",
       "    <tr>\n",
       "      <th>1</th>\n",
       "      <td>LINESTRING (138977.309 172382.827, 138977.282 ...</td>\n",
       "      <td>32768</td>\n",
       "    </tr>\n",
       "    <tr>\n",
       "      <th>2</th>\n",
       "      <td>LINESTRING (139426.094 170006.797, 139438.876 ...</td>\n",
       "      <td>32776</td>\n",
       "    </tr>\n",
       "    <tr>\n",
       "      <th>3</th>\n",
       "      <td>LINESTRING (139710.263 170419.798, 139711.638 ...</td>\n",
       "      <td>32776</td>\n",
       "    </tr>\n",
       "    <tr>\n",
       "      <th>4</th>\n",
       "      <td>LINESTRING (138841.797 171003.798, 138847.552 ...</td>\n",
       "      <td>32784</td>\n",
       "    </tr>\n",
       "  </tbody>\n",
       "</table>\n",
       "</div>"
      ],
      "text/plain": [
       "                                                geometry   VHAS\n",
       "index                                                          \n",
       "0      LINESTRING (138979.165 172375.119, 138977.345 ...  32768\n",
       "1      LINESTRING (138977.309 172382.827, 138977.282 ...  32768\n",
       "2      LINESTRING (139426.094 170006.797, 139438.876 ...  32776\n",
       "3      LINESTRING (139710.263 170419.798, 139711.638 ...  32776\n",
       "4      LINESTRING (138841.797 171003.798, 138847.552 ...  32784"
      ]
     },
     "execution_count": 34,
     "metadata": {},
     "output_type": "execute_result"
    }
   ],
   "source": [
    "splitlines_df.head()"
   ]
  },
  {
   "cell_type": "code",
   "execution_count": 35,
   "metadata": {},
   "outputs": [],
   "source": [
    "#![5.split_segments2.PNG](attachment:5.split_segments2.PNG)"
   ]
  },
  {
   "cell_type": "code",
   "execution_count": 36,
   "metadata": {},
   "outputs": [],
   "source": [
    "# splitlines_df_upload.to_file(r\"data_transform\\vl_water_segments_PROCESSED.shp\")"
   ]
  },
  {
   "cell_type": "markdown",
   "metadata": {},
   "source": [
    "# 3. Creating new network"
   ]
  },
  {
   "cell_type": "markdown",
   "metadata": {},
   "source": [
    "## 3.1 Water Nodes"
   ]
  },
  {
   "cell_type": "markdown",
   "metadata": {},
   "source": [
    "###  3.1.1. Final water nodes\n",
    "\n",
    "Merge the original water nodes to the new water nodes which are the split points used in the previous operation. These nodes will be added back to the final water edges"
   ]
  },
  {
   "cell_type": "code",
   "execution_count": 66,
   "metadata": {},
   "outputs": [],
   "source": [
    "water_nodes_df[\"source\"] = \"water_node\"\n",
    "\n",
    "connection_nodes = (\n",
    "    connection_nodes_gdf[[\"CODEKOPPNT\", \"geometry\"]]\n",
    "    .rename(columns={\"CODEKOPPNT\": \"node_id\"})\n",
    "    .assign(source=\"connection_node\")\n",
    ")\n",
    "\n",
    "final_nodes_combined = (\n",
    "    pd.concat([water_nodes_df, connection_nodes])\n",
    "    .drop_duplicates(subset=\"geometry\", keep=\"first\")\n",
    "    .reset_index(drop=True)\n",
    ")"
   ]
  },
  {
   "cell_type": "code",
   "execution_count": 67,
   "metadata": {},
   "outputs": [
    {
     "data": {
      "text/html": [
       "<div>\n",
       "<style scoped>\n",
       "    .dataframe tbody tr th:only-of-type {\n",
       "        vertical-align: middle;\n",
       "    }\n",
       "\n",
       "    .dataframe tbody tr th {\n",
       "        vertical-align: top;\n",
       "    }\n",
       "\n",
       "    .dataframe thead th {\n",
       "        text-align: right;\n",
       "    }\n",
       "</style>\n",
       "<table border=\"1\" class=\"dataframe\">\n",
       "  <thead>\n",
       "    <tr style=\"text-align: right;\">\n",
       "      <th></th>\n",
       "      <th>geometry</th>\n",
       "      <th>node_id</th>\n",
       "      <th>source</th>\n",
       "    </tr>\n",
       "  </thead>\n",
       "  <tbody>\n",
       "    <tr>\n",
       "      <th>0</th>\n",
       "      <td>POINT (177317.033 187108.927)</td>\n",
       "      <td>VL1</td>\n",
       "      <td>water_node</td>\n",
       "    </tr>\n",
       "    <tr>\n",
       "      <th>1</th>\n",
       "      <td>POINT (175948.922 187590.860)</td>\n",
       "      <td>VL2</td>\n",
       "      <td>water_node</td>\n",
       "    </tr>\n",
       "    <tr>\n",
       "      <th>2</th>\n",
       "      <td>POINT (168312.751 188947.734)</td>\n",
       "      <td>VL3</td>\n",
       "      <td>water_node</td>\n",
       "    </tr>\n",
       "    <tr>\n",
       "      <th>3</th>\n",
       "      <td>POINT (190287.875 162834.403)</td>\n",
       "      <td>VL4</td>\n",
       "      <td>water_node</td>\n",
       "    </tr>\n",
       "    <tr>\n",
       "      <th>4</th>\n",
       "      <td>POINT (177620.500 182754.219)</td>\n",
       "      <td>VL5</td>\n",
       "      <td>water_node</td>\n",
       "    </tr>\n",
       "    <tr>\n",
       "      <th>...</th>\n",
       "      <td>...</td>\n",
       "      <td>...</td>\n",
       "      <td>...</td>\n",
       "    </tr>\n",
       "    <tr>\n",
       "      <th>69755</th>\n",
       "      <td>POINT (221539.327 180803.419)</td>\n",
       "      <td>6002935_1</td>\n",
       "      <td>connection_node</td>\n",
       "    </tr>\n",
       "    <tr>\n",
       "      <th>69756</th>\n",
       "      <td>POINT (218308.622 189506.152)</td>\n",
       "      <td>7184778_1</td>\n",
       "      <td>connection_node</td>\n",
       "    </tr>\n",
       "    <tr>\n",
       "      <th>69757</th>\n",
       "      <td>POINT (224393.703 184071.719)</td>\n",
       "      <td>7177561_1</td>\n",
       "      <td>connection_node</td>\n",
       "    </tr>\n",
       "    <tr>\n",
       "      <th>69758</th>\n",
       "      <td>POINT (217762.589 183421.889)</td>\n",
       "      <td>6003589_1</td>\n",
       "      <td>connection_node</td>\n",
       "    </tr>\n",
       "    <tr>\n",
       "      <th>69759</th>\n",
       "      <td>POINT (212127.060 199159.382)</td>\n",
       "      <td>7169137_1</td>\n",
       "      <td>connection_node</td>\n",
       "    </tr>\n",
       "  </tbody>\n",
       "</table>\n",
       "<p>69760 rows × 3 columns</p>\n",
       "</div>"
      ],
      "text/plain": [
       "                            geometry    node_id           source\n",
       "0      POINT (177317.033 187108.927)        VL1       water_node\n",
       "1      POINT (175948.922 187590.860)        VL2       water_node\n",
       "2      POINT (168312.751 188947.734)        VL3       water_node\n",
       "3      POINT (190287.875 162834.403)        VL4       water_node\n",
       "4      POINT (177620.500 182754.219)        VL5       water_node\n",
       "...                              ...        ...              ...\n",
       "69755  POINT (221539.327 180803.419)  6002935_1  connection_node\n",
       "69756  POINT (218308.622 189506.152)  7184778_1  connection_node\n",
       "69757  POINT (224393.703 184071.719)  7177561_1  connection_node\n",
       "69758  POINT (217762.589 183421.889)  6003589_1  connection_node\n",
       "69759  POINT (212127.060 199159.382)  7169137_1  connection_node\n",
       "\n",
       "[69760 rows x 3 columns]"
      ]
     },
     "execution_count": 67,
     "metadata": {},
     "output_type": "execute_result"
    }
   ],
   "source": [
    "final_nodes_combined"
   ]
  },
  {
   "cell_type": "markdown",
   "metadata": {},
   "source": [
    "### 3.1.2. Final node ids\n",
    "\n",
    "The original water nodes have sequentially generated ids. After these are merged to the connection nodes, new ids for the connection nodes are generated sequentially also. A column called sewernode_id is retained to indicate the water nodes that have a corresponding sewer node in the dataset."
   ]
  },
  {
   "cell_type": "code",
   "execution_count": 40,
   "metadata": {},
   "outputs": [],
   "source": [
    "def add_sewernode_id(row):\n",
    "    if row[\"source\"] == \"connection_node\":\n",
    "        return row[\"node_id\"]\n",
    "    else:\n",
    "        return None\n",
    "\n",
    "\n",
    "def get_water_nodes(df, prefix):\n",
    "    df[\"sewernode_id\"] = df.apply(add_sewernode_id, axis=1)\n",
    "\n",
    "    conn_df = df[df[\"source\"] == \"connection_node\"]\n",
    "    water_nodes = df.loc[df[\"source\"] == \"water_node\"]\n",
    "\n",
    "    nodes_list = water_nodes[\"node_id\"].to_list()\n",
    "    start_num = max([int(i[2:]) for i in nodes_list])\n",
    "\n",
    "    diff = len(df.index) - len(water_nodes_df.index)\n",
    "\n",
    "    conn_df[\"node_id\"] = range((start_num + 1), (start_num + diff + 1))\n",
    "    conn_df[\"node_id\"] = prefix + conn_df[\"node_id\"].astype(str)\n",
    "\n",
    "    nodes_all = pd.concat([water_nodes, conn_df])\n",
    "    nodes_all_gdf = gpd.GeoDataFrame(nodes_all, geometry=\"geometry\", crs=PROJ_CRS)\n",
    "\n",
    "    return nodes_all_gdf"
   ]
  },
  {
   "cell_type": "code",
   "execution_count": 41,
   "metadata": {},
   "outputs": [],
   "source": [
    "waternodes = get_water_nodes(final_nodes_combined, \"VL\")"
   ]
  },
  {
   "cell_type": "code",
   "execution_count": 42,
   "metadata": {},
   "outputs": [
    {
     "data": {
      "text/html": [
       "<div>\n",
       "<style scoped>\n",
       "    .dataframe tbody tr th:only-of-type {\n",
       "        vertical-align: middle;\n",
       "    }\n",
       "\n",
       "    .dataframe tbody tr th {\n",
       "        vertical-align: top;\n",
       "    }\n",
       "\n",
       "    .dataframe thead th {\n",
       "        text-align: right;\n",
       "    }\n",
       "</style>\n",
       "<table border=\"1\" class=\"dataframe\">\n",
       "  <thead>\n",
       "    <tr style=\"text-align: right;\">\n",
       "      <th></th>\n",
       "      <th>geometry</th>\n",
       "      <th>node_id</th>\n",
       "      <th>source</th>\n",
       "      <th>sewernode_id</th>\n",
       "    </tr>\n",
       "  </thead>\n",
       "  <tbody>\n",
       "    <tr>\n",
       "      <th>0</th>\n",
       "      <td>POINT (177317.033 187108.927)</td>\n",
       "      <td>VL1</td>\n",
       "      <td>water_node</td>\n",
       "      <td>None</td>\n",
       "    </tr>\n",
       "    <tr>\n",
       "      <th>1</th>\n",
       "      <td>POINT (175948.922 187590.860)</td>\n",
       "      <td>VL2</td>\n",
       "      <td>water_node</td>\n",
       "      <td>None</td>\n",
       "    </tr>\n",
       "    <tr>\n",
       "      <th>2</th>\n",
       "      <td>POINT (168312.751 188947.734)</td>\n",
       "      <td>VL3</td>\n",
       "      <td>water_node</td>\n",
       "      <td>None</td>\n",
       "    </tr>\n",
       "    <tr>\n",
       "      <th>3</th>\n",
       "      <td>POINT (190287.875 162834.403)</td>\n",
       "      <td>VL4</td>\n",
       "      <td>water_node</td>\n",
       "      <td>None</td>\n",
       "    </tr>\n",
       "    <tr>\n",
       "      <th>4</th>\n",
       "      <td>POINT (177620.500 182754.219)</td>\n",
       "      <td>VL5</td>\n",
       "      <td>water_node</td>\n",
       "      <td>None</td>\n",
       "    </tr>\n",
       "    <tr>\n",
       "      <th>...</th>\n",
       "      <td>...</td>\n",
       "      <td>...</td>\n",
       "      <td>...</td>\n",
       "      <td>...</td>\n",
       "    </tr>\n",
       "    <tr>\n",
       "      <th>69755</th>\n",
       "      <td>POINT (221539.327 180803.419)</td>\n",
       "      <td>VL69756</td>\n",
       "      <td>connection_node</td>\n",
       "      <td>6002935_1</td>\n",
       "    </tr>\n",
       "    <tr>\n",
       "      <th>69756</th>\n",
       "      <td>POINT (218308.622 189506.152)</td>\n",
       "      <td>VL69757</td>\n",
       "      <td>connection_node</td>\n",
       "      <td>7184778_1</td>\n",
       "    </tr>\n",
       "    <tr>\n",
       "      <th>69757</th>\n",
       "      <td>POINT (224393.703 184071.719)</td>\n",
       "      <td>VL69758</td>\n",
       "      <td>connection_node</td>\n",
       "      <td>7177561_1</td>\n",
       "    </tr>\n",
       "    <tr>\n",
       "      <th>69758</th>\n",
       "      <td>POINT (217762.589 183421.889)</td>\n",
       "      <td>VL69759</td>\n",
       "      <td>connection_node</td>\n",
       "      <td>6003589_1</td>\n",
       "    </tr>\n",
       "    <tr>\n",
       "      <th>69759</th>\n",
       "      <td>POINT (212127.060 199159.382)</td>\n",
       "      <td>VL69760</td>\n",
       "      <td>connection_node</td>\n",
       "      <td>7169137_1</td>\n",
       "    </tr>\n",
       "  </tbody>\n",
       "</table>\n",
       "<p>69760 rows × 4 columns</p>\n",
       "</div>"
      ],
      "text/plain": [
       "                            geometry  node_id           source sewernode_id\n",
       "0      POINT (177317.033 187108.927)      VL1       water_node         None\n",
       "1      POINT (175948.922 187590.860)      VL2       water_node         None\n",
       "2      POINT (168312.751 188947.734)      VL3       water_node         None\n",
       "3      POINT (190287.875 162834.403)      VL4       water_node         None\n",
       "4      POINT (177620.500 182754.219)      VL5       water_node         None\n",
       "...                              ...      ...              ...          ...\n",
       "69755  POINT (221539.327 180803.419)  VL69756  connection_node    6002935_1\n",
       "69756  POINT (218308.622 189506.152)  VL69757  connection_node    7184778_1\n",
       "69757  POINT (224393.703 184071.719)  VL69758  connection_node    7177561_1\n",
       "69758  POINT (217762.589 183421.889)  VL69759  connection_node    6003589_1\n",
       "69759  POINT (212127.060 199159.382)  VL69760  connection_node    7169137_1\n",
       "\n",
       "[69760 rows x 4 columns]"
      ]
     },
     "execution_count": 42,
     "metadata": {},
     "output_type": "execute_result"
    }
   ],
   "source": [
    "waternodes"
   ]
  },
  {
   "cell_type": "markdown",
   "metadata": {},
   "source": [
    "### 3.1.3. Added properties\n",
    "\n",
    "To get the final water nodes for a tracing water network, add various sewer node properties to the water nodes."
   ]
  },
  {
   "cell_type": "code",
   "execution_count": 68,
   "metadata": {},
   "outputs": [],
   "source": [
    "waternodes_final = (\n",
    "    waternodes.merge(\n",
    "        merged_sewer_nodes[[\"STATUS\", \"LBLTYPE\", \"NRKPNT\"]],\n",
    "        left_on=\"sewernode_id\",\n",
    "        right_on=\"NRKPNT\",\n",
    "        how=\"left\",\n",
    "    )\n",
    "    .drop_duplicates(subset=\"geometry\", keep=\"first\")\n",
    "    .reset_index(drop=True)\n",
    ")"
   ]
  },
  {
   "cell_type": "code",
   "execution_count": 69,
   "metadata": {},
   "outputs": [
    {
     "data": {
      "text/html": [
       "<div>\n",
       "<style scoped>\n",
       "    .dataframe tbody tr th:only-of-type {\n",
       "        vertical-align: middle;\n",
       "    }\n",
       "\n",
       "    .dataframe tbody tr th {\n",
       "        vertical-align: top;\n",
       "    }\n",
       "\n",
       "    .dataframe thead th {\n",
       "        text-align: right;\n",
       "    }\n",
       "</style>\n",
       "<table border=\"1\" class=\"dataframe\">\n",
       "  <thead>\n",
       "    <tr style=\"text-align: right;\">\n",
       "      <th></th>\n",
       "      <th>geometry</th>\n",
       "      <th>node_id</th>\n",
       "      <th>source</th>\n",
       "      <th>sewernode_id</th>\n",
       "      <th>STATUS</th>\n",
       "      <th>LBLTYPE</th>\n",
       "      <th>NRKPNT</th>\n",
       "    </tr>\n",
       "  </thead>\n",
       "  <tbody>\n",
       "    <tr>\n",
       "      <th>0</th>\n",
       "      <td>POINT (177317.033 187108.927)</td>\n",
       "      <td>VL1</td>\n",
       "      <td>water_node</td>\n",
       "      <td>None</td>\n",
       "      <td>NaN</td>\n",
       "      <td>NaN</td>\n",
       "      <td>NaN</td>\n",
       "    </tr>\n",
       "    <tr>\n",
       "      <th>1</th>\n",
       "      <td>POINT (175948.922 187590.860)</td>\n",
       "      <td>VL2</td>\n",
       "      <td>water_node</td>\n",
       "      <td>None</td>\n",
       "      <td>NaN</td>\n",
       "      <td>NaN</td>\n",
       "      <td>NaN</td>\n",
       "    </tr>\n",
       "    <tr>\n",
       "      <th>2</th>\n",
       "      <td>POINT (168312.751 188947.734)</td>\n",
       "      <td>VL3</td>\n",
       "      <td>water_node</td>\n",
       "      <td>None</td>\n",
       "      <td>NaN</td>\n",
       "      <td>NaN</td>\n",
       "      <td>NaN</td>\n",
       "    </tr>\n",
       "    <tr>\n",
       "      <th>3</th>\n",
       "      <td>POINT (190287.875 162834.403)</td>\n",
       "      <td>VL4</td>\n",
       "      <td>water_node</td>\n",
       "      <td>None</td>\n",
       "      <td>NaN</td>\n",
       "      <td>NaN</td>\n",
       "      <td>NaN</td>\n",
       "    </tr>\n",
       "    <tr>\n",
       "      <th>4</th>\n",
       "      <td>POINT (177620.500 182754.219)</td>\n",
       "      <td>VL5</td>\n",
       "      <td>water_node</td>\n",
       "      <td>None</td>\n",
       "      <td>NaN</td>\n",
       "      <td>NaN</td>\n",
       "      <td>NaN</td>\n",
       "    </tr>\n",
       "    <tr>\n",
       "      <th>...</th>\n",
       "      <td>...</td>\n",
       "      <td>...</td>\n",
       "      <td>...</td>\n",
       "      <td>...</td>\n",
       "      <td>...</td>\n",
       "      <td>...</td>\n",
       "      <td>...</td>\n",
       "    </tr>\n",
       "    <tr>\n",
       "      <th>69755</th>\n",
       "      <td>POINT (221539.327 180803.419)</td>\n",
       "      <td>VL69756</td>\n",
       "      <td>connection_node</td>\n",
       "      <td>6002935_1</td>\n",
       "      <td>Actief</td>\n",
       "      <td>Uitlaat</td>\n",
       "      <td>6002935_1</td>\n",
       "    </tr>\n",
       "    <tr>\n",
       "      <th>69756</th>\n",
       "      <td>POINT (218308.622 189506.152)</td>\n",
       "      <td>VL69757</td>\n",
       "      <td>connection_node</td>\n",
       "      <td>7184778_1</td>\n",
       "      <td>Gepland</td>\n",
       "      <td>Uitlaat</td>\n",
       "      <td>7184778_1</td>\n",
       "    </tr>\n",
       "    <tr>\n",
       "      <th>69757</th>\n",
       "      <td>POINT (224393.703 184071.719)</td>\n",
       "      <td>VL69758</td>\n",
       "      <td>connection_node</td>\n",
       "      <td>7177561_1</td>\n",
       "      <td>Actief</td>\n",
       "      <td>Uitlaat</td>\n",
       "      <td>7177561_1</td>\n",
       "    </tr>\n",
       "    <tr>\n",
       "      <th>69758</th>\n",
       "      <td>POINT (217762.589 183421.889)</td>\n",
       "      <td>VL69759</td>\n",
       "      <td>connection_node</td>\n",
       "      <td>6003589_1</td>\n",
       "      <td>Actief</td>\n",
       "      <td>Uitlaat</td>\n",
       "      <td>6003589_1</td>\n",
       "    </tr>\n",
       "    <tr>\n",
       "      <th>69759</th>\n",
       "      <td>POINT (212127.060 199159.382)</td>\n",
       "      <td>VL69760</td>\n",
       "      <td>connection_node</td>\n",
       "      <td>7169137_1</td>\n",
       "      <td>Actief</td>\n",
       "      <td>Uitlaat</td>\n",
       "      <td>7169137_1</td>\n",
       "    </tr>\n",
       "  </tbody>\n",
       "</table>\n",
       "<p>69760 rows × 7 columns</p>\n",
       "</div>"
      ],
      "text/plain": [
       "                            geometry  node_id           source sewernode_id  \\\n",
       "0      POINT (177317.033 187108.927)      VL1       water_node         None   \n",
       "1      POINT (175948.922 187590.860)      VL2       water_node         None   \n",
       "2      POINT (168312.751 188947.734)      VL3       water_node         None   \n",
       "3      POINT (190287.875 162834.403)      VL4       water_node         None   \n",
       "4      POINT (177620.500 182754.219)      VL5       water_node         None   \n",
       "...                              ...      ...              ...          ...   \n",
       "69755  POINT (221539.327 180803.419)  VL69756  connection_node    6002935_1   \n",
       "69756  POINT (218308.622 189506.152)  VL69757  connection_node    7184778_1   \n",
       "69757  POINT (224393.703 184071.719)  VL69758  connection_node    7177561_1   \n",
       "69758  POINT (217762.589 183421.889)  VL69759  connection_node    6003589_1   \n",
       "69759  POINT (212127.060 199159.382)  VL69760  connection_node    7169137_1   \n",
       "\n",
       "        STATUS  LBLTYPE     NRKPNT  \n",
       "0          NaN      NaN        NaN  \n",
       "1          NaN      NaN        NaN  \n",
       "2          NaN      NaN        NaN  \n",
       "3          NaN      NaN        NaN  \n",
       "4          NaN      NaN        NaN  \n",
       "...        ...      ...        ...  \n",
       "69755   Actief  Uitlaat  6002935_1  \n",
       "69756  Gepland  Uitlaat  7184778_1  \n",
       "69757   Actief  Uitlaat  7177561_1  \n",
       "69758   Actief  Uitlaat  6003589_1  \n",
       "69759   Actief  Uitlaat  7169137_1  \n",
       "\n",
       "[69760 rows x 7 columns]"
      ]
     },
     "execution_count": 69,
     "metadata": {},
     "output_type": "execute_result"
    }
   ],
   "source": [
    "waternodes_final"
   ]
  },
  {
   "cell_type": "code",
   "execution_count": 45,
   "metadata": {},
   "outputs": [],
   "source": [
    "# with pd.option_context('display.max_rows', None, 'display.max_columns', None):  # more options can be specified also\n",
    "#    print(merged_nodes)\n",
    "\n",
    "# merged_nodes.to_file(r\"data_transform\\vl_nodes_combined_V02.shp\")\n",
    "#merged_nodes.to_file(config.data_dest / \"vl_nodes_combined_V02.shp\")"
   ]
  },
  {
   "cell_type": "markdown",
   "metadata": {},
   "source": [
    "## 3.2. Water Edges"
   ]
  },
  {
   "cell_type": "markdown",
   "metadata": {},
   "source": [
    "### 3.2.1. Add nodes to water segments\n",
    "\n"
   ]
  },
  {
   "cell_type": "code",
   "execution_count": 46,
   "metadata": {},
   "outputs": [],
   "source": [
    "def line_segments_start_end_ids(splitlines_df, all_nodes_gdf, node_id, PROJ_CRS):\n",
    "    \"\"\"Returns the start and end ids of the line segments for a given node id\"\"\"\n",
    "    splitlines_df[\"coords\"] = splitlines_df.apply(\n",
    "        lambda row: get_line_coords(row.geometry), axis=1\n",
    "    )  \n",
    "    all_nodes_gdf[\"coords\"] = get_point_coords(all_nodes_gdf)\n",
    "    # join linestrings to the nearest node, in this case the node attached to the line\n",
    "    joined_lines_nodes = gpd.sjoin_nearest(\n",
    "        splitlines_df, all_nodes_gdf, how=\"left\"\n",
    "    ).reset_index()\n",
    "    # identify the nodes that corresponding to the line start and end points\n",
    "    idx_start = []\n",
    "    start_id = []\n",
    "    idx_end = []\n",
    "    end_id = []\n",
    "\n",
    "    for idx, row in joined_lines_nodes.iterrows():\n",
    "        if row.coords_right == row.coords_left[0]:\n",
    "            idx_start.append(row[\"index\"])\n",
    "            start_id.append(row[node_id])\n",
    "        elif row.coords_right == row.coords_left[-1]:\n",
    "            idx_end.append(row[\"index\"])\n",
    "            end_id.append(row[node_id])\n",
    "\n",
    "    start_id_df = (\n",
    "        pd.DataFrame({\"line_index\": idx_start, f\"start_{node_id}\": start_id})\n",
    "        .merge(\n",
    "            joined_lines_nodes[[\"index\", node_id, \"VHAS\", \"geometry\"]],\n",
    "            left_on=\"line_index\",\n",
    "            right_on=\"index\",\n",
    "            how=\"left\",\n",
    "        )\n",
    "        .drop_duplicates(\"geometry\")\n",
    "    )\n",
    "\n",
    "    end_id_df = (\n",
    "        pd.DataFrame({\"line_index\": idx_end, f\"end_{node_id}\": end_id})\n",
    "        .merge(\n",
    "            joined_lines_nodes[[\"index\", node_id, \"VHAS\", \"geometry\"]],\n",
    "            left_on=\"line_index\",\n",
    "            right_on=\"index\",\n",
    "            how=\"left\",\n",
    "        )\n",
    "        .drop_duplicates(\"geometry\")\n",
    "    )\n",
    "\n",
    "    merged_start_end_df = (\n",
    "        pd.merge(start_id_df, end_id_df, on=\"geometry\", how=\"outer\")\n",
    "        .drop(\n",
    "            [\n",
    "                \"line_index_x\",\n",
    "                \"index_x\",\n",
    "                \"node_id_x\",\n",
    "                \"index_y\",\n",
    "                \"line_index_y\",\n",
    "                \"node_id_y\",\n",
    "                \"VHAS_y\",\n",
    "            ],\n",
    "            axis=1,\n",
    "        )\n",
    "        .rename(columns={\"start_node_id\": \"start_ID\", \"end_node_id\": \"end_ID\"})\n",
    "    )\n",
    "\n",
    "    return gpd.GeoDataFrame(merged_start_end_df, geometry=\"geometry\", crs=PROJ_CRS)"
   ]
  },
  {
   "cell_type": "code",
   "execution_count": 48,
   "metadata": {},
   "outputs": [],
   "source": [
    "node_id = \"node_id\"\n",
    "splitlines_with_ids = line_segments_start_end_ids(\n",
    "    splitlines_df, waternodes[[\"geometry\", \"node_id\"]], node_id, PROJ_CRS\n",
    ")"
   ]
  },
  {
   "cell_type": "code",
   "execution_count": 49,
   "metadata": {},
   "outputs": [
    {
     "data": {
      "text/html": [
       "<div>\n",
       "<style scoped>\n",
       "    .dataframe tbody tr th:only-of-type {\n",
       "        vertical-align: middle;\n",
       "    }\n",
       "\n",
       "    .dataframe tbody tr th {\n",
       "        vertical-align: top;\n",
       "    }\n",
       "\n",
       "    .dataframe thead th {\n",
       "        text-align: right;\n",
       "    }\n",
       "</style>\n",
       "<table border=\"1\" class=\"dataframe\">\n",
       "  <thead>\n",
       "    <tr style=\"text-align: right;\">\n",
       "      <th></th>\n",
       "      <th>start_ID</th>\n",
       "      <th>VHAS_x</th>\n",
       "      <th>geometry</th>\n",
       "      <th>end_ID</th>\n",
       "    </tr>\n",
       "  </thead>\n",
       "  <tbody>\n",
       "    <tr>\n",
       "      <th>0</th>\n",
       "      <td>VL55954</td>\n",
       "      <td>32768</td>\n",
       "      <td>LINESTRING (138979.165 172375.119, 138977.345 ...</td>\n",
       "      <td>VL66013</td>\n",
       "    </tr>\n",
       "    <tr>\n",
       "      <th>1</th>\n",
       "      <td>VL66013</td>\n",
       "      <td>32768</td>\n",
       "      <td>LINESTRING (138977.309 172382.827, 138977.282 ...</td>\n",
       "      <td>VL42787</td>\n",
       "    </tr>\n",
       "    <tr>\n",
       "      <th>2</th>\n",
       "      <td>VL579</td>\n",
       "      <td>32776</td>\n",
       "      <td>LINESTRING (139426.094 170006.797, 139438.876 ...</td>\n",
       "      <td>VL67674</td>\n",
       "    </tr>\n",
       "    <tr>\n",
       "      <th>3</th>\n",
       "      <td>VL67674</td>\n",
       "      <td>32776</td>\n",
       "      <td>LINESTRING (139710.263 170419.798, 139711.638 ...</td>\n",
       "      <td>VL580</td>\n",
       "    </tr>\n",
       "    <tr>\n",
       "      <th>4</th>\n",
       "      <td>VL22835</td>\n",
       "      <td>32784</td>\n",
       "      <td>LINESTRING (138841.797 171003.798, 138847.552 ...</td>\n",
       "      <td>VL65514</td>\n",
       "    </tr>\n",
       "  </tbody>\n",
       "</table>\n",
       "</div>"
      ],
      "text/plain": [
       "  start_ID  VHAS_x                                           geometry   end_ID\n",
       "0  VL55954   32768  LINESTRING (138979.165 172375.119, 138977.345 ...  VL66013\n",
       "1  VL66013   32768  LINESTRING (138977.309 172382.827, 138977.282 ...  VL42787\n",
       "2    VL579   32776  LINESTRING (139426.094 170006.797, 139438.876 ...  VL67674\n",
       "3  VL67674   32776  LINESTRING (139710.263 170419.798, 139711.638 ...    VL580\n",
       "4  VL22835   32784  LINESTRING (138841.797 171003.798, 138847.552 ...  VL65514"
      ]
     },
     "execution_count": 49,
     "metadata": {},
     "output_type": "execute_result"
    }
   ],
   "source": [
    "splitlines_with_ids.head()"
   ]
  },
  {
   "cell_type": "markdown",
   "metadata": {},
   "source": [
    "### 3.3.2. Get water segments Unidue Ids\n",
    "\n",
    "The new water segments still retain the original unique ids, meaning some of them share an id. A systematic method to assign new ids is applied, by adding a suffix to the original id, indicating the number of times the original water segment was split. By retaining part of the original id, one can quickly identify if the water segment is a split one or an original one."
   ]
  },
  {
   "cell_type": "code",
   "execution_count": 50,
   "metadata": {},
   "outputs": [],
   "source": [
    "# get unique line segments ids\n",
    "def get_unique_ID(df, col):\n",
    "    \"\"\"Get unique ID for each new split segment in a dataframe\n",
    "    Assert that the number of unique IDs is equal to the number of split segments\n",
    "    \"\"\"\n",
    "    # the new split lines need a new unique uniqueID value\n",
    "    df[\"num_id\"] = df.groupby(col).cumcount() + 1\n",
    "    df[\"new_string_id\"] = df[col].astype(str) + \"_\" + df[\"num_id\"].astype(str)\n",
    "\n",
    "    return df"
   ]
  },
  {
   "cell_type": "code",
   "execution_count": 51,
   "metadata": {},
   "outputs": [],
   "source": [
    "splitlines_vhas = get_unique_ID(splitlines_with_ids, \"VHAS_x\")\n",
    "assert len(splitlines_vhas) == splitlines_vhas.new_string_id.nunique()"
   ]
  },
  {
   "cell_type": "code",
   "execution_count": 52,
   "metadata": {},
   "outputs": [
    {
     "data": {
      "text/html": [
       "<div>\n",
       "<style scoped>\n",
       "    .dataframe tbody tr th:only-of-type {\n",
       "        vertical-align: middle;\n",
       "    }\n",
       "\n",
       "    .dataframe tbody tr th {\n",
       "        vertical-align: top;\n",
       "    }\n",
       "\n",
       "    .dataframe thead th {\n",
       "        text-align: right;\n",
       "    }\n",
       "</style>\n",
       "<table border=\"1\" class=\"dataframe\">\n",
       "  <thead>\n",
       "    <tr style=\"text-align: right;\">\n",
       "      <th></th>\n",
       "      <th>start_ID</th>\n",
       "      <th>VHAS_x</th>\n",
       "      <th>geometry</th>\n",
       "      <th>end_ID</th>\n",
       "      <th>num_id</th>\n",
       "      <th>new_string_id</th>\n",
       "    </tr>\n",
       "  </thead>\n",
       "  <tbody>\n",
       "    <tr>\n",
       "      <th>0</th>\n",
       "      <td>VL55954</td>\n",
       "      <td>32768</td>\n",
       "      <td>LINESTRING (138979.165 172375.119, 138977.345 ...</td>\n",
       "      <td>VL66013</td>\n",
       "      <td>1</td>\n",
       "      <td>32768_1</td>\n",
       "    </tr>\n",
       "    <tr>\n",
       "      <th>1</th>\n",
       "      <td>VL66013</td>\n",
       "      <td>32768</td>\n",
       "      <td>LINESTRING (138977.309 172382.827, 138977.282 ...</td>\n",
       "      <td>VL42787</td>\n",
       "      <td>2</td>\n",
       "      <td>32768_2</td>\n",
       "    </tr>\n",
       "    <tr>\n",
       "      <th>2</th>\n",
       "      <td>VL579</td>\n",
       "      <td>32776</td>\n",
       "      <td>LINESTRING (139426.094 170006.797, 139438.876 ...</td>\n",
       "      <td>VL67674</td>\n",
       "      <td>1</td>\n",
       "      <td>32776_1</td>\n",
       "    </tr>\n",
       "    <tr>\n",
       "      <th>3</th>\n",
       "      <td>VL67674</td>\n",
       "      <td>32776</td>\n",
       "      <td>LINESTRING (139710.263 170419.798, 139711.638 ...</td>\n",
       "      <td>VL580</td>\n",
       "      <td>2</td>\n",
       "      <td>32776_2</td>\n",
       "    </tr>\n",
       "    <tr>\n",
       "      <th>4</th>\n",
       "      <td>VL22835</td>\n",
       "      <td>32784</td>\n",
       "      <td>LINESTRING (138841.797 171003.798, 138847.552 ...</td>\n",
       "      <td>VL65514</td>\n",
       "      <td>1</td>\n",
       "      <td>32784_1</td>\n",
       "    </tr>\n",
       "    <tr>\n",
       "      <th>...</th>\n",
       "      <td>...</td>\n",
       "      <td>...</td>\n",
       "      <td>...</td>\n",
       "      <td>...</td>\n",
       "      <td>...</td>\n",
       "      <td>...</td>\n",
       "    </tr>\n",
       "    <tr>\n",
       "      <th>15062</th>\n",
       "      <td>VL64257</td>\n",
       "      <td>7012201</td>\n",
       "      <td>LINESTRING (70890.328 219736.109, 70895.602 21...</td>\n",
       "      <td>VL56242</td>\n",
       "      <td>4</td>\n",
       "      <td>7012201_4</td>\n",
       "    </tr>\n",
       "    <tr>\n",
       "      <th>15063</th>\n",
       "      <td>VL34678</td>\n",
       "      <td>32672</td>\n",
       "      <td>LINESTRING (138704.147 176812.610, 138688.060 ...</td>\n",
       "      <td>VL29687</td>\n",
       "      <td>1</td>\n",
       "      <td>32672_1</td>\n",
       "    </tr>\n",
       "    <tr>\n",
       "      <th>15064</th>\n",
       "      <td>VL25141</td>\n",
       "      <td>6029276</td>\n",
       "      <td>LINESTRING (161243.920 186896.994, 161230.637 ...</td>\n",
       "      <td>VL66511</td>\n",
       "      <td>1</td>\n",
       "      <td>6029276_1</td>\n",
       "    </tr>\n",
       "    <tr>\n",
       "      <th>15065</th>\n",
       "      <td>VL66511</td>\n",
       "      <td>6029276</td>\n",
       "      <td>LINESTRING (159618.409 188060.371, 159396.076 ...</td>\n",
       "      <td>VL66513</td>\n",
       "      <td>2</td>\n",
       "      <td>6029276_2</td>\n",
       "    </tr>\n",
       "    <tr>\n",
       "      <th>15066</th>\n",
       "      <td>VL66513</td>\n",
       "      <td>6029276</td>\n",
       "      <td>LINESTRING (158901.726 188579.563, 158773.791 ...</td>\n",
       "      <td>VL58121</td>\n",
       "      <td>3</td>\n",
       "      <td>6029276_3</td>\n",
       "    </tr>\n",
       "  </tbody>\n",
       "</table>\n",
       "<p>15067 rows × 6 columns</p>\n",
       "</div>"
      ],
      "text/plain": [
       "      start_ID   VHAS_x                                           geometry  \\\n",
       "0      VL55954    32768  LINESTRING (138979.165 172375.119, 138977.345 ...   \n",
       "1      VL66013    32768  LINESTRING (138977.309 172382.827, 138977.282 ...   \n",
       "2        VL579    32776  LINESTRING (139426.094 170006.797, 139438.876 ...   \n",
       "3      VL67674    32776  LINESTRING (139710.263 170419.798, 139711.638 ...   \n",
       "4      VL22835    32784  LINESTRING (138841.797 171003.798, 138847.552 ...   \n",
       "...        ...      ...                                                ...   \n",
       "15062  VL64257  7012201  LINESTRING (70890.328 219736.109, 70895.602 21...   \n",
       "15063  VL34678    32672  LINESTRING (138704.147 176812.610, 138688.060 ...   \n",
       "15064  VL25141  6029276  LINESTRING (161243.920 186896.994, 161230.637 ...   \n",
       "15065  VL66511  6029276  LINESTRING (159618.409 188060.371, 159396.076 ...   \n",
       "15066  VL66513  6029276  LINESTRING (158901.726 188579.563, 158773.791 ...   \n",
       "\n",
       "        end_ID  num_id new_string_id  \n",
       "0      VL66013       1       32768_1  \n",
       "1      VL42787       2       32768_2  \n",
       "2      VL67674       1       32776_1  \n",
       "3        VL580       2       32776_2  \n",
       "4      VL65514       1       32784_1  \n",
       "...        ...     ...           ...  \n",
       "15062  VL56242       4     7012201_4  \n",
       "15063  VL29687       1       32672_1  \n",
       "15064  VL66511       1     6029276_1  \n",
       "15065  VL66513       2     6029276_2  \n",
       "15066  VL58121       3     6029276_3  \n",
       "\n",
       "[15067 rows x 6 columns]"
      ]
     },
     "execution_count": 52,
     "metadata": {},
     "output_type": "execute_result"
    }
   ],
   "source": [
    "splitlines_vhas"
   ]
  },
  {
   "cell_type": "markdown",
   "metadata": {},
   "source": [
    "### 3.2.3. Getting water properties to water segments\n",
    "\n",
    "Merge the split segments to original water dataframe to get orignal water properties to the split segments before joining them back to the final water dataset"
   ]
  },
  {
   "cell_type": "code",
   "execution_count": 53,
   "metadata": {},
   "outputs": [],
   "source": [
    "splitlines_final = (\n",
    "    splitlines_vhas.merge(water_final, left_on=\"VHAS_x\", right_on=\"VHAS\", how=\"left\")\n",
    "    .drop([\"VHAS_x\", \"VHAS\", \"num_id\", \"start_ID_y\", \"end_ID_y\", \"geometry_y\"], axis=1)\n",
    "    .rename(\n",
    "        columns={\n",
    "            \"new_string_id\": \"VHAS\",\n",
    "            \"start_ID_x\": \"start_ID\",\n",
    "            \"end_ID_x\": \"end_ID\",\n",
    "            \"geometry_x\": \"geometry\",\n",
    "        }\n",
    "    )\n",
    ")"
   ]
  },
  {
   "cell_type": "code",
   "execution_count": 72,
   "metadata": {},
   "outputs": [
    {
     "data": {
      "text/html": [
       "<div>\n",
       "<style scoped>\n",
       "    .dataframe tbody tr th:only-of-type {\n",
       "        vertical-align: middle;\n",
       "    }\n",
       "\n",
       "    .dataframe tbody tr th {\n",
       "        vertical-align: top;\n",
       "    }\n",
       "\n",
       "    .dataframe thead th {\n",
       "        text-align: right;\n",
       "    }\n",
       "</style>\n",
       "<table border=\"1\" class=\"dataframe\">\n",
       "  <thead>\n",
       "    <tr style=\"text-align: right;\">\n",
       "      <th></th>\n",
       "      <th>start_ID</th>\n",
       "      <th>geometry</th>\n",
       "      <th>end_ID</th>\n",
       "      <th>VHAS</th>\n",
       "      <th>OIDN</th>\n",
       "      <th>UIDN</th>\n",
       "      <th>VHAG</th>\n",
       "      <th>NAAM</th>\n",
       "      <th>REGCODE</th>\n",
       "      <th>REGCODE1</th>\n",
       "      <th>...</th>\n",
       "      <th>CATC</th>\n",
       "      <th>LBLCATC</th>\n",
       "      <th>BEKNR</th>\n",
       "      <th>BEKNAAM</th>\n",
       "      <th>STRMGEB</th>\n",
       "      <th>GEO</th>\n",
       "      <th>LBLGEO</th>\n",
       "      <th>VHAZONENR</th>\n",
       "      <th>WTRLICHC</th>\n",
       "      <th>LENGTE</th>\n",
       "    </tr>\n",
       "  </thead>\n",
       "  <tbody>\n",
       "    <tr>\n",
       "      <th>0</th>\n",
       "      <td>VL55954</td>\n",
       "      <td>LINESTRING (138979.165 172375.119, 138977.345 ...</td>\n",
       "      <td>VL66013</td>\n",
       "      <td>32768_1</td>\n",
       "      <td>44659</td>\n",
       "      <td>723201</td>\n",
       "      <td>6200</td>\n",
       "      <td>Zierbeek</td>\n",
       "      <td>B5111</td>\n",
       "      <td>None</td>\n",
       "      <td>...</td>\n",
       "      <td>2</td>\n",
       "      <td>Geklasseerd, tweede categorie</td>\n",
       "      <td>7</td>\n",
       "      <td>Denderbekken</td>\n",
       "      <td>Schelde</td>\n",
       "      <td>2</td>\n",
       "      <td>&lt; 0.25 m</td>\n",
       "      <td>422</td>\n",
       "      <td>213</td>\n",
       "      <td>866.12</td>\n",
       "    </tr>\n",
       "    <tr>\n",
       "      <th>1</th>\n",
       "      <td>VL66013</td>\n",
       "      <td>LINESTRING (138977.309 172382.827, 138977.282 ...</td>\n",
       "      <td>VL42787</td>\n",
       "      <td>32768_2</td>\n",
       "      <td>44659</td>\n",
       "      <td>723201</td>\n",
       "      <td>6200</td>\n",
       "      <td>Zierbeek</td>\n",
       "      <td>B5111</td>\n",
       "      <td>None</td>\n",
       "      <td>...</td>\n",
       "      <td>2</td>\n",
       "      <td>Geklasseerd, tweede categorie</td>\n",
       "      <td>7</td>\n",
       "      <td>Denderbekken</td>\n",
       "      <td>Schelde</td>\n",
       "      <td>2</td>\n",
       "      <td>&lt; 0.25 m</td>\n",
       "      <td>422</td>\n",
       "      <td>213</td>\n",
       "      <td>866.12</td>\n",
       "    </tr>\n",
       "  </tbody>\n",
       "</table>\n",
       "<p>2 rows × 21 columns</p>\n",
       "</div>"
      ],
      "text/plain": [
       "  start_ID                                           geometry   end_ID  \\\n",
       "0  VL55954  LINESTRING (138979.165 172375.119, 138977.345 ...  VL66013   \n",
       "1  VL66013  LINESTRING (138977.309 172382.827, 138977.282 ...  VL42787   \n",
       "\n",
       "      VHAS   OIDN    UIDN  VHAG      NAAM REGCODE REGCODE1  ... CATC  \\\n",
       "0  32768_1  44659  723201  6200  Zierbeek   B5111     None  ...    2   \n",
       "1  32768_2  44659  723201  6200  Zierbeek   B5111     None  ...    2   \n",
       "\n",
       "                         LBLCATC BEKNR       BEKNAAM  STRMGEB GEO    LBLGEO  \\\n",
       "0  Geklasseerd, tweede categorie     7  Denderbekken  Schelde   2  < 0.25 m   \n",
       "1  Geklasseerd, tweede categorie     7  Denderbekken  Schelde   2  < 0.25 m   \n",
       "\n",
       "  VHAZONENR WTRLICHC  LENGTE  \n",
       "0       422      213  866.12  \n",
       "1       422      213  866.12  \n",
       "\n",
       "[2 rows x 21 columns]"
      ]
     },
     "execution_count": 72,
     "metadata": {},
     "output_type": "execute_result"
    }
   ],
   "source": [
    "splitlines_final.head(2)"
   ]
  },
  {
   "cell_type": "code",
   "execution_count": 54,
   "metadata": {},
   "outputs": [],
   "source": [
    "# splitlines_final = splitlines_merged.drop(['VHAS_x', 'VHAS', 'num_id', 'start_ID_y', 'end_ID_y', 'geometry_y'], axis=1)\\\n",
    "#                                     .rename(columns={'new_string_id': 'VHAS', 'start_ID_x':'start_ID', 'end_ID_x':'end_ID', 'geometry_x': 'geometry'})\n",
    "# splitlines_final.sample(3)"
   ]
  },
  {
   "cell_type": "markdown",
   "metadata": {},
   "source": [
    "### 3.2.4. Gather all linestrings into one dataset\n",
    "\n",
    "With the split segments now joined to the water dataset to get the necessary attributes, we can now combine all the linestrings into one dataset. This is done by dropping all the water sements that were split in the splitting funtion, and merging the splitlines_final dataset."
   ]
  },
  {
   "cell_type": "code",
   "execution_count": 55,
   "metadata": {},
   "outputs": [],
   "source": [
    "def merge_segments_to_water(split_segments, split_segments_final, water_df, col):\n",
    "    \n",
    "    \"\"\"This function merges segments to water linestrings\"\"\"\n",
    "    \n",
    "    # drop the linestrings to be split and merge the df with split lines\n",
    "    split_segments = split_segments.astype({col: str}, errors=\"raise\")\n",
    "    split_segments_final = split_segments_final.astype({col: str}, errors=\"raise\")\n",
    "    water_df = water_df.astype({col: str}, errors=\"raise\")\n",
    "    print(\"water_df: \", len(water_df))\n",
    "\n",
    "    assert (\n",
    "        split_segments_final[col].nunique()\n",
    "        == split_segments_final[\"geometry\"].nunique()\n",
    "    )\n",
    "    assert water_df[col].nunique() == water_df[\"geometry\"].nunique()\n",
    "\n",
    "    linestrings_to_drop = list(set(split_segments[col].to_list()))\n",
    "    print(\"linestrings_to_drop: \", len(linestrings_to_drop))\n",
    "    print(\"split_segments: \", len(split_segments))\n",
    "\n",
    "    water_df_trimmed = water_df.query(\n",
    "        col + \" not in @linestrings_to_drop\"\n",
    "    )  # .reset_index(drop=True)\n",
    "    water_df_drop = water_df.query(col + \" in @linestrings_to_drop\")\n",
    "\n",
    "    # merge the split lines with the original water lines\n",
    "    merged_df = gpd.GeoDataFrame(\n",
    "        pd.concat([split_segments_final, water_df_trimmed], ignore_index=True),\n",
    "        geometry=\"geometry\",\n",
    "        crs=PROJ_CRS,\n",
    "    )\n",
    "    print(\"merged df: \", len(merged_df))\n",
    "    \n",
    "    assert merged_df[\"geometry\"].nunique() == merged_df[col].nunique()\n",
    "    assert (len(water_df) - len(linestrings_to_drop)) + len(split_segments) == len(merged_df)\n",
    "\n",
    "    return merged_df"
   ]
  },
  {
   "cell_type": "code",
   "execution_count": 56,
   "metadata": {},
   "outputs": [
    {
     "name": "stdout",
     "output_type": "stream",
     "text": [
      "water_df:  63762\n",
      "linestrings_to_drop:  6846\n",
      "split_segments:  15067\n",
      "merged df:  71983\n"
     ]
    }
   ],
   "source": [
    "segments_to_water = merge_segments_to_water(\n",
    "    splitlines_df, splitlines_final, water_final, \"VHAS\"\n",
    ")"
   ]
  },
  {
   "cell_type": "markdown",
   "metadata": {},
   "source": [
    "### 3.2.5. Recalculate the length of the linestrings\n",
    "\n",
    "This is necessary to get the correct length of the linestrings after the split function."
   ]
  },
  {
   "cell_type": "code",
   "execution_count": 60,
   "metadata": {},
   "outputs": [],
   "source": [
    "segments_to_water[\"new_length\"] = segments_to_water[\"geometry\"].apply(\n",
    "    lambda x: x.length\n",
    ")"
   ]
  },
  {
   "cell_type": "code",
   "execution_count": 61,
   "metadata": {},
   "outputs": [],
   "source": [
    "#segments_to_water.to_file(config.data_dest / \"vl_water_PROCESSED_V2.shp\")"
   ]
  },
  {
   "cell_type": "markdown",
   "metadata": {},
   "source": [
    "## 4. Intermodal network connection object"
   ]
  },
  {
   "cell_type": "code",
   "execution_count": 73,
   "metadata": {},
   "outputs": [
    {
     "data": {
      "text/html": [
       "<div>\n",
       "<style scoped>\n",
       "    .dataframe tbody tr th:only-of-type {\n",
       "        vertical-align: middle;\n",
       "    }\n",
       "\n",
       "    .dataframe tbody tr th {\n",
       "        vertical-align: top;\n",
       "    }\n",
       "\n",
       "    .dataframe thead th {\n",
       "        text-align: right;\n",
       "    }\n",
       "</style>\n",
       "<table border=\"1\" class=\"dataframe\">\n",
       "  <thead>\n",
       "    <tr style=\"text-align: right;\">\n",
       "      <th></th>\n",
       "      <th>geometry</th>\n",
       "      <th>node_id</th>\n",
       "      <th>source</th>\n",
       "    </tr>\n",
       "  </thead>\n",
       "  <tbody>\n",
       "    <tr>\n",
       "      <th>25812</th>\n",
       "      <td>POINT (150940.264 237750.425)</td>\n",
       "      <td>VL25813</td>\n",
       "      <td>water_node</td>\n",
       "    </tr>\n",
       "    <tr>\n",
       "      <th>32165</th>\n",
       "      <td>POINT (162449.952 231812.328)</td>\n",
       "      <td>VL32166</td>\n",
       "      <td>water_node</td>\n",
       "    </tr>\n",
       "    <tr>\n",
       "      <th>8982</th>\n",
       "      <td>POINT (183724.750 170346.985)</td>\n",
       "      <td>VL8983</td>\n",
       "      <td>water_node</td>\n",
       "    </tr>\n",
       "  </tbody>\n",
       "</table>\n",
       "</div>"
      ],
      "text/plain": [
       "                            geometry  node_id      source\n",
       "25812  POINT (150940.264 237750.425)  VL25813  water_node\n",
       "32165  POINT (162449.952 231812.328)  VL32166  water_node\n",
       "8982   POINT (183724.750 170346.985)   VL8983  water_node"
      ]
     },
     "execution_count": 73,
     "metadata": {},
     "output_type": "execute_result"
    }
   ],
   "source": [
    "final_nodes_combined.sample(3)"
   ]
  },
  {
   "cell_type": "code",
   "execution_count": 63,
   "metadata": {},
   "outputs": [],
   "source": [
    "network_connection_object = (\n",
    "    merged_nodes[[\"node_id\", \"sewernode_id\"]]\n",
    "    .query(\"sewernode_id.notnull()\")\n",
    "    .rename(columns={\"node_id\": \"hydronode_id\"})\n",
    "    .reset_index(drop=True)\n",
    ")"
   ]
  },
  {
   "cell_type": "code",
   "execution_count": 64,
   "metadata": {},
   "outputs": [
    {
     "data": {
      "text/html": [
       "<div>\n",
       "<style scoped>\n",
       "    .dataframe tbody tr th:only-of-type {\n",
       "        vertical-align: middle;\n",
       "    }\n",
       "\n",
       "    .dataframe tbody tr th {\n",
       "        vertical-align: top;\n",
       "    }\n",
       "\n",
       "    .dataframe thead th {\n",
       "        text-align: right;\n",
       "    }\n",
       "</style>\n",
       "<table border=\"1\" class=\"dataframe\">\n",
       "  <thead>\n",
       "    <tr style=\"text-align: right;\">\n",
       "      <th></th>\n",
       "      <th>hydronode_id</th>\n",
       "      <th>sewernode_id</th>\n",
       "    </tr>\n",
       "  </thead>\n",
       "  <tbody>\n",
       "    <tr>\n",
       "      <th>0</th>\n",
       "      <td>VL60772</td>\n",
       "      <td>24195613725_1</td>\n",
       "    </tr>\n",
       "    <tr>\n",
       "      <th>1</th>\n",
       "      <td>VL60773</td>\n",
       "      <td>7165620_1</td>\n",
       "    </tr>\n",
       "    <tr>\n",
       "      <th>2</th>\n",
       "      <td>VL60774</td>\n",
       "      <td>7166026_1</td>\n",
       "    </tr>\n",
       "    <tr>\n",
       "      <th>3</th>\n",
       "      <td>VL60775</td>\n",
       "      <td>7165606_1</td>\n",
       "    </tr>\n",
       "    <tr>\n",
       "      <th>4</th>\n",
       "      <td>VL60776</td>\n",
       "      <td>7165608_1</td>\n",
       "    </tr>\n",
       "    <tr>\n",
       "      <th>...</th>\n",
       "      <td>...</td>\n",
       "      <td>...</td>\n",
       "    </tr>\n",
       "    <tr>\n",
       "      <th>8984</th>\n",
       "      <td>VL69756</td>\n",
       "      <td>6002935_1</td>\n",
       "    </tr>\n",
       "    <tr>\n",
       "      <th>8985</th>\n",
       "      <td>VL69757</td>\n",
       "      <td>7184778_1</td>\n",
       "    </tr>\n",
       "    <tr>\n",
       "      <th>8986</th>\n",
       "      <td>VL69758</td>\n",
       "      <td>7177561_1</td>\n",
       "    </tr>\n",
       "    <tr>\n",
       "      <th>8987</th>\n",
       "      <td>VL69759</td>\n",
       "      <td>6003589_1</td>\n",
       "    </tr>\n",
       "    <tr>\n",
       "      <th>8988</th>\n",
       "      <td>VL69760</td>\n",
       "      <td>7169137_1</td>\n",
       "    </tr>\n",
       "  </tbody>\n",
       "</table>\n",
       "<p>8989 rows × 2 columns</p>\n",
       "</div>"
      ],
      "text/plain": [
       "     hydronode_id   sewernode_id\n",
       "0         VL60772  24195613725_1\n",
       "1         VL60773      7165620_1\n",
       "2         VL60774      7166026_1\n",
       "3         VL60775      7165606_1\n",
       "4         VL60776      7165608_1\n",
       "...           ...            ...\n",
       "8984      VL69756      6002935_1\n",
       "8985      VL69757      7184778_1\n",
       "8986      VL69758      7177561_1\n",
       "8987      VL69759      6003589_1\n",
       "8988      VL69760      7169137_1\n",
       "\n",
       "[8989 rows x 2 columns]"
      ]
     },
     "execution_count": 64,
     "metadata": {},
     "output_type": "execute_result"
    }
   ],
   "source": [
    "network_connection_object"
   ]
  },
  {
   "cell_type": "code",
   "execution_count": 65,
   "metadata": {},
   "outputs": [],
   "source": [
    "# network_connection_object.to_csv(r\"data_transform\\vl_network_connection_object.csv\", index=False)"
   ]
  }
 ],
 "metadata": {
  "kernelspec": {
   "display_name": "Python 3 (ipykernel)",
   "language": "python",
   "name": "python3"
  },
  "language_info": {
   "codemirror_mode": {
    "name": "ipython",
    "version": 3
   },
   "file_extension": ".py",
   "mimetype": "text/x-python",
   "name": "python",
   "nbconvert_exporter": "python",
   "pygments_lexer": "ipython3",
   "version": "3.8.13"
  },
  "vscode": {
   "interpreter": {
    "hash": "07cfc20f86b5324f2cf4cab54f3d8afd23691d2e48a06ce4244ed8c5c7ddfd6c"
   }
  }
 },
 "nbformat": 4,
 "nbformat_minor": 4
}
