{
 "cells": [
  {
   "cell_type": "markdown",
   "metadata": {},
   "source": []
  },
  {
   "cell_type": "markdown",
   "metadata": {},
   "source": [
    "# NETWORKS TRANSFORMATION\n",
    "\n",
    "This notebook contains all the functions needed to perform various trasformations to the networks of the tracing usecase, and prepare the data for harmonization.\n",
    "\n",
    "Datasets Needed:\n",
    "\n",
    "- Hydro-network dataset\n",
    "- Sewer network dataset / Discharge Points dataset\n",
    "\n",
    "\n",
    "## Expected Outputs\n",
    "\n",
    "- Connection nodes\n",
    "- Discharge points\n",
    "- Start and end nodes for water\n",
    "- Water dataset with start and end ID\n",
    "- Split water dataset with new start and end ids\n",
    "- Fully connected water dataset"
   ]
  },
  {
   "cell_type": "code",
   "execution_count": 1,
   "metadata": {},
   "outputs": [],
   "source": [
    "import time\n",
    "import pandas as pd\n",
    "import geopandas as gpd\n",
    "\n",
    "import os\n",
    "import sys\n"
   ]
  },
  {
   "cell_type": "code",
   "execution_count": 2,
   "metadata": {},
   "outputs": [
    {
     "name": "stdout",
     "output_type": "stream",
     "text": [
      "c:\\Workdir\\Develop\\GOPEG\\preprocessing\n"
     ]
    }
   ],
   "source": [
    "path = os.path.dirname(os.path.abspath(''))\n",
    "os.chdir(path)\n",
    "\n",
    "print(path)\n",
    "sys.path.insert(0, path)\n",
    "sys.path.insert(0, path)\n",
    "from processing.config import data_src, data_dest\n",
    "\n",
    "from processing import funcs as f\n",
    "from processing import config as cfg"
   ]
  },
  {
   "cell_type": "code",
   "execution_count": 3,
   "metadata": {},
   "outputs": [],
   "source": [
    "sewer_node_id = \"CODEKOPPNT\"\n",
    "water_line_id = \"VHAS\"\n",
    "water_node_id = \"node_id\"\n",
    "prefix = \"VL\""
   ]
  },
  {
   "cell_type": "markdown",
   "metadata": {},
   "source": [
    "## Load Water Network\n",
    "\n"
   ]
  },
  {
   "cell_type": "code",
   "execution_count": 4,
   "metadata": {},
   "outputs": [
    {
     "name": "stdout",
     "output_type": "stream",
     "text": [
      "Data successfully loaded\n",
      "Checking for multiline strings...\n",
      "MultiLinesStrings: 3\n"
     ]
    },
    {
     "name": "stderr",
     "output_type": "stream",
     "text": [
      "c:\\Workdir\\Develop\\GOPEG\\preprocessing\\processing\\funcs.py:76: FutureWarning: The frame.append method is deprecated and will be removed from pandas in a future version. Use pandas.concat instead.\n",
      "  gdf = linestrings_df.append(multiline_gdf).reset_index(drop=True)\n"
     ]
    },
    {
     "name": "stdout",
     "output_type": "stream",
     "text": [
      "Checking for multiline strings after...\n",
      "MultiLinesStrings: 0\n"
     ]
    }
   ],
   "source": [
    "def prepare_water_data():\n",
    "\n",
    "    water_data = f.load_data(cfg.type1_water)\n",
    "\n",
    "    PROJ_CRS = f.set_project_crs(water_data)\n",
    "\n",
    "    water_data = f.multiline_to_linestring(water_data, PROJ_CRS)\n",
    "\n",
    "    startnodes_gdf = f.add_beginpoints(water_data, PROJ_CRS)\n",
    "    endnodes_gdf = f.add_endpoints(water_data, PROJ_CRS)\n",
    "\n",
    "    water_nodes_df = f.unify_nodes(\n",
    "        startnodes_gdf, endnodes_gdf, water_line_id, prefix, PROJ_CRS\n",
    "    )\n",
    "\n",
    "    water_final = f.add_node_ids_to_edges(\n",
    "        startnodes_gdf, endnodes_gdf, water_nodes_df, water_line_id, water_data\n",
    "    )\n",
    "    return water_final, water_nodes_df, PROJ_CRS\n",
    "\n",
    "water_final, water_nodes_df, PROJ_CRS = prepare_water_data()"
   ]
  },
  {
   "cell_type": "markdown",
   "metadata": {},
   "source": [
    "## Load Sewer Network"
   ]
  },
  {
   "cell_type": "markdown",
   "metadata": {},
   "source": [
    "\n",
    "Load the sewer network edges and nodes files.\n",
    "If there is no sewer network, then load discharge points."
   ]
  },
  {
   "cell_type": "code",
   "execution_count": 7,
   "metadata": {},
   "outputs": [
    {
     "name": "stdout",
     "output_type": "stream",
     "text": [
      "Data successfully loaded\n",
      "Data successfully loaded\n",
      "Data successfully loaded\n"
     ]
    }
   ],
   "source": [
    "def prepare_sewer_data():\n",
    "    sewer_edges = f.load_data(cfg.type1_sewer_edges)\n",
    "\n",
    "    sewer_nodes = f.load_data(cfg.type1_sewer_nodes)\n",
    "\n",
    "    sewer_points = f.load_data(cfg.type1_sewer_points)\n",
    "\n",
    "    # if sewer_points == None:\n",
    "    #     return sewer_nodes, sewer_edges\n",
    "    # else:\n",
    "    #     sewer_points = f.load_data(cfg.type1_sewer_points)\n",
    "    return sewer_points, sewer_nodes, sewer_edges\n",
    "\n",
    "sewer_points, sewer_nodes, sewer_edges = prepare_sewer_data()"
   ]
  },
  {
   "cell_type": "code",
   "execution_count": 8,
   "metadata": {},
   "outputs": [],
   "source": [
    "def get_sewer_nodes():\n",
    "    full_sewer_nodes = pd.merge(\n",
    "        sewer_nodes,\n",
    "        sewer_points,\n",
    "        left_on=\"NRKPNT\",\n",
    "        right_on=sewer_node_id,\n",
    "        how=\"left\",\n",
    "    )\n",
    "    return full_sewer_nodes\n",
    "\n",
    "full_sewer_nodes = get_sewer_nodes()"
   ]
  },
  {
   "cell_type": "markdown",
   "metadata": {},
   "source": [
    "## Prepare Water Network\n",
    "A water network is received as an edge only network wih no nodes. Here, we generate hydro-nodes from the begining and end points of a linestring geometry, and assign them unique ids that can then be added to the water segments as begin and end points.\n",
    "\n",
    "The following steps are performed:\n",
    "\n",
    "### 1. Turn multiline water network into single line water network\n",
    "\n",
    "Multiline water networks are converted into single line water networks by splitting the linestrings into individual linestrings. This is done by 'flattening' the nested list that makes up a multilinestring structure.\n",
    "\n",
    "This ensures we can extract begin and end points of a water segment.\n",
    "\n",
    "### 2. Generate begin and end nodes\n",
    "\n",
    "Get begin and end point geometries by extracting the first and the last point geometries of a linestring.\n",
    "\n",
    "### 3. Document the nodes\n",
    "\n",
    "Perform spatial join the start and end dataframes to create one nodes geometry, and Label nodes as either start_id or end_id\n",
    "\n",
    "### 4. Add the nodes to water segments, and create start and end id columns"
   ]
  },
  {
   "cell_type": "code",
   "execution_count": 9,
   "metadata": {},
   "outputs": [
    {
     "name": "stdout",
     "output_type": "stream",
     "text": [
      "(13904, 6)\n",
      "Connection_nodes_df:  (11699, 4)\n"
     ]
    }
   ],
   "source": [
    "def join_water_and_sewer():\n",
    "    external_nodes = f.find_external_nodes(sewer_edges, \"BEGINKPNT\", \"EINDKPNT\")\n",
    "\n",
    "    ext_nodes_df = (\n",
    "        sewer_points.query(\"CODEKOPPNT in @external_nodes\")\n",
    "        .query(\"VHAS != 0\")\n",
    "        .drop_duplicates(subset=sewer_node_id)\n",
    "        .drop(columns=[\"geometry\"])\n",
    "        .merge(\n",
    "            sewer_nodes[[\"NRKPNT\", \"geometry\"]],\n",
    "            left_on=sewer_node_id,\n",
    "            right_on=\"NRKPNT\",\n",
    "        )\n",
    "        .drop(columns=[\"NRKPNT\"])\n",
    "        .drop_duplicates(subset=\"geometry\")\n",
    "    )\n",
    "    water_final_cols = [water_line_id, \"geometry\"]\n",
    "    ext_nodes_cols = [\"NRHPNT\", sewer_node_id, water_line_id, \"geometry\"]\n",
    "    sewer_water_df = (\n",
    "        ext_nodes_df[ext_nodes_cols]\n",
    "        .merge(water_final[water_final_cols], on=water_line_id, how=\"left\")\n",
    "        .drop_duplicates(subset=\"geometry_x\", keep=\"first\")\n",
    "        .query(\"geometry_y.notnull()\")\n",
    "        .assign(\n",
    "            new_points=lambda x: f.get_nearest_point(x, \"geometry_y\", \"geometry_x\")\n",
    "        )\n",
    "    )\n",
    "    print(sewer_water_df.shape)\n",
    "\n",
    "    sewer_water_df = gpd.GeoDataFrame(\n",
    "        sewer_water_df, geometry=\"new_points\", crs=PROJ_CRS\n",
    "    ).drop_duplicates(subset=\"new_points\")\n",
    "\n",
    "    conn_node_cols = [\"NRHPNT\", sewer_node_id, water_line_id, \"new_points\"]\n",
    "    water_cols = [water_line_id, sewer_node_id, \"geometry_y\"]\n",
    "    connection_nodes_df = (\n",
    "        sewer_water_df[conn_node_cols]\n",
    "        .rename(columns={\"new_points\": \"geometry\"})\n",
    "        .reset_index(drop=True)\n",
    "    )\n",
    "\n",
    "    connection_nodes_gdf = gpd.GeoDataFrame(\n",
    "        connection_nodes_df, geometry=\"geometry\", crs=PROJ_CRS\n",
    "    )\n",
    "    print(\"Connection_nodes_df: \", connection_nodes_gdf.shape)\n",
    "\n",
    "    water_df = (\n",
    "        sewer_water_df[water_cols]\n",
    "        .rename(columns={\"geometry_y\": \"geometry\"})\n",
    "        .reset_index(drop=True)\n",
    "    )\n",
    "    water_gdf = gpd.GeoDataFrame(water_df, geometry=\"geometry\", crs=PROJ_CRS)\n",
    "    return connection_nodes_gdf, water_gdf, sewer_water_df\n",
    "\n",
    "connection_nodes_gdf, water_gdf, sewer_water_df = join_water_and_sewer()"
   ]
  },
  {
   "cell_type": "code",
   "execution_count": 10,
   "metadata": {},
   "outputs": [
    {
     "name": "stdout",
     "output_type": "stream",
     "text": [
      "(11699, 4)\n",
      "Number of split segments:  15067\n",
      "15067\n"
     ]
    }
   ],
   "source": [
    "def project_and_split_lines():\n",
    "\n",
    "    nodes_gdf = connection_nodes_gdf.copy()\n",
    "    nodes_gdf[\"coords\"] = f.get_point_coords(nodes_gdf)\n",
    "\n",
    "    water_gdf[\"coords\"] = water_gdf.apply(\n",
    "        lambda row: f.get_line_coords(row.geometry), axis=1\n",
    "    )\n",
    "    print(water_gdf.shape)\n",
    "    splitlines_df = f.split_lines(water_gdf, nodes_gdf, water_line_id, PROJ_CRS)\n",
    "    return splitlines_df\n",
    "\n",
    "splitlines_df = project_and_split_lines()"
   ]
  },
  {
   "cell_type": "code",
   "execution_count": 11,
   "metadata": {},
   "outputs": [
    {
     "name": "stderr",
     "output_type": "stream",
     "text": [
      "c:\\Users\\u0119822\\.conda\\envs\\gopeg\\lib\\site-packages\\geopandas\\geodataframe.py:1351: SettingWithCopyWarning: \n",
      "A value is trying to be set on a copy of a slice from a DataFrame.\n",
      "Try using .loc[row_indexer,col_indexer] = value instead\n",
      "\n",
      "See the caveats in the documentation: https://pandas.pydata.org/pandas-docs/stable/user_guide/indexing.html#returning-a-view-versus-a-copy\n",
      "  super().__setitem__(key, value)\n",
      "c:\\Users\\u0119822\\.conda\\envs\\gopeg\\lib\\site-packages\\geopandas\\geodataframe.py:1351: SettingWithCopyWarning: \n",
      "A value is trying to be set on a copy of a slice from a DataFrame.\n",
      "Try using .loc[row_indexer,col_indexer] = value instead\n",
      "\n",
      "See the caveats in the documentation: https://pandas.pydata.org/pandas-docs/stable/user_guide/indexing.html#returning-a-view-versus-a-copy\n",
      "  super().__setitem__(key, value)\n"
     ]
    },
    {
     "name": "stdout",
     "output_type": "stream",
     "text": [
      "Segments to water:  (71983, 22)\n"
     ]
    }
   ],
   "source": [
    "def add_splitlines_to_waterGDF():\n",
    "    water_nodes_df[\"source\"] = \"water_node\"\n",
    "\n",
    "    connection_nodes = (\n",
    "        connection_nodes_gdf[[sewer_node_id, \"geometry\"]]\n",
    "        .rename(columns={sewer_node_id: water_node_id})\n",
    "        .assign(source=\"connection_node\")\n",
    "    )\n",
    "\n",
    "    final_nodes_combined = (\n",
    "        pd.concat([water_nodes_df, connection_nodes])\n",
    "        .drop_duplicates(subset=\"geometry\", keep=\"first\")\n",
    "        .reset_index(drop=True)\n",
    "    )\n",
    "\n",
    "    waternodes = f.get_new_water_nodes(\n",
    "        final_nodes_combined, water_nodes_df, prefix, PROJ_CRS\n",
    "    )\n",
    "\n",
    "    final_waternodes = (\n",
    "        waternodes.merge(\n",
    "            full_sewer_nodes[[\"STATUS\", \"LBLTYPE\", \"NRKPNT\"]],\n",
    "            left_on=\"sewernode_id\",\n",
    "            right_on=\"NRKPNT\",\n",
    "            how=\"left\",\n",
    "        )\n",
    "        .drop_duplicates(subset=\"geometry\", keep=\"first\")\n",
    "        .reset_index(drop=True)\n",
    "    )\n",
    "\n",
    "    node_id = water_node_id\n",
    "    line_id = water_line_id\n",
    "    splitlines_with_ids = f.line_segments_start_end_ids(\n",
    "        splitlines_df,\n",
    "        waternodes[[\"geometry\", water_node_id]],\n",
    "        line_id,\n",
    "        node_id,\n",
    "        PROJ_CRS,\n",
    "    )\n",
    "\n",
    "    splitlines_final = f.get_new_water_unique_ID(\n",
    "        splitlines_with_ids, water_final, water_line_id, PROJ_CRS\n",
    "    )\n",
    "\n",
    "    segments_to_water = f.merge_segments_to_water(\n",
    "        splitlines_df, splitlines_final, water_final, water_line_id, PROJ_CRS\n",
    "    )\n",
    "    print(\"Segments to water: \", segments_to_water.shape)\n",
    "    return final_waternodes, segments_to_water\n",
    "\n",
    "final_waternodes, segments_to_water = add_splitlines_to_waterGDF()"
   ]
  },
  {
   "cell_type": "code",
   "execution_count": null,
   "metadata": {},
   "outputs": [],
   "source": []
  }
 ],
 "metadata": {
  "kernelspec": {
   "display_name": "Python 3.8.13 ('gopeg')",
   "language": "python",
   "name": "python3"
  },
  "language_info": {
   "codemirror_mode": {
    "name": "ipython",
    "version": 3
   },
   "file_extension": ".py",
   "mimetype": "text/x-python",
   "name": "python",
   "nbconvert_exporter": "python",
   "pygments_lexer": "ipython3",
   "version": "3.8.13 (default, Mar 28 2022, 06:59:08) [MSC v.1916 64 bit (AMD64)]"
  },
  "orig_nbformat": 4,
  "vscode": {
   "interpreter": {
    "hash": "07cfc20f86b5324f2cf4cab54f3d8afd23691d2e48a06ce4244ed8c5c7ddfd6c"
   }
  }
 },
 "nbformat": 4,
 "nbformat_minor": 2
}
