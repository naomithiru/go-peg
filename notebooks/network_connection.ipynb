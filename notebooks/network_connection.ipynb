{
 "cells": [
  {
   "cell_type": "markdown",
   "metadata": {},
   "source": [
    "# NETWORK CONNECTIONS\n",
    "\n",
    "For the tracing usecase, cross-border connection of networks is fundamental to the objectives. A logical approach is applied where a network connection object is created, to indicate two nodes that exist in different networks make reference to the same point in the real world object. \n",
    "\n",
    "To achieve this, the nodes that make reference to the same real world object, or at least indicate the flow of water from one region or country to another, are identified. \n",
    "\n",
    "This entails;\n",
    "- Extracting the endpoints of one network with no begin points, falling along the border.\n",
    "- Extracting the beginpoints of another networkfalling along the same border.\n",
    "Performing an **sjoin_nearest** operation, results will include multiple output records for a single input record where there are multiple equidistant nearest or intersected neighbors.\n",
    "\n",
    "Because of possible precision errors, a buffer along the border is used to identify the two sets of nodes.\n",
    "\n",
    "These nodes then form the network connection object, as cross-border connected, cross-border identical or intermodal connections.\n",
    "\n",
    "This code was developed using the three regions of Belgium, and can be replicated to any regions/countries by declaring the appropriate labels and columns."
   ]
  },
  {
   "cell_type": "code",
   "execution_count": 1,
   "metadata": {},
   "outputs": [
    {
     "name": "stdout",
     "output_type": "stream",
     "text": [
      "C:\\workdir\\develop\\repository\\go-peg\n"
     ]
    }
   ],
   "source": [
    "import os\n",
    "import sys\n",
    "path = os.path.dirname(os.path.abspath(''))\n",
    "os.chdir(path)\n",
    "print(path)\n",
    "sys.path.insert(0, path)"
   ]
  },
  {
   "cell_type": "code",
   "execution_count": 3,
   "metadata": {},
   "outputs": [],
   "source": [
    "import geopandas as gpd\n",
    "import pandas as pd\n",
    "\n",
    "from shapely.geometry import Point, LineString, MultiLineString, MultiPoint, Polygon\n",
    "from shapely import wkt\n",
    "from shapely.ops import nearest_points\n",
    "\n",
    "from src.config import config"
   ]
  },
  {
   "cell_type": "markdown",
   "metadata": {},
   "source": [
    "### 1. Load datasets"
   ]
  },
  {
   "cell_type": "code",
   "execution_count": 4,
   "metadata": {},
   "outputs": [],
   "source": [
    "def load_datasets(path, crs):\n",
    "    \"\"\"\n",
    "    Loads the data from the given path, \n",
    "    and prints the shape and crs of the data.\n",
    "    \"\"\"\n",
    "    data = gpd.read_file(path)\n",
    "    data = data.to_crs(crs)\n",
    "   \n",
    "    return data\n",
    "\n",
    "\n",
    "def create_network_connection(dataset1, unique_id1, dataset2, unique_id2, d1_border, d2_border, buffer_length, crs):\n",
    "    \"\"\" This function generates a network connection table, with nodes belonging to two networks\n",
    "    given as input. The network connection table is created by intersecting the two border polygons,\n",
    "    and extracting the points that fall within the polygon.\n",
    "\n",
    "        Using sjoin_nearest, the nodes falling closest to each other along the border \n",
    "    are matched to each other. \n",
    "    \n",
    "    To use this function, select a (dataset1), and corresponding region border, \n",
    "    which is the dataset to which you match the other (dataset2).\"\"\"\n",
    "\n",
    "    df1 = load_datasets(dataset1, crs) #wal_points\n",
    "    df2 = load_datasets(dataset2, crs) #vl_points\n",
    "    dataset1_border = load_datasets(d1_border, crs)\n",
    "    dataset2_border = load_datasets(d2_border, crs)\n",
    "\n",
    "    dataset1_buffer = dataset1_border.buffer(buffer_length)\n",
    "    dataset2_buffer = dataset2_border.buffer(buffer_length)\n",
    "\n",
    "    #intersection of the two buffers\n",
    "    buffer_intersection = dataset1_buffer.intersection(dataset2_buffer)\n",
    "\n",
    "    #extract the point data within the border buffer strip\n",
    "    df1_points = df1.clip(buffer_intersection)\n",
    "    df2_points = df2.clip(buffer_intersection)\n",
    "\n",
    "    network_conn = gpd.sjoin_nearest(df1_points, df2_points)\n",
    "    print(network_conn.columns)\n",
    "    \n",
    "    if unique_id1 == unique_id2:\n",
    "        network_connection = network_conn[[(unique_id1 + '_left'), (unique_id2 + '_right'), 'geometry']].rename(columns={(unique_id1 + '_left'): 'id_element1', (unique_id2 + '_right'): 'id_element2'})\n",
    "    else:\n",
    "        network_connection = network_conn[[unique_id1, unique_id2, 'geometry']].rename(columns={unique_id1: 'id_element1', unique_id2: 'id_element2'})\n",
    "    \n",
    "    network_connection_gdf = gpd.GeoDataFrame(network_connection, geometry='geometry').reset_index(drop=True)\n",
    "\n",
    "    return network_connection_gdf\n"
   ]
  },
  {
   "cell_type": "code",
   "execution_count": null,
   "metadata": {},
   "outputs": [],
   "source": [
    "#path = config.data_src / \"flanders_hydro_network/Wlas.shp\"\n",
    "#path = config.data_dest / \"flanders_hydro_network/Wlas.shp\""
   ]
  },
  {
   "cell_type": "code",
   "execution_count": 9,
   "metadata": {},
   "outputs": [],
   "source": [
    "vl_water = config.data_dest / 'final_vl_nodes_combined.shp'\n",
    "bxl_water = config.data_dest / 'bxl_waterNodes.shp'\n",
    "vl_border = config.data_src / 'BE_boundaries/flanders.shp'\n",
    "bxl_border = config.data_src / 'BE_boundaries/bruxelles.shp'\n",
    "wal_water = config.data_dest / 'final_wal_nodes_combined.shp'\n",
    "wal_border = config.data_src / 'BE_boundaries/wallonie.shp'"
   ]
  },
  {
   "cell_type": "code",
   "execution_count": 10,
   "metadata": {},
   "outputs": [
    {
     "name": "stdout",
     "output_type": "stream",
     "text": [
      "Index(['node_id_left', 'source_left', 'sewernode__left', 'dcpCode', 'dcpName',\n",
      "       'dcpWaterBo', 'dcpState', 'geometry', 'index_right', 'node_id_right',\n",
      "       'source_right', 'sewernode__right', 'STATUS', 'LBLTYPE', 'NRKPNT'],\n",
      "      dtype='object')\n"
     ]
    }
   ],
   "source": [
    "bxl_vl = create_network_connection(bxl_water, 'node_id', vl_water, 'node_id', bxl_border, vl_border, 50, 'EPSG:31370')"
   ]
  },
  {
   "cell_type": "code",
   "execution_count": 11,
   "metadata": {},
   "outputs": [
    {
     "data": {
      "text/html": [
       "<div>\n",
       "<style scoped>\n",
       "    .dataframe tbody tr th:only-of-type {\n",
       "        vertical-align: middle;\n",
       "    }\n",
       "\n",
       "    .dataframe tbody tr th {\n",
       "        vertical-align: top;\n",
       "    }\n",
       "\n",
       "    .dataframe thead th {\n",
       "        text-align: right;\n",
       "    }\n",
       "</style>\n",
       "<table border=\"1\" class=\"dataframe\">\n",
       "  <thead>\n",
       "    <tr style=\"text-align: right;\">\n",
       "      <th></th>\n",
       "      <th>id_element1</th>\n",
       "      <th>id_element2</th>\n",
       "    </tr>\n",
       "  </thead>\n",
       "  <tbody>\n",
       "    <tr>\n",
       "      <th>0</th>\n",
       "      <td>NO25019898</td>\n",
       "      <td>VL248</td>\n",
       "    </tr>\n",
       "    <tr>\n",
       "      <th>1</th>\n",
       "      <td>NO25019967_1</td>\n",
       "      <td>VL43992</td>\n",
       "    </tr>\n",
       "    <tr>\n",
       "      <th>2</th>\n",
       "      <td>NO25020016</td>\n",
       "      <td>VL26461</td>\n",
       "    </tr>\n",
       "    <tr>\n",
       "      <th>3</th>\n",
       "      <td>NO25025490</td>\n",
       "      <td>VL50251</td>\n",
       "    </tr>\n",
       "    <tr>\n",
       "      <th>4</th>\n",
       "      <td>NO25020010</td>\n",
       "      <td>VL59880</td>\n",
       "    </tr>\n",
       "  </tbody>\n",
       "</table>\n",
       "</div>"
      ],
      "text/plain": [
       "    id_element1 id_element2\n",
       "0    NO25019898       VL248\n",
       "1  NO25019967_1     VL43992\n",
       "2    NO25020016     VL26461\n",
       "3    NO25025490     VL50251\n",
       "4    NO25020010     VL59880"
      ]
     },
     "execution_count": 11,
     "metadata": {},
     "output_type": "execute_result"
    }
   ],
   "source": [
    "bxl_vl = bxl_vl.drop(['geometry'], axis=1)\n",
    "bxl_vl.head()"
   ]
  },
  {
   "cell_type": "code",
   "execution_count": 12,
   "metadata": {},
   "outputs": [
    {
     "name": "stdout",
     "output_type": "stream",
     "text": [
      "Index(['node_id_left', 'source_left', 'sewernode__left', 'dcpCode', 'dcpName',\n",
      "       'dcpWaterBo', 'dcpState', 'geometry', 'index_right', 'node_id_right',\n",
      "       'source_right', 'sewernode__right', 'STATUS', 'LBLTYPE', 'NRKPNT'],\n",
      "      dtype='object')\n"
     ]
    }
   ],
   "source": [
    "wal_vl = create_network_connection(wal_water, 'node_id', vl_water, 'node_id', wal_border, vl_border, 50, 'EPSG:31370')"
   ]
  },
  {
   "cell_type": "code",
   "execution_count": 13,
   "metadata": {},
   "outputs": [],
   "source": [
    "wal_vl = wal_vl.drop(['geometry'], axis=1)"
   ]
  },
  {
   "cell_type": "code",
   "execution_count": 17,
   "metadata": {},
   "outputs": [],
   "source": [
    "#wal_vl.to_csv(r'data_transform\\wal_vl_network_connection.csv')\n",
    "#bxl_vl.to_csv(r'data_transform\\bxl_vl_network_connection.csv')"
   ]
  }
 ],
 "metadata": {
  "kernelspec": {
   "display_name": "gopeg",
   "language": "python",
   "name": "python3"
  },
  "language_info": {
   "codemirror_mode": {
    "name": "ipython",
    "version": 3
   },
   "file_extension": ".py",
   "mimetype": "text/x-python",
   "name": "python",
   "nbconvert_exporter": "python",
   "pygments_lexer": "ipython3",
   "version": "3.8.13 (default, Mar 28 2022, 06:59:08) [MSC v.1916 64 bit (AMD64)]"
  },
  "vscode": {
   "interpreter": {
    "hash": "07cfc20f86b5324f2cf4cab54f3d8afd23691d2e48a06ce4244ed8c5c7ddfd6c"
   }
  }
 },
 "nbformat": 4,
 "nbformat_minor": 2
}
