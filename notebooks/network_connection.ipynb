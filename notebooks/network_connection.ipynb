{
 "cells": [
  {
   "cell_type": "markdown",
   "metadata": {},
   "source": [
    "# NETWORK CONNECTIONS\n",
    "\n",
    "For the tracing usecase, cross-border connection of networks is fundamental to the objectives. A logical approach is applied where a network connection object is created, to indicate two nodes that exist in different networks make reference to the same point in the real world object. \n",
    "\n",
    "To achieve this, the nodes that make reference to the same real world object, or at least indicate the flow of water from one region or country to another, are identified. \n",
    "\n",
    "This entails;\n",
    "- Extracting the endpoints of one network with no begin points, falling along the border.\n",
    "- Extracting the beginpoints of another networkfalling along the same border.\n",
    "Performing an **sjoin_nearest** operation, results will include multiple output records for a single input record where there are multiple equidistant nearest or intersected neighbors.\n",
    "\n",
    "Because of possible precision errors, a buffer along the border is used to identify the two sets of nodes.\n",
    "\n",
    "These nodes then form the network connection object, as cross-border connected, cross-border identical or intermodal connections.\n",
    "\n",
    "This code was developed using the three regions of Belgium, and can be replicated to any regions/countries by declaring the appropriate labels and columns."
   ]
  },
  {
   "cell_type": "code",
   "execution_count": 1,
   "metadata": {},
   "outputs": [
    {
     "name": "stdout",
     "output_type": "stream",
     "text": [
      "c:\\Workdir\\Develop\\repository\\go-peg\n"
     ]
    }
   ],
   "source": [
    "import os\n",
    "import sys\n",
    "path = os.path.dirname(os.path.abspath(''))\n",
    "os.chdir(path)\n",
    "print(path)\n",
    "sys.path.insert(0, path)"
   ]
  },
  {
   "cell_type": "code",
   "execution_count": 3,
   "metadata": {},
   "outputs": [],
   "source": [
    "import geopandas as gpd\n",
    "import pandas as pd\n",
    "\n",
    "from shapely.geometry import Point, LineString, MultiLineString, MultiPoint, Polygon\n",
    "from shapely import wkt\n",
    "from shapely.ops import nearest_points\n",
    "\n",
    "from src.config import config"
   ]
  },
  {
   "cell_type": "markdown",
   "metadata": {},
   "source": [
    "### 1. Load datasets"
   ]
  },
  {
   "cell_type": "code",
   "execution_count": 4,
   "metadata": {},
   "outputs": [],
   "source": [
    "PROJ_CRS = 'EPSG:31370'\n",
    "FINAL_CRS= 'EPSG:3035'\n",
    "connection_type = \"cross-border connected\""
   ]
  },
  {
   "cell_type": "code",
   "execution_count": 5,
   "metadata": {},
   "outputs": [],
   "source": [
    "def load_datasets(path, PROJ_CRS):\n",
    "    \"\"\"\n",
    "    Loads the data from the given path, \n",
    "    and prints the shape and crs of the data.\n",
    "    \"\"\"\n",
    "    data = gpd.read_file(path)\n",
    "    data = data.to_crs(PROJ_CRS)\n",
    "   \n",
    "    return data"
   ]
  },
  {
   "cell_type": "code",
   "execution_count": 6,
   "metadata": {},
   "outputs": [],
   "source": [
    "vl_nodes = config.data_dest / 'vl_nodes_PROCESSED.shp'\n",
    "bxl_water = config.data_dest / 'bxl_waterNodes.shp'\n",
    "vl_border = config.data_src / 'BE_boundaries/flanders.shp'\n",
    "bxl_border = config.data_src / 'BE_boundaries/bruxelles.shp'\n",
    "wal_nodes = config.data_dest / 'wal_waternodesPROCESSED.shp'\n",
    "wal_border = config.data_src / 'BE_boundaries/wallonie.shp'"
   ]
  },
  {
   "cell_type": "code",
   "execution_count": 7,
   "metadata": {},
   "outputs": [],
   "source": [
    "df1 = load_datasets(wal_nodes, PROJ_CRS) #wal_points\n",
    "df2 = load_datasets(vl_nodes, PROJ_CRS) #vl_points\n",
    "dataset1_border = load_datasets(wal_border, PROJ_CRS)\n",
    "dataset2_border = load_datasets(vl_border, PROJ_CRS)"
   ]
  },
  {
   "cell_type": "code",
   "execution_count": 8,
   "metadata": {},
   "outputs": [],
   "source": [
    "buffer_length = 50\n",
    "dataset1_buffer = dataset1_border.buffer(buffer_length)\n",
    "dataset2_buffer = dataset2_border.buffer(buffer_length)\n",
    "\n",
    "#intersection of the two buffers\n",
    "buffer_intersection = dataset1_buffer.intersection(dataset2_buffer)\n",
    "\n",
    "#extract the point data within the border buffer strip\n",
    "df1_points = df1.clip(buffer_intersection)\n",
    "df2_points = df2.clip(buffer_intersection)"
   ]
  },
  {
   "cell_type": "code",
   "execution_count": 9,
   "metadata": {},
   "outputs": [],
   "source": [
    "network_conn = (gpd.sjoin_nearest(df1_points, df2_points)\n",
    "                    .merge(df2[[\"node_id\", \"geometry\"]], left_on=\"node_id_right\", right_on=\"node_id\", how=\"left\"))"
   ]
  },
  {
   "cell_type": "code",
   "execution_count": 10,
   "metadata": {},
   "outputs": [
    {
     "data": {
      "text/html": [
       "<div>\n",
       "<style scoped>\n",
       "    .dataframe tbody tr th:only-of-type {\n",
       "        vertical-align: middle;\n",
       "    }\n",
       "\n",
       "    .dataframe tbody tr th {\n",
       "        vertical-align: top;\n",
       "    }\n",
       "\n",
       "    .dataframe thead th {\n",
       "        text-align: right;\n",
       "    }\n",
       "</style>\n",
       "<table border=\"1\" class=\"dataframe\">\n",
       "  <thead>\n",
       "    <tr style=\"text-align: right;\">\n",
       "      <th></th>\n",
       "      <th>node_id_left</th>\n",
       "      <th>source_left</th>\n",
       "      <th>sewernode__left</th>\n",
       "      <th>geometry_x</th>\n",
       "      <th>index_right</th>\n",
       "      <th>node_id_right</th>\n",
       "      <th>source_right</th>\n",
       "      <th>sewernode__right</th>\n",
       "      <th>STATUS</th>\n",
       "      <th>LBLTYPE</th>\n",
       "      <th>node_id</th>\n",
       "      <th>geometry_y</th>\n",
       "    </tr>\n",
       "  </thead>\n",
       "  <tbody>\n",
       "    <tr>\n",
       "      <th>0</th>\n",
       "      <td>WAL_HN1320</td>\n",
       "      <td>water_node</td>\n",
       "      <td>NaN</td>\n",
       "      <td>POINT (258446.469 158897.404)</td>\n",
       "      <td>18904</td>\n",
       "      <td>VL_HN18905</td>\n",
       "      <td>water_node</td>\n",
       "      <td>NaN</td>\n",
       "      <td>NaN</td>\n",
       "      <td>NaN</td>\n",
       "      <td>VL_HN18905</td>\n",
       "      <td>POINT (258449.365 158902.070)</td>\n",
       "    </tr>\n",
       "    <tr>\n",
       "      <th>1</th>\n",
       "      <td>WAL_HN1269</td>\n",
       "      <td>water_node</td>\n",
       "      <td>NaN</td>\n",
       "      <td>POINT (247909.886 160543.643)</td>\n",
       "      <td>34851</td>\n",
       "      <td>VL_HN34852</td>\n",
       "      <td>water_node</td>\n",
       "      <td>NaN</td>\n",
       "      <td>NaN</td>\n",
       "      <td>NaN</td>\n",
       "      <td>VL_HN34852</td>\n",
       "      <td>POINT (247905.672 160535.281)</td>\n",
       "    </tr>\n",
       "  </tbody>\n",
       "</table>\n",
       "</div>"
      ],
      "text/plain": [
       "  node_id_left source_left sewernode__left                     geometry_x  \\\n",
       "0   WAL_HN1320  water_node             NaN  POINT (258446.469 158897.404)   \n",
       "1   WAL_HN1269  water_node             NaN  POINT (247909.886 160543.643)   \n",
       "\n",
       "   index_right node_id_right source_right sewernode__right STATUS LBLTYPE  \\\n",
       "0        18904    VL_HN18905   water_node              NaN    NaN     NaN   \n",
       "1        34851    VL_HN34852   water_node              NaN    NaN     NaN   \n",
       "\n",
       "      node_id                     geometry_y  \n",
       "0  VL_HN18905  POINT (258449.365 158902.070)  \n",
       "1  VL_HN34852  POINT (247905.672 160535.281)  "
      ]
     },
     "execution_count": 10,
     "metadata": {},
     "output_type": "execute_result"
    }
   ],
   "source": [
    "network_conn.head(2)"
   ]
  },
  {
   "cell_type": "code",
   "execution_count": 11,
   "metadata": {},
   "outputs": [
    {
     "data": {
      "text/html": [
       "<div>\n",
       "<style scoped>\n",
       "    .dataframe tbody tr th:only-of-type {\n",
       "        vertical-align: middle;\n",
       "    }\n",
       "\n",
       "    .dataframe tbody tr th {\n",
       "        vertical-align: top;\n",
       "    }\n",
       "\n",
       "    .dataframe thead th {\n",
       "        text-align: right;\n",
       "    }\n",
       "</style>\n",
       "<table border=\"1\" class=\"dataframe\">\n",
       "  <thead>\n",
       "    <tr style=\"text-align: right;\">\n",
       "      <th></th>\n",
       "      <th>node_id_left</th>\n",
       "      <th>source_left</th>\n",
       "      <th>sewernode__left</th>\n",
       "      <th>geometry_x</th>\n",
       "      <th>index_right</th>\n",
       "      <th>node_id_right</th>\n",
       "      <th>source_right</th>\n",
       "      <th>sewernode__right</th>\n",
       "      <th>STATUS</th>\n",
       "      <th>LBLTYPE</th>\n",
       "      <th>node_id</th>\n",
       "      <th>geometry_y</th>\n",
       "      <th>connection_lines</th>\n",
       "    </tr>\n",
       "  </thead>\n",
       "  <tbody>\n",
       "    <tr>\n",
       "      <th>0</th>\n",
       "      <td>WAL_HN1320</td>\n",
       "      <td>water_node</td>\n",
       "      <td>NaN</td>\n",
       "      <td>POINT (258446.469 158897.404)</td>\n",
       "      <td>18904</td>\n",
       "      <td>VL_HN18905</td>\n",
       "      <td>water_node</td>\n",
       "      <td>NaN</td>\n",
       "      <td>NaN</td>\n",
       "      <td>NaN</td>\n",
       "      <td>VL_HN18905</td>\n",
       "      <td>POINT (258449.365 158902.070)</td>\n",
       "      <td>LINESTRING (258446.4693398135 158897.404485286...</td>\n",
       "    </tr>\n",
       "    <tr>\n",
       "      <th>1</th>\n",
       "      <td>WAL_HN1269</td>\n",
       "      <td>water_node</td>\n",
       "      <td>NaN</td>\n",
       "      <td>POINT (247909.886 160543.643)</td>\n",
       "      <td>34851</td>\n",
       "      <td>VL_HN34852</td>\n",
       "      <td>water_node</td>\n",
       "      <td>NaN</td>\n",
       "      <td>NaN</td>\n",
       "      <td>NaN</td>\n",
       "      <td>VL_HN34852</td>\n",
       "      <td>POINT (247905.672 160535.281)</td>\n",
       "      <td>LINESTRING (247909.88613982164 160543.64278520...</td>\n",
       "    </tr>\n",
       "  </tbody>\n",
       "</table>\n",
       "</div>"
      ],
      "text/plain": [
       "  node_id_left source_left sewernode__left                     geometry_x  \\\n",
       "0   WAL_HN1320  water_node             NaN  POINT (258446.469 158897.404)   \n",
       "1   WAL_HN1269  water_node             NaN  POINT (247909.886 160543.643)   \n",
       "\n",
       "   index_right node_id_right source_right sewernode__right STATUS LBLTYPE  \\\n",
       "0        18904    VL_HN18905   water_node              NaN    NaN     NaN   \n",
       "1        34851    VL_HN34852   water_node              NaN    NaN     NaN   \n",
       "\n",
       "      node_id                     geometry_y  \\\n",
       "0  VL_HN18905  POINT (258449.365 158902.070)   \n",
       "1  VL_HN34852  POINT (247905.672 160535.281)   \n",
       "\n",
       "                                    connection_lines  \n",
       "0  LINESTRING (258446.4693398135 158897.404485286...  \n",
       "1  LINESTRING (247909.88613982164 160543.64278520...  "
      ]
     },
     "execution_count": 11,
     "metadata": {},
     "output_type": "execute_result"
    }
   ],
   "source": [
    "def make_connection_lines(df, from_point, to_point):\n",
    "    lines = []\n",
    "    for index, row in df.iterrows():\n",
    "        p_1 = Point(row[from_point])\n",
    "        p_2 = Point(row[to_point])\n",
    "        intersect = LineString([p_1, p_2])\n",
    "        # linestring = loads(intersect)\n",
    "        lines.append(intersect)\n",
    "    return lines\n",
    "\n",
    "network_conn['connection_lines'] = make_connection_lines(network_conn, 'geometry_x', 'geometry_y')\n",
    "network_conn.head(2)"
   ]
  },
  {
   "cell_type": "code",
   "execution_count": 12,
   "metadata": {},
   "outputs": [],
   "source": [
    "connection_links = gpd.GeoDataFrame(network_conn[[\"node_id_left\", \"node_id_right\", \"connection_lines\"]]\n",
    "                    .rename(columns={\"node_id_left\":\"idElement1\", \"node_id_right\":\"idElement2\", \"connection_lines\":\"geometry\"}))"
   ]
  },
  {
   "cell_type": "code",
   "execution_count": 13,
   "metadata": {},
   "outputs": [
    {
     "data": {
      "text/html": [
       "<div>\n",
       "<style scoped>\n",
       "    .dataframe tbody tr th:only-of-type {\n",
       "        vertical-align: middle;\n",
       "    }\n",
       "\n",
       "    .dataframe tbody tr th {\n",
       "        vertical-align: top;\n",
       "    }\n",
       "\n",
       "    .dataframe thead th {\n",
       "        text-align: right;\n",
       "    }\n",
       "</style>\n",
       "<table border=\"1\" class=\"dataframe\">\n",
       "  <thead>\n",
       "    <tr style=\"text-align: right;\">\n",
       "      <th></th>\n",
       "      <th>idElement1</th>\n",
       "      <th>idElement2</th>\n",
       "      <th>geometry</th>\n",
       "    </tr>\n",
       "  </thead>\n",
       "  <tbody>\n",
       "    <tr>\n",
       "      <th>0</th>\n",
       "      <td>WAL_HN1320</td>\n",
       "      <td>VL_HN18905</td>\n",
       "      <td>LINESTRING (258446.469 158897.404, 258449.365 ...</td>\n",
       "    </tr>\n",
       "    <tr>\n",
       "      <th>1</th>\n",
       "      <td>WAL_HN1269</td>\n",
       "      <td>VL_HN34852</td>\n",
       "      <td>LINESTRING (247909.886 160543.643, 247905.672 ...</td>\n",
       "    </tr>\n",
       "    <tr>\n",
       "      <th>2</th>\n",
       "      <td>WAL_HN1374</td>\n",
       "      <td>VL_HN30138</td>\n",
       "      <td>LINESTRING (216027.598 156590.331, 216027.598 ...</td>\n",
       "    </tr>\n",
       "    <tr>\n",
       "      <th>3</th>\n",
       "      <td>WAL_HN790</td>\n",
       "      <td>VL_HN60308</td>\n",
       "      <td>LINESTRING (216055.971 156616.522, 216055.972 ...</td>\n",
       "    </tr>\n",
       "    <tr>\n",
       "      <th>4</th>\n",
       "      <td>WAL_HN1375</td>\n",
       "      <td>VL_HN46290</td>\n",
       "      <td>LINESTRING (216257.428 156753.467, 216257.428 ...</td>\n",
       "    </tr>\n",
       "    <tr>\n",
       "      <th>...</th>\n",
       "      <td>...</td>\n",
       "      <td>...</td>\n",
       "      <td>...</td>\n",
       "    </tr>\n",
       "    <tr>\n",
       "      <th>102</th>\n",
       "      <td>WAL_HN1192</td>\n",
       "      <td>VL_HN42133</td>\n",
       "      <td>LINESTRING (54279.784 165549.628, 54513.399 16...</td>\n",
       "    </tr>\n",
       "    <tr>\n",
       "      <th>103</th>\n",
       "      <td>WAL_HN1454</td>\n",
       "      <td>VL_HN59960</td>\n",
       "      <td>LINESTRING (50810.867 166309.407, 50812.130 16...</td>\n",
       "    </tr>\n",
       "    <tr>\n",
       "      <th>104</th>\n",
       "      <td>WAL_HN1064</td>\n",
       "      <td>VL_HN41692</td>\n",
       "      <td>LINESTRING (54234.079 166330.121, 54232.946 16...</td>\n",
       "    </tr>\n",
       "    <tr>\n",
       "      <th>105</th>\n",
       "      <td>WAL_HN135</td>\n",
       "      <td>VL_HN59983</td>\n",
       "      <td>LINESTRING (53835.561 167280.712, 53839.584 16...</td>\n",
       "    </tr>\n",
       "    <tr>\n",
       "      <th>106</th>\n",
       "      <td>WAL_HN1191</td>\n",
       "      <td>VL_HN8010</td>\n",
       "      <td>LINESTRING (53466.275 167572.318, 53470.116 16...</td>\n",
       "    </tr>\n",
       "  </tbody>\n",
       "</table>\n",
       "<p>107 rows × 3 columns</p>\n",
       "</div>"
      ],
      "text/plain": [
       "     idElement1  idElement2                                           geometry\n",
       "0    WAL_HN1320  VL_HN18905  LINESTRING (258446.469 158897.404, 258449.365 ...\n",
       "1    WAL_HN1269  VL_HN34852  LINESTRING (247909.886 160543.643, 247905.672 ...\n",
       "2    WAL_HN1374  VL_HN30138  LINESTRING (216027.598 156590.331, 216027.598 ...\n",
       "3     WAL_HN790  VL_HN60308  LINESTRING (216055.971 156616.522, 216055.972 ...\n",
       "4    WAL_HN1375  VL_HN46290  LINESTRING (216257.428 156753.467, 216257.428 ...\n",
       "..          ...         ...                                                ...\n",
       "102  WAL_HN1192  VL_HN42133  LINESTRING (54279.784 165549.628, 54513.399 16...\n",
       "103  WAL_HN1454  VL_HN59960  LINESTRING (50810.867 166309.407, 50812.130 16...\n",
       "104  WAL_HN1064  VL_HN41692  LINESTRING (54234.079 166330.121, 54232.946 16...\n",
       "105   WAL_HN135  VL_HN59983  LINESTRING (53835.561 167280.712, 53839.584 16...\n",
       "106  WAL_HN1191   VL_HN8010  LINESTRING (53466.275 167572.318, 53470.116 16...\n",
       "\n",
       "[107 rows x 3 columns]"
      ]
     },
     "execution_count": 13,
     "metadata": {},
     "output_type": "execute_result"
    }
   ],
   "source": [
    "connection_links"
   ]
  },
  {
   "cell_type": "code",
   "execution_count": 14,
   "metadata": {},
   "outputs": [],
   "source": [
    "import uuid\n",
    "connection_links['UUID'] = [uuid.uuid4().hex for _ in range(len(connection_links.index))]\n",
    "\n",
    "connection_links['watercourse_namespace'] = \"gopeg.eu/tracing\"\n",
    "connection_links['connectionType'] = connection_type\n"
   ]
  },
  {
   "cell_type": "code",
   "execution_count": 17,
   "metadata": {},
   "outputs": [],
   "source": [
    "connection_links['fictitious'] = 'true'"
   ]
  },
  {
   "cell_type": "code",
   "execution_count": 15,
   "metadata": {},
   "outputs": [],
   "source": [
    "connection_links = connection_links.set_crs(PROJ_CRS)\n",
    "connection_links = connection_links.to_crs(FINAL_CRS)"
   ]
  },
  {
   "cell_type": "code",
   "execution_count": 18,
   "metadata": {},
   "outputs": [
    {
     "data": {
      "text/plain": [
       "<Derived Projected CRS: EPSG:3035>\n",
       "Name: ETRS89-extended / LAEA Europe\n",
       "Axis Info [cartesian]:\n",
       "- Y[north]: Northing (metre)\n",
       "- X[east]: Easting (metre)\n",
       "Area of Use:\n",
       "- name: Europe - European Union (EU) countries and candidates. Europe - onshore and offshore: Albania; Andorra; Austria; Belgium; Bosnia and Herzegovina; Bulgaria; Croatia; Cyprus; Czechia; Denmark; Estonia; Faroe Islands; Finland; France; Germany; Gibraltar; Greece; Hungary; Iceland; Ireland; Italy; Kosovo; Latvia; Liechtenstein; Lithuania; Luxembourg; Malta; Monaco; Montenegro; Netherlands; North Macedonia; Norway including Svalbard and Jan Mayen; Poland; Portugal including Madeira and Azores; Romania; San Marino; Serbia; Slovakia; Slovenia; Spain including Canary Islands; Sweden; Switzerland; Turkey; United Kingdom (UK) including Channel Islands and Isle of Man; Vatican City State.\n",
       "- bounds: (-35.58, 24.6, 44.83, 84.73)\n",
       "Coordinate Operation:\n",
       "- name: Europe Equal Area 2001\n",
       "- method: Lambert Azimuthal Equal Area\n",
       "Datum: European Terrestrial Reference System 1989 ensemble\n",
       "- Ellipsoid: GRS 1980\n",
       "- Prime Meridian: Greenwich"
      ]
     },
     "execution_count": 18,
     "metadata": {},
     "output_type": "execute_result"
    }
   ],
   "source": [
    "connection_links.crs"
   ]
  },
  {
   "cell_type": "code",
   "execution_count": 19,
   "metadata": {},
   "outputs": [
    {
     "name": "stdout",
     "output_type": "stream",
     "text": [
      "<class 'geopandas.geodataframe.GeoDataFrame'>\n",
      "Int64Index: 107 entries, 0 to 106\n",
      "Data columns (total 7 columns):\n",
      " #   Column                 Non-Null Count  Dtype   \n",
      "---  ------                 --------------  -----   \n",
      " 0   idElement1             107 non-null    object  \n",
      " 1   idElement2             107 non-null    object  \n",
      " 2   geometry               107 non-null    geometry\n",
      " 3   UUID                   107 non-null    object  \n",
      " 4   watercourse_namespace  107 non-null    object  \n",
      " 5   connectionType         107 non-null    object  \n",
      " 6   fictitious             107 non-null    object  \n",
      "dtypes: geometry(1), object(6)\n",
      "memory usage: 6.7+ KB\n"
     ]
    }
   ],
   "source": [
    "connection_links.info()"
   ]
  },
  {
   "cell_type": "code",
   "execution_count": 20,
   "metadata": {},
   "outputs": [],
   "source": [
    "# connection_links.to_file(\"harmonized_data/NetworkConnections.gpkg\", layer=\"wal_vl_connections\", driver='GPKG')"
   ]
  }
 ],
 "metadata": {
  "kernelspec": {
   "display_name": "Python 3.8.1 ('venv': venv)",
   "language": "python",
   "name": "python3"
  },
  "language_info": {
   "codemirror_mode": {
    "name": "ipython",
    "version": 3
   },
   "file_extension": ".py",
   "mimetype": "text/x-python",
   "name": "python",
   "nbconvert_exporter": "python",
   "pygments_lexer": "ipython3",
   "version": "3.8.1"
  },
  "vscode": {
   "interpreter": {
    "hash": "8a8cb0b0d99d64370412e17fbaf9ec73e1c6fb09e83d60376e91f9a9e6f8c9ed"
   }
  }
 },
 "nbformat": 4,
 "nbformat_minor": 2
}
